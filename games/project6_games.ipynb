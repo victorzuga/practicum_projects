{
 "cells": [
  {
   "cell_type": "markdown",
   "metadata": {
    "cellId": "2xv0q5t9c2cf8p6227w6vu"
   },
   "source": [
    "# Games\n",
    "\n",
    "## Description of the project\n",
    "\n",
    "You work in the Strimchik online store, which sells computer games all over the world. Historical game sales data, user and expert ratings, genres and platforms (such as Xbox or PlayStation) are available from public sources. You need to identify the patterns that determine the success of the game. This will allow you to bid on a potentially popular product and plan advertising campaigns.\n",
    "\n",
    "\n",
    "Here is the data up to 2016. Let's say it's December 2016 and you're planning a campaign for 2017. It is necessary to work out the principle of working with data. It doesn't matter if you're forecasting 2017 sales based on 2016 data or 2027 sales based on 2026 data.\n",
    "\n",
    "- Prepare data\n",
    "- Conduct exploratory data analysis\n",
    "- Make a profile of the user of each region\n",
    "- Test hypotheses\n",
    "- Write a general conclusion\n",
    "\n",
    "## Exploring general information"
   ]
  },
  {
   "cell_type": "code",
   "execution_count": 1,
   "metadata": {
    "cellId": "0uunqf1kuittq80eaxum9i"
   },
   "outputs": [],
   "source": [
    "import pandas as pd\n",
    "import matplotlib.pyplot as plt\n",
    "import numpy as np\n",
    "import seaborn as sns\n",
    "\n",
    "import scipy\n",
    "from scipy import stats as st\n",
    "from scipy.stats import norm\n",
    "\n",
    "import warnings\n",
    "warnings.filterwarnings('ignore')\n",
    "pd.set_option('display.float_format', '{:.2f}'.format)"
   ]
  },
  {
   "cell_type": "code",
   "execution_count": 2,
   "metadata": {
    "cellId": "dve7p4mo0yp8j6sq4cb179"
   },
   "outputs": [],
   "source": [
    "path ='/Users/vzuga/Documents/jupyter/'\n",
    "\n",
    "try:\n",
    "    df = pd.read_csv('games.csv')\n",
    "except:\n",
    "    df = pd.read_csv(path+'/datasets/games.csv')"
   ]
  },
  {
   "cell_type": "code",
   "execution_count": 3,
   "metadata": {
    "cellId": "3a4asgpo8t9pph7ddqs3mk"
   },
   "outputs": [
    {
     "name": "stdout",
     "output_type": "stream",
     "text": [
      "<class 'pandas.core.frame.DataFrame'>\n",
      "RangeIndex: 16715 entries, 0 to 16714\n",
      "Data columns (total 11 columns):\n",
      " #   Column           Non-Null Count  Dtype  \n",
      "---  ------           --------------  -----  \n",
      " 0   Name             16713 non-null  object \n",
      " 1   Platform         16715 non-null  object \n",
      " 2   Year_of_Release  16446 non-null  float64\n",
      " 3   Genre            16713 non-null  object \n",
      " 4   NA_sales         16715 non-null  float64\n",
      " 5   EU_sales         16715 non-null  float64\n",
      " 6   JP_sales         16715 non-null  float64\n",
      " 7   Other_sales      16715 non-null  float64\n",
      " 8   Critic_Score     8137 non-null   float64\n",
      " 9   User_Score       10014 non-null  object \n",
      " 10  Rating           9949 non-null   object \n",
      "dtypes: float64(6), object(5)\n",
      "memory usage: 1.4+ MB\n",
      "\n"
     ]
    },
    {
     "data": {
      "text/html": [
       "<div>\n",
       "<style scoped>\n",
       "    .dataframe tbody tr th:only-of-type {\n",
       "        vertical-align: middle;\n",
       "    }\n",
       "\n",
       "    .dataframe tbody tr th {\n",
       "        vertical-align: top;\n",
       "    }\n",
       "\n",
       "    .dataframe thead th {\n",
       "        text-align: right;\n",
       "    }\n",
       "</style>\n",
       "<table border=\"1\" class=\"dataframe\">\n",
       "  <thead>\n",
       "    <tr style=\"text-align: right;\">\n",
       "      <th></th>\n",
       "      <th>Name</th>\n",
       "      <th>Platform</th>\n",
       "      <th>Year_of_Release</th>\n",
       "      <th>Genre</th>\n",
       "      <th>NA_sales</th>\n",
       "      <th>EU_sales</th>\n",
       "      <th>JP_sales</th>\n",
       "      <th>Other_sales</th>\n",
       "      <th>Critic_Score</th>\n",
       "      <th>User_Score</th>\n",
       "      <th>Rating</th>\n",
       "    </tr>\n",
       "  </thead>\n",
       "  <tbody>\n",
       "    <tr>\n",
       "      <th>0</th>\n",
       "      <td>Wii Sports</td>\n",
       "      <td>Wii</td>\n",
       "      <td>2006.00</td>\n",
       "      <td>Sports</td>\n",
       "      <td>41.36</td>\n",
       "      <td>28.96</td>\n",
       "      <td>3.77</td>\n",
       "      <td>8.45</td>\n",
       "      <td>76.00</td>\n",
       "      <td>8</td>\n",
       "      <td>E</td>\n",
       "    </tr>\n",
       "    <tr>\n",
       "      <th>1</th>\n",
       "      <td>Super Mario Bros.</td>\n",
       "      <td>NES</td>\n",
       "      <td>1985.00</td>\n",
       "      <td>Platform</td>\n",
       "      <td>29.08</td>\n",
       "      <td>3.58</td>\n",
       "      <td>6.81</td>\n",
       "      <td>0.77</td>\n",
       "      <td>NaN</td>\n",
       "      <td>NaN</td>\n",
       "      <td>NaN</td>\n",
       "    </tr>\n",
       "    <tr>\n",
       "      <th>2</th>\n",
       "      <td>Mario Kart Wii</td>\n",
       "      <td>Wii</td>\n",
       "      <td>2008.00</td>\n",
       "      <td>Racing</td>\n",
       "      <td>15.68</td>\n",
       "      <td>12.76</td>\n",
       "      <td>3.79</td>\n",
       "      <td>3.29</td>\n",
       "      <td>82.00</td>\n",
       "      <td>8.3</td>\n",
       "      <td>E</td>\n",
       "    </tr>\n",
       "    <tr>\n",
       "      <th>3</th>\n",
       "      <td>Wii Sports Resort</td>\n",
       "      <td>Wii</td>\n",
       "      <td>2009.00</td>\n",
       "      <td>Sports</td>\n",
       "      <td>15.61</td>\n",
       "      <td>10.93</td>\n",
       "      <td>3.28</td>\n",
       "      <td>2.95</td>\n",
       "      <td>80.00</td>\n",
       "      <td>8</td>\n",
       "      <td>E</td>\n",
       "    </tr>\n",
       "    <tr>\n",
       "      <th>4</th>\n",
       "      <td>Pokemon Red/Pokemon Blue</td>\n",
       "      <td>GB</td>\n",
       "      <td>1996.00</td>\n",
       "      <td>Role-Playing</td>\n",
       "      <td>11.27</td>\n",
       "      <td>8.89</td>\n",
       "      <td>10.22</td>\n",
       "      <td>1.00</td>\n",
       "      <td>NaN</td>\n",
       "      <td>NaN</td>\n",
       "      <td>NaN</td>\n",
       "    </tr>\n",
       "    <tr>\n",
       "      <th>5</th>\n",
       "      <td>Tetris</td>\n",
       "      <td>GB</td>\n",
       "      <td>1989.00</td>\n",
       "      <td>Puzzle</td>\n",
       "      <td>23.20</td>\n",
       "      <td>2.26</td>\n",
       "      <td>4.22</td>\n",
       "      <td>0.58</td>\n",
       "      <td>NaN</td>\n",
       "      <td>NaN</td>\n",
       "      <td>NaN</td>\n",
       "    </tr>\n",
       "    <tr>\n",
       "      <th>6</th>\n",
       "      <td>New Super Mario Bros.</td>\n",
       "      <td>DS</td>\n",
       "      <td>2006.00</td>\n",
       "      <td>Platform</td>\n",
       "      <td>11.28</td>\n",
       "      <td>9.14</td>\n",
       "      <td>6.50</td>\n",
       "      <td>2.88</td>\n",
       "      <td>89.00</td>\n",
       "      <td>8.5</td>\n",
       "      <td>E</td>\n",
       "    </tr>\n",
       "    <tr>\n",
       "      <th>7</th>\n",
       "      <td>Wii Play</td>\n",
       "      <td>Wii</td>\n",
       "      <td>2006.00</td>\n",
       "      <td>Misc</td>\n",
       "      <td>13.96</td>\n",
       "      <td>9.18</td>\n",
       "      <td>2.93</td>\n",
       "      <td>2.84</td>\n",
       "      <td>58.00</td>\n",
       "      <td>6.6</td>\n",
       "      <td>E</td>\n",
       "    </tr>\n",
       "    <tr>\n",
       "      <th>8</th>\n",
       "      <td>New Super Mario Bros. Wii</td>\n",
       "      <td>Wii</td>\n",
       "      <td>2009.00</td>\n",
       "      <td>Platform</td>\n",
       "      <td>14.44</td>\n",
       "      <td>6.94</td>\n",
       "      <td>4.70</td>\n",
       "      <td>2.24</td>\n",
       "      <td>87.00</td>\n",
       "      <td>8.4</td>\n",
       "      <td>E</td>\n",
       "    </tr>\n",
       "    <tr>\n",
       "      <th>9</th>\n",
       "      <td>Duck Hunt</td>\n",
       "      <td>NES</td>\n",
       "      <td>1984.00</td>\n",
       "      <td>Shooter</td>\n",
       "      <td>26.93</td>\n",
       "      <td>0.63</td>\n",
       "      <td>0.28</td>\n",
       "      <td>0.47</td>\n",
       "      <td>NaN</td>\n",
       "      <td>NaN</td>\n",
       "      <td>NaN</td>\n",
       "    </tr>\n",
       "  </tbody>\n",
       "</table>\n",
       "</div>"
      ],
      "text/plain": [
       "                        Name Platform  Year_of_Release         Genre  \\\n",
       "0                 Wii Sports      Wii          2006.00        Sports   \n",
       "1          Super Mario Bros.      NES          1985.00      Platform   \n",
       "2             Mario Kart Wii      Wii          2008.00        Racing   \n",
       "3          Wii Sports Resort      Wii          2009.00        Sports   \n",
       "4   Pokemon Red/Pokemon Blue       GB          1996.00  Role-Playing   \n",
       "5                     Tetris       GB          1989.00        Puzzle   \n",
       "6      New Super Mario Bros.       DS          2006.00      Platform   \n",
       "7                   Wii Play      Wii          2006.00          Misc   \n",
       "8  New Super Mario Bros. Wii      Wii          2009.00      Platform   \n",
       "9                  Duck Hunt      NES          1984.00       Shooter   \n",
       "\n",
       "   NA_sales  EU_sales  JP_sales  Other_sales  Critic_Score User_Score Rating  \n",
       "0     41.36     28.96      3.77         8.45         76.00          8      E  \n",
       "1     29.08      3.58      6.81         0.77           NaN        NaN    NaN  \n",
       "2     15.68     12.76      3.79         3.29         82.00        8.3      E  \n",
       "3     15.61     10.93      3.28         2.95         80.00          8      E  \n",
       "4     11.27      8.89     10.22         1.00           NaN        NaN    NaN  \n",
       "5     23.20      2.26      4.22         0.58           NaN        NaN    NaN  \n",
       "6     11.28      9.14      6.50         2.88         89.00        8.5      E  \n",
       "7     13.96      9.18      2.93         2.84         58.00        6.6      E  \n",
       "8     14.44      6.94      4.70         2.24         87.00        8.4      E  \n",
       "9     26.93      0.63      0.28         0.47           NaN        NaN    NaN  "
      ]
     },
     "execution_count": 3,
     "metadata": {},
     "output_type": "execute_result"
    }
   ],
   "source": [
    "df.info()\n",
    "print()\n",
    "df.head(10)"
   ]
  },
  {
   "cell_type": "code",
   "execution_count": 4,
   "metadata": {
    "cellId": "a7wrz5tuedqrcf8778pcf"
   },
   "outputs": [
    {
     "data": {
      "text/html": [
       "<div>\n",
       "<style scoped>\n",
       "    .dataframe tbody tr th:only-of-type {\n",
       "        vertical-align: middle;\n",
       "    }\n",
       "\n",
       "    .dataframe tbody tr th {\n",
       "        vertical-align: top;\n",
       "    }\n",
       "\n",
       "    .dataframe thead th {\n",
       "        text-align: right;\n",
       "    }\n",
       "</style>\n",
       "<table border=\"1\" class=\"dataframe\">\n",
       "  <thead>\n",
       "    <tr style=\"text-align: right;\">\n",
       "      <th></th>\n",
       "      <th>Year_of_Release</th>\n",
       "      <th>NA_sales</th>\n",
       "      <th>EU_sales</th>\n",
       "      <th>JP_sales</th>\n",
       "      <th>Other_sales</th>\n",
       "      <th>Critic_Score</th>\n",
       "    </tr>\n",
       "  </thead>\n",
       "  <tbody>\n",
       "    <tr>\n",
       "      <th>count</th>\n",
       "      <td>16446.00</td>\n",
       "      <td>16715.00</td>\n",
       "      <td>16715.00</td>\n",
       "      <td>16715.00</td>\n",
       "      <td>16715.00</td>\n",
       "      <td>8137.00</td>\n",
       "    </tr>\n",
       "    <tr>\n",
       "      <th>mean</th>\n",
       "      <td>2006.48</td>\n",
       "      <td>0.26</td>\n",
       "      <td>0.15</td>\n",
       "      <td>0.08</td>\n",
       "      <td>0.05</td>\n",
       "      <td>68.97</td>\n",
       "    </tr>\n",
       "    <tr>\n",
       "      <th>std</th>\n",
       "      <td>5.88</td>\n",
       "      <td>0.81</td>\n",
       "      <td>0.50</td>\n",
       "      <td>0.31</td>\n",
       "      <td>0.19</td>\n",
       "      <td>13.94</td>\n",
       "    </tr>\n",
       "    <tr>\n",
       "      <th>min</th>\n",
       "      <td>1980.00</td>\n",
       "      <td>0.00</td>\n",
       "      <td>0.00</td>\n",
       "      <td>0.00</td>\n",
       "      <td>0.00</td>\n",
       "      <td>13.00</td>\n",
       "    </tr>\n",
       "    <tr>\n",
       "      <th>25%</th>\n",
       "      <td>2003.00</td>\n",
       "      <td>0.00</td>\n",
       "      <td>0.00</td>\n",
       "      <td>0.00</td>\n",
       "      <td>0.00</td>\n",
       "      <td>60.00</td>\n",
       "    </tr>\n",
       "    <tr>\n",
       "      <th>50%</th>\n",
       "      <td>2007.00</td>\n",
       "      <td>0.08</td>\n",
       "      <td>0.02</td>\n",
       "      <td>0.00</td>\n",
       "      <td>0.01</td>\n",
       "      <td>71.00</td>\n",
       "    </tr>\n",
       "    <tr>\n",
       "      <th>75%</th>\n",
       "      <td>2010.00</td>\n",
       "      <td>0.24</td>\n",
       "      <td>0.11</td>\n",
       "      <td>0.04</td>\n",
       "      <td>0.03</td>\n",
       "      <td>79.00</td>\n",
       "    </tr>\n",
       "    <tr>\n",
       "      <th>max</th>\n",
       "      <td>2016.00</td>\n",
       "      <td>41.36</td>\n",
       "      <td>28.96</td>\n",
       "      <td>10.22</td>\n",
       "      <td>10.57</td>\n",
       "      <td>98.00</td>\n",
       "    </tr>\n",
       "  </tbody>\n",
       "</table>\n",
       "</div>"
      ],
      "text/plain": [
       "       Year_of_Release  NA_sales  EU_sales  JP_sales  Other_sales  \\\n",
       "count         16446.00  16715.00  16715.00  16715.00     16715.00   \n",
       "mean           2006.48      0.26      0.15      0.08         0.05   \n",
       "std               5.88      0.81      0.50      0.31         0.19   \n",
       "min            1980.00      0.00      0.00      0.00         0.00   \n",
       "25%            2003.00      0.00      0.00      0.00         0.00   \n",
       "50%            2007.00      0.08      0.02      0.00         0.01   \n",
       "75%            2010.00      0.24      0.11      0.04         0.03   \n",
       "max            2016.00     41.36     28.96     10.22        10.57   \n",
       "\n",
       "       Critic_Score  \n",
       "count       8137.00  \n",
       "mean          68.97  \n",
       "std           13.94  \n",
       "min           13.00  \n",
       "25%           60.00  \n",
       "50%           71.00  \n",
       "75%           79.00  \n",
       "max           98.00  "
      ]
     },
     "execution_count": 4,
     "metadata": {},
     "output_type": "execute_result"
    }
   ],
   "source": [
    "#look at the ranges of values\n",
    "df.describe()"
   ]
  },
  {
   "cell_type": "code",
   "execution_count": 5,
   "metadata": {
    "cellId": "j67d3lrc9jmaekq4bnt4zl"
   },
   "outputs": [
    {
     "data": {
      "text/plain": [
       "0"
      ]
     },
     "execution_count": 5,
     "metadata": {},
     "output_type": "execute_result"
    }
   ],
   "source": [
    "#explicit duplicates\n",
    "df.duplicated().sum()"
   ]
  },
  {
   "cell_type": "code",
   "execution_count": 6,
   "metadata": {
    "cellId": "1yjfmadad75fhvpi23kq7q"
   },
   "outputs": [
    {
     "data": {
      "text/plain": [
       "Name              0.00\n",
       "Platform          0.00\n",
       "Year_of_Release   0.02\n",
       "Genre             0.00\n",
       "NA_sales          0.00\n",
       "EU_sales          0.00\n",
       "JP_sales          0.00\n",
       "Other_sales       0.00\n",
       "Critic_Score      0.51\n",
       "User_Score        0.40\n",
       "Rating            0.40\n",
       "dtype: float64"
      ]
     },
     "execution_count": 6,
     "metadata": {},
     "output_type": "execute_result"
    }
   ],
   "source": [
    "#share of missing values\n",
    "df.isna().mean()"
   ]
  },
  {
   "cell_type": "code",
   "execution_count": 7,
   "metadata": {
    "cellId": "r5g84i6dec8lnnuf2j7cac"
   },
   "outputs": [
    {
     "data": {
      "text/plain": [
       "Name                  2\n",
       "Platform              0\n",
       "Year_of_Release     269\n",
       "Genre                 2\n",
       "NA_sales              0\n",
       "EU_sales              0\n",
       "JP_sales              0\n",
       "Other_sales           0\n",
       "Critic_Score       8578\n",
       "User_Score         6701\n",
       "Rating             6766\n",
       "dtype: int64"
      ]
     },
     "execution_count": 7,
     "metadata": {},
     "output_type": "execute_result"
    }
   ],
   "source": [
    "#number of missing values\n",
    "df.isna().sum()"
   ]
  },
  {
   "cell_type": "markdown",
   "metadata": {
    "cellId": "sb86ceefca9j3mepyyg90f"
   },
   "source": [
    "### Conclusions:\n",
    "* column names must be converted to lowercase\n",
    "* the year of issue must be converted to int (after processing gaps, gaps cannot be converted to int)\n",
    "* user_score must be converted to float\n",
    "* there are gaps in name, year_of_release, genre, critic_score, user_score, rating\n",
    "* values ​​in year_of_release from 1980 to 2016 and critic_score from 13 to 98 are fine\n",
    "* I will check the remaining values ​​after converting to another format and when processing gaps\n",
    "* no obvious duplicates\n",
    "\n",
    "## Data preparation\n",
    "\n",
    "* _Replace column names (reduce to lower case);_\n",
    "* _Convert the data to the desired types. Describe in which columns the data type was changed and why;_\n",
    "* _Process gaps if necessary:_\n",
    "_Explain why you filled in the gaps in a certain way or why you didn't; Describe the reasons that could lead to omissions;_\n",
    "* _Note the abbreviation 'tbd' in the user rating column. Separately parse this value and describe how to process it;_\n",
    "* _Calculate the total sales in all regions and write them in a separate column._\n",
    "\n",
    "### Column names"
   ]
  },
  {
   "cell_type": "code",
   "execution_count": 8,
   "metadata": {
    "cellId": "wc1wddfbmiov2shj2wo5q9"
   },
   "outputs": [
    {
     "data": {
      "text/plain": [
       "Index(['name', 'platform', 'year_of_release', 'genre', 'na_sales', 'eu_sales',\n",
       "       'jp_sales', 'other_sales', 'critic_score', 'user_score', 'rating'],\n",
       "      dtype='object')"
      ]
     },
     "execution_count": 8,
     "metadata": {},
     "output_type": "execute_result"
    }
   ],
   "source": [
    "df.columns = df.columns.str.lower()\n",
    "df.columns"
   ]
  },
  {
   "cell_type": "markdown",
   "metadata": {
    "cellId": "ax9pgxnbm5g8pirsxokir3"
   },
   "source": [
    "### Type conversion\n",
    "\n",
    "I'll start with user_score. I'll look at the values."
   ]
  },
  {
   "cell_type": "code",
   "execution_count": 9,
   "metadata": {
    "cellId": "wy4eyiko4gy5i4icpqxyd"
   },
   "outputs": [
    {
     "data": {
      "text/plain": [
       "array(['0', '0.2', '0.3', '0.5', '0.6', '0.7', '0.9', '1', '1.1', '1.2',\n",
       "       '1.3', '1.4', '1.5', '1.6', '1.7', '1.8', '1.9', '2', '2.1', '2.2',\n",
       "       '2.3', '2.4', '2.5', '2.6', '2.7', '2.8', '2.9', '3', '3.1', '3.2',\n",
       "       '3.3', '3.4', '3.5', '3.6', '3.7', '3.8', '3.9', '4', '4.1', '4.2',\n",
       "       '4.3', '4.4', '4.5', '4.6', '4.7', '4.8', '4.9', '5', '5.1', '5.2',\n",
       "       '5.3', '5.4', '5.5', '5.6', '5.7', '5.8', '5.9', '6', '6.1', '6.2',\n",
       "       '6.3', '6.4', '6.5', '6.6', '6.7', '6.8', '6.9', '7', '7.1', '7.2',\n",
       "       '7.3', '7.4', '7.5', '7.6', '7.7', '7.8', '7.9', '8', '8.1', '8.2',\n",
       "       '8.3', '8.4', '8.5', '8.6', '8.7', '8.8', '8.9', '9', '9.1', '9.2',\n",
       "       '9.3', '9.4', '9.5', '9.6', '9.7', 'tbd', nan], dtype=object)"
      ]
     },
     "execution_count": 9,
     "metadata": {},
     "output_type": "execute_result"
    }
   ],
   "source": [
    "df['user_score'].sort_values().unique()"
   ]
  },
  {
   "cell_type": "markdown",
   "metadata": {
    "cellId": "azvc4fenufns2wucl47zj"
   },
   "source": [
    "In addition to the estimates themselves, there are gaps and tbd (to be determined), in fact, tbd is also gaps. Astype will not work with object where there are non-numeric values. I will use to_numeric, everything that cannot be converted will be replaced with NaN.\n",
    "\n",
    "The values themselves range from 0 to 10."
   ]
  },
  {
   "cell_type": "code",
   "execution_count": 10,
   "metadata": {
    "cellId": "rumtbw4d01d8zf44bl6h15"
   },
   "outputs": [
    {
     "data": {
      "text/plain": [
       "0       8.00\n",
       "1        NaN\n",
       "2       8.30\n",
       "3       8.00\n",
       "4        NaN\n",
       "        ... \n",
       "16710    NaN\n",
       "16711    NaN\n",
       "16712    NaN\n",
       "16713    NaN\n",
       "16714    NaN\n",
       "Name: user_score, Length: 16715, dtype: float64"
      ]
     },
     "execution_count": 10,
     "metadata": {},
     "output_type": "execute_result"
    }
   ],
   "source": [
    "df.user_score = pd.to_numeric(df.user_score, errors='coerce')\n",
    "df.user_score"
   ]
  },
  {
   "cell_type": "markdown",
   "metadata": {
    "cellId": "wwikmg9ok2b0m1ueut6qvb"
   },
   "source": [
    "### Missing values"
   ]
  },
  {
   "cell_type": "code",
   "execution_count": 11,
   "metadata": {
    "cellId": "vtp6nenk5lddvoz5308m9p"
   },
   "outputs": [
    {
     "data": {
      "text/html": [
       "<div>\n",
       "<style scoped>\n",
       "    .dataframe tbody tr th:only-of-type {\n",
       "        vertical-align: middle;\n",
       "    }\n",
       "\n",
       "    .dataframe tbody tr th {\n",
       "        vertical-align: top;\n",
       "    }\n",
       "\n",
       "    .dataframe thead th {\n",
       "        text-align: right;\n",
       "    }\n",
       "</style>\n",
       "<table border=\"1\" class=\"dataframe\">\n",
       "  <thead>\n",
       "    <tr style=\"text-align: right;\">\n",
       "      <th></th>\n",
       "      <th>name</th>\n",
       "      <th>platform</th>\n",
       "      <th>year_of_release</th>\n",
       "      <th>genre</th>\n",
       "      <th>na_sales</th>\n",
       "      <th>eu_sales</th>\n",
       "      <th>jp_sales</th>\n",
       "      <th>other_sales</th>\n",
       "      <th>critic_score</th>\n",
       "      <th>user_score</th>\n",
       "      <th>rating</th>\n",
       "    </tr>\n",
       "  </thead>\n",
       "  <tbody>\n",
       "    <tr>\n",
       "      <th>659</th>\n",
       "      <td>NaN</td>\n",
       "      <td>GEN</td>\n",
       "      <td>1993.00</td>\n",
       "      <td>NaN</td>\n",
       "      <td>1.78</td>\n",
       "      <td>0.53</td>\n",
       "      <td>0.00</td>\n",
       "      <td>0.08</td>\n",
       "      <td>NaN</td>\n",
       "      <td>NaN</td>\n",
       "      <td>NaN</td>\n",
       "    </tr>\n",
       "    <tr>\n",
       "      <th>14244</th>\n",
       "      <td>NaN</td>\n",
       "      <td>GEN</td>\n",
       "      <td>1993.00</td>\n",
       "      <td>NaN</td>\n",
       "      <td>0.00</td>\n",
       "      <td>0.00</td>\n",
       "      <td>0.03</td>\n",
       "      <td>0.00</td>\n",
       "      <td>NaN</td>\n",
       "      <td>NaN</td>\n",
       "      <td>NaN</td>\n",
       "    </tr>\n",
       "  </tbody>\n",
       "</table>\n",
       "</div>"
      ],
      "text/plain": [
       "      name platform  year_of_release genre  na_sales  eu_sales  jp_sales  \\\n",
       "659    NaN      GEN          1993.00   NaN      1.78      0.53      0.00   \n",
       "14244  NaN      GEN          1993.00   NaN      0.00      0.00      0.03   \n",
       "\n",
       "       other_sales  critic_score  user_score rating  \n",
       "659           0.08           NaN         NaN    NaN  \n",
       "14244         0.00           NaN         NaN    NaN  "
      ]
     },
     "execution_count": 11,
     "metadata": {},
     "output_type": "execute_result"
    }
   ],
   "source": [
    "df[df.name.isna()]"
   ]
  },
  {
   "cell_type": "markdown",
   "metadata": {
    "cellId": "zhfvln8dzjfswqcezrq2a"
   },
   "source": [
    "Two gaps in the title correspond to two gaps in the genre. I will remove these 2 lines."
   ]
  },
  {
   "cell_type": "code",
   "execution_count": 12,
   "metadata": {
    "cellId": "xpn3pp31tjbcj82un7b1w"
   },
   "outputs": [],
   "source": [
    "df = df.drop([659, 14244])"
   ]
  },
  {
   "cell_type": "markdown",
   "metadata": {
    "cellId": "o8nvtum2pdrv2hhcwnl579"
   },
   "source": [
    "I'll deal with the gaps in the release years of the games. There are 2% of them. I'll see if these omissions are related to the platform or the name."
   ]
  },
  {
   "cell_type": "code",
   "execution_count": 13,
   "metadata": {
    "cellId": "h8lzrmo77vpbirdqi4i5u8"
   },
   "outputs": [
    {
     "data": {
      "text/plain": [
       "array(['PS2', 'Wii', '2600', 'X360', 'GBA', 'PC', 'PS3', 'PS', 'PSP',\n",
       "       'XB', 'GB', 'DS', 'GC', '3DS', 'N64', 'PSV'], dtype=object)"
      ]
     },
     "execution_count": 13,
     "metadata": {},
     "output_type": "execute_result"
    }
   ],
   "source": [
    "df[df['year_of_release'].isna()].platform.unique()"
   ]
  },
  {
   "cell_type": "code",
   "execution_count": 14,
   "metadata": {
    "cellId": "9m3154vi1sf4wvq9d3g0a"
   },
   "outputs": [
    {
     "data": {
      "text/plain": [
       "183                                 Madden NFL 2004\n",
       "377                                FIFA Soccer 2004\n",
       "456                      LEGO Batman: The Videogame\n",
       "475                      wwe Smackdown vs. Raw 2006\n",
       "609                                  Space Invaders\n",
       "627                                       Rock Band\n",
       "657        Frogger's Adventures: Temple of the Frog\n",
       "678     LEGO Indiana Jones: The Original Adventures\n",
       "719                                  Call of Duty 3\n",
       "805                                       Rock Band\n",
       "1131                        Call of Duty: Black Ops\n",
       "1142                                      Rock Band\n",
       "1301                                 Triple Play 99\n",
       "1506                                      Adventure\n",
       "1538                     LEGO Batman: The Videogame\n",
       "1585                                         Combat\n",
       "1609                   LEGO Harry Potter: Years 5-7\n",
       "1650                            NASCAR Thunder 2003\n",
       "1699                      Hitman 2: Silent Assassin\n",
       "1840                                      Rock Band\n",
       "1984                    Legacy of Kain: Soul Reaver\n",
       "2010                           Donkey Kong Land III\n",
       "2106                                 Air-Sea Battle\n",
       "2108                                   Suikoden III\n",
       "2132                   LEGO Harry Potter: Years 5-7\n",
       "2157                               Wheel of Fortune\n",
       "2169                                       Yakuza 4\n",
       "2273                   LEGO Harry Potter: Years 5-7\n",
       "2281                                   Namco Museum\n",
       "2361                                  Rhythm Heaven\n",
       "Name: name, dtype: object"
      ]
     },
     "execution_count": 14,
     "metadata": {},
     "output_type": "execute_result"
    }
   ],
   "source": [
    "df[df['year_of_release'].isna()].name.head(30)"
   ]
  },
  {
   "cell_type": "markdown",
   "metadata": {
    "cellId": "lfow6qkd55jat6mtyb71qe"
   },
   "source": [
    "It seems to me that these omissions are accidental. I don't see any connection to any particular platform or series of games, for example. Some games have a year in the title and, of course, you can write a function to get this year from there, but often the year in the title does not correspond to the year the games were released on different platforms. You can try to enrich the data and search the Internet, but I see no reason to waste time on this for the sake of 2% gaps. I will replace the missing years with 0."
   ]
  },
  {
   "cell_type": "code",
   "execution_count": 15,
   "metadata": {
    "cellId": "7w95rqd4eucotek89sjkrq"
   },
   "outputs": [],
   "source": [
    "df['year_of_release'] = df['year_of_release'].fillna(0).astype(int)"
   ]
  },
  {
   "cell_type": "code",
   "execution_count": 16,
   "metadata": {
    "cellId": "jg1lukminkr6staxqedxto"
   },
   "outputs": [
    {
     "data": {
      "text/plain": [
       "name              0.00\n",
       "platform          0.00\n",
       "year_of_release   0.00\n",
       "genre             0.00\n",
       "na_sales          0.00\n",
       "eu_sales          0.00\n",
       "jp_sales          0.00\n",
       "other_sales       0.00\n",
       "critic_score      0.51\n",
       "user_score        0.55\n",
       "rating            0.40\n",
       "dtype: float64"
      ]
     },
     "execution_count": 16,
     "metadata": {},
     "output_type": "execute_result"
    }
   ],
   "source": [
    "df.isna().mean()"
   ]
  },
  {
   "cell_type": "markdown",
   "metadata": {
    "cellId": "zj0xj4nw93jmaqmsf973lg"
   },
   "source": [
    "There are gaps in critic_score, user_score, rating. There are too many gaps to replace them with some value, for example, the average. I'll leave gaps. Accordingly, critic_score will remain in float format.\n",
    "\n",
    "### Values\n",
    "\n",
    "I'll check the rest of the values."
   ]
  },
  {
   "cell_type": "code",
   "execution_count": 17,
   "metadata": {
    "cellId": "tkwhvf2jg54dcdk1jw471"
   },
   "outputs": [
    {
     "data": {
      "text/plain": [
       "array(['Wii', 'NES', 'GB', 'DS', 'X360', 'PS3', 'PS2', 'SNES', 'GBA',\n",
       "       'PS4', '3DS', 'N64', 'PS', 'XB', 'PC', '2600', 'PSP', 'XOne',\n",
       "       'WiiU', 'GC', 'GEN', 'DC', 'PSV', 'SAT', 'SCD', 'WS', 'NG', 'TG16',\n",
       "       '3DO', 'GG', 'PCFX'], dtype=object)"
      ]
     },
     "execution_count": 17,
     "metadata": {},
     "output_type": "execute_result"
    }
   ],
   "source": [
    "df.platform.unique()"
   ]
  },
  {
   "cell_type": "code",
   "execution_count": 18,
   "metadata": {
    "cellId": "6q9tee1qt7te6esywf6fhf"
   },
   "outputs": [
    {
     "data": {
      "text/plain": [
       "array(['Sports', 'Platform', 'Racing', 'Role-Playing', 'Puzzle', 'Misc',\n",
       "       'Shooter', 'Simulation', 'Action', 'Fighting', 'Adventure',\n",
       "       'Strategy'], dtype=object)"
      ]
     },
     "execution_count": 18,
     "metadata": {},
     "output_type": "execute_result"
    }
   ],
   "source": [
    "df.genre.unique()"
   ]
  },
  {
   "cell_type": "code",
   "execution_count": 19,
   "metadata": {
    "cellId": "tmauedrue835ea1us25hj"
   },
   "outputs": [
    {
     "data": {
      "text/plain": [
       "array(['E', nan, 'M', 'T', 'E10+', 'K-A', 'AO', 'EC', 'RP'], dtype=object)"
      ]
     },
     "execution_count": 19,
     "metadata": {},
     "output_type": "execute_result"
    }
   ],
   "source": [
    "df.rating.unique()"
   ]
  },
  {
   "cell_type": "markdown",
   "metadata": {
    "cellId": "3inp21kg4r3dk166qtbjq8"
   },
   "source": [
    "I don't see any errors."
   ]
  },
  {
   "cell_type": "markdown",
   "metadata": {
    "cellId": "hhnazzi3sageboa2shmurj"
   },
   "source": [
    "### Total sales"
   ]
  },
  {
   "cell_type": "code",
   "execution_count": 20,
   "metadata": {
    "cellId": "fn60xdzzg0x0bvzr1xyx"
   },
   "outputs": [],
   "source": [
    "#calculation and addition of total_sales\n",
    "#df.insert(8,'total_sales', df.na_sales+df.eu_sales+df.jp_sales+df.other_sales)\n",
    "df['total_sales'] = df[['na_sales','eu_sales','jp_sales','other_sales']].sum(axis=1)"
   ]
  },
  {
   "cell_type": "code",
   "execution_count": 21,
   "metadata": {
    "cellId": "6kbb5kkfgxsmu3jrs50kp"
   },
   "outputs": [
    {
     "data": {
      "text/html": [
       "<div>\n",
       "<style scoped>\n",
       "    .dataframe tbody tr th:only-of-type {\n",
       "        vertical-align: middle;\n",
       "    }\n",
       "\n",
       "    .dataframe tbody tr th {\n",
       "        vertical-align: top;\n",
       "    }\n",
       "\n",
       "    .dataframe thead th {\n",
       "        text-align: right;\n",
       "    }\n",
       "</style>\n",
       "<table border=\"1\" class=\"dataframe\">\n",
       "  <thead>\n",
       "    <tr style=\"text-align: right;\">\n",
       "      <th></th>\n",
       "      <th>name</th>\n",
       "      <th>platform</th>\n",
       "      <th>year_of_release</th>\n",
       "      <th>genre</th>\n",
       "      <th>na_sales</th>\n",
       "      <th>eu_sales</th>\n",
       "      <th>jp_sales</th>\n",
       "      <th>other_sales</th>\n",
       "      <th>critic_score</th>\n",
       "      <th>user_score</th>\n",
       "      <th>rating</th>\n",
       "      <th>total_sales</th>\n",
       "    </tr>\n",
       "  </thead>\n",
       "  <tbody>\n",
       "    <tr>\n",
       "      <th>0</th>\n",
       "      <td>Wii Sports</td>\n",
       "      <td>Wii</td>\n",
       "      <td>2006</td>\n",
       "      <td>Sports</td>\n",
       "      <td>41.36</td>\n",
       "      <td>28.96</td>\n",
       "      <td>3.77</td>\n",
       "      <td>8.45</td>\n",
       "      <td>76.00</td>\n",
       "      <td>8.00</td>\n",
       "      <td>E</td>\n",
       "      <td>82.54</td>\n",
       "    </tr>\n",
       "    <tr>\n",
       "      <th>1</th>\n",
       "      <td>Super Mario Bros.</td>\n",
       "      <td>NES</td>\n",
       "      <td>1985</td>\n",
       "      <td>Platform</td>\n",
       "      <td>29.08</td>\n",
       "      <td>3.58</td>\n",
       "      <td>6.81</td>\n",
       "      <td>0.77</td>\n",
       "      <td>NaN</td>\n",
       "      <td>NaN</td>\n",
       "      <td>NaN</td>\n",
       "      <td>40.24</td>\n",
       "    </tr>\n",
       "    <tr>\n",
       "      <th>2</th>\n",
       "      <td>Mario Kart Wii</td>\n",
       "      <td>Wii</td>\n",
       "      <td>2008</td>\n",
       "      <td>Racing</td>\n",
       "      <td>15.68</td>\n",
       "      <td>12.76</td>\n",
       "      <td>3.79</td>\n",
       "      <td>3.29</td>\n",
       "      <td>82.00</td>\n",
       "      <td>8.30</td>\n",
       "      <td>E</td>\n",
       "      <td>35.52</td>\n",
       "    </tr>\n",
       "    <tr>\n",
       "      <th>3</th>\n",
       "      <td>Wii Sports Resort</td>\n",
       "      <td>Wii</td>\n",
       "      <td>2009</td>\n",
       "      <td>Sports</td>\n",
       "      <td>15.61</td>\n",
       "      <td>10.93</td>\n",
       "      <td>3.28</td>\n",
       "      <td>2.95</td>\n",
       "      <td>80.00</td>\n",
       "      <td>8.00</td>\n",
       "      <td>E</td>\n",
       "      <td>32.77</td>\n",
       "    </tr>\n",
       "    <tr>\n",
       "      <th>4</th>\n",
       "      <td>Pokemon Red/Pokemon Blue</td>\n",
       "      <td>GB</td>\n",
       "      <td>1996</td>\n",
       "      <td>Role-Playing</td>\n",
       "      <td>11.27</td>\n",
       "      <td>8.89</td>\n",
       "      <td>10.22</td>\n",
       "      <td>1.00</td>\n",
       "      <td>NaN</td>\n",
       "      <td>NaN</td>\n",
       "      <td>NaN</td>\n",
       "      <td>31.38</td>\n",
       "    </tr>\n",
       "  </tbody>\n",
       "</table>\n",
       "</div>"
      ],
      "text/plain": [
       "                       name platform  year_of_release         genre  na_sales  \\\n",
       "0                Wii Sports      Wii             2006        Sports     41.36   \n",
       "1         Super Mario Bros.      NES             1985      Platform     29.08   \n",
       "2            Mario Kart Wii      Wii             2008        Racing     15.68   \n",
       "3         Wii Sports Resort      Wii             2009        Sports     15.61   \n",
       "4  Pokemon Red/Pokemon Blue       GB             1996  Role-Playing     11.27   \n",
       "\n",
       "   eu_sales  jp_sales  other_sales  critic_score  user_score rating  \\\n",
       "0     28.96      3.77         8.45         76.00        8.00      E   \n",
       "1      3.58      6.81         0.77           NaN         NaN    NaN   \n",
       "2     12.76      3.79         3.29         82.00        8.30      E   \n",
       "3     10.93      3.28         2.95         80.00        8.00      E   \n",
       "4      8.89     10.22         1.00           NaN         NaN    NaN   \n",
       "\n",
       "   total_sales  \n",
       "0        82.54  \n",
       "1        40.24  \n",
       "2        35.52  \n",
       "3        32.77  \n",
       "4        31.38  "
      ]
     },
     "execution_count": 21,
     "metadata": {},
     "output_type": "execute_result"
    }
   ],
   "source": [
    "df.head()"
   ]
  },
  {
   "cell_type": "markdown",
   "metadata": {
    "cellId": "zob49h35t4c0y6hvva9zp"
   },
   "source": [
    "### Conclusions:\n",
    "* changed column names\n",
    "* translated user rating and release year into integers, critics' ratings left in fractional due to omissions\n",
    "* removed 2 lines with gaps in the name and genre\n",
    "* 2% of gaps in years of production filled in with zeros\n",
    "* left the rest of the gaps\n",
    "* tbd converted to NaN\n",
    "* added total sales\n",
    "\n",
    "## Exploratory data analysis\n",
    "\n",
    "* _See how many games were released in different years. Is data for all periods important?_\n",
    "* _See how sales have changed by platform. Select the platforms with the highest total sales and plot the distribution by year. How long does it take for new platforms to appear and old ones to disappear?_\n",
    "* _Take the data for the relevant actual period. Determine the current period yourself as a result of the study of the previous questions. The main factor is that these data will help build a forecast for 2017._\n",
    "* _Don't take data from previous years into account._\n",
    "* _Which platforms are leading in sales, rising or falling? Pick a few potentially profitable platforms._\n",
    "* _Plot a boxplot of global game sales by platform. Describe the result._\n",
    "* _See how sales within one popular platform are affected by user and critic reviews. Plot a scatterplot and calculate the correlation between reviews and sales. Formulate conclusions._\n",
    "* _Relate findings to game sales on other platforms._\n",
    "* _Look at the overall distribution of games by genre. What about the most profitable genres? Do genres with high and low sales stand out?_\n",
    "\n",
    "### Number of games per year"
   ]
  },
  {
   "cell_type": "code",
   "execution_count": 22,
   "metadata": {
    "cellId": "531usgo6jclfvc8pf8i72h"
   },
   "outputs": [
    {
     "data": {
      "text/plain": [
       "<AxesSubplot:title={'center':'Number of games per year'}, xlabel='year_of_release'>"
      ]
     },
     "execution_count": 22,
     "metadata": {},
     "output_type": "execute_result"
    },
    {
     "data": {
      "image/png": "[encoded data removed]",
      "text/plain": [
       "<Figure size 864x432 with 1 Axes>"
      ]
     },
     "metadata": {
      "needs_background": "light"
     },
     "output_type": "display_data"
    }
   ],
   "source": [
    "df.groupby('year_of_release')['name'].count().reset_index().plot(\n",
    "    x='year_of_release', y='name', xlim=(1980, 2016), grid=True,\n",
    "    legend=False, figsize=(12,6), style='-x', color='purple',\n",
    "    title='Number of games per year'\n",
    ")"
   ]
  },
  {
   "cell_type": "markdown",
   "metadata": {
    "cellId": "tihi7l08hofhqa9vacduu6"
   },
   "source": [
    "The number of games released has been on the rise since 1990. For analysis, data before 1990 is not so important.\n",
    "\n",
    "### Sales by platform. Actual period"
   ]
  },
  {
   "cell_type": "code",
   "execution_count": 23,
   "metadata": {
    "cellId": "bat6f8u96q8wd3n42cgq"
   },
   "outputs": [
    {
     "data": {
      "text/plain": [
       "<AxesSubplot:title={'center':'Sales per platform'}, xlabel='platform'>"
      ]
     },
     "execution_count": 23,
     "metadata": {},
     "output_type": "execute_result"
    },
    {
     "data": {
      "image/png": "[encoded data removed]",
      "text/plain": [
       "<Figure size 1008x504 with 1 Axes>"
      ]
     },
     "metadata": {
      "needs_background": "light"
     },
     "output_type": "display_data"
    }
   ],
   "source": [
    "df.groupby('platform')['total_sales'].sum().sort_values(ascending=False).plot(\n",
    "    kind='bar', y='total_sales', figsize=(14,7), edgecolor='black', rot=45, legend=True, fontsize=13,\n",
    "    title='Sales per platform', color='firebrick'\n",
    ")"
   ]
  },
  {
   "cell_type": "markdown",
   "metadata": {
    "cellId": "vgjodkczdd9fk66vdq46nj"
   },
   "source": [
    "I will choose the first 6 platforms with a significantly higher number of sales and plot the distribution by year."
   ]
  },
  {
   "cell_type": "code",
   "execution_count": 24,
   "metadata": {
    "cellId": "m9ry1iynnqptghfufrni6"
   },
   "outputs": [
    {
     "name": "stdout",
     "output_type": "stream",
     "text": [
      "Top 6 gaming platforms : ['PS2', 'X360', 'PS3', 'Wii', 'DS', 'PS']\n"
     ]
    }
   ],
   "source": [
    "platform_top6 = list(df.groupby('platform')['total_sales'].sum().sort_values(ascending=False).reset_index().head(6)['platform'])\n",
    "print('Top 6 gaming platforms :', platform_top6)"
   ]
  },
  {
   "cell_type": "markdown",
   "metadata": {
    "cellId": "3d234ok1x65755u1g548tu"
   },
   "source": [
    "I will write a function that will accept a list of platforms, build sales graphs and the number of games by year, and return a dataframe with the lifetime of the platform."
   ]
  },
  {
   "cell_type": "code",
   "execution_count": 25,
   "metadata": {
    "cellId": "ak3c1fjh7zlzl3anlekd8"
   },
   "outputs": [],
   "source": [
    "def platform_plotting (platform_list, data):\n",
    "    \n",
    "    platform_lifespan = {} #dictionary with platform lifetimes\n",
    "    \n",
    "    for platforms in platform_list:\n",
    "        \n",
    "        #grouping data by platform\n",
    "        platform_grouped = data.query(\n",
    "            'platform==@platforms and year_of_release!=0'\n",
    "        ).groupby('year_of_release')['total_sales'].agg(sales='sum', games='count')\n",
    "        \n",
    "        #life time calculation\n",
    "        lifespan = platform_grouped.reset_index()[\n",
    "            'year_of_release'].max() - platform_grouped.reset_index()['year_of_release'].min()\n",
    "        \n",
    "        #caption on the chart: platform name and lifetime\n",
    "        graph_title = str(platforms)+', lifespan '+str(lifespan)+' years'\n",
    "        \n",
    "        #plotting\n",
    "        platform_grouped.plot(style='o-', title=graph_title, grid=True)\n",
    "        \n",
    "        #entry in the dictionary of the lifetime value\n",
    "        platform_lifespan[platforms]= lifespan\n",
    "    \n",
    "    #creating DateFrame\n",
    "    return pd.DataFrame(platform_lifespan.values(), index=platform_lifespan.keys(), columns=['lifespan'])"
   ]
  },
  {
   "cell_type": "markdown",
   "metadata": {
    "cellId": "x3ltzviu5wdg5g5ejycov"
   },
   "source": [
    "When I used the function, I found that the Nintendo DS had a lifespan of 28 years and the graph shows a spike in 1985, even though the DS came out in 2004. Find this value."
   ]
  },
  {
   "cell_type": "code",
   "execution_count": 26,
   "metadata": {
    "cellId": "9w0sizcpi5jgfrcqafno3"
   },
   "outputs": [
    {
     "data": {
      "text/html": [
       "<div>\n",
       "<style scoped>\n",
       "    .dataframe tbody tr th:only-of-type {\n",
       "        vertical-align: middle;\n",
       "    }\n",
       "\n",
       "    .dataframe tbody tr th {\n",
       "        vertical-align: top;\n",
       "    }\n",
       "\n",
       "    .dataframe thead th {\n",
       "        text-align: right;\n",
       "    }\n",
       "</style>\n",
       "<table border=\"1\" class=\"dataframe\">\n",
       "  <thead>\n",
       "    <tr style=\"text-align: right;\">\n",
       "      <th></th>\n",
       "      <th>name</th>\n",
       "      <th>platform</th>\n",
       "      <th>year_of_release</th>\n",
       "      <th>genre</th>\n",
       "      <th>na_sales</th>\n",
       "      <th>eu_sales</th>\n",
       "      <th>jp_sales</th>\n",
       "      <th>other_sales</th>\n",
       "      <th>critic_score</th>\n",
       "      <th>user_score</th>\n",
       "      <th>rating</th>\n",
       "      <th>total_sales</th>\n",
       "    </tr>\n",
       "  </thead>\n",
       "  <tbody>\n",
       "  </tbody>\n",
       "</table>\n",
       "</div>"
      ],
      "text/plain": [
       "Empty DataFrame\n",
       "Columns: [name, platform, year_of_release, genre, na_sales, eu_sales, jp_sales, other_sales, critic_score, user_score, rating, total_sales]\n",
       "Index: []"
      ]
     },
     "execution_count": 26,
     "metadata": {},
     "output_type": "execute_result"
    }
   ],
   "source": [
    "df.query('platform==\"DS\" and year_of_release==\"1985\"')"
   ]
  },
  {
   "cell_type": "markdown",
   "metadata": {
    "cellId": "9s8eg35geyh7cbezcvmztp"
   },
   "source": [
    "I will remove this value."
   ]
  },
  {
   "cell_type": "code",
   "execution_count": 27,
   "metadata": {
    "cellId": "ed3np18vgzw1bzew8i6xcy"
   },
   "outputs": [],
   "source": [
    "df = df.drop(15957)"
   ]
  },
  {
   "cell_type": "markdown",
   "metadata": {
    "cellId": "79tplow6hwk7r5adfzmho9"
   },
   "source": [
    "I will apply the function"
   ]
  },
  {
   "cell_type": "code",
   "execution_count": 28,
   "metadata": {
    "cellId": "wtgp267i8lqmb1rhx1smx",
    "scrolled": false
   },
   "outputs": [
    {
     "data": {
      "text/html": [
       "<div>\n",
       "<style scoped>\n",
       "    .dataframe tbody tr th:only-of-type {\n",
       "        vertical-align: middle;\n",
       "    }\n",
       "\n",
       "    .dataframe tbody tr th {\n",
       "        vertical-align: top;\n",
       "    }\n",
       "\n",
       "    .dataframe thead th {\n",
       "        text-align: right;\n",
       "    }\n",
       "</style>\n",
       "<table border=\"1\" class=\"dataframe\">\n",
       "  <thead>\n",
       "    <tr style=\"text-align: right;\">\n",
       "      <th></th>\n",
       "      <th>lifespan</th>\n",
       "    </tr>\n",
       "  </thead>\n",
       "  <tbody>\n",
       "    <tr>\n",
       "      <th>PS2</th>\n",
       "      <td>11</td>\n",
       "    </tr>\n",
       "    <tr>\n",
       "      <th>X360</th>\n",
       "      <td>11</td>\n",
       "    </tr>\n",
       "    <tr>\n",
       "      <th>PS3</th>\n",
       "      <td>10</td>\n",
       "    </tr>\n",
       "    <tr>\n",
       "      <th>Wii</th>\n",
       "      <td>10</td>\n",
       "    </tr>\n",
       "    <tr>\n",
       "      <th>DS</th>\n",
       "      <td>9</td>\n",
       "    </tr>\n",
       "    <tr>\n",
       "      <th>PS</th>\n",
       "      <td>9</td>\n",
       "    </tr>\n",
       "  </tbody>\n",
       "</table>\n",
       "</div>"
      ],
      "text/plain": [
       "      lifespan\n",
       "PS2         11\n",
       "X360        11\n",
       "PS3         10\n",
       "Wii         10\n",
       "DS           9\n",
       "PS           9"
      ]
     },
     "execution_count": 28,
     "metadata": {},
     "output_type": "execute_result"
    },
    {
     "data": {
      "image/png": "[encoded data removed]",
      "text/plain": [
       "<Figure size 432x288 with 1 Axes>"
      ]
     },
     "metadata": {
      "needs_background": "light"
     },
     "output_type": "display_data"
    },
    {
     "data": {
      "image/png": "[encoded data removed]",
      "text/plain": [
       "<Figure size 432x288 with 1 Axes>"
      ]
     },
     "metadata": {
      "needs_background": "light"
     },
     "output_type": "display_data"
    },
    {
     "data": {
      "image/png": "[encoded data removed]",
      "text/plain": [
       "<Figure size 432x288 with 1 Axes>"
      ]
     },
     "metadata": {
      "needs_background": "light"
     },
     "output_type": "display_data"
    },
    {
     "data": {
      "image/png": "[encoded data removed]",
      "text/plain": [
       "<Figure size 432x288 with 1 Axes>"
      ]
     },
     "metadata": {
      "needs_background": "light"
     },
     "output_type": "display_data"
    },
    {
     "data": {
      "image/png": "[encoded data removed]",
      "text/plain": [
       "<Figure size 432x288 with 1 Axes>"
      ]
     },
     "metadata": {
      "needs_background": "light"
     },
     "output_type": "display_data"
    },
    {
     "data": {
      "image/png": "[encoded data removed]",
      "text/plain": [
       "<Figure size 432x288 with 1 Axes>"
      ]
     },
     "metadata": {
      "needs_background": "light"
     },
     "output_type": "display_data"
    }
   ],
   "source": [
    "lifespan = platform_plotting(platform_top6, df)\n",
    "lifespan"
   ]
  },
  {
   "cell_type": "code",
   "execution_count": 29,
   "metadata": {
    "cellId": "jwjz23wf3tnk6f9iassvah"
   },
   "outputs": [
    {
     "name": "stdout",
     "output_type": "stream",
     "text": [
      "Average platform lifetime: 10.0\n"
     ]
    }
   ],
   "source": [
    "print('Average platform lifetime:',lifespan['lifespan'].mean())"
   ]
  },
  {
   "cell_type": "markdown",
   "metadata": {
    "cellId": "2q0bhd7ykexl8tnei4aow"
   },
   "source": [
    "In 4 out of 6 platforms, it is clearly seen on the graph that the maximum sales and games occur approximately in the middle of their life cycle (5 years).\n",
    "Also on the graph of the number of games per year, you can see that for the last 5 years (2012-2016) the number of games has reached a plateau after the peak in the zero years and is about 600 games per year (see the graph below)."
   ]
  },
  {
   "cell_type": "code",
   "execution_count": 30,
   "metadata": {
    "cellId": "n3vpitis8ych6s88tev3w"
   },
   "outputs": [
    {
     "data": {
      "text/plain": [
       "<AxesSubplot:title={'center':'Number of games per year'}, xlabel='year_of_release'>"
      ]
     },
     "execution_count": 30,
     "metadata": {},
     "output_type": "execute_result"
    },
    {
     "data": {
      "image/png": "[encoded data removed]",
      "text/plain": [
       "<Figure size 864x432 with 1 Axes>"
      ]
     },
     "metadata": {
      "needs_background": "light"
     },
     "output_type": "display_data"
    }
   ],
   "source": [
    "df.groupby('year_of_release')['name'].count().reset_index().plot(\n",
    "    x='year_of_release', y='name', xlim=(2010, 2016), grid=True,\n",
    "    legend=False, figsize=(12,6), style='-o', color='darkblue',\n",
    "    title='Number of games per year', ylim=(400,1400)\n",
    ")"
   ]
  },
  {
   "cell_type": "markdown",
   "metadata": {
    "cellId": "mkxqwurma8swyd7et7ufd"
   },
   "source": [
    "Based on the foregoing, I will define the current period as the last 5 years and will continue to use data from 2012."
   ]
  },
  {
   "cell_type": "code",
   "execution_count": 31,
   "metadata": {
    "cellId": "ybivj4fx0no0vr8jp9twgrm"
   },
   "outputs": [],
   "source": [
    "df2= df.query('year_of_release>=2012')"
   ]
  },
  {
   "cell_type": "code",
   "execution_count": 32,
   "metadata": {
    "cellId": "xk09vsxzl0ai1mzt35op1j"
   },
   "outputs": [
    {
     "data": {
      "text/html": [
       "<div>\n",
       "<style scoped>\n",
       "    .dataframe tbody tr th:only-of-type {\n",
       "        vertical-align: middle;\n",
       "    }\n",
       "\n",
       "    .dataframe tbody tr th {\n",
       "        vertical-align: top;\n",
       "    }\n",
       "\n",
       "    .dataframe thead th {\n",
       "        text-align: right;\n",
       "    }\n",
       "</style>\n",
       "<table border=\"1\" class=\"dataframe\">\n",
       "  <thead>\n",
       "    <tr style=\"text-align: right;\">\n",
       "      <th></th>\n",
       "      <th>name</th>\n",
       "      <th>platform</th>\n",
       "      <th>year_of_release</th>\n",
       "      <th>genre</th>\n",
       "      <th>na_sales</th>\n",
       "      <th>eu_sales</th>\n",
       "      <th>jp_sales</th>\n",
       "      <th>other_sales</th>\n",
       "      <th>critic_score</th>\n",
       "      <th>user_score</th>\n",
       "      <th>rating</th>\n",
       "      <th>total_sales</th>\n",
       "    </tr>\n",
       "  </thead>\n",
       "  <tbody>\n",
       "    <tr>\n",
       "      <th>16</th>\n",
       "      <td>Grand Theft Auto V</td>\n",
       "      <td>PS3</td>\n",
       "      <td>2013</td>\n",
       "      <td>Action</td>\n",
       "      <td>7.02</td>\n",
       "      <td>9.09</td>\n",
       "      <td>0.98</td>\n",
       "      <td>3.96</td>\n",
       "      <td>97.00</td>\n",
       "      <td>8.20</td>\n",
       "      <td>M</td>\n",
       "      <td>21.05</td>\n",
       "    </tr>\n",
       "    <tr>\n",
       "      <th>23</th>\n",
       "      <td>Grand Theft Auto V</td>\n",
       "      <td>X360</td>\n",
       "      <td>2013</td>\n",
       "      <td>Action</td>\n",
       "      <td>9.66</td>\n",
       "      <td>5.14</td>\n",
       "      <td>0.06</td>\n",
       "      <td>1.41</td>\n",
       "      <td>97.00</td>\n",
       "      <td>8.10</td>\n",
       "      <td>M</td>\n",
       "      <td>16.27</td>\n",
       "    </tr>\n",
       "    <tr>\n",
       "      <th>31</th>\n",
       "      <td>Call of Duty: Black Ops 3</td>\n",
       "      <td>PS4</td>\n",
       "      <td>2015</td>\n",
       "      <td>Shooter</td>\n",
       "      <td>6.03</td>\n",
       "      <td>5.86</td>\n",
       "      <td>0.36</td>\n",
       "      <td>2.38</td>\n",
       "      <td>NaN</td>\n",
       "      <td>NaN</td>\n",
       "      <td>NaN</td>\n",
       "      <td>14.63</td>\n",
       "    </tr>\n",
       "    <tr>\n",
       "      <th>33</th>\n",
       "      <td>Pokemon X/Pokemon Y</td>\n",
       "      <td>3DS</td>\n",
       "      <td>2013</td>\n",
       "      <td>Role-Playing</td>\n",
       "      <td>5.28</td>\n",
       "      <td>4.19</td>\n",
       "      <td>4.35</td>\n",
       "      <td>0.78</td>\n",
       "      <td>NaN</td>\n",
       "      <td>NaN</td>\n",
       "      <td>NaN</td>\n",
       "      <td>14.60</td>\n",
       "    </tr>\n",
       "    <tr>\n",
       "      <th>34</th>\n",
       "      <td>Call of Duty: Black Ops II</td>\n",
       "      <td>PS3</td>\n",
       "      <td>2012</td>\n",
       "      <td>Shooter</td>\n",
       "      <td>4.99</td>\n",
       "      <td>5.73</td>\n",
       "      <td>0.65</td>\n",
       "      <td>2.42</td>\n",
       "      <td>83.00</td>\n",
       "      <td>5.30</td>\n",
       "      <td>M</td>\n",
       "      <td>13.79</td>\n",
       "    </tr>\n",
       "    <tr>\n",
       "      <th>...</th>\n",
       "      <td>...</td>\n",
       "      <td>...</td>\n",
       "      <td>...</td>\n",
       "      <td>...</td>\n",
       "      <td>...</td>\n",
       "      <td>...</td>\n",
       "      <td>...</td>\n",
       "      <td>...</td>\n",
       "      <td>...</td>\n",
       "      <td>...</td>\n",
       "      <td>...</td>\n",
       "      <td>...</td>\n",
       "    </tr>\n",
       "    <tr>\n",
       "      <th>16703</th>\n",
       "      <td>Strawberry Nauts</td>\n",
       "      <td>PSV</td>\n",
       "      <td>2016</td>\n",
       "      <td>Adventure</td>\n",
       "      <td>0.00</td>\n",
       "      <td>0.00</td>\n",
       "      <td>0.01</td>\n",
       "      <td>0.00</td>\n",
       "      <td>NaN</td>\n",
       "      <td>NaN</td>\n",
       "      <td>NaN</td>\n",
       "      <td>0.01</td>\n",
       "    </tr>\n",
       "    <tr>\n",
       "      <th>16707</th>\n",
       "      <td>Aiyoku no Eustia</td>\n",
       "      <td>PSV</td>\n",
       "      <td>2014</td>\n",
       "      <td>Misc</td>\n",
       "      <td>0.00</td>\n",
       "      <td>0.00</td>\n",
       "      <td>0.01</td>\n",
       "      <td>0.00</td>\n",
       "      <td>NaN</td>\n",
       "      <td>NaN</td>\n",
       "      <td>NaN</td>\n",
       "      <td>0.01</td>\n",
       "    </tr>\n",
       "    <tr>\n",
       "      <th>16710</th>\n",
       "      <td>Samurai Warriors: Sanada Maru</td>\n",
       "      <td>PS3</td>\n",
       "      <td>2016</td>\n",
       "      <td>Action</td>\n",
       "      <td>0.00</td>\n",
       "      <td>0.00</td>\n",
       "      <td>0.01</td>\n",
       "      <td>0.00</td>\n",
       "      <td>NaN</td>\n",
       "      <td>NaN</td>\n",
       "      <td>NaN</td>\n",
       "      <td>0.01</td>\n",
       "    </tr>\n",
       "    <tr>\n",
       "      <th>16712</th>\n",
       "      <td>Haitaka no Psychedelica</td>\n",
       "      <td>PSV</td>\n",
       "      <td>2016</td>\n",
       "      <td>Adventure</td>\n",
       "      <td>0.00</td>\n",
       "      <td>0.00</td>\n",
       "      <td>0.01</td>\n",
       "      <td>0.00</td>\n",
       "      <td>NaN</td>\n",
       "      <td>NaN</td>\n",
       "      <td>NaN</td>\n",
       "      <td>0.01</td>\n",
       "    </tr>\n",
       "    <tr>\n",
       "      <th>16714</th>\n",
       "      <td>Winning Post 8 2016</td>\n",
       "      <td>PSV</td>\n",
       "      <td>2016</td>\n",
       "      <td>Simulation</td>\n",
       "      <td>0.00</td>\n",
       "      <td>0.00</td>\n",
       "      <td>0.01</td>\n",
       "      <td>0.00</td>\n",
       "      <td>NaN</td>\n",
       "      <td>NaN</td>\n",
       "      <td>NaN</td>\n",
       "      <td>0.01</td>\n",
       "    </tr>\n",
       "  </tbody>\n",
       "</table>\n",
       "<p>2886 rows × 12 columns</p>\n",
       "</div>"
      ],
      "text/plain": [
       "                                name platform  year_of_release         genre  \\\n",
       "16                Grand Theft Auto V      PS3             2013        Action   \n",
       "23                Grand Theft Auto V     X360             2013        Action   \n",
       "31         Call of Duty: Black Ops 3      PS4             2015       Shooter   \n",
       "33               Pokemon X/Pokemon Y      3DS             2013  Role-Playing   \n",
       "34        Call of Duty: Black Ops II      PS3             2012       Shooter   \n",
       "...                              ...      ...              ...           ...   \n",
       "16703               Strawberry Nauts      PSV             2016     Adventure   \n",
       "16707               Aiyoku no Eustia      PSV             2014          Misc   \n",
       "16710  Samurai Warriors: Sanada Maru      PS3             2016        Action   \n",
       "16712        Haitaka no Psychedelica      PSV             2016     Adventure   \n",
       "16714            Winning Post 8 2016      PSV             2016    Simulation   \n",
       "\n",
       "       na_sales  eu_sales  jp_sales  other_sales  critic_score  user_score  \\\n",
       "16         7.02      9.09      0.98         3.96         97.00        8.20   \n",
       "23         9.66      5.14      0.06         1.41         97.00        8.10   \n",
       "31         6.03      5.86      0.36         2.38           NaN         NaN   \n",
       "33         5.28      4.19      4.35         0.78           NaN         NaN   \n",
       "34         4.99      5.73      0.65         2.42         83.00        5.30   \n",
       "...         ...       ...       ...          ...           ...         ...   \n",
       "16703      0.00      0.00      0.01         0.00           NaN         NaN   \n",
       "16707      0.00      0.00      0.01         0.00           NaN         NaN   \n",
       "16710      0.00      0.00      0.01         0.00           NaN         NaN   \n",
       "16712      0.00      0.00      0.01         0.00           NaN         NaN   \n",
       "16714      0.00      0.00      0.01         0.00           NaN         NaN   \n",
       "\n",
       "      rating  total_sales  \n",
       "16         M        21.05  \n",
       "23         M        16.27  \n",
       "31       NaN        14.63  \n",
       "33       NaN        14.60  \n",
       "34         M        13.79  \n",
       "...      ...          ...  \n",
       "16703    NaN         0.01  \n",
       "16707    NaN         0.01  \n",
       "16710    NaN         0.01  \n",
       "16712    NaN         0.01  \n",
       "16714    NaN         0.01  \n",
       "\n",
       "[2886 rows x 12 columns]"
      ]
     },
     "execution_count": 32,
     "metadata": {},
     "output_type": "execute_result"
    }
   ],
   "source": [
    "df2"
   ]
  },
  {
   "cell_type": "markdown",
   "metadata": {
    "cellId": "g0m7ygqqlfq9zeb4grup6v"
   },
   "source": [
    "### Potentially profitable platforms"
   ]
  },
  {
   "cell_type": "code",
   "execution_count": 33,
   "metadata": {
    "cellId": "ilausvxo22iiokgfdil5yb"
   },
   "outputs": [
    {
     "data": {
      "text/plain": [
       "<AxesSubplot:title={'center':'Sales per platform'}, xlabel='platform'>"
      ]
     },
     "execution_count": 33,
     "metadata": {},
     "output_type": "execute_result"
    },
    {
     "data": {
      "image/png": "[encoded data removed]",
      "text/plain": [
       "<Figure size 1008x504 with 1 Axes>"
      ]
     },
     "metadata": {
      "needs_background": "light"
     },
     "output_type": "display_data"
    }
   ],
   "source": [
    "df2.groupby('platform')['total_sales'].sum().sort_values(ascending=False).plot(\n",
    "    kind='bar', y='total_sales', figsize=(14,7), edgecolor='black', rot=45, legend=True, fontsize=13,\n",
    "    title='Sales per platform', color='darkorange'\n",
    ")"
   ]
  },
  {
   "cell_type": "markdown",
   "metadata": {
    "cellId": "8ueha79lv4j57mqn7f3sel"
   },
   "source": [
    "In terms of sales, Sony consoles (PS4 and PS3) are in the lead, followed by consoles from Microsoft (Xbox360 and Xbox One), and the Nintendo 3DS portable gaming system also entered the top 5."
   ]
  },
  {
   "cell_type": "code",
   "execution_count": 34,
   "metadata": {
    "cellId": "tsn5ehdjgwh7poittor1w"
   },
   "outputs": [
    {
     "name": "stdout",
     "output_type": "stream",
     "text": [
      "Top 5 sales: ['PS4', 'PS3', 'X360', '3DS', 'XOne']\n"
     ]
    }
   ],
   "source": [
    "platform_top5 = list(df2.groupby('platform')['total_sales'].sum().sort_values(ascending=False).reset_index().head(5)['platform'])\n",
    "print('Top 5 sales:', platform_top5)"
   ]
  },
  {
   "cell_type": "code",
   "execution_count": 35,
   "metadata": {
    "cellId": "bmyouvxtbpr1h8vy6wy9x7"
   },
   "outputs": [
    {
     "data": {
      "text/html": [
       "<div>\n",
       "<style scoped>\n",
       "    .dataframe tbody tr th:only-of-type {\n",
       "        vertical-align: middle;\n",
       "    }\n",
       "\n",
       "    .dataframe tbody tr th {\n",
       "        vertical-align: top;\n",
       "    }\n",
       "\n",
       "    .dataframe thead th {\n",
       "        text-align: right;\n",
       "    }\n",
       "</style>\n",
       "<table border=\"1\" class=\"dataframe\">\n",
       "  <thead>\n",
       "    <tr style=\"text-align: right;\">\n",
       "      <th></th>\n",
       "      <th>lifespan</th>\n",
       "    </tr>\n",
       "  </thead>\n",
       "  <tbody>\n",
       "    <tr>\n",
       "      <th>PS4</th>\n",
       "      <td>3</td>\n",
       "    </tr>\n",
       "    <tr>\n",
       "      <th>PS3</th>\n",
       "      <td>4</td>\n",
       "    </tr>\n",
       "    <tr>\n",
       "      <th>X360</th>\n",
       "      <td>4</td>\n",
       "    </tr>\n",
       "    <tr>\n",
       "      <th>3DS</th>\n",
       "      <td>4</td>\n",
       "    </tr>\n",
       "    <tr>\n",
       "      <th>XOne</th>\n",
       "      <td>3</td>\n",
       "    </tr>\n",
       "  </tbody>\n",
       "</table>\n",
       "</div>"
      ],
      "text/plain": [
       "      lifespan\n",
       "PS4          3\n",
       "PS3          4\n",
       "X360         4\n",
       "3DS          4\n",
       "XOne         3"
      ]
     },
     "execution_count": 35,
     "metadata": {},
     "output_type": "execute_result"
    },
    {
     "data": {
      "image/png": "[encoded data removed]",
      "text/plain": [
       "<Figure size 432x288 with 1 Axes>"
      ]
     },
     "metadata": {
      "needs_background": "light"
     },
     "output_type": "display_data"
    },
    {
     "data": {
      "image/png": "[encoded data removed]",
      "text/plain": [
       "<Figure size 432x288 with 1 Axes>"
      ]
     },
     "metadata": {
      "needs_background": "light"
     },
     "output_type": "display_data"
    },
    {
     "data": {
      "image/png": "[encoded data removed]",
      "text/plain": [
       "<Figure size 432x288 with 1 Axes>"
      ]
     },
     "metadata": {
      "needs_background": "light"
     },
     "output_type": "display_data"
    },
    {
     "data": {
      "image/png": "[encoded data removed]",
      "text/plain": [
       "<Figure size 432x288 with 1 Axes>"
      ]
     },
     "metadata": {
      "needs_background": "light"
     },
     "output_type": "display_data"
    },
    {
     "data": {
      "image/png": "[encoded data removed]",
      "text/plain": [
       "<Figure size 432x288 with 1 Axes>"
      ]
     },
     "metadata": {
      "needs_background": "light"
     },
     "output_type": "display_data"
    }
   ],
   "source": [
    "platform_plotting(platform_top5, df2)"
   ]
  },
  {
   "cell_type": "markdown",
   "metadata": {
    "cellId": "gzx7pmf691it4zcfvou3or"
   },
   "source": [
    "It is clearly seen that sales and number of games for the seventh generation of gaming systems (PS3 and Xbox360) are falling, while the number of games for the eighth generation is growing."
   ]
  },
  {
   "cell_type": "code",
   "execution_count": 36,
   "metadata": {},
   "outputs": [
    {
     "data": {
      "text/html": [
       "<div>\n",
       "<style scoped>\n",
       "    .dataframe tbody tr th:only-of-type {\n",
       "        vertical-align: middle;\n",
       "    }\n",
       "\n",
       "    .dataframe tbody tr th {\n",
       "        vertical-align: top;\n",
       "    }\n",
       "\n",
       "    .dataframe thead th {\n",
       "        text-align: right;\n",
       "    }\n",
       "</style>\n",
       "<table border=\"1\" class=\"dataframe\">\n",
       "  <thead>\n",
       "    <tr style=\"text-align: right;\">\n",
       "      <th>platform</th>\n",
       "      <th>3DS</th>\n",
       "      <th>DS</th>\n",
       "      <th>PC</th>\n",
       "      <th>PS3</th>\n",
       "      <th>PS4</th>\n",
       "      <th>PSP</th>\n",
       "      <th>PSV</th>\n",
       "      <th>Wii</th>\n",
       "      <th>WiiU</th>\n",
       "      <th>X360</th>\n",
       "      <th>XOne</th>\n",
       "    </tr>\n",
       "    <tr>\n",
       "      <th>year_of_release</th>\n",
       "      <th></th>\n",
       "      <th></th>\n",
       "      <th></th>\n",
       "      <th></th>\n",
       "      <th></th>\n",
       "      <th></th>\n",
       "      <th></th>\n",
       "      <th></th>\n",
       "      <th></th>\n",
       "      <th></th>\n",
       "      <th></th>\n",
       "    </tr>\n",
       "  </thead>\n",
       "  <tbody>\n",
       "    <tr>\n",
       "      <th>2015</th>\n",
       "      <td>27.78</td>\n",
       "      <td>NaN</td>\n",
       "      <td>8.52</td>\n",
       "      <td>16.82</td>\n",
       "      <td>118.90</td>\n",
       "      <td>0.12</td>\n",
       "      <td>6.25</td>\n",
       "      <td>1.14</td>\n",
       "      <td>16.35</td>\n",
       "      <td>11.96</td>\n",
       "      <td>60.14</td>\n",
       "    </tr>\n",
       "    <tr>\n",
       "      <th>2016</th>\n",
       "      <td>15.14</td>\n",
       "      <td>NaN</td>\n",
       "      <td>5.25</td>\n",
       "      <td>3.60</td>\n",
       "      <td>69.25</td>\n",
       "      <td>NaN</td>\n",
       "      <td>4.25</td>\n",
       "      <td>0.18</td>\n",
       "      <td>4.60</td>\n",
       "      <td>1.52</td>\n",
       "      <td>26.15</td>\n",
       "    </tr>\n",
       "  </tbody>\n",
       "</table>\n",
       "</div>"
      ],
      "text/plain": [
       "platform          3DS  DS   PC   PS3    PS4  PSP  PSV  Wii  WiiU  X360  XOne\n",
       "year_of_release                                                             \n",
       "2015            27.78 NaN 8.52 16.82 118.90 0.12 6.25 1.14 16.35 11.96 60.14\n",
       "2016            15.14 NaN 5.25  3.60  69.25  NaN 4.25 0.18  4.60  1.52 26.15"
      ]
     },
     "execution_count": 36,
     "metadata": {},
     "output_type": "execute_result"
    }
   ],
   "source": [
    "df2.pivot_table(index='year_of_release', columns='platform', values='total_sales', aggfunc='sum').loc[[2015, 2016]]"
   ]
  },
  {
   "cell_type": "markdown",
   "metadata": {
    "cellId": "et7vwjbaia4srxl3jbg7s9"
   },
   "source": [
    "**We will consider potentially profitable consoles of the eighth generation: PS4 and Xbox One**\n",
    "\n",
    "I'll plot a boxplot chart of global game sales by platform."
   ]
  },
  {
   "cell_type": "code",
   "execution_count": 37,
   "metadata": {
    "cellId": "itdca6xiimbgth4nw2l44"
   },
   "outputs": [
    {
     "data": {
      "image/png": "[encoded data removed]",
      "text/plain": [
       "<Figure size 1080x504 with 1 Axes>"
      ]
     },
     "metadata": {
      "needs_background": "light"
     },
     "output_type": "display_data"
    }
   ],
   "source": [
    "df2.boxplot(\n",
    "    'total_sales', by='platform', figsize=(15,7)\n",
    ")\n",
    "plt.ylim(-0.1, 2.2)\n",
    "plt.show()"
   ]
  },
  {
   "cell_type": "markdown",
   "metadata": {
    "cellId": "tue0ca9nm18l7j1vxto8m"
   },
   "source": [
    "Too much information, uncomfortable to read, but it can be seen that most sales of each game over 5 years are in the range of up to 1 million and the median sales are close, except for sales of games for Sony portable gaming systems - PSP and PSV.\n",
    "\n",
    "I will build a swing chart for the Top 5 platforms."
   ]
  },
  {
   "cell_type": "code",
   "execution_count": 38,
   "metadata": {
    "cellId": "x13j2igt9gv97rjs5uysm"
   },
   "outputs": [
    {
     "data": {
      "image/png": "[encoded data removed]",
      "text/plain": [
       "<Figure size 1080x504 with 1 Axes>"
      ]
     },
     "metadata": {
      "needs_background": "light"
     },
     "output_type": "display_data"
    }
   ],
   "source": [
    "plt.figure(figsize=(15,7))\n",
    "plt.xlim(0, 2.5)\n",
    "sns.boxplot(data = df2.query(\n",
    "    'platform in @platform_top5'), orient='h', y='platform', x='total_sales', order=platform_top5)\n",
    "plt.show()"
   ]
  },
  {
   "cell_type": "markdown",
   "metadata": {
    "cellId": "1va1i06zz551jjtskkqdlu"
   },
   "source": [
    "This graph shows that the range of sales over the past 5 years for the Xbox and Playstation are close. We can conclude that for the most popular consoles (Xbox and PS) games are sold about the same.\n",
    "\n",
    "In this case, the outliers on the chart are errors in sales values ​​or single extremely rare cases of games with a high number of sales. Since we are considering the sales of not one particular well-selling game, but all sales in general, these outlier values ​​are not relevant.\n",
    "\n",
    "### Reviews\n",
    "\n",
    "I will calculate the correlation and build scatterplots for the Top 5.\n",
    "\n",
    "_To estimate the correlation, I chose the Spearman method, it copes better with outliers_"
   ]
  },
  {
   "cell_type": "code",
   "execution_count": 39,
   "metadata": {
    "cellId": "6nyhfq38lvbdypory3borj"
   },
   "outputs": [],
   "source": [
    "def corr_scatter(platforms):\n",
    "    \n",
    "    #scatterplot for critics score\n",
    "    df2.query('platform==@platforms').plot.scatter(x=\"critic_score\", y=\"total_sales\",\n",
    "                                                   color=\"DarkBlue\", label=platforms, s=10)\n",
    "    \n",
    "    #scatterplot for users score\n",
    "    #df2.query('platform==@platforms').plot.scatter(x=\"user_score\", y=\"total_sales\", \n",
    "    #color=\"DarkGreen\", label=platforms, s=10)\n",
    "    \n",
    "    #correlation\n",
    "    display(platforms, df2.query('platform==@platforms')[['total_sales', 'critic_score',\n",
    "                                                          'user_score']].corr(method='spearman'))"
   ]
  },
  {
   "cell_type": "code",
   "execution_count": 40,
   "metadata": {
    "cellId": "j8b9kt2p5tbv8s1pedptkk",
    "scrolled": false
   },
   "outputs": [
    {
     "data": {
      "text/plain": [
       "'PS4'"
      ]
     },
     "metadata": {},
     "output_type": "display_data"
    },
    {
     "data": {
      "text/html": [
       "<div>\n",
       "<style scoped>\n",
       "    .dataframe tbody tr th:only-of-type {\n",
       "        vertical-align: middle;\n",
       "    }\n",
       "\n",
       "    .dataframe tbody tr th {\n",
       "        vertical-align: top;\n",
       "    }\n",
       "\n",
       "    .dataframe thead th {\n",
       "        text-align: right;\n",
       "    }\n",
       "</style>\n",
       "<table border=\"1\" class=\"dataframe\">\n",
       "  <thead>\n",
       "    <tr style=\"text-align: right;\">\n",
       "      <th></th>\n",
       "      <th>total_sales</th>\n",
       "      <th>critic_score</th>\n",
       "      <th>user_score</th>\n",
       "    </tr>\n",
       "  </thead>\n",
       "  <tbody>\n",
       "    <tr>\n",
       "      <th>total_sales</th>\n",
       "      <td>1.00</td>\n",
       "      <td>0.51</td>\n",
       "      <td>-0.03</td>\n",
       "    </tr>\n",
       "    <tr>\n",
       "      <th>critic_score</th>\n",
       "      <td>0.51</td>\n",
       "      <td>1.00</td>\n",
       "      <td>0.43</td>\n",
       "    </tr>\n",
       "    <tr>\n",
       "      <th>user_score</th>\n",
       "      <td>-0.03</td>\n",
       "      <td>0.43</td>\n",
       "      <td>1.00</td>\n",
       "    </tr>\n",
       "  </tbody>\n",
       "</table>\n",
       "</div>"
      ],
      "text/plain": [
       "              total_sales  critic_score  user_score\n",
       "total_sales          1.00          0.51       -0.03\n",
       "critic_score         0.51          1.00        0.43\n",
       "user_score          -0.03          0.43        1.00"
      ]
     },
     "metadata": {},
     "output_type": "display_data"
    },
    {
     "data": {
      "text/plain": [
       "'PS3'"
      ]
     },
     "metadata": {},
     "output_type": "display_data"
    },
    {
     "data": {
      "text/html": [
       "<div>\n",
       "<style scoped>\n",
       "    .dataframe tbody tr th:only-of-type {\n",
       "        vertical-align: middle;\n",
       "    }\n",
       "\n",
       "    .dataframe tbody tr th {\n",
       "        vertical-align: top;\n",
       "    }\n",
       "\n",
       "    .dataframe thead th {\n",
       "        text-align: right;\n",
       "    }\n",
       "</style>\n",
       "<table border=\"1\" class=\"dataframe\">\n",
       "  <thead>\n",
       "    <tr style=\"text-align: right;\">\n",
       "      <th></th>\n",
       "      <th>total_sales</th>\n",
       "      <th>critic_score</th>\n",
       "      <th>user_score</th>\n",
       "    </tr>\n",
       "  </thead>\n",
       "  <tbody>\n",
       "    <tr>\n",
       "      <th>total_sales</th>\n",
       "      <td>1.00</td>\n",
       "      <td>0.58</td>\n",
       "      <td>0.08</td>\n",
       "    </tr>\n",
       "    <tr>\n",
       "      <th>critic_score</th>\n",
       "      <td>0.58</td>\n",
       "      <td>1.00</td>\n",
       "      <td>0.44</td>\n",
       "    </tr>\n",
       "    <tr>\n",
       "      <th>user_score</th>\n",
       "      <td>0.08</td>\n",
       "      <td>0.44</td>\n",
       "      <td>1.00</td>\n",
       "    </tr>\n",
       "  </tbody>\n",
       "</table>\n",
       "</div>"
      ],
      "text/plain": [
       "              total_sales  critic_score  user_score\n",
       "total_sales          1.00          0.58        0.08\n",
       "critic_score         0.58          1.00        0.44\n",
       "user_score           0.08          0.44        1.00"
      ]
     },
     "metadata": {},
     "output_type": "display_data"
    },
    {
     "data": {
      "text/plain": [
       "'X360'"
      ]
     },
     "metadata": {},
     "output_type": "display_data"
    },
    {
     "data": {
      "text/html": [
       "<div>\n",
       "<style scoped>\n",
       "    .dataframe tbody tr th:only-of-type {\n",
       "        vertical-align: middle;\n",
       "    }\n",
       "\n",
       "    .dataframe tbody tr th {\n",
       "        vertical-align: top;\n",
       "    }\n",
       "\n",
       "    .dataframe thead th {\n",
       "        text-align: right;\n",
       "    }\n",
       "</style>\n",
       "<table border=\"1\" class=\"dataframe\">\n",
       "  <thead>\n",
       "    <tr style=\"text-align: right;\">\n",
       "      <th></th>\n",
       "      <th>total_sales</th>\n",
       "      <th>critic_score</th>\n",
       "      <th>user_score</th>\n",
       "    </tr>\n",
       "  </thead>\n",
       "  <tbody>\n",
       "    <tr>\n",
       "      <th>total_sales</th>\n",
       "      <td>1.00</td>\n",
       "      <td>0.64</td>\n",
       "      <td>0.13</td>\n",
       "    </tr>\n",
       "    <tr>\n",
       "      <th>critic_score</th>\n",
       "      <td>0.64</td>\n",
       "      <td>1.00</td>\n",
       "      <td>0.49</td>\n",
       "    </tr>\n",
       "    <tr>\n",
       "      <th>user_score</th>\n",
       "      <td>0.13</td>\n",
       "      <td>0.49</td>\n",
       "      <td>1.00</td>\n",
       "    </tr>\n",
       "  </tbody>\n",
       "</table>\n",
       "</div>"
      ],
      "text/plain": [
       "              total_sales  critic_score  user_score\n",
       "total_sales          1.00          0.64        0.13\n",
       "critic_score         0.64          1.00        0.49\n",
       "user_score           0.13          0.49        1.00"
      ]
     },
     "metadata": {},
     "output_type": "display_data"
    },
    {
     "data": {
      "text/plain": [
       "'3DS'"
      ]
     },
     "metadata": {},
     "output_type": "display_data"
    },
    {
     "data": {
      "text/html": [
       "<div>\n",
       "<style scoped>\n",
       "    .dataframe tbody tr th:only-of-type {\n",
       "        vertical-align: middle;\n",
       "    }\n",
       "\n",
       "    .dataframe tbody tr th {\n",
       "        vertical-align: top;\n",
       "    }\n",
       "\n",
       "    .dataframe thead th {\n",
       "        text-align: right;\n",
       "    }\n",
       "</style>\n",
       "<table border=\"1\" class=\"dataframe\">\n",
       "  <thead>\n",
       "    <tr style=\"text-align: right;\">\n",
       "      <th></th>\n",
       "      <th>total_sales</th>\n",
       "      <th>critic_score</th>\n",
       "      <th>user_score</th>\n",
       "    </tr>\n",
       "  </thead>\n",
       "  <tbody>\n",
       "    <tr>\n",
       "      <th>total_sales</th>\n",
       "      <td>1.00</td>\n",
       "      <td>0.38</td>\n",
       "      <td>0.21</td>\n",
       "    </tr>\n",
       "    <tr>\n",
       "      <th>critic_score</th>\n",
       "      <td>0.38</td>\n",
       "      <td>1.00</td>\n",
       "      <td>0.78</td>\n",
       "    </tr>\n",
       "    <tr>\n",
       "      <th>user_score</th>\n",
       "      <td>0.21</td>\n",
       "      <td>0.78</td>\n",
       "      <td>1.00</td>\n",
       "    </tr>\n",
       "  </tbody>\n",
       "</table>\n",
       "</div>"
      ],
      "text/plain": [
       "              total_sales  critic_score  user_score\n",
       "total_sales          1.00          0.38        0.21\n",
       "critic_score         0.38          1.00        0.78\n",
       "user_score           0.21          0.78        1.00"
      ]
     },
     "metadata": {},
     "output_type": "display_data"
    },
    {
     "data": {
      "text/plain": [
       "'XOne'"
      ]
     },
     "metadata": {},
     "output_type": "display_data"
    },
    {
     "data": {
      "text/html": [
       "<div>\n",
       "<style scoped>\n",
       "    .dataframe tbody tr th:only-of-type {\n",
       "        vertical-align: middle;\n",
       "    }\n",
       "\n",
       "    .dataframe tbody tr th {\n",
       "        vertical-align: top;\n",
       "    }\n",
       "\n",
       "    .dataframe thead th {\n",
       "        text-align: right;\n",
       "    }\n",
       "</style>\n",
       "<table border=\"1\" class=\"dataframe\">\n",
       "  <thead>\n",
       "    <tr style=\"text-align: right;\">\n",
       "      <th></th>\n",
       "      <th>total_sales</th>\n",
       "      <th>critic_score</th>\n",
       "      <th>user_score</th>\n",
       "    </tr>\n",
       "  </thead>\n",
       "  <tbody>\n",
       "    <tr>\n",
       "      <th>total_sales</th>\n",
       "      <td>1.00</td>\n",
       "      <td>0.53</td>\n",
       "      <td>-0.10</td>\n",
       "    </tr>\n",
       "    <tr>\n",
       "      <th>critic_score</th>\n",
       "      <td>0.53</td>\n",
       "      <td>1.00</td>\n",
       "      <td>0.35</td>\n",
       "    </tr>\n",
       "    <tr>\n",
       "      <th>user_score</th>\n",
       "      <td>-0.10</td>\n",
       "      <td>0.35</td>\n",
       "      <td>1.00</td>\n",
       "    </tr>\n",
       "  </tbody>\n",
       "</table>\n",
       "</div>"
      ],
      "text/plain": [
       "              total_sales  critic_score  user_score\n",
       "total_sales          1.00          0.53       -0.10\n",
       "critic_score         0.53          1.00        0.35\n",
       "user_score          -0.10          0.35        1.00"
      ]
     },
     "metadata": {},
     "output_type": "display_data"
    },
    {
     "data": {
      "image/png": "[encoded data removed]",
      "text/plain": [
       "<Figure size 432x288 with 1 Axes>"
      ]
     },
     "metadata": {
      "needs_background": "light"
     },
     "output_type": "display_data"
    },
    {
     "data": {
      "image/png": "[encoded data removed]",
      "text/plain": [
       "<Figure size 432x288 with 1 Axes>"
      ]
     },
     "metadata": {
      "needs_background": "light"
     },
     "output_type": "display_data"
    },
    {
     "data": {
      "image/png": "[encoded data removed]",
      "text/plain": [
       "<Figure size 432x288 with 1 Axes>"
      ]
     },
     "metadata": {
      "needs_background": "light"
     },
     "output_type": "display_data"
    },
    {
     "data": {
      "image/png": "[encoded data removed]",
      "text/plain": [
       "<Figure size 432x288 with 1 Axes>"
      ]
     },
     "metadata": {
      "needs_background": "light"
     },
     "output_type": "display_data"
    },
    {
     "data": {
      "image/png": "[encoded data removed]",
      "text/plain": [
       "<Figure size 432x288 with 1 Axes>"
      ]
     },
     "metadata": {
      "needs_background": "light"
     },
     "output_type": "display_data"
    }
   ],
   "source": [
    "for value in platform_top5:\n",
    "    corr_scatter(value)"
   ]
  },
  {
   "cell_type": "markdown",
   "metadata": {
    "cellId": "xy5lromxisrl3yy3ecq48"
   },
   "source": [
    "There is an average positive correlation between reviews given by critics and sales. In the case of user reviews, a weak correlation was found only for Nintendo 3DS, possibly due to a large number of gaps in user ratings.\n",
    "\n",
    "### Genre"
   ]
  },
  {
   "cell_type": "code",
   "execution_count": 41,
   "metadata": {
    "cellId": "rlwfjnae2wweiuy3afnh7"
   },
   "outputs": [
    {
     "data": {
      "text/plain": [
       "<AxesSubplot:xlabel='genre'>"
      ]
     },
     "execution_count": 41,
     "metadata": {},
     "output_type": "execute_result"
    },
    {
     "data": {
      "image/png": "[encoded data removed]",
      "text/plain": [
       "<Figure size 864x504 with 1 Axes>"
      ]
     },
     "metadata": {
      "needs_background": "light"
     },
     "output_type": "display_data"
    }
   ],
   "source": [
    "df2.groupby('genre')['total_sales'].sum().sort_values(ascending=False).plot.bar(\n",
    "    rot=45, color='salmon', edgecolor='black', fontsize=13, figsize=(12,7))"
   ]
  },
  {
   "cell_type": "code",
   "execution_count": 42,
   "metadata": {
    "cellId": "g7uvrq2qjvc8o73dm9cn1h"
   },
   "outputs": [
    {
     "data": {
      "text/html": [
       "<div>\n",
       "<style scoped>\n",
       "    .dataframe tbody tr th:only-of-type {\n",
       "        vertical-align: middle;\n",
       "    }\n",
       "\n",
       "    .dataframe tbody tr th {\n",
       "        vertical-align: top;\n",
       "    }\n",
       "\n",
       "    .dataframe thead th {\n",
       "        text-align: right;\n",
       "    }\n",
       "</style>\n",
       "<table border=\"1\" class=\"dataframe\">\n",
       "  <thead>\n",
       "    <tr style=\"text-align: right;\">\n",
       "      <th>genre</th>\n",
       "      <th>Action</th>\n",
       "      <th>Adventure</th>\n",
       "      <th>Fighting</th>\n",
       "      <th>Misc</th>\n",
       "      <th>Platform</th>\n",
       "      <th>Puzzle</th>\n",
       "      <th>Racing</th>\n",
       "      <th>Role-Playing</th>\n",
       "      <th>Shooter</th>\n",
       "      <th>Simulation</th>\n",
       "      <th>Sports</th>\n",
       "      <th>Strategy</th>\n",
       "    </tr>\n",
       "    <tr>\n",
       "      <th>platform</th>\n",
       "      <th></th>\n",
       "      <th></th>\n",
       "      <th></th>\n",
       "      <th></th>\n",
       "      <th></th>\n",
       "      <th></th>\n",
       "      <th></th>\n",
       "      <th></th>\n",
       "      <th></th>\n",
       "      <th></th>\n",
       "      <th></th>\n",
       "      <th></th>\n",
       "    </tr>\n",
       "  </thead>\n",
       "  <tbody>\n",
       "    <tr>\n",
       "      <th>3DS</th>\n",
       "      <td>45.49</td>\n",
       "      <td>4.30</td>\n",
       "      <td>8.46</td>\n",
       "      <td>9.45</td>\n",
       "      <td>19.11</td>\n",
       "      <td>2.66</td>\n",
       "      <td>0.28</td>\n",
       "      <td>79.30</td>\n",
       "      <td>0.13</td>\n",
       "      <td>19.93</td>\n",
       "      <td>4.23</td>\n",
       "      <td>1.27</td>\n",
       "    </tr>\n",
       "    <tr>\n",
       "      <th>PS3</th>\n",
       "      <td>115.75</td>\n",
       "      <td>6.09</td>\n",
       "      <td>11.00</td>\n",
       "      <td>8.88</td>\n",
       "      <td>4.26</td>\n",
       "      <td>0.04</td>\n",
       "      <td>11.56</td>\n",
       "      <td>22.62</td>\n",
       "      <td>60.39</td>\n",
       "      <td>1.78</td>\n",
       "      <td>44.84</td>\n",
       "      <td>1.58</td>\n",
       "    </tr>\n",
       "    <tr>\n",
       "      <th>PS4</th>\n",
       "      <td>96.10</td>\n",
       "      <td>6.34</td>\n",
       "      <td>8.65</td>\n",
       "      <td>8.19</td>\n",
       "      <td>7.69</td>\n",
       "      <td>0.02</td>\n",
       "      <td>12.14</td>\n",
       "      <td>28.99</td>\n",
       "      <td>88.56</td>\n",
       "      <td>1.23</td>\n",
       "      <td>55.61</td>\n",
       "      <td>0.62</td>\n",
       "    </tr>\n",
       "    <tr>\n",
       "      <th>X360</th>\n",
       "      <td>81.60</td>\n",
       "      <td>3.27</td>\n",
       "      <td>4.97</td>\n",
       "      <td>14.83</td>\n",
       "      <td>2.14</td>\n",
       "      <td>NaN</td>\n",
       "      <td>8.41</td>\n",
       "      <td>9.80</td>\n",
       "      <td>72.70</td>\n",
       "      <td>1.53</td>\n",
       "      <td>36.39</td>\n",
       "      <td>0.90</td>\n",
       "    </tr>\n",
       "    <tr>\n",
       "      <th>XOne</th>\n",
       "      <td>37.31</td>\n",
       "      <td>2.68</td>\n",
       "      <td>2.45</td>\n",
       "      <td>7.43</td>\n",
       "      <td>0.93</td>\n",
       "      <td>NaN</td>\n",
       "      <td>9.79</td>\n",
       "      <td>10.55</td>\n",
       "      <td>60.33</td>\n",
       "      <td>0.69</td>\n",
       "      <td>26.74</td>\n",
       "      <td>0.42</td>\n",
       "    </tr>\n",
       "  </tbody>\n",
       "</table>\n",
       "</div>"
      ],
      "text/plain": [
       "genre     Action  Adventure  Fighting  Misc  Platform  Puzzle  Racing  \\\n",
       "platform                                                                \n",
       "3DS        45.49       4.30      8.46  9.45     19.11    2.66    0.28   \n",
       "PS3       115.75       6.09     11.00  8.88      4.26    0.04   11.56   \n",
       "PS4        96.10       6.34      8.65  8.19      7.69    0.02   12.14   \n",
       "X360       81.60       3.27      4.97 14.83      2.14     NaN    8.41   \n",
       "XOne       37.31       2.68      2.45  7.43      0.93     NaN    9.79   \n",
       "\n",
       "genre     Role-Playing  Shooter  Simulation  Sports  Strategy  \n",
       "platform                                                       \n",
       "3DS              79.30     0.13       19.93    4.23      1.27  \n",
       "PS3              22.62    60.39        1.78   44.84      1.58  \n",
       "PS4              28.99    88.56        1.23   55.61      0.62  \n",
       "X360              9.80    72.70        1.53   36.39      0.90  \n",
       "XOne             10.55    60.33        0.69   26.74      0.42  "
      ]
     },
     "execution_count": 42,
     "metadata": {},
     "output_type": "execute_result"
    }
   ],
   "source": [
    "pd.pivot_table(df2, values='total_sales', columns='genre', aggfunc='sum', index='platform').query('index in @platform_top5')"
   ]
  },
  {
   "cell_type": "code",
   "execution_count": 43,
   "metadata": {
    "cellId": "pyz8czhmysqnjsxmt9uh7"
   },
   "outputs": [
    {
     "data": {
      "text/html": [
       "<div>\n",
       "<style scoped>\n",
       "    .dataframe tbody tr th:only-of-type {\n",
       "        vertical-align: middle;\n",
       "    }\n",
       "\n",
       "    .dataframe tbody tr th {\n",
       "        vertical-align: top;\n",
       "    }\n",
       "\n",
       "    .dataframe thead th {\n",
       "        text-align: right;\n",
       "    }\n",
       "</style>\n",
       "<table border=\"1\" class=\"dataframe\">\n",
       "  <thead>\n",
       "    <tr style=\"text-align: right;\">\n",
       "      <th></th>\n",
       "      <th>sum</th>\n",
       "      <th>count</th>\n",
       "      <th>mean</th>\n",
       "      <th>median</th>\n",
       "    </tr>\n",
       "    <tr>\n",
       "      <th>genre</th>\n",
       "      <th></th>\n",
       "      <th></th>\n",
       "      <th></th>\n",
       "      <th></th>\n",
       "    </tr>\n",
       "  </thead>\n",
       "  <tbody>\n",
       "    <tr>\n",
       "      <th>Shooter</th>\n",
       "      <td>304.73</td>\n",
       "      <td>235</td>\n",
       "      <td>1.30</td>\n",
       "      <td>0.44</td>\n",
       "    </tr>\n",
       "    <tr>\n",
       "      <th>Platform</th>\n",
       "      <td>61.00</td>\n",
       "      <td>85</td>\n",
       "      <td>0.72</td>\n",
       "      <td>0.21</td>\n",
       "    </tr>\n",
       "    <tr>\n",
       "      <th>Sports</th>\n",
       "      <td>181.07</td>\n",
       "      <td>268</td>\n",
       "      <td>0.68</td>\n",
       "      <td>0.24</td>\n",
       "    </tr>\n",
       "    <tr>\n",
       "      <th>Role-Playing</th>\n",
       "      <td>192.80</td>\n",
       "      <td>370</td>\n",
       "      <td>0.52</td>\n",
       "      <td>0.14</td>\n",
       "    </tr>\n",
       "    <tr>\n",
       "      <th>Racing</th>\n",
       "      <td>53.50</td>\n",
       "      <td>115</td>\n",
       "      <td>0.47</td>\n",
       "      <td>0.14</td>\n",
       "    </tr>\n",
       "    <tr>\n",
       "      <th>Misc</th>\n",
       "      <td>85.04</td>\n",
       "      <td>192</td>\n",
       "      <td>0.44</td>\n",
       "      <td>0.12</td>\n",
       "    </tr>\n",
       "    <tr>\n",
       "      <th>Simulation</th>\n",
       "      <td>35.12</td>\n",
       "      <td>80</td>\n",
       "      <td>0.44</td>\n",
       "      <td>0.12</td>\n",
       "    </tr>\n",
       "    <tr>\n",
       "      <th>Action</th>\n",
       "      <td>441.12</td>\n",
       "      <td>1031</td>\n",
       "      <td>0.43</td>\n",
       "      <td>0.12</td>\n",
       "    </tr>\n",
       "    <tr>\n",
       "      <th>Fighting</th>\n",
       "      <td>44.49</td>\n",
       "      <td>109</td>\n",
       "      <td>0.41</td>\n",
       "      <td>0.13</td>\n",
       "    </tr>\n",
       "    <tr>\n",
       "      <th>Strategy</th>\n",
       "      <td>13.34</td>\n",
       "      <td>71</td>\n",
       "      <td>0.19</td>\n",
       "      <td>0.08</td>\n",
       "    </tr>\n",
       "    <tr>\n",
       "      <th>Puzzle</th>\n",
       "      <td>4.89</td>\n",
       "      <td>28</td>\n",
       "      <td>0.17</td>\n",
       "      <td>0.04</td>\n",
       "    </tr>\n",
       "    <tr>\n",
       "      <th>Adventure</th>\n",
       "      <td>29.43</td>\n",
       "      <td>302</td>\n",
       "      <td>0.10</td>\n",
       "      <td>0.03</td>\n",
       "    </tr>\n",
       "  </tbody>\n",
       "</table>\n",
       "</div>"
      ],
      "text/plain": [
       "                sum  count  mean  median\n",
       "genre                                   \n",
       "Shooter      304.73    235  1.30    0.44\n",
       "Platform      61.00     85  0.72    0.21\n",
       "Sports       181.07    268  0.68    0.24\n",
       "Role-Playing 192.80    370  0.52    0.14\n",
       "Racing        53.50    115  0.47    0.14\n",
       "Misc          85.04    192  0.44    0.12\n",
       "Simulation    35.12     80  0.44    0.12\n",
       "Action       441.12   1031  0.43    0.12\n",
       "Fighting      44.49    109  0.41    0.13\n",
       "Strategy      13.34     71  0.19    0.08\n",
       "Puzzle         4.89     28  0.17    0.04\n",
       "Adventure     29.43    302  0.10    0.03"
      ]
     },
     "execution_count": 43,
     "metadata": {},
     "output_type": "execute_result"
    }
   ],
   "source": [
    "df2.groupby('genre')['total_sales'].agg(['sum', 'count', 'mean', 'median']).sort_values(\n",
    "    by='mean', ascending=False)"
   ]
  },
  {
   "cell_type": "markdown",
   "metadata": {
    "cellId": "qten95z7bbin3rrxri1w"
   },
   "source": [
    "The top-selling genres are action, shooter, role-playing and sports games. Strategies and puzzles sell much worse than all.\n",
    "\n",
    "If you look at sales per game unit (average), you can see that the most profitable genres are shooters, platformers, and sports games.\n",
    "Action has the highest sales due to the popularity of the genre, the average sales of this genre are small.\n",
    "It is also clearly seen that the average value of sales is greater than the median, which means that the distribution is shifted to the right (there are bestsellers).\n",
    "\n",
    "If you look at the distribution by platform, you can clearly see that on Nintendo sales are distributed differently by genre: role-playing games in the first place (Pokémon), action in the second place (Legend of Zelda and others), then there are genres that are not popular on other platforms - simulators (Animal Crossing) and platformers (Mario)."
   ]
  },
  {
   "cell_type": "code",
   "execution_count": 44,
   "metadata": {
    "cellId": "waohrhamwq6aomyd41bcl"
   },
   "outputs": [
    {
     "data": {
      "text/html": [
       "<div>\n",
       "<style scoped>\n",
       "    .dataframe tbody tr th:only-of-type {\n",
       "        vertical-align: middle;\n",
       "    }\n",
       "\n",
       "    .dataframe tbody tr th {\n",
       "        vertical-align: top;\n",
       "    }\n",
       "\n",
       "    .dataframe thead th {\n",
       "        text-align: right;\n",
       "    }\n",
       "</style>\n",
       "<table border=\"1\" class=\"dataframe\">\n",
       "  <thead>\n",
       "    <tr style=\"text-align: right;\">\n",
       "      <th></th>\n",
       "      <th>name</th>\n",
       "      <th>platform</th>\n",
       "      <th>year_of_release</th>\n",
       "      <th>genre</th>\n",
       "      <th>na_sales</th>\n",
       "      <th>eu_sales</th>\n",
       "      <th>jp_sales</th>\n",
       "      <th>other_sales</th>\n",
       "      <th>critic_score</th>\n",
       "      <th>user_score</th>\n",
       "      <th>rating</th>\n",
       "      <th>total_sales</th>\n",
       "    </tr>\n",
       "  </thead>\n",
       "  <tbody>\n",
       "    <tr>\n",
       "      <th>33</th>\n",
       "      <td>Pokemon X/Pokemon Y</td>\n",
       "      <td>3DS</td>\n",
       "      <td>2013</td>\n",
       "      <td>Role-Playing</td>\n",
       "      <td>5.28</td>\n",
       "      <td>4.19</td>\n",
       "      <td>4.35</td>\n",
       "      <td>0.78</td>\n",
       "      <td>NaN</td>\n",
       "      <td>NaN</td>\n",
       "      <td>NaN</td>\n",
       "      <td>14.60</td>\n",
       "    </tr>\n",
       "    <tr>\n",
       "      <th>47</th>\n",
       "      <td>Pokemon Omega Ruby/Pokemon Alpha Sapphire</td>\n",
       "      <td>3DS</td>\n",
       "      <td>2014</td>\n",
       "      <td>Role-Playing</td>\n",
       "      <td>4.35</td>\n",
       "      <td>3.49</td>\n",
       "      <td>3.10</td>\n",
       "      <td>0.74</td>\n",
       "      <td>NaN</td>\n",
       "      <td>NaN</td>\n",
       "      <td>NaN</td>\n",
       "      <td>11.68</td>\n",
       "    </tr>\n",
       "    <tr>\n",
       "      <th>62</th>\n",
       "      <td>New Super Mario Bros. 2</td>\n",
       "      <td>3DS</td>\n",
       "      <td>2012</td>\n",
       "      <td>Platform</td>\n",
       "      <td>3.66</td>\n",
       "      <td>3.14</td>\n",
       "      <td>2.47</td>\n",
       "      <td>0.63</td>\n",
       "      <td>78.00</td>\n",
       "      <td>7.20</td>\n",
       "      <td>E</td>\n",
       "      <td>9.90</td>\n",
       "    </tr>\n",
       "    <tr>\n",
       "      <th>73</th>\n",
       "      <td>Animal Crossing: New Leaf</td>\n",
       "      <td>3DS</td>\n",
       "      <td>2012</td>\n",
       "      <td>Simulation</td>\n",
       "      <td>2.03</td>\n",
       "      <td>2.36</td>\n",
       "      <td>4.39</td>\n",
       "      <td>0.39</td>\n",
       "      <td>88.00</td>\n",
       "      <td>8.70</td>\n",
       "      <td>E</td>\n",
       "      <td>9.17</td>\n",
       "    </tr>\n",
       "    <tr>\n",
       "      <th>96</th>\n",
       "      <td>Super Smash Bros. for Wii U and 3DS</td>\n",
       "      <td>3DS</td>\n",
       "      <td>2014</td>\n",
       "      <td>Fighting</td>\n",
       "      <td>3.27</td>\n",
       "      <td>1.37</td>\n",
       "      <td>2.43</td>\n",
       "      <td>0.48</td>\n",
       "      <td>NaN</td>\n",
       "      <td>NaN</td>\n",
       "      <td>NaN</td>\n",
       "      <td>7.55</td>\n",
       "    </tr>\n",
       "    <tr>\n",
       "      <th>108</th>\n",
       "      <td>Pokemon Sun/Moon</td>\n",
       "      <td>3DS</td>\n",
       "      <td>2016</td>\n",
       "      <td>Role-Playing</td>\n",
       "      <td>2.98</td>\n",
       "      <td>1.45</td>\n",
       "      <td>2.26</td>\n",
       "      <td>0.45</td>\n",
       "      <td>NaN</td>\n",
       "      <td>NaN</td>\n",
       "      <td>NaN</td>\n",
       "      <td>7.14</td>\n",
       "    </tr>\n",
       "    <tr>\n",
       "      <th>184</th>\n",
       "      <td>Tomodachi Life</td>\n",
       "      <td>3DS</td>\n",
       "      <td>2013</td>\n",
       "      <td>Simulation</td>\n",
       "      <td>0.97</td>\n",
       "      <td>2.11</td>\n",
       "      <td>1.90</td>\n",
       "      <td>0.24</td>\n",
       "      <td>NaN</td>\n",
       "      <td>NaN</td>\n",
       "      <td>NaN</td>\n",
       "      <td>5.22</td>\n",
       "    </tr>\n",
       "    <tr>\n",
       "      <th>235</th>\n",
       "      <td>Luigi's Mansion: Dark Moon</td>\n",
       "      <td>3DS</td>\n",
       "      <td>2013</td>\n",
       "      <td>Action</td>\n",
       "      <td>1.80</td>\n",
       "      <td>1.39</td>\n",
       "      <td>1.11</td>\n",
       "      <td>0.29</td>\n",
       "      <td>86.00</td>\n",
       "      <td>8.40</td>\n",
       "      <td>E</td>\n",
       "      <td>4.59</td>\n",
       "    </tr>\n",
       "    <tr>\n",
       "      <th>312</th>\n",
       "      <td>Monster Hunter 4 Ultimate</td>\n",
       "      <td>3DS</td>\n",
       "      <td>2014</td>\n",
       "      <td>Role-Playing</td>\n",
       "      <td>0.68</td>\n",
       "      <td>0.48</td>\n",
       "      <td>2.62</td>\n",
       "      <td>0.11</td>\n",
       "      <td>86.00</td>\n",
       "      <td>8.70</td>\n",
       "      <td>T</td>\n",
       "      <td>3.89</td>\n",
       "    </tr>\n",
       "    <tr>\n",
       "      <th>385</th>\n",
       "      <td>Monster Hunter 4</td>\n",
       "      <td>3DS</td>\n",
       "      <td>2013</td>\n",
       "      <td>Role-Playing</td>\n",
       "      <td>0.00</td>\n",
       "      <td>0.00</td>\n",
       "      <td>3.44</td>\n",
       "      <td>0.00</td>\n",
       "      <td>NaN</td>\n",
       "      <td>NaN</td>\n",
       "      <td>NaN</td>\n",
       "      <td>3.44</td>\n",
       "    </tr>\n",
       "  </tbody>\n",
       "</table>\n",
       "</div>"
      ],
      "text/plain": [
       "                                          name platform  year_of_release  \\\n",
       "33                         Pokemon X/Pokemon Y      3DS             2013   \n",
       "47   Pokemon Omega Ruby/Pokemon Alpha Sapphire      3DS             2014   \n",
       "62                     New Super Mario Bros. 2      3DS             2012   \n",
       "73                   Animal Crossing: New Leaf      3DS             2012   \n",
       "96         Super Smash Bros. for Wii U and 3DS      3DS             2014   \n",
       "108                           Pokemon Sun/Moon      3DS             2016   \n",
       "184                             Tomodachi Life      3DS             2013   \n",
       "235                 Luigi's Mansion: Dark Moon      3DS             2013   \n",
       "312                  Monster Hunter 4 Ultimate      3DS             2014   \n",
       "385                           Monster Hunter 4      3DS             2013   \n",
       "\n",
       "            genre  na_sales  eu_sales  jp_sales  other_sales  critic_score  \\\n",
       "33   Role-Playing      5.28      4.19      4.35         0.78           NaN   \n",
       "47   Role-Playing      4.35      3.49      3.10         0.74           NaN   \n",
       "62       Platform      3.66      3.14      2.47         0.63         78.00   \n",
       "73     Simulation      2.03      2.36      4.39         0.39         88.00   \n",
       "96       Fighting      3.27      1.37      2.43         0.48           NaN   \n",
       "108  Role-Playing      2.98      1.45      2.26         0.45           NaN   \n",
       "184    Simulation      0.97      2.11      1.90         0.24           NaN   \n",
       "235        Action      1.80      1.39      1.11         0.29         86.00   \n",
       "312  Role-Playing      0.68      0.48      2.62         0.11         86.00   \n",
       "385  Role-Playing      0.00      0.00      3.44         0.00           NaN   \n",
       "\n",
       "     user_score rating  total_sales  \n",
       "33          NaN    NaN        14.60  \n",
       "47          NaN    NaN        11.68  \n",
       "62         7.20      E         9.90  \n",
       "73         8.70      E         9.17  \n",
       "96          NaN    NaN         7.55  \n",
       "108         NaN    NaN         7.14  \n",
       "184         NaN    NaN         5.22  \n",
       "235        8.40      E         4.59  \n",
       "312        8.70      T         3.89  \n",
       "385         NaN    NaN         3.44  "
      ]
     },
     "execution_count": 44,
     "metadata": {},
     "output_type": "execute_result"
    }
   ],
   "source": [
    "df2.query('platform==\"3DS\"').sort_values(by='total_sales', ascending=False).head(10)"
   ]
  },
  {
   "cell_type": "markdown",
   "metadata": {
    "cellId": "3i7qnfcozz3ufx9uuwzmit"
   },
   "source": [
    "### Conclusions:\n",
    "\n",
    "* The number of released games starts to grow from 1990 and peaks in 2008-2009\n",
    "* The market leaders in terms of sales are the series of Sony Playstation, Microsoft Xbox and Nintendo game consoles (different generations of DS, Wii and Gameboy).\n",
    "* Average platform lifetime is 10 years\n",
    "* The current period of the last 5 years was chosen for the analysis\n",
    "* In these 5 years, the most popular platforms were Sony, Microsoft and Nintendo game consoles (in descending order of sales)\n",
    "* Most of the games have sold about half a million copies in 5 years. Games for different consoles are sold about the same, except for Nintendo - sales are slightly lower there.\n",
    "* User reviews have little effect on sales\n",
    "* Critics' ratings correlate with sales\n",
    "* Most __popular__ genres: action, shooter, role-playing and sports\n",
    "\n",
    "## User portrait of each region\n",
    "\n",
    "_Define for the user of each region (NA, EU, JP):_\n",
    "* _Most popular platforms (top 5). Describe differences in sales shares._\n",
    "* _Most popular genres (top 5). Explain the difference._\n",
    "* _Does the ESRB rating affect sales in a particular region?_\n",
    "\n",
    "### Platforms"
   ]
  },
  {
   "cell_type": "code",
   "execution_count": 45,
   "metadata": {
    "cellId": "fhanfqmt946gcskbp1lkpl"
   },
   "outputs": [
    {
     "data": {
      "image/png": "[encoded data removed]",
      "text/plain": [
       "<Figure size 576x360 with 1 Axes>"
      ]
     },
     "metadata": {
      "needs_background": "light"
     },
     "output_type": "display_data"
    },
    {
     "data": {
      "image/png": "[encoded data removed]",
      "text/plain": [
       "<Figure size 576x360 with 1 Axes>"
      ]
     },
     "metadata": {
      "needs_background": "light"
     },
     "output_type": "display_data"
    },
    {
     "data": {
      "image/png": "[encoded data removed]",
      "text/plain": [
       "<Figure size 576x360 with 1 Axes>"
      ]
     },
     "metadata": {
      "needs_background": "light"
     },
     "output_type": "display_data"
    }
   ],
   "source": [
    "df2.groupby('platform')['na_sales'].sum().sort_values(ascending=False).head().plot(\n",
    "    kind='bar', y='total_sales', rot=0, legend=True, fontsize=14,\n",
    "    title='Most popular platforms in Northern America', figsize=(8,5), linewidth=2,\n",
    "    #edgecolor='blue', color='red'\n",
    ")\n",
    "plt.show()\n",
    "\n",
    "df2.groupby('platform')['eu_sales'].sum().sort_values(ascending=False).head().plot(\n",
    "    kind='bar', y='total_sales', rot=0, legend=True, fontsize=14,\n",
    "    title='Most popular platforms in Europe', figsize=(8,5), linewidth=3,\n",
    "    #color='blue', edgecolor='gold'\n",
    ")\n",
    "plt.show()\n",
    "\n",
    "df2.groupby('platform')['jp_sales'].sum().sort_values(ascending=False).head().plot(\n",
    "    kind='bar', y='total_sales', rot=0, legend=True, fontsize=14,\n",
    "    title='Most popular platforms in Japan', figsize=(8,5), linewidth=4,\n",
    "    #color='white', edgecolor='red'\n",
    ")\n",
    "plt.show()"
   ]
  },
  {
   "cell_type": "markdown",
   "metadata": {
    "cellId": "0p611wjz298o8miw1xow85r"
   },
   "source": [
    "In America, the Xbox360 turned out to be the most popular platform, in Europe the PlayStation leads, and in Japan, Japanese consoles are preferred - only Sony and Nintendo are in the top.\n",
    "\n",
    "### Genre"
   ]
  },
  {
   "cell_type": "code",
   "execution_count": 46,
   "metadata": {
    "cellId": "yl5ks4n9g58t2gc6f69sa"
   },
   "outputs": [
    {
     "data": {
      "image/png": "[encoded data removed]",
      "text/plain": [
       "<Figure size 576x360 with 1 Axes>"
      ]
     },
     "metadata": {
      "needs_background": "light"
     },
     "output_type": "display_data"
    },
    {
     "data": {
      "image/png": "[encoded data removed]",
      "text/plain": [
       "<Figure size 576x360 with 1 Axes>"
      ]
     },
     "metadata": {
      "needs_background": "light"
     },
     "output_type": "display_data"
    },
    {
     "data": {
      "image/png": "[encoded data removed]",
      "text/plain": [
       "<Figure size 576x360 with 1 Axes>"
      ]
     },
     "metadata": {
      "needs_background": "light"
     },
     "output_type": "display_data"
    }
   ],
   "source": [
    "df2.groupby('genre')['na_sales'].sum().sort_values(ascending=False).head().plot(\n",
    "    kind='bar', y='total_sales', rot=45, fontsize=14,\n",
    "    title='Most popular genres in Northern America', figsize=(8,5), color='salmon'\n",
    ")\n",
    "plt.show()\n",
    "\n",
    "df2.groupby('genre')['eu_sales'].sum().sort_values(ascending=False).head().plot(\n",
    "    kind='bar', y='total_sales', rot=45, fontsize=14,\n",
    "    title='Most popular genres in Europe', figsize=(8,5), color='salmon'\n",
    ")\n",
    "plt.show()\n",
    "\n",
    "df2.groupby('genre')['jp_sales'].sum().sort_values(ascending=False).head().plot(\n",
    "    kind='bar', y='total_sales', rot=45, fontsize=14,\n",
    "    title='Most popular genres in Japan', figsize=(8,5), color='salmon'\n",
    ")\n",
    "plt.show()"
   ]
  },
  {
   "cell_type": "markdown",
   "metadata": {
    "cellId": "15o79uobjp4vrqn9vqfp0i"
   },
   "source": [
    "If genre preferences in Europe and America practically coincide, then in Japan they prefer role-playing games and action, all other genres are equally popular.\n",
    "\n",
    "### Rating"
   ]
  },
  {
   "cell_type": "code",
   "execution_count": 47,
   "metadata": {
    "cellId": "sspjeowgoexitehfsej9e"
   },
   "outputs": [],
   "source": [
    "df2['rating'] = df2['rating'].fillna('Unknown')"
   ]
  },
  {
   "cell_type": "code",
   "execution_count": 48,
   "metadata": {
    "cellId": "38si6fvf4zobbt6mazzz9g"
   },
   "outputs": [
    {
     "data": {
      "image/png": "[encoded data removed]",
      "text/plain": [
       "<Figure size 576x360 with 1 Axes>"
      ]
     },
     "metadata": {
      "needs_background": "light"
     },
     "output_type": "display_data"
    },
    {
     "data": {
      "image/png": "[encoded data removed]",
      "text/plain": [
       "<Figure size 576x360 with 1 Axes>"
      ]
     },
     "metadata": {
      "needs_background": "light"
     },
     "output_type": "display_data"
    },
    {
     "data": {
      "image/png": "[encoded data removed]",
      "text/plain": [
       "<Figure size 576x360 with 1 Axes>"
      ]
     },
     "metadata": {
      "needs_background": "light"
     },
     "output_type": "display_data"
    }
   ],
   "source": [
    "df2.groupby('rating')['na_sales'].sum().sort_values(ascending=False).plot(\n",
    "    kind='bar', y='total_sales', rot=0, fontsize=14,\n",
    "    title='Ratings in Northern America', figsize=(8,5), color='green'\n",
    ")\n",
    "plt.show()\n",
    "\n",
    "df2.groupby('rating')['eu_sales'].sum().sort_values(ascending=False).plot(\n",
    "    kind='bar', y='total_sales', rot=0, fontsize=14,\n",
    "    title='Ratings in Europe', figsize=(8,5), color='green'\n",
    ")\n",
    "plt.show()\n",
    "\n",
    "df2.groupby('rating')['jp_sales'].sum().sort_values(ascending=False).plot(\n",
    "    kind='bar', y='total_sales', rot=0, fontsize=14,\n",
    "    title='Ratings in Japan', figsize=(8,5), color='green'\n",
    ")\n",
    "plt.show()"
   ]
  },
  {
   "cell_type": "markdown",
   "metadata": {
    "cellId": "2kr92o04hgoey5zdaevzur"
   },
   "source": [
    "The distribution of ratings in Europe and America is the same: games for adults and for any age audience are best sold. In Japan, there are many games whose rating is not known, the rest of the ratings are presented in the same way.\n",
    "\n",
    "Perhaps unrated games are purely Japanese and for the Japanese market, and since the rating is American, they do not fall into it.\n",
    "\n",
    "### Conclusions:\n",
    "\n",
    "* Playstation is the best-selling platform, only in America it is slightly inferior to Xbox\n",
    "* Action and shooters are the most popular genres in America and Europe, RPG and action in Japan\n",
    "* In America and Europe, 17+ games sell best, in Japan - for all age audiences\n",
    "* In general, the Japanese market differs from the markets of America and Europe both in preferences in the choice of platform and in the genre of games.\n",
    "\n",
    "## Hypothesis testing and clarification\n",
    "\n",
    "* _Average user ratings for Xbox One and PC platforms are the same;_\n",
    "* The average user ratings for Action and Sports genres are different._\n",
    "\n",
    "\n",
    "_Set the alpha threshold yourself._\n",
    "\n",
    "_Explain:_\n",
    "* _How did you formulate the null and alternative hypotheses;_\n",
    "* _What criterion was used to test the hypotheses and why._\n",
    "\n",
    "### Hypothesis 1\n",
    "\n",
    "**Average user ratings for Xbox One and PC platforms are the same**\n",
    "\n",
    "I formulate the null and alternative hypotheses.\n",
    "\n",
    "Null Hypothesis: The average user ratings of the Xbox One and PC platforms are the same. Alternative one-sided hypothesis: The average user rating of the Xbox One platform is greater than the average user rating of the PC platform."
   ]
  },
  {
   "cell_type": "code",
   "execution_count": 49,
   "metadata": {
    "cellId": "2ji3avj2zz459cx3xrodq9"
   },
   "outputs": [
    {
     "name": "stdout",
     "output_type": "stream",
     "text": [
      "Average rating XOne:  6.521428571428572 ± 1.377141546212499\n",
      "Average rating PC:  6.428640776699029 ± 1.660420199796021\n"
     ]
    }
   ],
   "source": [
    "print(\"Average rating XOne: \", df2.query('platform==\"XOne\"').user_score.mean(), \"±\", np.std(df2.query('platform==\"XOne\"').user_score))\n",
    "print(\"Average rating PC: \", df2.query('platform==\"PC\"').user_score.mean(), \"±\", np.std(df2.query('platform==\"PC\"').user_score))"
   ]
  },
  {
   "cell_type": "code",
   "execution_count": 50,
   "metadata": {
    "cellId": "r4qrkudopnshzigx4q943"
   },
   "outputs": [
    {
     "name": "stdout",
     "output_type": "stream",
     "text": [
      "Sample size XOne:  182\n",
      "Sample size PC:  206\n"
     ]
    }
   ],
   "source": [
    "print(\"Sample size XOne: \", len(df2.query('platform==\"XOne\"').user_score.dropna()))\n",
    "print(\"Sample size PC: \", len(df2.query('platform==\"PC\"').user_score.dropna()))"
   ]
  },
  {
   "cell_type": "markdown",
   "metadata": {
    "cellId": "ohb6be1mkram3uobctnab"
   },
   "source": [
    "The sample size is small and I can just calculate and see the averages.\n",
    "\n",
    "But this is too easy, because there is a special method for testing the hypothesis that the mean of two populations is equal based on samples taken from them: scipy.stats.ttest_ind!\n",
    "\n",
    "I will take the threshold value alpha = 5%. The samples are about the same and the variance is about the same."
   ]
  },
  {
   "cell_type": "code",
   "execution_count": 51,
   "metadata": {
    "cellId": "vud40toex0ow4kum7puy37"
   },
   "outputs": [
    {
     "name": "stdout",
     "output_type": "stream",
     "text": [
      "p-value:  0.5535080500643661\n",
      "Failed to reject\n"
     ]
    }
   ],
   "source": [
    "#null hypothesis\n",
    "alpha = .05 # significance level\n",
    "# if p-value is less than it, we reject the hypothesis\n",
    "results = st.ttest_ind(df2.query('platform==\"XOne\"').user_score.dropna(), df2.query(\n",
    "    'platform==\"PC\"').user_score.dropna())\n",
    "\n",
    "print('p-value: ', results.pvalue)\n",
    "\n",
    "if results.pvalue < alpha:\n",
    "    print(\"Rejecting the null hypothesis\")\n",
    "else:\n",
    "    print(\"Failed to reject\")"
   ]
  },
  {
   "cell_type": "markdown",
   "metadata": {
    "cellId": "78hvfmpz7xxx7xaw29mokq"
   },
   "source": [
    "Ratings are the same\n",
    "\n",
    "### Hypothesis 2\n",
    "\n",
    "**Average user ratings for Action and Sports are different.**\n",
    "\n",
    "Null hypothesis: the ratings of the Action and Sports genres are the same. Alternative hypothesis: the ratings are different."
   ]
  },
  {
   "cell_type": "code",
   "execution_count": 52,
   "metadata": {
    "cellId": "c7apdgjexchz1digljle9g"
   },
   "outputs": [
    {
     "name": "stdout",
     "output_type": "stream",
     "text": [
      "Average rating Action:  6.825047801147227 ± 1.373124915673706\n",
      "Average rating Sports:  5.455897435897437 ± 1.7341823137066392\n"
     ]
    }
   ],
   "source": [
    "print(\"Average rating Action: \", df2.query('genre==\"Action\"').user_score.mean(), \"±\", np.std(\n",
    "    df2.query('genre==\"Action\"').user_score))\n",
    "\n",
    "print(\"Average rating Sports: \", df2.query('genre==\"Sports\"').user_score.mean(), \"±\", np.std(\n",
    "    df2.query('genre==\"Sports\"').user_score))"
   ]
  },
  {
   "cell_type": "code",
   "execution_count": 53,
   "metadata": {
    "cellId": "w2snq46zw2wz4miktqyu"
   },
   "outputs": [
    {
     "name": "stdout",
     "output_type": "stream",
     "text": [
      "Sample size Action:  523\n",
      "Sample size Sports:  195\n"
     ]
    }
   ],
   "source": [
    "print(\"Sample size Action: \", len(df2.query('genre==\"Action\"').user_score.dropna()))\n",
    "print(\"Sample size Sports: \", len(df2.query('genre==\"Sports\"').user_score.dropna()))"
   ]
  },
  {
   "cell_type": "code",
   "execution_count": 54,
   "metadata": {
    "cellId": "f9elabqp578wqcve2b82ah"
   },
   "outputs": [
    {
     "name": "stdout",
     "output_type": "stream",
     "text": [
      "p-value:  4.24307776572644e-20\n",
      "Rejecting the null hypothesis\n"
     ]
    }
   ],
   "source": [
    "alpha = .05\n",
    "results = st.ttest_ind(df2.query('genre==\"Action\"').user_score.dropna(), df2.query(\n",
    "    'genre==\"Sports\"').user_score.dropna(), equal_var = False)\n",
    "\n",
    "print('p-value: ', results.pvalue)\n",
    "\n",
    "if results.pvalue < alpha:\n",
    "    print(\"Rejecting the null hypothesis\")\n",
    "else:\n",
    "    print(\"Failed to reject\")"
   ]
  },
  {
   "cell_type": "markdown",
   "metadata": {
    "cellId": "s7ltubge2xy5nzzzan71"
   },
   "source": [
    "Ratings are different\n",
    "\n",
    "### Conclusions:\n",
    "* average user ratings for Xbox One and PC platforms are the same\n",
    "* average user ratings for Action and Sports genres are different\n",
    "\n",
    "## General conclusion\n",
    "\n",
    "* We analyzed game sales for different years and selected the current period equal to the last 5 years\n",
    "* During this period, the most popular platforms were Sony, Microsoft and Nintendo consoles\n",
    "* Consoles of the latest generations of the same manufacturers are promising. Even though sales of the Nintendo 3DS dropped in 2016, Nintendo remains the third best selling platform and has its own fans (the new Nintendo Switch came out in 2017 and was slightly out of the sample).\n",
    "* Action games, shooters, role-playing and sports games are the most popular\n",
    "* A portrait of the user of each region was compiled: preferences in America and Europe are approximately the same, while Japan has its own specifics\n",
    "* Tested hypotheses about differences in user ratings\n",
    "* In America, Xbox outsold Playstation despite Sony leading in Europe and Japan.\n",
    "* The most popular genres are action and shooter, except for Japan, where role-playing games are preferred to shooters.\n",
    "*Most often buy games with a rating of 17+. There is no exact ranking data for Japan."
   ]
  }
 ],
 "metadata": {
  "ExecuteTimeLog": [
   {
    "duration": 1204,
    "start_time": "2022-02-03T10:52:47.114Z"
   },
   {
    "duration": 4,
    "start_time": "2022-02-03T10:52:48.320Z"
   },
   {
    "duration": 251,
    "start_time": "2022-02-03T10:52:48.327Z"
   },
   {
    "duration": 23,
    "start_time": "2022-02-03T10:52:48.580Z"
   },
   {
    "duration": 29,
    "start_time": "2022-02-03T10:52:48.604Z"
   },
   {
    "duration": 16,
    "start_time": "2022-02-03T10:52:48.634Z"
   },
   {
    "duration": 18,
    "start_time": "2022-02-03T10:52:48.652Z"
   },
   {
    "duration": 17,
    "start_time": "2022-02-03T10:52:48.671Z"
   },
   {
    "duration": 24,
    "start_time": "2022-02-03T10:52:48.690Z"
   },
   {
    "duration": 68,
    "start_time": "2022-02-03T10:52:48.717Z"
   },
   {
    "duration": 19,
    "start_time": "2022-02-03T10:52:48.787Z"
   },
   {
    "duration": 21,
    "start_time": "2022-02-03T10:52:48.808Z"
   },
   {
    "duration": 5,
    "start_time": "2022-02-03T10:52:48.831Z"
   },
   {
    "duration": 17,
    "start_time": "2022-02-03T10:52:48.837Z"
   },
   {
    "duration": 18,
    "start_time": "2022-02-03T10:52:48.856Z"
   },
   {
    "duration": 19,
    "start_time": "2022-02-03T10:52:48.876Z"
   },
   {
    "duration": 15,
    "start_time": "2022-02-03T10:52:48.897Z"
   },
   {
    "duration": 12,
    "start_time": "2022-02-03T10:52:48.914Z"
   },
   {
    "duration": 8,
    "start_time": "2022-02-03T10:52:48.928Z"
   },
   {
    "duration": 13,
    "start_time": "2022-02-03T10:52:48.937Z"
   },
   {
    "duration": 17,
    "start_time": "2022-02-03T10:52:48.952Z"
   },
   {
    "duration": 22,
    "start_time": "2022-02-03T10:52:48.971Z"
   },
   {
    "duration": 273,
    "start_time": "2022-02-03T10:52:48.994Z"
   },
   {
    "duration": 433,
    "start_time": "2022-02-03T10:52:49.268Z"
   },
   {
    "duration": 16,
    "start_time": "2022-02-03T10:52:49.703Z"
   },
   {
    "duration": 5,
    "start_time": "2022-02-03T10:52:49.721Z"
   },
   {
    "duration": 21,
    "start_time": "2022-02-03T10:52:49.730Z"
   },
   {
    "duration": 5,
    "start_time": "2022-02-03T10:52:49.753Z"
   },
   {
    "duration": 1304,
    "start_time": "2022-02-03T10:52:49.760Z"
   },
   {
    "duration": 4,
    "start_time": "2022-02-03T10:52:51.066Z"
   },
   {
    "duration": 322,
    "start_time": "2022-02-03T10:52:51.072Z"
   },
   {
    "duration": 7,
    "start_time": "2022-02-03T10:52:51.397Z"
   },
   {
    "duration": 28,
    "start_time": "2022-02-03T10:52:51.406Z"
   },
   {
    "duration": 314,
    "start_time": "2022-02-03T10:52:51.436Z"
   },
   {
    "duration": 9,
    "start_time": "2022-02-03T10:52:51.752Z"
   },
   {
    "duration": 1111,
    "start_time": "2022-02-03T10:52:51.763Z"
   },
   {
    "duration": 433,
    "start_time": "2022-02-03T10:52:52.877Z"
   },
   {
    "duration": 293,
    "start_time": "2022-02-03T10:52:53.312Z"
   },
   {
    "duration": 11,
    "start_time": "2022-02-03T10:52:53.607Z"
   },
   {
    "duration": 1664,
    "start_time": "2022-02-03T10:52:53.620Z"
   },
   {
    "duration": 422,
    "start_time": "2022-02-03T10:52:55.286Z"
   },
   {
    "duration": 28,
    "start_time": "2022-02-03T10:52:55.709Z"
   },
   {
    "duration": 15,
    "start_time": "2022-02-03T10:52:55.739Z"
   },
   {
    "duration": 585,
    "start_time": "2022-02-03T10:52:55.756Z"
   },
   {
    "duration": 587,
    "start_time": "2022-02-03T10:52:56.342Z"
   },
   {
    "duration": 4,
    "start_time": "2022-02-03T10:52:56.931Z"
   },
   {
    "duration": 512,
    "start_time": "2022-02-03T10:52:56.937Z"
   },
   {
    "duration": 15,
    "start_time": "2022-02-03T10:52:57.450Z"
   },
   {
    "duration": 11,
    "start_time": "2022-02-03T10:52:57.468Z"
   },
   {
    "duration": 45,
    "start_time": "2022-02-03T10:52:57.481Z"
   },
   {
    "duration": 16,
    "start_time": "2022-02-03T10:52:57.528Z"
   },
   {
    "duration": 10,
    "start_time": "2022-02-03T10:52:57.546Z"
   },
   {
    "duration": 12,
    "start_time": "2022-02-03T10:52:57.557Z"
   },
   {
    "duration": 3,
    "start_time": "2022-02-03T10:53:04.308Z"
   },
   {
    "duration": 10,
    "start_time": "2022-02-03T10:53:04.313Z"
   },
   {
    "duration": 259,
    "start_time": "2022-02-03T10:53:04.325Z"
   },
   {
    "duration": 21,
    "start_time": "2022-02-03T10:53:04.586Z"
   },
   {
    "duration": 26,
    "start_time": "2022-02-03T10:53:04.608Z"
   },
   {
    "duration": 15,
    "start_time": "2022-02-03T10:53:04.636Z"
   },
   {
    "duration": 9,
    "start_time": "2022-02-03T10:53:04.652Z"
   },
   {
    "duration": 8,
    "start_time": "2022-02-03T10:53:04.663Z"
   },
   {
    "duration": 6,
    "start_time": "2022-02-03T10:53:04.675Z"
   },
   {
    "duration": 47,
    "start_time": "2022-02-03T10:53:04.683Z"
   },
   {
    "duration": 13,
    "start_time": "2022-02-03T10:53:04.732Z"
   },
   {
    "duration": 15,
    "start_time": "2022-02-03T10:53:04.747Z"
   },
   {
    "duration": 8,
    "start_time": "2022-02-03T10:53:04.763Z"
   },
   {
    "duration": 9,
    "start_time": "2022-02-03T10:53:04.772Z"
   },
   {
    "duration": 12,
    "start_time": "2022-02-03T10:53:04.782Z"
   },
   {
    "duration": 5,
    "start_time": "2022-02-03T10:53:04.819Z"
   },
   {
    "duration": 12,
    "start_time": "2022-02-03T10:53:04.826Z"
   },
   {
    "duration": 8,
    "start_time": "2022-02-03T10:53:04.840Z"
   },
   {
    "duration": 8,
    "start_time": "2022-02-03T10:53:04.850Z"
   },
   {
    "duration": 8,
    "start_time": "2022-02-03T10:53:04.859Z"
   },
   {
    "duration": 11,
    "start_time": "2022-02-03T10:53:04.869Z"
   },
   {
    "duration": 15,
    "start_time": "2022-02-03T10:53:04.882Z"
   },
   {
    "duration": 291,
    "start_time": "2022-02-03T10:53:04.899Z"
   },
   {
    "duration": 397,
    "start_time": "2022-02-03T10:53:05.192Z"
   },
   {
    "duration": 8,
    "start_time": "2022-02-03T10:53:05.591Z"
   },
   {
    "duration": 18,
    "start_time": "2022-02-03T10:53:05.601Z"
   },
   {
    "duration": 17,
    "start_time": "2022-02-03T10:53:05.624Z"
   },
   {
    "duration": 4,
    "start_time": "2022-02-03T10:53:05.643Z"
   },
   {
    "duration": 1343,
    "start_time": "2022-02-03T10:53:05.649Z"
   },
   {
    "duration": 4,
    "start_time": "2022-02-03T10:53:06.994Z"
   },
   {
    "duration": 271,
    "start_time": "2022-02-03T10:53:07.000Z"
   },
   {
    "duration": 6,
    "start_time": "2022-02-03T10:53:07.273Z"
   },
   {
    "duration": 22,
    "start_time": "2022-02-03T10:53:07.281Z"
   },
   {
    "duration": 300,
    "start_time": "2022-02-03T10:53:07.305Z"
   },
   {
    "duration": 16,
    "start_time": "2022-02-03T10:53:07.606Z"
   },
   {
    "duration": 1096,
    "start_time": "2022-02-03T10:53:07.624Z"
   },
   {
    "duration": 422,
    "start_time": "2022-02-03T10:53:08.722Z"
   },
   {
    "duration": 393,
    "start_time": "2022-02-03T10:53:09.146Z"
   },
   {
    "duration": 3,
    "start_time": "2022-02-03T10:53:09.541Z"
   },
   {
    "duration": 1630,
    "start_time": "2022-02-03T10:53:09.546Z"
   },
   {
    "duration": 287,
    "start_time": "2022-02-03T10:53:11.177Z"
   },
   {
    "duration": 24,
    "start_time": "2022-02-03T10:53:11.466Z"
   },
   {
    "duration": 36,
    "start_time": "2022-02-03T10:53:11.492Z"
   },
   {
    "duration": 541,
    "start_time": "2022-02-03T10:53:11.531Z"
   },
   {
    "duration": 532,
    "start_time": "2022-02-03T10:53:12.074Z"
   },
   {
    "duration": 10,
    "start_time": "2022-02-03T10:53:12.608Z"
   },
   {
    "duration": 605,
    "start_time": "2022-02-03T10:53:12.620Z"
   },
   {
    "duration": 13,
    "start_time": "2022-02-03T10:53:13.227Z"
   },
   {
    "duration": 11,
    "start_time": "2022-02-03T10:53:13.242Z"
   },
   {
    "duration": 10,
    "start_time": "2022-02-03T10:53:13.255Z"
   },
   {
    "duration": 17,
    "start_time": "2022-02-03T10:53:13.267Z"
   },
   {
    "duration": 39,
    "start_time": "2022-02-03T10:53:13.286Z"
   },
   {
    "duration": 10,
    "start_time": "2022-02-03T10:53:13.327Z"
   },
   {
    "duration": 5,
    "start_time": "2022-02-04T09:05:54.341Z"
   },
   {
    "duration": 1480,
    "start_time": "2022-02-04T09:05:54.349Z"
   },
   {
    "duration": 4,
    "start_time": "2022-02-04T09:05:55.831Z"
   },
   {
    "duration": 295,
    "start_time": "2022-02-04T09:05:55.837Z"
   },
   {
    "duration": 46,
    "start_time": "2022-02-04T09:05:56.135Z"
   },
   {
    "duration": 72,
    "start_time": "2022-02-04T09:05:56.184Z"
   },
   {
    "duration": 32,
    "start_time": "2022-02-04T09:05:56.259Z"
   },
   {
    "duration": 38,
    "start_time": "2022-02-04T09:05:56.296Z"
   },
   {
    "duration": 17,
    "start_time": "2022-02-04T09:05:56.339Z"
   },
   {
    "duration": 10,
    "start_time": "2022-02-04T09:05:56.359Z"
   },
   {
    "duration": 21,
    "start_time": "2022-02-04T09:05:56.371Z"
   },
   {
    "duration": 15,
    "start_time": "2022-02-04T09:05:56.422Z"
   },
   {
    "duration": 20,
    "start_time": "2022-02-04T09:05:56.439Z"
   },
   {
    "duration": 7,
    "start_time": "2022-02-04T09:05:56.461Z"
   },
   {
    "duration": 10,
    "start_time": "2022-02-04T09:05:56.470Z"
   },
   {
    "duration": 42,
    "start_time": "2022-02-04T09:05:56.483Z"
   },
   {
    "duration": 10,
    "start_time": "2022-02-04T09:05:56.528Z"
   },
   {
    "duration": 12,
    "start_time": "2022-02-04T09:05:56.541Z"
   },
   {
    "duration": 6,
    "start_time": "2022-02-04T09:05:56.555Z"
   },
   {
    "duration": 11,
    "start_time": "2022-02-04T09:05:56.563Z"
   },
   {
    "duration": 50,
    "start_time": "2022-02-04T09:05:56.576Z"
   },
   {
    "duration": 11,
    "start_time": "2022-02-04T09:05:56.629Z"
   },
   {
    "duration": 17,
    "start_time": "2022-02-04T09:05:56.645Z"
   },
   {
    "duration": 431,
    "start_time": "2022-02-04T09:05:56.665Z"
   },
   {
    "duration": 625,
    "start_time": "2022-02-04T09:05:57.098Z"
   },
   {
    "duration": 11,
    "start_time": "2022-02-04T09:05:57.725Z"
   },
   {
    "duration": 7,
    "start_time": "2022-02-04T09:05:57.738Z"
   },
   {
    "duration": 27,
    "start_time": "2022-02-04T09:05:57.748Z"
   },
   {
    "duration": 46,
    "start_time": "2022-02-04T09:05:57.777Z"
   },
   {
    "duration": 1909,
    "start_time": "2022-02-04T09:05:57.825Z"
   },
   {
    "duration": 6,
    "start_time": "2022-02-04T09:05:59.736Z"
   },
   {
    "duration": 436,
    "start_time": "2022-02-04T09:05:59.745Z"
   },
   {
    "duration": 9,
    "start_time": "2022-02-04T09:06:00.184Z"
   },
   {
    "duration": 51,
    "start_time": "2022-02-04T09:06:00.195Z"
   },
   {
    "duration": 449,
    "start_time": "2022-02-04T09:06:00.248Z"
   },
   {
    "duration": 25,
    "start_time": "2022-02-04T09:06:00.699Z"
   },
   {
    "duration": 1678,
    "start_time": "2022-02-04T09:06:00.726Z"
   },
   {
    "duration": 31,
    "start_time": "2022-02-04T09:06:48.167Z"
   },
   {
    "duration": 16,
    "start_time": "2022-02-04T09:33:08.105Z"
   },
   {
    "duration": 14,
    "start_time": "2022-02-04T09:33:14.196Z"
   }
  ],
  "kernelspec": {
   "display_name": "Python 3 (ipykernel)",
   "language": "python",
   "name": "python3"
  },
  "language_info": {
   "codemirror_mode": {
    "name": "ipython",
    "version": 3
   },
   "file_extension": ".py",
   "mimetype": "text/x-python",
   "name": "python",
   "nbconvert_exporter": "python",
   "pygments_lexer": "ipython3",
   "version": "3.9.12"
  },
  "notebookId": "569eae0e-5cbd-4a12-a934-e960938b908e",
  "notebookPath": "p5_after_review.ipynb",
  "toc": {
   "base_numbering": 1,
   "nav_menu": {},
   "number_sections": true,
   "sideBar": true,
   "skip_h1_title": true,
   "title_cell": "Table of Contents",
   "title_sidebar": "Contents",
   "toc_cell": false,
   "toc_position": {
    "height": "calc(100% - 180px)",
    "left": "10px",
    "top": "150px",
    "width": "246px"
   },
   "toc_section_display": true,
   "toc_window_display": true
  }
 },
 "nbformat": 4,
 "nbformat_minor": 4
}
