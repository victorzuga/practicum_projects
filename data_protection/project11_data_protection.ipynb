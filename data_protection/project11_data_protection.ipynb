{
 "cells": [
  {
   "cell_type": "markdown",
   "metadata": {
    "cellId": "7vrbmyu4x03fuzeeq3d96c"
   },
   "source": [
    "# Protection of personal data of customers\n",
    "\n",
    "You need to protect the data of customers of the insurance company \"Though the Flood\". Develop a data transformation method that makes it difficult to recover personal information from it. Justify the correctness of his work.\n",
    "\n",
    "You need to protect the data so that the quality of the machine learning models does not deteriorate during the transformation. There is no need to select the best model.\n",
    "\n",
    "## Loading data"
   ]
  },
  {
   "cell_type": "code",
   "execution_count": 1,
   "metadata": {
    "cellId": "1h40e84w8ndf4ln1jnjdoo"
   },
   "outputs": [],
   "source": [
    "import pandas as pd\n",
    "import numpy as np\n",
    "\n",
    "from sklearn.linear_model import LinearRegression\n",
    "from sklearn.model_selection import train_test_split\n",
    "from sklearn.pipeline import make_pipeline\n",
    "from sklearn.metrics import r2_score\n",
    "from sklearn.preprocessing import StandardScaler\n",
    "\n",
    "import warnings\n",
    "warnings.filterwarnings('ignore')"
   ]
  },
  {
   "cell_type": "code",
   "execution_count": 2,
   "metadata": {
    "cellId": "3xlpsl93666gqgp6355l7n"
   },
   "outputs": [],
   "source": [
    "path ='/Users/vzuga/Documents/jupyter/'\n",
    "\n",
    "try:\n",
    "    df = pd.read_csv('insurance.csv') \n",
    "except:\n",
    "    df = pd.read_csv(path+'/datasets/insurance.csv')"
   ]
  },
  {
   "cell_type": "code",
   "execution_count": 3,
   "metadata": {
    "cellId": "pln4uuotxcdvjjvh06lku"
   },
   "outputs": [],
   "source": [
    "def data_check(data):\n",
    "    data.info()\n",
    "    print()\n",
    "    display(data.head())\n",
    "    print()\n",
    "    print('Duplicates:', data.duplicated().sum())\n",
    "    print()\n",
    "    print('Missing values')\n",
    "    print(data.isna().mean())   \n",
    "    print()\n",
    "    print('Statistics')\n",
    "    print(data.describe())"
   ]
  },
  {
   "cell_type": "code",
   "execution_count": 4,
   "metadata": {
    "cellId": "tlyq3xk5oeea9tm1x45uhk"
   },
   "outputs": [
    {
     "name": "stdout",
     "output_type": "stream",
     "text": [
      "<class 'pandas.core.frame.DataFrame'>\n",
      "RangeIndex: 5000 entries, 0 to 4999\n",
      "Data columns (total 5 columns):\n",
      " #   Column             Non-Null Count  Dtype  \n",
      "---  ------             --------------  -----  \n",
      " 0   Пол                5000 non-null   int64  \n",
      " 1   Возраст            5000 non-null   float64\n",
      " 2   Зарплата           5000 non-null   float64\n",
      " 3   Члены семьи        5000 non-null   int64  \n",
      " 4   Страховые выплаты  5000 non-null   int64  \n",
      "dtypes: float64(2), int64(3)\n",
      "memory usage: 195.4 KB\n",
      "\n"
     ]
    },
    {
     "data": {
      "text/html": [
       "<div>\n",
       "<style scoped>\n",
       "    .dataframe tbody tr th:only-of-type {\n",
       "        vertical-align: middle;\n",
       "    }\n",
       "\n",
       "    .dataframe tbody tr th {\n",
       "        vertical-align: top;\n",
       "    }\n",
       "\n",
       "    .dataframe thead th {\n",
       "        text-align: right;\n",
       "    }\n",
       "</style>\n",
       "<table border=\"1\" class=\"dataframe\">\n",
       "  <thead>\n",
       "    <tr style=\"text-align: right;\">\n",
       "      <th></th>\n",
       "      <th>Пол</th>\n",
       "      <th>Возраст</th>\n",
       "      <th>Зарплата</th>\n",
       "      <th>Члены семьи</th>\n",
       "      <th>Страховые выплаты</th>\n",
       "    </tr>\n",
       "  </thead>\n",
       "  <tbody>\n",
       "    <tr>\n",
       "      <th>0</th>\n",
       "      <td>1</td>\n",
       "      <td>41.0</td>\n",
       "      <td>49600.0</td>\n",
       "      <td>1</td>\n",
       "      <td>0</td>\n",
       "    </tr>\n",
       "    <tr>\n",
       "      <th>1</th>\n",
       "      <td>0</td>\n",
       "      <td>46.0</td>\n",
       "      <td>38000.0</td>\n",
       "      <td>1</td>\n",
       "      <td>1</td>\n",
       "    </tr>\n",
       "    <tr>\n",
       "      <th>2</th>\n",
       "      <td>0</td>\n",
       "      <td>29.0</td>\n",
       "      <td>21000.0</td>\n",
       "      <td>0</td>\n",
       "      <td>0</td>\n",
       "    </tr>\n",
       "    <tr>\n",
       "      <th>3</th>\n",
       "      <td>0</td>\n",
       "      <td>21.0</td>\n",
       "      <td>41700.0</td>\n",
       "      <td>2</td>\n",
       "      <td>0</td>\n",
       "    </tr>\n",
       "    <tr>\n",
       "      <th>4</th>\n",
       "      <td>1</td>\n",
       "      <td>28.0</td>\n",
       "      <td>26100.0</td>\n",
       "      <td>0</td>\n",
       "      <td>0</td>\n",
       "    </tr>\n",
       "  </tbody>\n",
       "</table>\n",
       "</div>"
      ],
      "text/plain": [
       "   Пол  Возраст  Зарплата  Члены семьи  Страховые выплаты\n",
       "0    1     41.0   49600.0            1                  0\n",
       "1    0     46.0   38000.0            1                  1\n",
       "2    0     29.0   21000.0            0                  0\n",
       "3    0     21.0   41700.0            2                  0\n",
       "4    1     28.0   26100.0            0                  0"
      ]
     },
     "metadata": {},
     "output_type": "display_data"
    },
    {
     "name": "stdout",
     "output_type": "stream",
     "text": [
      "\n",
      "Duplicates: 153\n",
      "\n",
      "Missing values\n",
      "Пол                  0.0\n",
      "Возраст              0.0\n",
      "Зарплата             0.0\n",
      "Члены семьи          0.0\n",
      "Страховые выплаты    0.0\n",
      "dtype: float64\n",
      "\n",
      "Statistics\n",
      "               Пол      Возраст      Зарплата  Члены семьи  Страховые выплаты\n",
      "count  5000.000000  5000.000000   5000.000000  5000.000000        5000.000000\n",
      "mean      0.499000    30.952800  39916.360000     1.194200           0.148000\n",
      "std       0.500049     8.440807   9900.083569     1.091387           0.463183\n",
      "min       0.000000    18.000000   5300.000000     0.000000           0.000000\n",
      "25%       0.000000    24.000000  33300.000000     0.000000           0.000000\n",
      "50%       0.000000    30.000000  40200.000000     1.000000           0.000000\n",
      "75%       1.000000    37.000000  46600.000000     2.000000           0.000000\n",
      "max       1.000000    65.000000  79000.000000     6.000000           5.000000\n"
     ]
    }
   ],
   "source": [
    "data_check(df)"
   ]
  },
  {
   "cell_type": "markdown",
   "metadata": {},
   "source": [
    "### Conclusions:\n",
    "* there are no gaps in the data\n",
    "* features are numerical\n",
    "* data types and values are fine\n",
    "* for this project, the presence of a small number of duplicates is not a problem\n",
    "* I won't rename columns either\n",
    "\n",
    "## Matrix multiplication\n",
    "\n",
    "Designations:\n",
    "\n",
    "- $X$ - feature matrix (zero column consists of ones)\n",
    "\n",
    "- $y$ — target feature vector\n",
    "\n",
    "- $P$ is the matrix by which features are multiplied\n",
    "\n",
    "- $w$ — vector of linear regression weights (zero element equals shift)\n",
    "\n",
    "Predictions:\n",
    "\n",
    "$$\n",
    "a = Xw\n",
    "$$\n",
    "\n",
    "Machine learning objective:\n",
    "\n",
    "$$\n",
    "w = \\arg\\min_w MSE(Xw, y)\n",
    "$$\n",
    "\n",
    "Learning formula:\n",
    "\n",
    "$$\n",
    "w = (X^T X)^{-1} X^T y\n",
    "$$\n",
    "\n",
    "To protect personal data, we multiply the feature matrix $X$ by a random matrix $P$.\n",
    "\n",
    "Let's use the properties of matrices:\n",
    "- $(AB)^T = B^TA^T$\n",
    "- $(AB)C = A(BC)$\n",
    "- $AA^{-1} = E$\n",
    "- $(AB)^{-1} = B^{-1}A^{-1}$,\n",
    "\n",
    "where the last two properties are valid only for invertible matrices. Let's replace $X$ with $X'$ in the linear regression learning formula $w$, where $X' = XP$. Then the new learning formula will look like:\n",
    "\n",
    "$$\n",
    "w' = (X'^T X')^{-1} X'^T y\n",
    "$$\n",
    "given $X' = XP$:\n",
    "\n",
    "$$\n",
    "w' = ((XP)^T XP)^{-1}(XP)^T y = (P^T X^T XP)^{-1}P^T X^T y,\n",
    "$$\n",
    "\n",
    "Substitute $w'$ into the predictions:\n",
    "$$\n",
    "a' = X'w' = XP [(P^T) (X^T X)P]^{-1}P^T X^T y = X [P P^{-1}](X^T X)^{ -1} [(P^T)^{-1} P^T] X^T y = Xw = a\n",
    "$$\n",
    "\n",
    "Thus multiplying the feature matrix by any reversible matrix, the predictions of the model will not change.\n",
    "\n",
    "## Conversion algorithm\n",
    "\n",
    "**Algorithm**\n",
    "\n",
    "Multiply the NxM feature matrix by the MxM reversible square matrix generated with numpy.random.normal.\n",
    "\n",
    "**Rationale**\n",
    "\n",
    "Above, I proved that the predictions of linear regression when multiplying a feature matrix by an invertible matrix will not change.\n",
    "\n",
    "I will write a function that will multiply the features by an invertible matrix."
   ]
  },
  {
   "cell_type": "code",
   "execution_count": 5,
   "metadata": {
    "cellId": "1hm1psdf7horr5hsemm4kf"
   },
   "outputs": [],
   "source": [
    "def protection(features):\n",
    "    \n",
    "    M = features.shape[1] #matrix dimension P\n",
    "    P = np.random.normal(size=(M,M)) #creating matrix\n",
    "    \n",
    "    while (np.linalg.det(P)==0):  #matrix determinant check\n",
    "        P = np.random.normal(size=(M,M))\n",
    "    \n",
    "    return np.dot(features, P)"
   ]
  },
  {
   "cell_type": "code",
   "execution_count": 6,
   "metadata": {
    "cellId": "xt05z1966ih7ngz18hddvj"
   },
   "outputs": [
    {
     "data": {
      "text/plain": [
       "array([[ 13.61692576],\n",
       "       [147.97119311],\n",
       "       [ 13.96132585]])"
      ]
     },
     "execution_count": 6,
     "metadata": {},
     "output_type": "execute_result"
    }
   ],
   "source": [
    "#function check\n",
    "test_features = np.random.normal(size=(3,1), scale=100)\n",
    "test_features"
   ]
  },
  {
   "cell_type": "code",
   "execution_count": 7,
   "metadata": {
    "cellId": "j9o8bci08pmljad73bxob"
   },
   "outputs": [
    {
     "data": {
      "text/plain": [
       "array([[ -20.9200274 ],\n",
       "       [-227.33188591],\n",
       "       [ -21.44913796]])"
      ]
     },
     "execution_count": 7,
     "metadata": {},
     "output_type": "execute_result"
    }
   ],
   "source": [
    "test_features_protected = protection(test_features)\n",
    "test_features_protected"
   ]
  },
  {
   "cell_type": "markdown",
   "metadata": {
    "cellId": "461z26nn4klp8btxu1yq5"
   },
   "source": [
    "## Algorithm check\n",
    "\n",
    "I will extract the features and the target, and also transform the features:"
   ]
  },
  {
   "cell_type": "code",
   "execution_count": 8,
   "metadata": {
    "cellId": "svet1dmwuxa4k5shplhent"
   },
   "outputs": [],
   "source": [
    "features = df.drop(['Страховые выплаты'], axis=1)\n",
    "target = df['Страховые выплаты']\n",
    "\n",
    "features_protected = protection(features)"
   ]
  },
  {
   "cell_type": "markdown",
   "metadata": {
    "cellId": "6yo19hn0hekctg3bxfhx8"
   },
   "source": [
    "I will split the samples into training and test:"
   ]
  },
  {
   "cell_type": "code",
   "execution_count": 9,
   "metadata": {
    "cellId": "66vmaubr7hvolgb0uivah"
   },
   "outputs": [],
   "source": [
    "features_train, features_test, target_train, target_test, \\\n",
    "features_train_protected, features_test_protected = train_test_split(\n",
    "    features, target, features_protected, test_size=.25, random_state=12345)"
   ]
  },
  {
   "cell_type": "markdown",
   "metadata": {
    "cellId": "zbsaur65hybu34us8i7pe"
   },
   "source": [
    "I will check the quality of model with and without protection:"
   ]
  },
  {
   "cell_type": "code",
   "execution_count": 10,
   "metadata": {
    "cellId": "gbrgxp52zx69vun2kjbqlo"
   },
   "outputs": [
    {
     "name": "stdout",
     "output_type": "stream",
     "text": [
      "The R2 value for the original data:\n",
      "0.435228\n"
     ]
    }
   ],
   "source": [
    "#features without protection\n",
    "model = make_pipeline(StandardScaler(), LinearRegression())\n",
    "model.fit(features_train, target_train)\n",
    "\n",
    "print('The R2 value for the original data:')\n",
    "print(f'{r2_score(target_test, model.predict(features_test)):.6f}')"
   ]
  },
  {
   "cell_type": "code",
   "execution_count": 11,
   "metadata": {
    "cellId": "cz900diqqkcvay5jag7ey"
   },
   "outputs": [
    {
     "name": "stdout",
     "output_type": "stream",
     "text": [
      "The R2 value for the transformed data:\n",
      "0.435228\n"
     ]
    }
   ],
   "source": [
    "#features with protection\n",
    "model = make_pipeline(StandardScaler(), LinearRegression())\n",
    "model.fit(features_train_protected, target_train)\n",
    "\n",
    "print('The R2 value for the transformed data:')\n",
    "print(f'{r2_score(target_test, model.predict(features_test_protected)):.6f}')"
   ]
  },
  {
   "cell_type": "markdown",
   "metadata": {
    "cellId": "f4jhqqjwv3o2q1gaqwbbvi"
   },
   "source": [
    "R2 values ​​match!\n",
    "\n",
    "### General conclusion:\n",
    "\n",
    "* prediction of the model does not change when features are multiplied by an invertible matrix\n",
    "* a data transformation algorithm is proposed, which consists in multiplying features by a randomly generated invertible square matrix\n",
    "* as a result of applying the transformation algorithm, the quality of the linear regression has not changed"
   ]
  }
 ],
 "metadata": {
  "ExecuteTimeLog": [
   {
    "duration": 4,
    "start_time": "2022-04-14T08:20:23.626Z"
   },
   {
    "duration": 1671,
    "start_time": "2022-04-14T08:20:23.632Z"
   },
   {
    "duration": 157,
    "start_time": "2022-04-14T08:20:25.305Z"
   },
   {
    "duration": 4,
    "start_time": "2022-04-14T08:20:25.463Z"
   },
   {
    "duration": 57,
    "start_time": "2022-04-14T08:20:25.469Z"
   },
   {
    "duration": 4,
    "start_time": "2022-04-14T08:20:25.528Z"
   },
   {
    "duration": 28,
    "start_time": "2022-04-14T08:20:25.534Z"
   },
   {
    "duration": 31,
    "start_time": "2022-04-14T08:20:25.564Z"
   },
   {
    "duration": 7,
    "start_time": "2022-04-14T08:20:25.597Z"
   },
   {
    "duration": 7,
    "start_time": "2022-04-14T08:20:30.549Z"
   },
   {
    "duration": 4,
    "start_time": "2022-04-14T08:21:16.402Z"
   },
   {
    "duration": 100,
    "start_time": "2022-04-14T08:38:46.203Z"
   },
   {
    "duration": 88,
    "start_time": "2022-04-14T08:38:49.114Z"
   },
   {
    "duration": 81,
    "start_time": "2022-04-14T08:38:54.067Z"
   },
   {
    "duration": 82,
    "start_time": "2022-04-14T08:39:05.775Z"
   }
  ],
  "kernelspec": {
   "display_name": "Python 3 (ipykernel)",
   "language": "python",
   "name": "python3"
  },
  "language_info": {
   "codemirror_mode": {
    "name": "ipython",
    "version": 3
   },
   "file_extension": ".py",
   "mimetype": "text/x-python",
   "name": "python",
   "nbconvert_exporter": "python",
   "pygments_lexer": "ipython3",
   "version": "3.9.12"
  },
  "notebookId": "5988f1ab-f452-41e4-bce0-8020f44c6f1f",
  "notebookPath": "ds-linear-algebra.ipynb",
  "toc": {
   "base_numbering": 1,
   "nav_menu": {},
   "number_sections": true,
   "sideBar": true,
   "skip_h1_title": true,
   "title_cell": "Содержание",
   "title_sidebar": "Contents",
   "toc_cell": true,
   "toc_position": {},
   "toc_section_display": true,
   "toc_window_display": true
  }
 },
 "nbformat": 4,
 "nbformat_minor": 4
}
