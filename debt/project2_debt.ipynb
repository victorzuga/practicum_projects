{
 "cells": [
  {
   "cell_type": "markdown",
   "metadata": {
    "cellId": "t1c4wam07doj74fhz2vfr"
   },
   "source": [
    "# Borrower reliability study\n",
    "\n",
    "The customer is the credit department of the bank. It is necessary to find out whether the marital status and the number of children of the client affect the fact of repaying the loan on time. Input data from the bank - statistics on the solvency of customers.\n",
    "\n",
    "The results of the study will be taken into account when building a **credit scoring** model - a special system that evaluates the ability of a potential borrower to repay a loan to a bank."
   ]
  },
  {
   "cell_type": "markdown",
   "metadata": {
    "cellId": "vpkzzreowap39ry2d7qz3a"
   },
   "source": [
    "## Step 1. Open the data file and examine the general information"
   ]
  },
  {
   "cell_type": "code",
   "execution_count": 1,
   "metadata": {
    "cellId": "vwlxnoh0c6976aavj5w04i"
   },
   "outputs": [
    {
     "name": "stdout",
     "output_type": "stream",
     "text": [
      "<class 'pandas.core.frame.DataFrame'>\n",
      "RangeIndex: 21525 entries, 0 to 21524\n",
      "Data columns (total 12 columns):\n",
      "children            21525 non-null int64\n",
      "days_employed       19351 non-null float64\n",
      "dob_years           21525 non-null int64\n",
      "education           21525 non-null object\n",
      "education_id        21525 non-null int64\n",
      "family_status       21525 non-null object\n",
      "family_status_id    21525 non-null int64\n",
      "gender              21525 non-null object\n",
      "income_type         21525 non-null object\n",
      "debt                21525 non-null int64\n",
      "total_income        19351 non-null float64\n",
      "purpose             21525 non-null object\n",
      "dtypes: float64(2), int64(5), object(5)\n",
      "memory usage: 2.0+ MB\n",
      "\n"
     ]
    },
    {
     "data": {
      "text/html": [
       "<div>\n",
       "<style scoped>\n",
       "    .dataframe tbody tr th:only-of-type {\n",
       "        vertical-align: middle;\n",
       "    }\n",
       "\n",
       "    .dataframe tbody tr th {\n",
       "        vertical-align: top;\n",
       "    }\n",
       "\n",
       "    .dataframe thead th {\n",
       "        text-align: right;\n",
       "    }\n",
       "</style>\n",
       "<table border=\"1\" class=\"dataframe\">\n",
       "  <thead>\n",
       "    <tr style=\"text-align: right;\">\n",
       "      <th></th>\n",
       "      <th>children</th>\n",
       "      <th>days_employed</th>\n",
       "      <th>dob_years</th>\n",
       "      <th>education</th>\n",
       "      <th>education_id</th>\n",
       "      <th>family_status</th>\n",
       "      <th>family_status_id</th>\n",
       "      <th>gender</th>\n",
       "      <th>income_type</th>\n",
       "      <th>debt</th>\n",
       "      <th>total_income</th>\n",
       "      <th>purpose</th>\n",
       "    </tr>\n",
       "  </thead>\n",
       "  <tbody>\n",
       "    <tr>\n",
       "      <td>0</td>\n",
       "      <td>1</td>\n",
       "      <td>-8437.673028</td>\n",
       "      <td>42</td>\n",
       "      <td>высшее</td>\n",
       "      <td>0</td>\n",
       "      <td>женат / замужем</td>\n",
       "      <td>0</td>\n",
       "      <td>F</td>\n",
       "      <td>сотрудник</td>\n",
       "      <td>0</td>\n",
       "      <td>253875.639453</td>\n",
       "      <td>покупка жилья</td>\n",
       "    </tr>\n",
       "    <tr>\n",
       "      <td>1</td>\n",
       "      <td>1</td>\n",
       "      <td>-4024.803754</td>\n",
       "      <td>36</td>\n",
       "      <td>среднее</td>\n",
       "      <td>1</td>\n",
       "      <td>женат / замужем</td>\n",
       "      <td>0</td>\n",
       "      <td>F</td>\n",
       "      <td>сотрудник</td>\n",
       "      <td>0</td>\n",
       "      <td>112080.014102</td>\n",
       "      <td>приобретение автомобиля</td>\n",
       "    </tr>\n",
       "    <tr>\n",
       "      <td>2</td>\n",
       "      <td>0</td>\n",
       "      <td>-5623.422610</td>\n",
       "      <td>33</td>\n",
       "      <td>Среднее</td>\n",
       "      <td>1</td>\n",
       "      <td>женат / замужем</td>\n",
       "      <td>0</td>\n",
       "      <td>M</td>\n",
       "      <td>сотрудник</td>\n",
       "      <td>0</td>\n",
       "      <td>145885.952297</td>\n",
       "      <td>покупка жилья</td>\n",
       "    </tr>\n",
       "    <tr>\n",
       "      <td>3</td>\n",
       "      <td>3</td>\n",
       "      <td>-4124.747207</td>\n",
       "      <td>32</td>\n",
       "      <td>среднее</td>\n",
       "      <td>1</td>\n",
       "      <td>женат / замужем</td>\n",
       "      <td>0</td>\n",
       "      <td>M</td>\n",
       "      <td>сотрудник</td>\n",
       "      <td>0</td>\n",
       "      <td>267628.550329</td>\n",
       "      <td>дополнительное образование</td>\n",
       "    </tr>\n",
       "    <tr>\n",
       "      <td>4</td>\n",
       "      <td>0</td>\n",
       "      <td>340266.072047</td>\n",
       "      <td>53</td>\n",
       "      <td>среднее</td>\n",
       "      <td>1</td>\n",
       "      <td>гражданский брак</td>\n",
       "      <td>1</td>\n",
       "      <td>F</td>\n",
       "      <td>пенсионер</td>\n",
       "      <td>0</td>\n",
       "      <td>158616.077870</td>\n",
       "      <td>сыграть свадьбу</td>\n",
       "    </tr>\n",
       "  </tbody>\n",
       "</table>\n",
       "</div>"
      ],
      "text/plain": [
       "   children  days_employed  dob_years education  education_id  \\\n",
       "0         1   -8437.673028         42    высшее             0   \n",
       "1         1   -4024.803754         36   среднее             1   \n",
       "2         0   -5623.422610         33   Среднее             1   \n",
       "3         3   -4124.747207         32   среднее             1   \n",
       "4         0  340266.072047         53   среднее             1   \n",
       "\n",
       "      family_status  family_status_id gender income_type  debt   total_income  \\\n",
       "0   женат / замужем                 0      F   сотрудник     0  253875.639453   \n",
       "1   женат / замужем                 0      F   сотрудник     0  112080.014102   \n",
       "2   женат / замужем                 0      M   сотрудник     0  145885.952297   \n",
       "3   женат / замужем                 0      M   сотрудник     0  267628.550329   \n",
       "4  гражданский брак                 1      F   пенсионер     0  158616.077870   \n",
       "\n",
       "                      purpose  \n",
       "0               покупка жилья  \n",
       "1     приобретение автомобиля  \n",
       "2               покупка жилья  \n",
       "3  дополнительное образование  \n",
       "4             сыграть свадьбу  "
      ]
     },
     "execution_count": 1,
     "metadata": {},
     "output_type": "execute_result"
    }
   ],
   "source": [
    "import pandas as pd\n",
    "import seaborn as sns\n",
    "import matplotlib.pyplot as plt\n",
    "\n",
    "df = pd.read_csv('/datasets/data.csv')\n",
    "df.info()\n",
    "print()\n",
    "df.head()"
   ]
  },
  {
   "cell_type": "code",
   "execution_count": 2,
   "metadata": {
    "cellId": "8026ze70khrnmban3c6sce"
   },
   "outputs": [
    {
     "data": {
      "text/html": [
       "<div>\n",
       "<style scoped>\n",
       "    .dataframe tbody tr th:only-of-type {\n",
       "        vertical-align: middle;\n",
       "    }\n",
       "\n",
       "    .dataframe tbody tr th {\n",
       "        vertical-align: top;\n",
       "    }\n",
       "\n",
       "    .dataframe thead th {\n",
       "        text-align: right;\n",
       "    }\n",
       "</style>\n",
       "<table border=\"1\" class=\"dataframe\">\n",
       "  <thead>\n",
       "    <tr style=\"text-align: right;\">\n",
       "      <th></th>\n",
       "      <th>children</th>\n",
       "      <th>days_employed</th>\n",
       "      <th>dob_years</th>\n",
       "      <th>education_id</th>\n",
       "      <th>family_status_id</th>\n",
       "      <th>debt</th>\n",
       "      <th>total_income</th>\n",
       "    </tr>\n",
       "  </thead>\n",
       "  <tbody>\n",
       "    <tr>\n",
       "      <td>count</td>\n",
       "      <td>21525.000000</td>\n",
       "      <td>19351.000000</td>\n",
       "      <td>21525.000000</td>\n",
       "      <td>21525.000000</td>\n",
       "      <td>21525.000000</td>\n",
       "      <td>21525.000000</td>\n",
       "      <td>1.935100e+04</td>\n",
       "    </tr>\n",
       "    <tr>\n",
       "      <td>mean</td>\n",
       "      <td>0.538908</td>\n",
       "      <td>63046.497661</td>\n",
       "      <td>43.293380</td>\n",
       "      <td>0.817236</td>\n",
       "      <td>0.972544</td>\n",
       "      <td>0.080883</td>\n",
       "      <td>1.674223e+05</td>\n",
       "    </tr>\n",
       "    <tr>\n",
       "      <td>std</td>\n",
       "      <td>1.381587</td>\n",
       "      <td>140827.311974</td>\n",
       "      <td>12.574584</td>\n",
       "      <td>0.548138</td>\n",
       "      <td>1.420324</td>\n",
       "      <td>0.272661</td>\n",
       "      <td>1.029716e+05</td>\n",
       "    </tr>\n",
       "    <tr>\n",
       "      <td>min</td>\n",
       "      <td>-1.000000</td>\n",
       "      <td>-18388.949901</td>\n",
       "      <td>0.000000</td>\n",
       "      <td>0.000000</td>\n",
       "      <td>0.000000</td>\n",
       "      <td>0.000000</td>\n",
       "      <td>2.066726e+04</td>\n",
       "    </tr>\n",
       "    <tr>\n",
       "      <td>25%</td>\n",
       "      <td>0.000000</td>\n",
       "      <td>-2747.423625</td>\n",
       "      <td>33.000000</td>\n",
       "      <td>1.000000</td>\n",
       "      <td>0.000000</td>\n",
       "      <td>0.000000</td>\n",
       "      <td>1.030532e+05</td>\n",
       "    </tr>\n",
       "    <tr>\n",
       "      <td>50%</td>\n",
       "      <td>0.000000</td>\n",
       "      <td>-1203.369529</td>\n",
       "      <td>42.000000</td>\n",
       "      <td>1.000000</td>\n",
       "      <td>0.000000</td>\n",
       "      <td>0.000000</td>\n",
       "      <td>1.450179e+05</td>\n",
       "    </tr>\n",
       "    <tr>\n",
       "      <td>75%</td>\n",
       "      <td>1.000000</td>\n",
       "      <td>-291.095954</td>\n",
       "      <td>53.000000</td>\n",
       "      <td>1.000000</td>\n",
       "      <td>1.000000</td>\n",
       "      <td>0.000000</td>\n",
       "      <td>2.034351e+05</td>\n",
       "    </tr>\n",
       "    <tr>\n",
       "      <td>max</td>\n",
       "      <td>20.000000</td>\n",
       "      <td>401755.400475</td>\n",
       "      <td>75.000000</td>\n",
       "      <td>4.000000</td>\n",
       "      <td>4.000000</td>\n",
       "      <td>1.000000</td>\n",
       "      <td>2.265604e+06</td>\n",
       "    </tr>\n",
       "  </tbody>\n",
       "</table>\n",
       "</div>"
      ],
      "text/plain": [
       "           children  days_employed     dob_years  education_id  \\\n",
       "count  21525.000000   19351.000000  21525.000000  21525.000000   \n",
       "mean       0.538908   63046.497661     43.293380      0.817236   \n",
       "std        1.381587  140827.311974     12.574584      0.548138   \n",
       "min       -1.000000  -18388.949901      0.000000      0.000000   \n",
       "25%        0.000000   -2747.423625     33.000000      1.000000   \n",
       "50%        0.000000   -1203.369529     42.000000      1.000000   \n",
       "75%        1.000000    -291.095954     53.000000      1.000000   \n",
       "max       20.000000  401755.400475     75.000000      4.000000   \n",
       "\n",
       "       family_status_id          debt  total_income  \n",
       "count      21525.000000  21525.000000  1.935100e+04  \n",
       "mean           0.972544      0.080883  1.674223e+05  \n",
       "std            1.420324      0.272661  1.029716e+05  \n",
       "min            0.000000      0.000000  2.066726e+04  \n",
       "25%            0.000000      0.000000  1.030532e+05  \n",
       "50%            0.000000      0.000000  1.450179e+05  \n",
       "75%            1.000000      0.000000  2.034351e+05  \n",
       "max            4.000000      1.000000  2.265604e+06  "
      ]
     },
     "execution_count": 2,
     "metadata": {},
     "output_type": "execute_result"
    }
   ],
   "source": [
    "df.describe()"
   ]
  },
  {
   "cell_type": "code",
   "execution_count": 3,
   "metadata": {
    "cellId": "w7u05qbo48am2km73yr41"
   },
   "outputs": [],
   "source": [
    "#count duplicates before changes\n",
    "duplicates_original = df.duplicated().sum()"
   ]
  },
  {
   "cell_type": "markdown",
   "metadata": {
    "cellId": "tauczsenbnrhk1ht9rjmbk"
   },
   "source": [
    "**Conclusions**\n",
    "\n",
    "* there are gaps in the days_employed and total_income columns\n",
    "* deal with gaps and values in days_employed\n",
    "* education is written in different registers, you need to make the whole table .lower()\n",
    "* values in children and gender"
   ]
  },
  {
   "cell_type": "markdown",
   "metadata": {
    "cellId": "11ae1fy077kqxh6o64vjyn"
   },
   "source": [
    "## Step 2. Data preprocessing\n",
    "\n",
    "\n",
    "### Missing values processing"
   ]
  },
  {
   "cell_type": "code",
   "execution_count": 4,
   "metadata": {
    "cellId": "8e0l4il4up6w12a4szhyd9"
   },
   "outputs": [
    {
     "data": {
      "text/plain": [
       "children               0\n",
       "days_employed       2174\n",
       "dob_years              0\n",
       "education              0\n",
       "education_id           0\n",
       "family_status          0\n",
       "family_status_id       0\n",
       "gender                 0\n",
       "income_type            0\n",
       "debt                   0\n",
       "total_income        2174\n",
       "purpose                0\n",
       "dtype: int64"
      ]
     },
     "execution_count": 4,
     "metadata": {},
     "output_type": "execute_result"
    }
   ],
   "source": [
    "df.isna().sum()"
   ]
  },
  {
   "cell_type": "markdown",
   "metadata": {
    "cellId": "826olf66a7yrph0ilel64"
   },
   "source": [
    "There are gaps in days_employed and total_income, the number is the same. <div>\n",
    "I will check whether the omissions of one value correspond to another."
   ]
  },
  {
   "cell_type": "code",
   "execution_count": 5,
   "metadata": {
    "cellId": "rjstrlhi8gacxesrk0ljfj"
   },
   "outputs": [
    {
     "data": {
      "text/plain": [
       "(2174, 12)"
      ]
     },
     "execution_count": 5,
     "metadata": {},
     "output_type": "execute_result"
    }
   ],
   "source": [
    "#%pip install missingno\n",
    "#import missingno as msno\n",
    "#msno.heatmap(df) \n",
    "#another way to see gap matching\n",
    "\n",
    "df[df['days_employed'].isna() & df['total_income'].isna()].shape"
   ]
  },
  {
   "cell_type": "markdown",
   "metadata": {
    "cellId": "fc3f0roncdaskhbs89v9or"
   },
   "source": [
    "The gaps in days_employed correspond to the gaps in total_income. I will write the data with gaps into a separate DataFrame for the convenience of analysis."
   ]
  },
  {
   "cell_type": "code",
   "execution_count": 6,
   "metadata": {
    "cellId": "9lu53aks34cc1aji0i0zqt"
   },
   "outputs": [],
   "source": [
    "df_na = df[df['days_employed'].isna()]"
   ]
  },
  {
   "cell_type": "markdown",
   "metadata": {
    "cellId": "r0c1dl7cfpsymza8yt3418"
   },
   "source": [
    "I'll start with gaps in income. To do this, I will study the data in more detail."
   ]
  },
  {
   "cell_type": "code",
   "execution_count": 7,
   "metadata": {
    "cellId": "60k95zjavllvdyjidovbol"
   },
   "outputs": [
    {
     "name": "stdout",
     "output_type": "stream",
     "text": [
      "Распеределения по полу и типу доходов\n",
      "\n",
      "F      14236\n",
      "M       7288\n",
      "XNA        1\n",
      "Name: gender, dtype: int64\n",
      "\n",
      "сотрудник          11119\n",
      "компаньон           5085\n",
      "пенсионер           3856\n",
      "госслужащий         1459\n",
      "предприниматель        2\n",
      "безработный            2\n",
      "в декрете              1\n",
      "студент                1\n",
      "Name: income_type, dtype: int64\n",
      "\n",
      "\n",
      "Распеределения по полу и типу доходов \n",
      " в данных с пропусками\n",
      "\n",
      "F    1484\n",
      "M     690\n",
      "Name: gender, dtype: int64\n",
      "\n",
      "сотрудник          1105\n",
      "компаньон           508\n",
      "пенсионер           413\n",
      "госслужащий         147\n",
      "предприниматель       1\n",
      "Name: income_type, dtype: int64\n"
     ]
    }
   ],
   "source": [
    "print(\n",
    "    'Distribution by sex and type of income', df['gender'].value_counts(), \n",
    "    df['income_type'].value_counts(), sep='\\n\\n', end = '\\n\\n\\n'\n",
    ")\n",
    "print(\n",
    "    'Breakdowns by sex and income type \\n in missing data', \n",
    "    df_na['gender'].value_counts(), df_na['income_type'].value_counts(), sep='\\n\\n'\n",
    ")"
   ]
  },
  {
   "cell_type": "markdown",
   "metadata": {
    "cellId": "xf0q5ily0cqayku6nvojpe"
   },
   "source": [
    "It can be seen that in the data with gaps, the gender and type of income are distributed in the same way as in the data without gaps. Also, using .value_counts(), I checked the remaining columns (I don’t give them here), I didn’t find any links between gaps and values in other columns. <div> There is one value 'XNA' instead of specifying gender, I will change it to 'F' as there are more women in the data."
   ]
  },
  {
   "cell_type": "code",
   "execution_count": 8,
   "metadata": {
    "cellId": "cior3pw3cgv1kjdpxw8s2n"
   },
   "outputs": [],
   "source": [
    "df = df.replace('XNA', 'F')"
   ]
  },
  {
   "cell_type": "markdown",
   "metadata": {
    "cellId": "ctskb1fcadahgmanb914e"
   },
   "source": [
    "I'll see how median incomes depend on gender and / or type of income."
   ]
  },
  {
   "cell_type": "code",
   "execution_count": 9,
   "metadata": {
    "cellId": "etqzazivfqfcdy1r5ny07v"
   },
   "outputs": [
    {
     "data": {
      "text/html": [
       "<div>\n",
       "<style scoped>\n",
       "    .dataframe tbody tr th:only-of-type {\n",
       "        vertical-align: middle;\n",
       "    }\n",
       "\n",
       "    .dataframe tbody tr th {\n",
       "        vertical-align: top;\n",
       "    }\n",
       "\n",
       "    .dataframe thead th {\n",
       "        text-align: right;\n",
       "    }\n",
       "</style>\n",
       "<table border=\"1\" class=\"dataframe\">\n",
       "  <thead>\n",
       "    <tr style=\"text-align: right;\">\n",
       "      <th></th>\n",
       "      <th>gender</th>\n",
       "      <th>median</th>\n",
       "    </tr>\n",
       "  </thead>\n",
       "  <tbody>\n",
       "    <tr>\n",
       "      <td>0</td>\n",
       "      <td>F</td>\n",
       "      <td>134157.284057</td>\n",
       "    </tr>\n",
       "    <tr>\n",
       "      <td>1</td>\n",
       "      <td>M</td>\n",
       "      <td>167714.343716</td>\n",
       "    </tr>\n",
       "  </tbody>\n",
       "</table>\n",
       "</div>"
      ],
      "text/plain": [
       "  gender         median\n",
       "0      F  134157.284057\n",
       "1      M  167714.343716"
      ]
     },
     "execution_count": 9,
     "metadata": {},
     "output_type": "execute_result"
    }
   ],
   "source": [
    "df.groupby(['gender'])['total_income'].agg(['median']).reset_index() #пол/доход"
   ]
  },
  {
   "cell_type": "code",
   "execution_count": 10,
   "metadata": {
    "cellId": "5skoyxrq2y3kr4mukfg6"
   },
   "outputs": [
    {
     "data": {
      "text/html": [
       "<div>\n",
       "<style scoped>\n",
       "    .dataframe tbody tr th:only-of-type {\n",
       "        vertical-align: middle;\n",
       "    }\n",
       "\n",
       "    .dataframe tbody tr th {\n",
       "        vertical-align: top;\n",
       "    }\n",
       "\n",
       "    .dataframe thead th {\n",
       "        text-align: right;\n",
       "    }\n",
       "</style>\n",
       "<table border=\"1\" class=\"dataframe\">\n",
       "  <thead>\n",
       "    <tr style=\"text-align: right;\">\n",
       "      <th>income_type</th>\n",
       "      <th>безработный</th>\n",
       "      <th>в декрете</th>\n",
       "      <th>госслужащий</th>\n",
       "      <th>компаньон</th>\n",
       "      <th>пенсионер</th>\n",
       "      <th>предприниматель</th>\n",
       "      <th>сотрудник</th>\n",
       "      <th>студент</th>\n",
       "    </tr>\n",
       "    <tr>\n",
       "      <th>gender</th>\n",
       "      <th></th>\n",
       "      <th></th>\n",
       "      <th></th>\n",
       "      <th></th>\n",
       "      <th></th>\n",
       "      <th></th>\n",
       "      <th></th>\n",
       "      <th></th>\n",
       "    </tr>\n",
       "  </thead>\n",
       "  <tbody>\n",
       "    <tr>\n",
       "      <td>F</td>\n",
       "      <td>202722.511368</td>\n",
       "      <td>53829.130729</td>\n",
       "      <td>136982.489425</td>\n",
       "      <td>160861.198372</td>\n",
       "      <td>115807.789733</td>\n",
       "      <td>499163.144947</td>\n",
       "      <td>130615.610597</td>\n",
       "      <td>NaN</td>\n",
       "    </tr>\n",
       "    <tr>\n",
       "      <td>M</td>\n",
       "      <td>59956.991984</td>\n",
       "      <td>NaN</td>\n",
       "      <td>185964.946748</td>\n",
       "      <td>196818.800823</td>\n",
       "      <td>130739.759955</td>\n",
       "      <td>NaN</td>\n",
       "      <td>162161.177474</td>\n",
       "      <td>98201.625314</td>\n",
       "    </tr>\n",
       "  </tbody>\n",
       "</table>\n",
       "</div>"
      ],
      "text/plain": [
       "income_type    безработный     в декрете    госслужащий      компаньон  \\\n",
       "gender                                                                   \n",
       "F            202722.511368  53829.130729  136982.489425  160861.198372   \n",
       "M             59956.991984           NaN  185964.946748  196818.800823   \n",
       "\n",
       "income_type      пенсионер  предприниматель      сотрудник       студент  \n",
       "gender                                                                    \n",
       "F            115807.789733    499163.144947  130615.610597           NaN  \n",
       "M            130739.759955              NaN  162161.177474  98201.625314  "
      ]
     },
     "execution_count": 10,
     "metadata": {},
     "output_type": "execute_result"
    }
   ],
   "source": [
    "#gender/type/income\n",
    "df.pivot_table(index=['gender'], columns='income_type', values='total_income', aggfunc=('median'), dropna=True)"
   ]
  },
  {
   "cell_type": "markdown",
   "metadata": {
    "cellId": "fwyikc1t93ul9qeveg8ou"
   },
   "source": [
    "Median incomes differ by gender and type of income. I will fill in the income gaps based on this relationship. Except for one exception: there is one entrepreneur in the missing data, and there are two in total. In this case, it makes no sense to take the median income of entrepreneurs; I will fill this value with the median income of people of the same sex."
   ]
  },
  {
   "cell_type": "code",
   "execution_count": 12,
   "metadata": {
    "cellId": "di03hoxst4d5ndxc3e0xt"
   },
   "outputs": [],
   "source": [
    "#first find and substitute the median income of the entrepreneur\n",
    "df.loc[(df['income_type']=='предприниматель') & (df['total_income'].isna()), 'total_income'] = df[df['gender']=='M']['total_income'].median()\n",
    "\n",
    "#the rest\n",
    "df['total_income'] = df.groupby(['gender', 'income_type'])['total_income'].transform(lambda x: x.fillna(x.median()))"
   ]
  },
  {
   "cell_type": "code",
   "execution_count": 13,
   "metadata": {
    "cellId": "7stly9sga4bk8ke0k0im6c"
   },
   "outputs": [
    {
     "data": {
      "text/html": [
       "<div>\n",
       "<style scoped>\n",
       "    .dataframe tbody tr th:only-of-type {\n",
       "        vertical-align: middle;\n",
       "    }\n",
       "\n",
       "    .dataframe tbody tr th {\n",
       "        vertical-align: top;\n",
       "    }\n",
       "\n",
       "    .dataframe thead th {\n",
       "        text-align: right;\n",
       "    }\n",
       "</style>\n",
       "<table border=\"1\" class=\"dataframe\">\n",
       "  <thead>\n",
       "    <tr style=\"text-align: right;\">\n",
       "      <th></th>\n",
       "      <th>children</th>\n",
       "      <th>days_employed</th>\n",
       "      <th>dob_years</th>\n",
       "      <th>education</th>\n",
       "      <th>education_id</th>\n",
       "      <th>family_status</th>\n",
       "      <th>family_status_id</th>\n",
       "      <th>gender</th>\n",
       "      <th>income_type</th>\n",
       "      <th>debt</th>\n",
       "      <th>total_income</th>\n",
       "      <th>purpose</th>\n",
       "    </tr>\n",
       "  </thead>\n",
       "  <tbody>\n",
       "    <tr>\n",
       "      <td>12</td>\n",
       "      <td>0</td>\n",
       "      <td>NaN</td>\n",
       "      <td>65</td>\n",
       "      <td>среднее</td>\n",
       "      <td>1</td>\n",
       "      <td>гражданский брак</td>\n",
       "      <td>1</td>\n",
       "      <td>M</td>\n",
       "      <td>пенсионер</td>\n",
       "      <td>0</td>\n",
       "      <td>130739.759955</td>\n",
       "      <td>сыграть свадьбу</td>\n",
       "    </tr>\n",
       "    <tr>\n",
       "      <td>26</td>\n",
       "      <td>0</td>\n",
       "      <td>NaN</td>\n",
       "      <td>41</td>\n",
       "      <td>среднее</td>\n",
       "      <td>1</td>\n",
       "      <td>женат / замужем</td>\n",
       "      <td>0</td>\n",
       "      <td>M</td>\n",
       "      <td>госслужащий</td>\n",
       "      <td>0</td>\n",
       "      <td>185964.946748</td>\n",
       "      <td>образование</td>\n",
       "    </tr>\n",
       "    <tr>\n",
       "      <td>29</td>\n",
       "      <td>0</td>\n",
       "      <td>NaN</td>\n",
       "      <td>63</td>\n",
       "      <td>среднее</td>\n",
       "      <td>1</td>\n",
       "      <td>Не женат / не замужем</td>\n",
       "      <td>4</td>\n",
       "      <td>F</td>\n",
       "      <td>пенсионер</td>\n",
       "      <td>0</td>\n",
       "      <td>115807.789733</td>\n",
       "      <td>строительство жилой недвижимости</td>\n",
       "    </tr>\n",
       "    <tr>\n",
       "      <td>41</td>\n",
       "      <td>0</td>\n",
       "      <td>NaN</td>\n",
       "      <td>50</td>\n",
       "      <td>среднее</td>\n",
       "      <td>1</td>\n",
       "      <td>женат / замужем</td>\n",
       "      <td>0</td>\n",
       "      <td>F</td>\n",
       "      <td>госслужащий</td>\n",
       "      <td>0</td>\n",
       "      <td>136982.489425</td>\n",
       "      <td>сделка с подержанным автомобилем</td>\n",
       "    </tr>\n",
       "    <tr>\n",
       "      <td>55</td>\n",
       "      <td>0</td>\n",
       "      <td>NaN</td>\n",
       "      <td>54</td>\n",
       "      <td>среднее</td>\n",
       "      <td>1</td>\n",
       "      <td>гражданский брак</td>\n",
       "      <td>1</td>\n",
       "      <td>F</td>\n",
       "      <td>пенсионер</td>\n",
       "      <td>1</td>\n",
       "      <td>115807.789733</td>\n",
       "      <td>сыграть свадьбу</td>\n",
       "    </tr>\n",
       "  </tbody>\n",
       "</table>\n",
       "</div>"
      ],
      "text/plain": [
       "    children  days_employed  dob_years education  education_id  \\\n",
       "12         0            NaN         65   среднее             1   \n",
       "26         0            NaN         41   среднее             1   \n",
       "29         0            NaN         63   среднее             1   \n",
       "41         0            NaN         50   среднее             1   \n",
       "55         0            NaN         54   среднее             1   \n",
       "\n",
       "            family_status  family_status_id gender  income_type  debt  \\\n",
       "12       гражданский брак                 1      M    пенсионер     0   \n",
       "26        женат / замужем                 0      M  госслужащий     0   \n",
       "29  Не женат / не замужем                 4      F    пенсионер     0   \n",
       "41        женат / замужем                 0      F  госслужащий     0   \n",
       "55       гражданский брак                 1      F    пенсионер     1   \n",
       "\n",
       "     total_income                           purpose  \n",
       "12  130739.759955                   сыграть свадьбу  \n",
       "26  185964.946748                       образование  \n",
       "29  115807.789733  строительство жилой недвижимости  \n",
       "41  136982.489425  сделка с подержанным автомобилем  \n",
       "55  115807.789733                   сыграть свадьбу  "
      ]
     },
     "execution_count": 13,
     "metadata": {},
     "output_type": "execute_result"
    }
   ],
   "source": [
    "df[df['days_employed'].isna()].head()"
   ]
  },
  {
   "cell_type": "markdown",
   "metadata": {
    "cellId": "9x4q4vezouoyntfgdwrya"
   },
   "source": [
    "Let's move on to the gaps in 'days_employed'."
   ]
  },
  {
   "cell_type": "code",
   "execution_count": 14,
   "metadata": {
    "cellId": "197c64do9h5kkflzvl1v9l"
   },
   "outputs": [
    {
     "data": {
      "text/plain": [
       "пенсионер      3443\n",
       "безработный       2\n",
       "Name: income_type, dtype: int64"
      ]
     },
     "execution_count": 14,
     "metadata": {},
     "output_type": "execute_result"
    }
   ],
   "source": [
    "df[df['days_employed']>0]['income_type'].value_counts()"
   ]
  },
  {
   "cell_type": "code",
   "execution_count": 15,
   "metadata": {
    "cellId": "3w0byqp4td8g368b66df3"
   },
   "outputs": [
    {
     "data": {
      "text/html": [
       "<div>\n",
       "<style scoped>\n",
       "    .dataframe tbody tr th:only-of-type {\n",
       "        vertical-align: middle;\n",
       "    }\n",
       "\n",
       "    .dataframe tbody tr th {\n",
       "        vertical-align: top;\n",
       "    }\n",
       "\n",
       "    .dataframe thead th {\n",
       "        text-align: right;\n",
       "    }\n",
       "</style>\n",
       "<table border=\"1\" class=\"dataframe\">\n",
       "  <thead>\n",
       "    <tr style=\"text-align: right;\">\n",
       "      <th></th>\n",
       "      <th>income_type</th>\n",
       "      <th>mean</th>\n",
       "    </tr>\n",
       "  </thead>\n",
       "  <tbody>\n",
       "    <tr>\n",
       "      <td>0</td>\n",
       "      <td>безработный</td>\n",
       "      <td>366413.652744</td>\n",
       "    </tr>\n",
       "    <tr>\n",
       "      <td>1</td>\n",
       "      <td>в декрете</td>\n",
       "      <td>-3296.759962</td>\n",
       "    </tr>\n",
       "    <tr>\n",
       "      <td>2</td>\n",
       "      <td>госслужащий</td>\n",
       "      <td>-3399.896902</td>\n",
       "    </tr>\n",
       "    <tr>\n",
       "      <td>3</td>\n",
       "      <td>компаньон</td>\n",
       "      <td>-2111.524398</td>\n",
       "    </tr>\n",
       "    <tr>\n",
       "      <td>4</td>\n",
       "      <td>пенсионер</td>\n",
       "      <td>365003.491245</td>\n",
       "    </tr>\n",
       "    <tr>\n",
       "      <td>5</td>\n",
       "      <td>предприниматель</td>\n",
       "      <td>-520.848083</td>\n",
       "    </tr>\n",
       "    <tr>\n",
       "      <td>6</td>\n",
       "      <td>сотрудник</td>\n",
       "      <td>-2326.499216</td>\n",
       "    </tr>\n",
       "    <tr>\n",
       "      <td>7</td>\n",
       "      <td>студент</td>\n",
       "      <td>-578.751554</td>\n",
       "    </tr>\n",
       "  </tbody>\n",
       "</table>\n",
       "</div>"
      ],
      "text/plain": [
       "       income_type           mean\n",
       "0      безработный  366413.652744\n",
       "1        в декрете   -3296.759962\n",
       "2      госслужащий   -3399.896902\n",
       "3        компаньон   -2111.524398\n",
       "4        пенсионер  365003.491245\n",
       "5  предприниматель    -520.848083\n",
       "6        сотрудник   -2326.499216\n",
       "7          студент    -578.751554"
      ]
     },
     "execution_count": 15,
     "metadata": {},
     "output_type": "execute_result"
    }
   ],
   "source": [
    "df.groupby('income_type')['days_employed'].agg(['mean']).reset_index()"
   ]
  },
  {
   "cell_type": "markdown",
   "metadata": {
    "cellId": "966b45ids9gzz7fhn4j1o"
   },
   "source": [
    "For pensioners and the unemployed, the values ​​of the number of working days are positive, while for all the rest, they are negative. Also, the values ​​themselves, if translated into years, are about 900 years. I can’t say exactly what led to such values, but my assumption is as follows: the sign indicates the very fact of work (pensioners and the unemployed are positive and do not work), and the value for pensioners and the unemployed is probably written in hours, then it turns out that the average length of service approximately 40 years old. <div> Since the results do not take into account the experience and until I see that I need information about the experience to test hypotheses, I will not look for the reasons for these strange values, and I will replace the gaps with average values."
   ]
  },
  {
   "cell_type": "code",
   "execution_count": 16,
   "metadata": {
    "cellId": "abp8bkgfkel55w9hhuda0j"
   },
   "outputs": [],
   "source": [
    "df['days_employed'] = df['days_employed'].fillna(df.groupby('income_type')['days_employed'].transform('mean'))"
   ]
  },
  {
   "cell_type": "code",
   "execution_count": 17,
   "metadata": {
    "cellId": "7rh6lk826issfurjsg6toc"
   },
   "outputs": [
    {
     "data": {
      "text/plain": [
       "children            0\n",
       "days_employed       0\n",
       "dob_years           0\n",
       "education           0\n",
       "education_id        0\n",
       "family_status       0\n",
       "family_status_id    0\n",
       "gender              0\n",
       "income_type         0\n",
       "debt                0\n",
       "total_income        0\n",
       "purpose             0\n",
       "dtype: int64"
      ]
     },
     "execution_count": 17,
     "metadata": {},
     "output_type": "execute_result"
    }
   ],
   "source": [
    "df[df.isna()].count() #I will check that there are no more missing values"
   ]
  },
  {
   "cell_type": "markdown",
   "metadata": {
    "cellId": "u8s8qfutouff7nm86ut"
   },
   "source": [
    "**Conclusions:**\n",
    "* there were gaps in 'days_employed' and corresponding gaps in 'total_income' in the amount of 10% of the total data,\n",
    "* I have replaced gaps in income with median values, and experience with average values ​​depending on gender and type of income,\n",
    "* I did not find links between gaps and other values ​​and I believe that they are random,\n",
    "* possible reasons for omissions: the bank does not have information about the income and experience of some people (for example, they are new clients and this information has not yet been received, or they have not provided information at all), an accidental technical error when recording. I'm leaning towards a technical error, because if people hadn't reported income and length of service, they wouldn't have provided other information (type of income, marital status, children), and there are no gaps. Well, or someone for educational purposes introduced gaps in exactly 10% of the data."
   ]
  },
  {
   "cell_type": "markdown",
   "metadata": {
    "cellId": "8ulzya4zv09jnz1xvnml5l"
   },
   "source": [
    "### Replacing the data type\n",
    "\n",
    "All categorical variables are written as strings, and quantitative variables as numbers. But for speed, you can replace float with int - we don't need such accuracy in experience and income in this case."
   ]
  },
  {
   "cell_type": "code",
   "execution_count": 18,
   "metadata": {
    "cellId": "6xgsmwm9o7r6u5lojvpz4g"
   },
   "outputs": [
    {
     "name": "stdout",
     "output_type": "stream",
     "text": [
      "<class 'pandas.core.frame.DataFrame'>\n",
      "RangeIndex: 21525 entries, 0 to 21524\n",
      "Data columns (total 12 columns):\n",
      "children            21525 non-null int64\n",
      "days_employed       21525 non-null int64\n",
      "dob_years           21525 non-null int64\n",
      "education           21525 non-null object\n",
      "education_id        21525 non-null int64\n",
      "family_status       21525 non-null object\n",
      "family_status_id    21525 non-null int64\n",
      "gender              21525 non-null object\n",
      "income_type         21525 non-null object\n",
      "debt                21525 non-null int64\n",
      "total_income        21525 non-null int64\n",
      "purpose             21525 non-null object\n",
      "dtypes: int64(7), object(5)\n",
      "memory usage: 2.0+ MB\n"
     ]
    }
   ],
   "source": [
    "df['days_employed'] = df['days_employed'].astype('int')\n",
    "df['total_income'] = df['total_income'].astype('int')\n",
    "df.info()"
   ]
  },
  {
   "cell_type": "markdown",
   "metadata": {
    "cellId": "yrsbeec5rwt6w64cbwxg"
   },
   "source": [
    "**Conclusion:**\n",
    "* replaced float with int."
   ]
  },
  {
   "cell_type": "markdown",
   "metadata": {
    "cellId": "2ijuarlxmh53jw5inc9miy"
   },
   "source": [
    "### Handling duplicates\n",
    "\n",
    "Before removing duplicates, I will get rid of the remaining artifacts in the data: first I look at the unique values in marital status, education and children, and then I check that education_id and family_status_id match their columns"
   ]
  },
  {
   "cell_type": "code",
   "execution_count": 20,
   "metadata": {
    "cellId": "126jrce6acq2nkdjlbzgff"
   },
   "outputs": [
    {
     "data": {
      "text/plain": [
       "женат / замужем          12380\n",
       "гражданский брак          4177\n",
       "Не женат / не замужем     2813\n",
       "в разводе                 1195\n",
       "вдовец / вдова             960\n",
       "Name: family_status, dtype: int64"
      ]
     },
     "execution_count": 20,
     "metadata": {},
     "output_type": "execute_result"
    }
   ],
   "source": [
    "df['family_status'].value_counts()"
   ]
  },
  {
   "cell_type": "code",
   "execution_count": 21,
   "metadata": {
    "cellId": "cs1lee7osgsoru8ufgadc"
   },
   "outputs": [
    {
     "data": {
      "text/plain": [
       "среднее                13750\n",
       "высшее                  4718\n",
       "СРЕДНЕЕ                  772\n",
       "Среднее                  711\n",
       "неоконченное высшее      668\n",
       "ВЫСШЕЕ                   274\n",
       "Высшее                   268\n",
       "начальное                250\n",
       "Неоконченное высшее       47\n",
       "НЕОКОНЧЕННОЕ ВЫСШЕЕ       29\n",
       "НАЧАЛЬНОЕ                 17\n",
       "Начальное                 15\n",
       "ученая степень             4\n",
       "Ученая степень             1\n",
       "УЧЕНАЯ СТЕПЕНЬ             1\n",
       "Name: education, dtype: int64"
      ]
     },
     "execution_count": 21,
     "metadata": {},
     "output_type": "execute_result"
    }
   ],
   "source": [
    "df['education'].value_counts()"
   ]
  },
  {
   "cell_type": "code",
   "execution_count": 22,
   "metadata": {
    "cellId": "apv1334ohiu3pym7zf2"
   },
   "outputs": [],
   "source": [
    "#convert everything to lowercase\n",
    "df['education'] = df['education'].str.lower()\n",
    "df['family_status'] = df['family_status'].str.lower()"
   ]
  },
  {
   "cell_type": "code",
   "execution_count": 23,
   "metadata": {
    "cellId": "x3z3cr096jck37pj776gud"
   },
   "outputs": [
    {
     "data": {
      "text/plain": [
       " 0     14149\n",
       " 1      4818\n",
       " 2      2055\n",
       " 3       330\n",
       " 20       76\n",
       "-1        47\n",
       " 4        41\n",
       " 5         9\n",
       "Name: children, dtype: int64"
      ]
     },
     "execution_count": 23,
     "metadata": {},
     "output_type": "execute_result"
    }
   ],
   "source": [
    "df['children'].value_counts()"
   ]
  },
  {
   "cell_type": "markdown",
   "metadata": {
    "cellId": "m1ax11ny8aby5cuifp50td"
   },
   "source": [
    "Twenty children is possible, but unlikely. Minus one child is also clearly a mistake. Change 20 to 2 and -1 to 1."
   ]
  },
  {
   "cell_type": "code",
   "execution_count": 24,
   "metadata": {
    "cellId": "x0rbpq96tr2tmx1jxl8f"
   },
   "outputs": [],
   "source": [
    "df['children'] = df['children'].replace({20:2, -1:1})"
   ]
  },
  {
   "cell_type": "code",
   "execution_count": 25,
   "metadata": {
    "cellId": "vt1io9lcjjpmceh7p2fel"
   },
   "outputs": [
    {
     "data": {
      "text/plain": [
       "family_status\n",
       "в разводе                [3]\n",
       "вдовец / вдова           [2]\n",
       "гражданский брак         [1]\n",
       "женат / замужем          [0]\n",
       "не женат / не замужем    [4]\n",
       "Name: family_status_id, dtype: object"
      ]
     },
     "execution_count": 25,
     "metadata": {},
     "output_type": "execute_result"
    }
   ],
   "source": [
    "df.groupby('family_status')['family_status_id'].unique()"
   ]
  },
  {
   "cell_type": "code",
   "execution_count": 26,
   "metadata": {
    "cellId": "bfl19dbvnbet5ngovmhrb"
   },
   "outputs": [
    {
     "data": {
      "text/plain": [
       "education\n",
       "высшее                 [0]\n",
       "начальное              [3]\n",
       "неоконченное высшее    [2]\n",
       "среднее                [1]\n",
       "ученая степень         [4]\n",
       "Name: education_id, dtype: object"
      ]
     },
     "execution_count": 26,
     "metadata": {},
     "output_type": "execute_result"
    }
   ],
   "source": [
    "df.groupby('education')['education_id'].unique()"
   ]
  },
  {
   "cell_type": "markdown",
   "metadata": {
    "cellId": "a9stri05983oh2ig5gzs3"
   },
   "source": [
    "id is ok!"
   ]
  },
  {
   "cell_type": "code",
   "execution_count": 27,
   "metadata": {
    "cellId": "y24402ytqqfkoy8wcnnhm"
   },
   "outputs": [
    {
     "data": {
      "text/plain": [
       "свадьба                                   797\n",
       "на проведение свадьбы                     777\n",
       "сыграть свадьбу                           774\n",
       "операции с недвижимостью                  676\n",
       "покупка коммерческой недвижимости         664\n",
       "покупка жилья для сдачи                   653\n",
       "операции с жильем                         653\n",
       "операции с коммерческой недвижимостью     651\n",
       "покупка жилья                             647\n",
       "жилье                                     647\n",
       "покупка жилья для семьи                   641\n",
       "строительство собственной недвижимости    635\n",
       "недвижимость                              634\n",
       "операции со своей недвижимостью           630\n",
       "строительство жилой недвижимости          626\n",
       "покупка недвижимости                      624\n",
       "строительство недвижимости                620\n",
       "покупка своего жилья                      620\n",
       "ремонт жилью                              612\n",
       "покупка жилой недвижимости                607\n",
       "на покупку своего автомобиля              505\n",
       "заняться высшим образованием              496\n",
       "автомобиль                                495\n",
       "сделка с подержанным автомобилем          489\n",
       "свой автомобиль                           480\n",
       "на покупку подержанного автомобиля        479\n",
       "автомобили                                478\n",
       "на покупку автомобиля                     472\n",
       "приобретение автомобиля                   462\n",
       "дополнительное образование                462\n",
       "сделка с автомобилем                      455\n",
       "высшее образование                        453\n",
       "получение дополнительного образования     447\n",
       "образование                               447\n",
       "получение образования                     443\n",
       "профильное образование                    436\n",
       "получение высшего образования             426\n",
       "заняться образованием                     412\n",
       "Name: purpose, dtype: int64"
      ]
     },
     "execution_count": 27,
     "metadata": {},
     "output_type": "execute_result"
    }
   ],
   "source": [
    "df['purpose'].value_counts()"
   ]
  },
  {
   "cell_type": "markdown",
   "metadata": {
    "cellId": "hseohpgh8pczngklg8e7a8"
   },
   "source": [
    "I don’t see different registers and obvious errors here, I’ll leave it for lemmatization.\n",
    "\n",
    "I will check the number of duplicates in the data before and after all corrections."
   ]
  },
  {
   "cell_type": "code",
   "execution_count": 28,
   "metadata": {
    "cellId": "yuzxrs127fxrk87ri0qkl"
   },
   "outputs": [
    {
     "data": {
      "text/plain": [
       "54"
      ]
     },
     "execution_count": 28,
     "metadata": {},
     "output_type": "execute_result"
    }
   ],
   "source": [
    "duplicates_original"
   ]
  },
  {
   "cell_type": "code",
   "execution_count": 29,
   "metadata": {
    "cellId": "eneeag5ane32rxg8y3ytm"
   },
   "outputs": [
    {
     "data": {
      "text/plain": [
       "71"
      ]
     },
     "execution_count": 29,
     "metadata": {},
     "output_type": "execute_result"
    }
   ],
   "source": [
    "df.duplicated().sum() #after"
   ]
  },
  {
   "cell_type": "markdown",
   "metadata": {
    "cellId": "pw22k06yz8qfk6ypce4a3r"
   },
   "source": [
    "After fixes, there are more duplicates!"
   ]
  },
  {
   "cell_type": "code",
   "execution_count": 30,
   "metadata": {
    "cellId": "q3qkrhpag9k0mqg1u02m29k"
   },
   "outputs": [],
   "source": [
    "df =  df.drop_duplicates().reset_index(drop = True)"
   ]
  },
  {
   "cell_type": "markdown",
   "metadata": {
    "cellId": "9e2101xrntp8t04cgm09px"
   },
   "source": [
    "**Conclusion:**\n",
    "* removed 54 explicit and 17 implicit duplicates."
   ]
  },
  {
   "cell_type": "code",
   "execution_count": 31,
   "metadata": {
    "cellId": "tuww2n4wfip2os1hqnvtox"
   },
   "outputs": [
    {
     "data": {
      "text/plain": [
       "0"
      ]
     },
     "execution_count": 31,
     "metadata": {},
     "output_type": "execute_result"
    }
   ],
   "source": [
    "df.duplicated().sum()"
   ]
  },
  {
   "cell_type": "markdown",
   "metadata": {
    "cellId": "fj8hizafh6tdbg96ux0a"
   },
   "source": [
    "### Lemmatization"
   ]
  },
  {
   "cell_type": "code",
   "execution_count": 32,
   "metadata": {
    "cellId": "ddpfo043cg6pfp7zn68khs"
   },
   "outputs": [],
   "source": [
    "from pymystem3 import Mystem\n",
    "m = Mystem()\n",
    "from collections import Counter"
   ]
  },
  {
   "cell_type": "markdown",
   "metadata": {
    "cellId": "7ej7oy6zvzuzkw4d7m5rx"
   },
   "source": [
    "In order not to lemmatize the entire df, I will write unique values ​​of goals and their number into the purpose variable. Next, I will cycle through this series and lemmatize the unique value multiplied by its number. I'll put everything in lemmas and see the frequency of lemmas."
   ]
  },
  {
   "cell_type": "code",
   "execution_count": 33,
   "metadata": {
    "cellId": "u091be8g3znhckqgfbnthh"
   },
   "outputs": [
    {
     "data": {
      "text/plain": [
       "[(' ', 33570),\n",
       " ('\\n', 21454),\n",
       " ('недвижимость', 6351),\n",
       " ('покупка', 5897),\n",
       " ('жилье', 4460),\n",
       " ('автомобиль', 4306),\n",
       " ('образование', 4013),\n",
       " ('с', 2918),\n",
       " ('операция', 2604),\n",
       " ('свадьба', 2324),\n",
       " ('свой', 2230),\n",
       " ('на', 2222),\n",
       " ('строительство', 1878),\n",
       " ('высокий', 1374),\n",
       " ('получение', 1314),\n",
       " ('коммерческий', 1311),\n",
       " ('для', 1289),\n",
       " ('жилой', 1230),\n",
       " ('сделка', 941),\n",
       " ('дополнительный', 906),\n",
       " ('заниматься', 904),\n",
       " ('проведение', 768),\n",
       " ('сыграть', 765),\n",
       " ('сдача', 651),\n",
       " ('семья', 638),\n",
       " ('собственный', 635),\n",
       " ('со', 627),\n",
       " ('ремонт', 607),\n",
       " ('подержанный', 486),\n",
       " ('подержать', 478),\n",
       " ('приобретение', 461),\n",
       " ('профильный', 436)]"
      ]
     },
     "execution_count": 33,
     "metadata": {},
     "output_type": "execute_result"
    }
   ],
   "source": [
    "purpose = df['purpose'].value_counts()\n",
    "lemmas = []\n",
    "\n",
    "for i in range(len(purpose)):\n",
    "    for j in range(purpose[i]):\n",
    "        lemmas.extend(m.lemmatize(purpose.index[i]))\n",
    "\n",
    "Counter(lemmas).most_common()"
   ]
  },
  {
   "cell_type": "markdown",
   "metadata": {
    "cellId": "s35j2ftqyifrfnfmmfotxa"
   },
   "source": [
    "It can be seen that if you skip spaces and newlines, then the 10 most common values ​​are: 'real estate', 'purchase', 'housing', 'car', 'education', 'from', 'operation', 'wedding', ' own', 'on'. Throw out 'operation' and 'purchase', leaving the nouns 'real estate', 'housing', 'car', 'education' and 'wedding'. Real estate and housing in this case are synonyms, a total of four categories.\n",
    "\n",
    "To answer the question about the relationship between the purpose of the loan and repayment on time, it is necessary to categorize by purpose. From the list of unique goals above, you can see that there are four final goals in total:\n",
    "* wedding\n",
    "* real estate\n",
    "* automobile\n",
    "* education\n",
    "\n",
    "I'll write a function that will take a string with the purpose of the loan and return the category."
   ]
  },
  {
   "cell_type": "code",
   "execution_count": 34,
   "metadata": {
    "cellId": "izta43mhuyj9lx7i1jau87"
   },
   "outputs": [],
   "source": [
    "def purpose_category(cell):\n",
    "    if 'свадьба' in m.lemmatize(cell):\n",
    "        return 'свадьба'\n",
    "    if 'жилье' in m.lemmatize(cell) or 'недвижимость' in m.lemmatize(cell):\n",
    "        return 'недвижимость'\n",
    "    if 'автомобиль' in m.lemmatize(cell):\n",
    "        return 'автомобиль'\n",
    "    if 'образование' in m.lemmatize(cell):\n",
    "        return 'образование'\n",
    "    return 'undefined'\n",
    "    "
   ]
  },
  {
   "cell_type": "markdown",
   "metadata": {
    "cellId": "mht6dhk5rwqi2o297s7eh"
   },
   "source": [
    "**Conclusion:**\n",
    "* written function lemmatized and categorized loan goals.\n",
    "\n",
    "### Data categorization\n",
    "\n",
    "I will apply the function to 'purpose' and categorize the purpose of the loan."
   ]
  },
  {
   "cell_type": "code",
   "execution_count": 36,
   "metadata": {
    "cellId": "cx1pzmnz626rl504ik2vu9"
   },
   "outputs": [],
   "source": [
    "df['loan_category'] = df['purpose'].apply(purpose_category)"
   ]
  },
  {
   "cell_type": "markdown",
   "metadata": {
    "cellId": "gds6rjsjl3kmnrbv7m7u3a"
   },
   "source": [
    "Perhaps it is worth dividing the income by category? Let's look at the distribution of income:"
   ]
  },
  {
   "cell_type": "code",
   "execution_count": 37,
   "metadata": {
    "cellId": "xrxn9pq60312cnmzecnwdb"
   },
   "outputs": [
    {
     "data": {
      "text/plain": [
       "<matplotlib.axes._subplots.AxesSubplot at 0x7f8e3853a190>"
      ]
     },
     "execution_count": 37,
     "metadata": {},
     "output_type": "execute_result"
    },
    {
     "data": {
      "image/png": "[encoded data removed]",
      "text/plain": [
       "<Figure size 936x504 with 1 Axes>"
      ]
     },
     "metadata": {
      "needs_background": "light"
     },
     "output_type": "display_data"
    }
   ],
   "source": [
    "df['total_income'].hist(bins=50, figsize = (13, 7), xlabelsize=15, color = 'grey', range = (15000, 500000))"
   ]
  },
  {
   "cell_type": "markdown",
   "metadata": {
    "cellId": "t2i12qy0cpjpzk77syliu"
   },
   "source": [
    "Let me break it down into 3 categories:\n",
    "* low (up to 25th percentile)\n",
    "* averages (from 25th to 75th percentile)\n",
    "* high (from 75th percentile)"
   ]
  },
  {
   "cell_type": "code",
   "execution_count": 38,
   "metadata": {
    "cellId": "0kl8fhjsva6twwi02kcumn"
   },
   "outputs": [
    {
     "data": {
      "text/plain": [
       "count    2.145400e+04\n",
       "mean     1.653174e+05\n",
       "std      9.828163e+04\n",
       "min      2.066700e+04\n",
       "25%      1.076230e+05\n",
       "50%      1.441265e+05\n",
       "75%      1.968180e+05\n",
       "max      2.265604e+06\n",
       "Name: total_income, dtype: float64"
      ]
     },
     "execution_count": 38,
     "metadata": {},
     "output_type": "execute_result"
    }
   ],
   "source": [
    "df['total_income'].describe()"
   ]
  },
  {
   "cell_type": "markdown",
   "metadata": {
    "cellId": "9zkhsdzj1rs2qclwywmhv2"
   },
   "source": [
    "Create a function to categorize income and apply it."
   ]
  },
  {
   "cell_type": "code",
   "execution_count": 39,
   "metadata": {
    "cellId": "a2ncifwggfd91q6hea2w"
   },
   "outputs": [],
   "source": [
    "def income_category(cell):\n",
    "    if cell<=1.076230e+05:\n",
    "        return 'низкий'\n",
    "    if cell<=1.968180e+05:\n",
    "        return 'средний'\n",
    "    return 'высокий'\n",
    "\n",
    "df['income_category'] = df['total_income'].apply(income_category)\n",
    "#df.head(20)"
   ]
  },
  {
   "cell_type": "markdown",
   "metadata": {
    "cellId": "vkyyuc7gtydpxotmazoaw"
   },
   "source": [
    "I'll break it down into categories based on the presence of children."
   ]
  },
  {
   "cell_type": "code",
   "execution_count": 40,
   "metadata": {
    "cellId": "sfoor63vqifzttvsfbbpqp"
   },
   "outputs": [],
   "source": [
    "def children_category(cell):\n",
    "    if cell==0:\n",
    "        return 'без детей'\n",
    "    if cell==1:\n",
    "        return 'один ребенок'\n",
    "    if cell==2:\n",
    "        return 'двое детей'\n",
    "    return 'более двух детей'\n",
    "\n",
    "df['children_category'] = df['children'].apply(children_category)\n",
    "#df.head(20)"
   ]
  },
  {
   "cell_type": "markdown",
   "metadata": {
    "cellId": "g4fsdonw7g5rqlyayltkc"
   },
   "source": [
    "**Conclusion:**\n",
    "* Since similar goals are written differently in the 'purpose' column, I have divided the goals into categories.\n",
    "* divided into categories by the number of children\n",
    "* split income into three levels\n",
    "\n",
    "## Step 3: Answer the questions\n",
    "\n",
    "__Is there a relationship between having children and repaying the loan on time?__\n",
    "\n",
    "To begin with, let's look at how many people on average have problems with payments. And then compare this number with people with children."
   ]
  },
  {
   "cell_type": "code",
   "execution_count": 41,
   "metadata": {
    "cellId": "yrun535jnrq5jy2hxyd8e"
   },
   "outputs": [
    {
     "name": "stdout",
     "output_type": "stream",
     "text": [
      "Задолженность в среднем: 8.115%\n"
     ]
    }
   ],
   "source": [
    "print('Average debt: {:.3%}'.format(df['debt'].mean()))"
   ]
  },
  {
   "cell_type": "code",
   "execution_count": 42,
   "metadata": {
    "cellId": "0qioy2qyzgshuf9ojgl6hb"
   },
   "outputs": [
    {
     "name": "stdout",
     "output_type": "stream",
     "text": [
      "Задолженность и отсутствие детей: 7.544%\n",
      "Задолженность и наличие детей: 9.208%\n",
      "Задолженность и 1 ребенок: 9.166%\n",
      "Задолженность и 2 и более детей: 9.290%\n",
      "\n"
     ]
    },
    {
     "data": {
      "text/html": [
       "<div>\n",
       "<style scoped>\n",
       "    .dataframe tbody tr th:only-of-type {\n",
       "        vertical-align: middle;\n",
       "    }\n",
       "\n",
       "    .dataframe tbody tr th {\n",
       "        vertical-align: top;\n",
       "    }\n",
       "\n",
       "    .dataframe thead th {\n",
       "        text-align: right;\n",
       "    }\n",
       "</style>\n",
       "<table border=\"1\" class=\"dataframe\">\n",
       "  <thead>\n",
       "    <tr style=\"text-align: right;\">\n",
       "      <th></th>\n",
       "      <th>children</th>\n",
       "      <th>debt</th>\n",
       "    </tr>\n",
       "  </thead>\n",
       "  <tbody>\n",
       "    <tr>\n",
       "      <td>0</td>\n",
       "      <td>0</td>\n",
       "      <td>7.543822</td>\n",
       "    </tr>\n",
       "    <tr>\n",
       "      <td>1</td>\n",
       "      <td>1</td>\n",
       "      <td>9.165808</td>\n",
       "    </tr>\n",
       "    <tr>\n",
       "      <td>2</td>\n",
       "      <td>2</td>\n",
       "      <td>9.492481</td>\n",
       "    </tr>\n",
       "    <tr>\n",
       "      <td>3</td>\n",
       "      <td>3</td>\n",
       "      <td>8.181818</td>\n",
       "    </tr>\n",
       "    <tr>\n",
       "      <td>4</td>\n",
       "      <td>4</td>\n",
       "      <td>9.756098</td>\n",
       "    </tr>\n",
       "  </tbody>\n",
       "</table>\n",
       "</div>"
      ],
      "text/plain": [
       "   children      debt\n",
       "0         0  7.543822\n",
       "1         1  9.165808\n",
       "2         2  9.492481\n",
       "3         3  8.181818\n",
       "4         4  9.756098"
      ]
     },
     "execution_count": 42,
     "metadata": {},
     "output_type": "execute_result"
    }
   ],
   "source": [
    "print('Debt and no children: {:.3%}'.format(df[df['children']==0]['debt'].mean()))\n",
    "print('Debt and having children: {:.3%}'.format(df[df['children']>0]['debt'].mean()))\n",
    "print('Debt and 1 child: {:.3%}'.format(df[df['children']==1]['debt'].mean()))\n",
    "print('Debt and 2 or more children: {:.3%}'.format(df[df['children']>=2]['debt'].mean()))\n",
    "print()\n",
    "df_children  = pd.DataFrame(df.groupby('children')['debt'].mean().reset_index())\n",
    "df_children = df_children.drop(5) #нулевое значение долга\n",
    "df_children['debt'] = df_children['debt']*100\n",
    "df_children"
   ]
  },
  {
   "cell_type": "markdown",
   "metadata": {
    "cellId": "aabc7q49tpj0p08oh9ayvk"
   },
   "source": [
    "**Conclusion:**\n",
    "* The presence of children increases the probability of not repaying the loan on time by 1.7%\n",
    "\n",
    "__Is there a relationship between marital status and loan repayment on time?__"
   ]
  },
  {
   "cell_type": "code",
   "execution_count": 43,
   "metadata": {
    "cellId": "kyt4tvbw38cx8249y1zmj"
   },
   "outputs": [
    {
     "data": {
      "text/html": [
       "<div>\n",
       "<style scoped>\n",
       "    .dataframe tbody tr th:only-of-type {\n",
       "        vertical-align: middle;\n",
       "    }\n",
       "\n",
       "    .dataframe tbody tr th {\n",
       "        vertical-align: top;\n",
       "    }\n",
       "\n",
       "    .dataframe thead th {\n",
       "        text-align: right;\n",
       "    }\n",
       "</style>\n",
       "<table border=\"1\" class=\"dataframe\">\n",
       "  <thead>\n",
       "    <tr style=\"text-align: right;\">\n",
       "      <th></th>\n",
       "      <th>family_status</th>\n",
       "      <th>debt</th>\n",
       "    </tr>\n",
       "  </thead>\n",
       "  <tbody>\n",
       "    <tr>\n",
       "      <td>0</td>\n",
       "      <td>в разводе</td>\n",
       "      <td>7.112971</td>\n",
       "    </tr>\n",
       "    <tr>\n",
       "      <td>1</td>\n",
       "      <td>вдовец / вдова</td>\n",
       "      <td>6.569343</td>\n",
       "    </tr>\n",
       "    <tr>\n",
       "      <td>2</td>\n",
       "      <td>гражданский брак</td>\n",
       "      <td>9.347145</td>\n",
       "    </tr>\n",
       "    <tr>\n",
       "      <td>3</td>\n",
       "      <td>женат / замужем</td>\n",
       "      <td>7.545182</td>\n",
       "    </tr>\n",
       "    <tr>\n",
       "      <td>4</td>\n",
       "      <td>не женат / не замужем</td>\n",
       "      <td>9.750890</td>\n",
       "    </tr>\n",
       "  </tbody>\n",
       "</table>\n",
       "</div>"
      ],
      "text/plain": [
       "           family_status      debt\n",
       "0              в разводе  7.112971\n",
       "1         вдовец / вдова  6.569343\n",
       "2       гражданский брак  9.347145\n",
       "3        женат / замужем  7.545182\n",
       "4  не женат / не замужем  9.750890"
      ]
     },
     "metadata": {},
     "output_type": "display_data"
    }
   ],
   "source": [
    "df_family = pd.DataFrame(df.groupby('family_status')['debt'].mean().reset_index())\n",
    "df_family['debt']=df_family['debt']*100 #convert to percentage for clarity\n",
    "df_family"
   ]
  },
  {
   "cell_type": "markdown",
   "metadata": {
    "cellId": "a74rrhcryloyyb620vnj4"
   },
   "source": [
    "**Conclusion:**\n",
    "* More often than not, people who are in a civil marriage or single do not repay the loan on time. Among people who are married, the percentage is close to the average. And people who are divorced or have lost their spouses have fewer problems repaying loans with due date.\n",
    "\n",
    "__Is there a relationship between the level of income and repayment of the loan on time?__"
   ]
  },
  {
   "cell_type": "code",
   "execution_count": 52,
   "metadata": {
    "cellId": "kqd82fa84dk2gwdd1etwph"
   },
   "outputs": [
    {
     "data": {
      "text/html": [
       "<div>\n",
       "<style scoped>\n",
       "    .dataframe tbody tr th:only-of-type {\n",
       "        vertical-align: middle;\n",
       "    }\n",
       "\n",
       "    .dataframe tbody tr th {\n",
       "        vertical-align: top;\n",
       "    }\n",
       "\n",
       "    .dataframe thead th {\n",
       "        text-align: right;\n",
       "    }\n",
       "</style>\n",
       "<table border=\"1\" class=\"dataframe\">\n",
       "  <thead>\n",
       "    <tr style=\"text-align: right;\">\n",
       "      <th></th>\n",
       "      <th>income_category</th>\n",
       "      <th>debt</th>\n",
       "    </tr>\n",
       "  </thead>\n",
       "  <tbody>\n",
       "    <tr>\n",
       "      <td>0</td>\n",
       "      <td>высокий</td>\n",
       "      <td>7.121269</td>\n",
       "    </tr>\n",
       "    <tr>\n",
       "      <td>1</td>\n",
       "      <td>низкий</td>\n",
       "      <td>7.960477</td>\n",
       "    </tr>\n",
       "    <tr>\n",
       "      <td>2</td>\n",
       "      <td>средний</td>\n",
       "      <td>8.679140</td>\n",
       "    </tr>\n",
       "  </tbody>\n",
       "</table>\n",
       "</div>"
      ],
      "text/plain": [
       "  income_category      debt\n",
       "0         высокий  7.121269\n",
       "1          низкий  7.960477\n",
       "2         средний  8.679140"
      ]
     },
     "metadata": {},
     "output_type": "display_data"
    }
   ],
   "source": [
    "df_income_cat = pd.DataFrame(df.groupby('income_category')['debt'].mean().reset_index())\n",
    "df_income_cat['debt']=df_income_cat['debt']*100 #convertion to percentage\n",
    "df_income_cat"
   ]
  },
  {
   "cell_type": "markdown",
   "metadata": {
    "cellId": "90znkx8u0a97r9w2pifqmq"
   },
   "source": [
    "**Conclusions:**\n",
    "* people with average income often do not repay the loan on time\n",
    "\n",
    "__How do different purposes of a loan affect its repayment on time?__\n",
    "\n",
    "I will do the same as in the family situation."
   ]
  },
  {
   "cell_type": "code",
   "execution_count": 53,
   "metadata": {
    "cellId": "qwob02w97sbsd6saehrrf"
   },
   "outputs": [
    {
     "data": {
      "text/html": [
       "<div>\n",
       "<style scoped>\n",
       "    .dataframe tbody tr th:only-of-type {\n",
       "        vertical-align: middle;\n",
       "    }\n",
       "\n",
       "    .dataframe tbody tr th {\n",
       "        vertical-align: top;\n",
       "    }\n",
       "\n",
       "    .dataframe thead th {\n",
       "        text-align: right;\n",
       "    }\n",
       "</style>\n",
       "<table border=\"1\" class=\"dataframe\">\n",
       "  <thead>\n",
       "    <tr style=\"text-align: right;\">\n",
       "      <th></th>\n",
       "      <th>loan_category</th>\n",
       "      <th>debt</th>\n",
       "    </tr>\n",
       "  </thead>\n",
       "  <tbody>\n",
       "    <tr>\n",
       "      <td>0</td>\n",
       "      <td>автомобиль</td>\n",
       "      <td>9.359034</td>\n",
       "    </tr>\n",
       "    <tr>\n",
       "      <td>1</td>\n",
       "      <td>недвижимость</td>\n",
       "      <td>7.233373</td>\n",
       "    </tr>\n",
       "    <tr>\n",
       "      <td>2</td>\n",
       "      <td>образование</td>\n",
       "      <td>9.220035</td>\n",
       "    </tr>\n",
       "    <tr>\n",
       "      <td>3</td>\n",
       "      <td>свадьба</td>\n",
       "      <td>8.003442</td>\n",
       "    </tr>\n",
       "  </tbody>\n",
       "</table>\n",
       "</div>"
      ],
      "text/plain": [
       "  loan_category      debt\n",
       "0    автомобиль  9.359034\n",
       "1  недвижимость  7.233373\n",
       "2   образование  9.220035\n",
       "3       свадьба  8.003442"
      ]
     },
     "metadata": {},
     "output_type": "display_data"
    }
   ],
   "source": [
    "df_loan_cat = pd.DataFrame(df.groupby('loan_category')['debt'].mean().reset_index())\n",
    "df_loan_cat['debt']=df_loan_cat['debt']*100 #переведу в проценты для наглядности\n",
    "df_loan_cat"
   ]
  },
  {
   "cell_type": "markdown",
   "metadata": {
    "cellId": "h52ujk61we6hvlrsw6kli"
   },
   "source": [
    "**Conclusion**\n",
    "* among people who took out a loan for a car and education, there is a debt above the average by 1%, while among real estate loans, debt is minimal.\n",
    "\n",
    "__Is there a relationship between having children and repaying the loan on time?__"
   ]
  },
  {
   "cell_type": "code",
   "execution_count": 54,
   "metadata": {
    "cellId": "a4l818tmm6a0x5n4ky123la"
   },
   "outputs": [
    {
     "data": {
      "text/html": [
       "<div>\n",
       "<style scoped>\n",
       "    .dataframe tbody tr th:only-of-type {\n",
       "        vertical-align: middle;\n",
       "    }\n",
       "\n",
       "    .dataframe tbody tr th {\n",
       "        vertical-align: top;\n",
       "    }\n",
       "\n",
       "    .dataframe thead th {\n",
       "        text-align: right;\n",
       "    }\n",
       "</style>\n",
       "<table border=\"1\" class=\"dataframe\">\n",
       "  <thead>\n",
       "    <tr style=\"text-align: right;\">\n",
       "      <th></th>\n",
       "      <th>debt</th>\n",
       "    </tr>\n",
       "    <tr>\n",
       "      <th>children_category</th>\n",
       "      <th></th>\n",
       "    </tr>\n",
       "  </thead>\n",
       "  <tbody>\n",
       "    <tr>\n",
       "      <td>без детей</td>\n",
       "      <td>7.5</td>\n",
       "    </tr>\n",
       "    <tr>\n",
       "      <td>более двух детей</td>\n",
       "      <td>8.2</td>\n",
       "    </tr>\n",
       "    <tr>\n",
       "      <td>один ребенок</td>\n",
       "      <td>9.2</td>\n",
       "    </tr>\n",
       "    <tr>\n",
       "      <td>двое детей</td>\n",
       "      <td>9.5</td>\n",
       "    </tr>\n",
       "  </tbody>\n",
       "</table>\n",
       "</div>"
      ],
      "text/plain": [
       "                   debt\n",
       "children_category      \n",
       "без детей           7.5\n",
       "более двух детей    8.2\n",
       "один ребенок        9.2\n",
       "двое детей          9.5"
      ]
     },
     "metadata": {},
     "output_type": "display_data"
    }
   ],
   "source": [
    "df.pivot_table(index=['children_category'], values='debt', aggfunc='mean').sort_values(by='debt').round(3)*100"
   ]
  },
  {
   "cell_type": "markdown",
   "metadata": {
    "cellId": "as23c8omol7gwwyo7eb9w"
   },
   "source": [
    "__Is there a relationship between marital status and loan repayment on time?__"
   ]
  },
  {
   "cell_type": "code",
   "execution_count": 55,
   "metadata": {
    "cellId": "cvlrvrz3m0cwpznxa0tnnk"
   },
   "outputs": [
    {
     "data": {
      "text/html": [
       "<div>\n",
       "<style scoped>\n",
       "    .dataframe tbody tr th:only-of-type {\n",
       "        vertical-align: middle;\n",
       "    }\n",
       "\n",
       "    .dataframe tbody tr th {\n",
       "        vertical-align: top;\n",
       "    }\n",
       "\n",
       "    .dataframe thead th {\n",
       "        text-align: right;\n",
       "    }\n",
       "</style>\n",
       "<table border=\"1\" class=\"dataframe\">\n",
       "  <thead>\n",
       "    <tr style=\"text-align: right;\">\n",
       "      <th></th>\n",
       "      <th>debt</th>\n",
       "    </tr>\n",
       "    <tr>\n",
       "      <th>family_status</th>\n",
       "      <th></th>\n",
       "    </tr>\n",
       "  </thead>\n",
       "  <tbody>\n",
       "    <tr>\n",
       "      <td>вдовец / вдова</td>\n",
       "      <td>6.6</td>\n",
       "    </tr>\n",
       "    <tr>\n",
       "      <td>в разводе</td>\n",
       "      <td>7.1</td>\n",
       "    </tr>\n",
       "    <tr>\n",
       "      <td>женат / замужем</td>\n",
       "      <td>7.5</td>\n",
       "    </tr>\n",
       "    <tr>\n",
       "      <td>гражданский брак</td>\n",
       "      <td>9.3</td>\n",
       "    </tr>\n",
       "    <tr>\n",
       "      <td>не женат / не замужем</td>\n",
       "      <td>9.8</td>\n",
       "    </tr>\n",
       "  </tbody>\n",
       "</table>\n",
       "</div>"
      ],
      "text/plain": [
       "                       debt\n",
       "family_status              \n",
       "вдовец / вдова          6.6\n",
       "в разводе               7.1\n",
       "женат / замужем         7.5\n",
       "гражданский брак        9.3\n",
       "не женат / не замужем   9.8"
      ]
     },
     "metadata": {},
     "output_type": "display_data"
    }
   ],
   "source": [
    "df.pivot_table(index=['family_status'], values='debt', aggfunc='mean').sort_values(by='debt').round(3)*100"
   ]
  },
  {
   "cell_type": "markdown",
   "metadata": {
    "cellId": "c9avo1y07ca28ccirmgqyk"
   },
   "source": [
    "__Is there a relationship between the level of income and repayment of the loan on time?__"
   ]
  },
  {
   "cell_type": "code",
   "execution_count": 56,
   "metadata": {
    "cellId": "d9ancrcohr6tcw35gzumem"
   },
   "outputs": [
    {
     "data": {
      "text/html": [
       "<div>\n",
       "<style scoped>\n",
       "    .dataframe tbody tr th:only-of-type {\n",
       "        vertical-align: middle;\n",
       "    }\n",
       "\n",
       "    .dataframe tbody tr th {\n",
       "        vertical-align: top;\n",
       "    }\n",
       "\n",
       "    .dataframe thead th {\n",
       "        text-align: right;\n",
       "    }\n",
       "</style>\n",
       "<table border=\"1\" class=\"dataframe\">\n",
       "  <thead>\n",
       "    <tr style=\"text-align: right;\">\n",
       "      <th></th>\n",
       "      <th>debt</th>\n",
       "    </tr>\n",
       "    <tr>\n",
       "      <th>income_category</th>\n",
       "      <th></th>\n",
       "    </tr>\n",
       "  </thead>\n",
       "  <tbody>\n",
       "    <tr>\n",
       "      <td>высокий</td>\n",
       "      <td>7.1</td>\n",
       "    </tr>\n",
       "    <tr>\n",
       "      <td>низкий</td>\n",
       "      <td>8.0</td>\n",
       "    </tr>\n",
       "    <tr>\n",
       "      <td>средний</td>\n",
       "      <td>8.7</td>\n",
       "    </tr>\n",
       "  </tbody>\n",
       "</table>\n",
       "</div>"
      ],
      "text/plain": [
       "                 debt\n",
       "income_category      \n",
       "высокий           7.1\n",
       "низкий            8.0\n",
       "средний           8.7"
      ]
     },
     "metadata": {},
     "output_type": "display_data"
    }
   ],
   "source": [
    "df.pivot_table(index=['income_category'], values='debt', aggfunc='mean').sort_values(by='debt').round(3)*100"
   ]
  },
  {
   "cell_type": "markdown",
   "metadata": {
    "cellId": "ml2mpmf41uaarh2t8ote9"
   },
   "source": [
    "__How do different purposes of a loan affect its repayment on time?__"
   ]
  },
  {
   "cell_type": "code",
   "execution_count": 57,
   "metadata": {
    "cellId": "r1ntqlu0p4m4a9z7pd54fq"
   },
   "outputs": [
    {
     "data": {
      "text/html": [
       "<div>\n",
       "<style scoped>\n",
       "    .dataframe tbody tr th:only-of-type {\n",
       "        vertical-align: middle;\n",
       "    }\n",
       "\n",
       "    .dataframe tbody tr th {\n",
       "        vertical-align: top;\n",
       "    }\n",
       "\n",
       "    .dataframe thead th {\n",
       "        text-align: right;\n",
       "    }\n",
       "</style>\n",
       "<table border=\"1\" class=\"dataframe\">\n",
       "  <thead>\n",
       "    <tr style=\"text-align: right;\">\n",
       "      <th></th>\n",
       "      <th>debt</th>\n",
       "    </tr>\n",
       "    <tr>\n",
       "      <th>loan_category</th>\n",
       "      <th></th>\n",
       "    </tr>\n",
       "  </thead>\n",
       "  <tbody>\n",
       "    <tr>\n",
       "      <td>недвижимость</td>\n",
       "      <td>7.2</td>\n",
       "    </tr>\n",
       "    <tr>\n",
       "      <td>свадьба</td>\n",
       "      <td>8.0</td>\n",
       "    </tr>\n",
       "    <tr>\n",
       "      <td>образование</td>\n",
       "      <td>9.2</td>\n",
       "    </tr>\n",
       "    <tr>\n",
       "      <td>автомобиль</td>\n",
       "      <td>9.4</td>\n",
       "    </tr>\n",
       "  </tbody>\n",
       "</table>\n",
       "</div>"
      ],
      "text/plain": [
       "               debt\n",
       "loan_category      \n",
       "недвижимость    7.2\n",
       "свадьба         8.0\n",
       "образование     9.2\n",
       "автомобиль      9.4"
      ]
     },
     "metadata": {},
     "output_type": "display_data"
    }
   ],
   "source": [
    "df.pivot_table(index=['loan_category'], values='debt', aggfunc='mean').sort_values(by='debt').round(3)*100"
   ]
  },
  {
   "cell_type": "code",
   "execution_count": 58,
   "metadata": {
    "cellId": "k8iejwm2ju0lm9mm96ztvj"
   },
   "outputs": [
    {
     "data": {
      "text/html": [
       "<div>\n",
       "<style scoped>\n",
       "    .dataframe tbody tr th:only-of-type {\n",
       "        vertical-align: middle;\n",
       "    }\n",
       "\n",
       "    .dataframe tbody tr th {\n",
       "        vertical-align: top;\n",
       "    }\n",
       "\n",
       "    .dataframe thead th {\n",
       "        text-align: right;\n",
       "    }\n",
       "</style>\n",
       "<table border=\"1\" class=\"dataframe\">\n",
       "  <thead>\n",
       "    <tr style=\"text-align: right;\">\n",
       "      <th></th>\n",
       "      <th>children_category</th>\n",
       "      <th>family_status</th>\n",
       "      <th>income_category</th>\n",
       "      <th>loan_category</th>\n",
       "      <th>count</th>\n",
       "      <th>debt</th>\n",
       "    </tr>\n",
       "  </thead>\n",
       "  <tbody>\n",
       "    <tr>\n",
       "      <td>157</td>\n",
       "      <td>один ребенок</td>\n",
       "      <td>гражданский брак</td>\n",
       "      <td>средний</td>\n",
       "      <td>недвижимость</td>\n",
       "      <td>131.0</td>\n",
       "      <td>16.8</td>\n",
       "    </tr>\n",
       "    <tr>\n",
       "      <td>28</td>\n",
       "      <td>без детей</td>\n",
       "      <td>гражданский брак</td>\n",
       "      <td>средний</td>\n",
       "      <td>образование</td>\n",
       "      <td>138.0</td>\n",
       "      <td>15.2</td>\n",
       "    </tr>\n",
       "    <tr>\n",
       "      <td>155</td>\n",
       "      <td>один ребенок</td>\n",
       "      <td>гражданский брак</td>\n",
       "      <td>низкий</td>\n",
       "      <td>свадьба</td>\n",
       "      <td>129.0</td>\n",
       "      <td>14.0</td>\n",
       "    </tr>\n",
       "    <tr>\n",
       "      <td>163</td>\n",
       "      <td>один ребенок</td>\n",
       "      <td>женат / замужем</td>\n",
       "      <td>низкий</td>\n",
       "      <td>автомобиль</td>\n",
       "      <td>158.0</td>\n",
       "      <td>13.3</td>\n",
       "    </tr>\n",
       "    <tr>\n",
       "      <td>39</td>\n",
       "      <td>без детей</td>\n",
       "      <td>не женат / не замужем</td>\n",
       "      <td>высокий</td>\n",
       "      <td>автомобиль</td>\n",
       "      <td>123.0</td>\n",
       "      <td>13.0</td>\n",
       "    </tr>\n",
       "  </tbody>\n",
       "</table>\n",
       "</div>"
      ],
      "text/plain": [
       "    children_category          family_status income_category loan_category  \\\n",
       "157      один ребенок       гражданский брак         средний  недвижимость   \n",
       "28          без детей       гражданский брак         средний   образование   \n",
       "155      один ребенок       гражданский брак          низкий       свадьба   \n",
       "163      один ребенок        женат / замужем          низкий    автомобиль   \n",
       "39          без детей  не женат / не замужем         высокий    автомобиль   \n",
       "\n",
       "     count  debt  \n",
       "157  131.0  16.8  \n",
       "28   138.0  15.2  \n",
       "155  129.0  14.0  \n",
       "163  158.0  13.3  \n",
       "39   123.0  13.0  "
      ]
     },
     "metadata": {},
     "output_type": "display_data"
    }
   ],
   "source": [
    "#creating pivot\n",
    "pivot_final = df.pivot_table(index=['children_category', 'family_status', 'income_category', 'loan_category'], \n",
    "                             values='debt', aggfunc=('mean', 'count')).reset_index()\n",
    "#sorting\n",
    "pivot_final = pivot_final.sort_values(by=['mean'], ascending=False)\n",
    "\n",
    "pivot_final = pivot_final.rename(columns={'mean': 'debt'})\n",
    "pivot_final['debt'] = (pivot_final['debt']*100).round(1)\n",
    "\n",
    "#first 5 with count>100\n",
    "pivot_final[pivot_final['count']>100].head()"
   ]
  },
  {
   "cell_type": "markdown",
   "metadata": {
    "cellId": "mc0xmcbblqr2e84kw5mvmc"
   },
   "source": [
    "## Step 4. General conclusion\n",
    "\n",
    "I analyzed the debt depending on various factors:\n",
    "* average debt is 8%,\n",
    "* the contribution of each different factor to the debt is 1-1.5%\n",
    "* people with children often do not repay the loan on time,\n",
    "* marital status affects debt, unmarried people have higher debt,\n",
    "* the level of income does not affect the debt,\n",
    "* loans for a car and education are more \"problematic\" than real estate and a wedding."
   ]
  },
  {
   "cell_type": "code",
   "execution_count": 59,
   "metadata": {
    "cellId": "woyazi4k135cx8t0qm2j3"
   },
   "outputs": [
    {
     "data": {
      "text/plain": [
       "0.15126050420168066"
      ]
     },
     "metadata": {},
     "output_type": "display_data"
    }
   ],
   "source": [
    "df[(df['children']>0) & (df['loan_category']=='автомобиль') & (df['family_status_id']==4)]['debt'].mean()"
   ]
  },
  {
   "cell_type": "markdown",
   "metadata": {
    "cellId": "i3waezrc516zjcu797mgl"
   },
   "source": [
    "For example, unmarried people with children who take money for a car have debts that are almost 2 times higher than the average.\n",
    "<div> I visualize the results."
   ]
  },
  {
   "cell_type": "code",
   "execution_count": 60,
   "metadata": {
    "cellId": "wivujnvxncibwsaembu82r",
    "scrolled": false
   },
   "outputs": [
    {
     "data": {
      "image/png": "[encoded data removed]",
      "text/plain": [
       "<Figure size 432x288 with 1 Axes>"
      ]
     },
     "metadata": {
      "needs_background": "light"
     },
     "output_type": "display_data"
    },
    {
     "data": {
      "image/png": "[encoded data removed]",
      "text/plain": [
       "<Figure size 432x288 with 1 Axes>"
      ]
     },
     "metadata": {
      "needs_background": "light"
     },
     "output_type": "display_data"
    },
    {
     "data": {
      "image/png": "[encoded data removed]",
      "text/plain": [
       "<Figure size 432x288 with 1 Axes>"
      ]
     },
     "metadata": {
      "needs_background": "light"
     },
     "output_type": "display_data"
    },
    {
     "data": {
      "image/png": "[encoded data removed]",
      "text/plain": [
       "<Figure size 432x288 with 1 Axes>"
      ]
     },
     "metadata": {
      "needs_background": "light"
     },
     "output_type": "display_data"
    }
   ],
   "source": [
    "fig = plt.figure()\n",
    "ax = fig.add_axes([0,0,1.5,1.5])\n",
    "status = df_children['children']\n",
    "value = df_children['debt']\n",
    "ax.bar(status,value, color='lightgreen')\n",
    "plt.axhline(y=8.088, color='red', linestyle='--') #average debt\n",
    "plt.ylabel('debt, %', fontsize=18)\n",
    "plt.xlabel('количество детей', fontsize=14)\n",
    "plt.show()\n",
    "\n",
    "fig = plt.figure()\n",
    "ax = fig.add_axes([0,0,1.5,1.5])\n",
    "status = df_family['family_status']\n",
    "value = df_family['debt']\n",
    "ax.bar(status,value, color='pink')\n",
    "plt.axhline(y=8.088, color='red', linestyle='--') #average debt\n",
    "plt.ylabel('debt, %', fontsize=18)\n",
    "plt.show()\n",
    "\n",
    "fig = plt.figure()\n",
    "ax = fig.add_axes([0,0,1.5,1.5])\n",
    "status = df_income_cat['income_category']\n",
    "value = df_income_cat['debt']\n",
    "ax.bar(status,value, color='lightblue')\n",
    "plt.axhline(y=8.088, color='red', linestyle='--') #average debt\n",
    "plt.ylabel('debt, %', fontsize=18)\n",
    "plt.show()\n",
    "\n",
    "fig = plt.figure()\n",
    "ax = fig.add_axes([0,0,1.5,1.5])\n",
    "status = df_loan_cat['loan_category']\n",
    "value = df_loan_cat['debt']\n",
    "ax.bar(status,value, color='purple')\n",
    "plt.axhline(y=8.088, color='red', linestyle='--') #average debt\n",
    "plt.ylabel('debt, %', fontsize=18)\n",
    "plt.show()"
   ]
  }
 ],
 "metadata": {
  "ExecuteTimeLog": [
   {
    "duration": 5,
    "start_time": "2021-12-06T12:07:10.257Z"
   },
   {
    "duration": 1606,
    "start_time": "2021-12-06T12:07:10.264Z"
   },
   {
    "duration": 58,
    "start_time": "2021-12-06T12:07:11.874Z"
   },
   {
    "duration": 34,
    "start_time": "2021-12-06T12:07:11.935Z"
   },
   {
    "duration": 10,
    "start_time": "2021-12-06T12:07:11.971Z"
   },
   {
    "duration": 7,
    "start_time": "2021-12-06T12:07:11.983Z"
   },
   {
    "duration": 21,
    "start_time": "2021-12-06T12:07:11.992Z"
   },
   {
    "duration": 98,
    "start_time": "2021-12-06T12:07:12.016Z"
   },
   {
    "duration": 17,
    "start_time": "2021-12-06T12:07:12.120Z"
   },
   {
    "duration": 61,
    "start_time": "2021-12-06T12:07:12.141Z"
   },
   {
    "duration": 12803,
    "start_time": "2021-12-06T12:07:12.205Z"
   },
   {
    "duration": 20,
    "start_time": "2021-12-06T12:07:25.010Z"
   },
   {
    "duration": 33,
    "start_time": "2021-12-06T12:07:25.032Z"
   },
   {
    "duration": 31,
    "start_time": "2021-12-06T12:07:25.067Z"
   },
   {
    "duration": 10,
    "start_time": "2021-12-06T12:07:25.100Z"
   },
   {
    "duration": 47,
    "start_time": "2021-12-06T12:07:25.112Z"
   },
   {
    "duration": 23,
    "start_time": "2021-12-06T12:07:25.161Z"
   },
   {
    "duration": 11,
    "start_time": "2021-12-06T12:07:25.187Z"
   },
   {
    "duration": 13,
    "start_time": "2021-12-06T12:07:25.200Z"
   },
   {
    "duration": 69,
    "start_time": "2021-12-06T12:07:25.215Z"
   },
   {
    "duration": 8,
    "start_time": "2021-12-06T12:07:25.286Z"
   },
   {
    "duration": 16,
    "start_time": "2021-12-06T12:07:25.296Z"
   },
   {
    "duration": 28,
    "start_time": "2021-12-06T12:07:25.315Z"
   },
   {
    "duration": 30,
    "start_time": "2021-12-06T12:07:25.345Z"
   },
   {
    "duration": 10,
    "start_time": "2021-12-06T12:07:25.377Z"
   },
   {
    "duration": 2155,
    "start_time": "2021-12-06T12:07:25.390Z"
   },
   {
    "duration": -41,
    "start_time": "2021-12-06T12:07:27.589Z"
   },
   {
    "duration": -43,
    "start_time": "2021-12-06T12:07:27.592Z"
   },
   {
    "duration": -44,
    "start_time": "2021-12-06T12:07:27.594Z"
   },
   {
    "duration": -44,
    "start_time": "2021-12-06T12:07:27.596Z"
   },
   {
    "duration": -45,
    "start_time": "2021-12-06T12:07:27.598Z"
   },
   {
    "duration": -44,
    "start_time": "2021-12-06T12:07:27.599Z"
   },
   {
    "duration": -45,
    "start_time": "2021-12-06T12:07:27.601Z"
   },
   {
    "duration": -46,
    "start_time": "2021-12-06T12:07:27.603Z"
   },
   {
    "duration": -46,
    "start_time": "2021-12-06T12:07:27.604Z"
   },
   {
    "duration": -47,
    "start_time": "2021-12-06T12:07:27.606Z"
   },
   {
    "duration": -45,
    "start_time": "2021-12-06T12:07:27.607Z"
   },
   {
    "duration": -45,
    "start_time": "2021-12-06T12:07:27.609Z"
   },
   {
    "duration": -45,
    "start_time": "2021-12-06T12:07:27.610Z"
   },
   {
    "duration": -70,
    "start_time": "2021-12-06T12:07:27.637Z"
   },
   {
    "duration": -71,
    "start_time": "2021-12-06T12:07:27.639Z"
   },
   {
    "duration": -71,
    "start_time": "2021-12-06T12:07:27.640Z"
   },
   {
    "duration": -70,
    "start_time": "2021-12-06T12:07:27.641Z"
   },
   {
    "duration": -71,
    "start_time": "2021-12-06T12:07:27.643Z"
   },
   {
    "duration": 4,
    "start_time": "2021-12-06T12:07:55.318Z"
   },
   {
    "duration": 2441,
    "start_time": "2021-12-06T12:07:55.325Z"
   },
   {
    "duration": 51,
    "start_time": "2021-12-06T12:07:57.769Z"
   },
   {
    "duration": 13,
    "start_time": "2021-12-06T12:07:57.823Z"
   },
   {
    "duration": 34,
    "start_time": "2021-12-06T12:07:57.838Z"
   },
   {
    "duration": 7,
    "start_time": "2021-12-06T12:07:57.876Z"
   },
   {
    "duration": 20,
    "start_time": "2021-12-06T12:07:57.886Z"
   },
   {
    "duration": 93,
    "start_time": "2021-12-06T12:07:57.909Z"
   },
   {
    "duration": 17,
    "start_time": "2021-12-06T12:07:58.008Z"
   },
   {
    "duration": 57,
    "start_time": "2021-12-06T12:07:58.029Z"
   },
   {
    "duration": 12723,
    "start_time": "2021-12-06T12:07:58.090Z"
   },
   {
    "duration": 22,
    "start_time": "2021-12-06T12:08:10.816Z"
   },
   {
    "duration": 34,
    "start_time": "2021-12-06T12:08:10.841Z"
   },
   {
    "duration": 19,
    "start_time": "2021-12-06T12:08:10.878Z"
   },
   {
    "duration": 30,
    "start_time": "2021-12-06T12:08:10.899Z"
   },
   {
    "duration": 53,
    "start_time": "2021-12-06T12:08:10.932Z"
   },
   {
    "duration": 19,
    "start_time": "2021-12-06T12:08:10.988Z"
   },
   {
    "duration": 11,
    "start_time": "2021-12-06T12:08:11.009Z"
   },
   {
    "duration": 46,
    "start_time": "2021-12-06T12:08:11.023Z"
   },
   {
    "duration": 37,
    "start_time": "2021-12-06T12:08:11.072Z"
   },
   {
    "duration": 8,
    "start_time": "2021-12-06T12:08:11.112Z"
   },
   {
    "duration": 17,
    "start_time": "2021-12-06T12:08:11.122Z"
   },
   {
    "duration": 37,
    "start_time": "2021-12-06T12:08:11.142Z"
   },
   {
    "duration": 17,
    "start_time": "2021-12-06T12:08:11.182Z"
   },
   {
    "duration": 17,
    "start_time": "2021-12-06T12:08:11.201Z"
   },
   {
    "duration": 96,
    "start_time": "2021-12-06T12:08:11.220Z"
   },
   {
    "duration": 24,
    "start_time": "2021-12-06T12:08:11.324Z"
   },
   {
    "duration": 65,
    "start_time": "2021-12-06T12:08:11.351Z"
   },
   {
    "duration": 7,
    "start_time": "2021-12-06T12:08:11.418Z"
   },
   {
    "duration": 6,
    "start_time": "2021-12-06T12:08:11.427Z"
   },
   {
    "duration": 41,
    "start_time": "2021-12-06T12:08:11.435Z"
   },
   {
    "duration": 974,
    "start_time": "2021-12-06T12:08:11.478Z"
   },
   {
    "duration": 11053,
    "start_time": "2021-12-06T12:08:12.454Z"
   },
   {
    "duration": 545,
    "start_time": "2021-12-06T12:08:23.509Z"
   },
   {
    "duration": 10,
    "start_time": "2021-12-06T12:08:24.057Z"
   },
   {
    "duration": 39,
    "start_time": "2021-12-06T12:08:24.070Z"
   },
   {
    "duration": 16,
    "start_time": "2021-12-06T12:08:24.112Z"
   },
   {
    "duration": 675,
    "start_time": "2021-12-06T12:08:24.166Z"
   },
   {
    "duration": 693,
    "start_time": "2021-12-06T12:08:24.844Z"
   },
   {
    "duration": 34,
    "start_time": "2021-12-06T12:08:25.539Z"
   },
   {
    "duration": 444,
    "start_time": "2021-12-06T12:08:25.576Z"
   },
   {
    "duration": 15,
    "start_time": "2021-12-06T12:08:26.023Z"
   },
   {
    "duration": 39,
    "start_time": "2021-12-06T12:08:26.040Z"
   },
   {
    "duration": 1349,
    "start_time": "2021-12-06T12:08:26.081Z"
   },
   {
    "duration": 441,
    "start_time": "2021-12-06T12:09:17.839Z"
   },
   {
    "duration": 4,
    "start_time": "2021-12-06T12:09:47.943Z"
   },
   {
    "duration": 1604,
    "start_time": "2021-12-06T12:09:47.959Z"
   },
   {
    "duration": 55,
    "start_time": "2021-12-06T12:09:49.565Z"
   },
   {
    "duration": 13,
    "start_time": "2021-12-06T12:09:49.624Z"
   },
   {
    "duration": 37,
    "start_time": "2021-12-06T12:09:49.640Z"
   },
   {
    "duration": 6,
    "start_time": "2021-12-06T12:09:49.679Z"
   },
   {
    "duration": 24,
    "start_time": "2021-12-06T12:09:49.687Z"
   },
   {
    "duration": 82,
    "start_time": "2021-12-06T12:09:49.713Z"
   },
   {
    "duration": 16,
    "start_time": "2021-12-06T12:09:49.797Z"
   },
   {
    "duration": 56,
    "start_time": "2021-12-06T12:09:49.817Z"
   },
   {
    "duration": 12519,
    "start_time": "2021-12-06T12:09:49.877Z"
   },
   {
    "duration": 22,
    "start_time": "2021-12-06T12:10:02.399Z"
   },
   {
    "duration": 20,
    "start_time": "2021-12-06T12:10:02.424Z"
   },
   {
    "duration": 34,
    "start_time": "2021-12-06T12:10:02.447Z"
   },
   {
    "duration": 13,
    "start_time": "2021-12-06T12:10:02.484Z"
   },
   {
    "duration": 35,
    "start_time": "2021-12-06T12:10:02.500Z"
   },
   {
    "duration": 44,
    "start_time": "2021-12-06T12:10:02.538Z"
   },
   {
    "duration": 11,
    "start_time": "2021-12-06T12:10:02.584Z"
   },
   {
    "duration": 16,
    "start_time": "2021-12-06T12:10:02.597Z"
   },
   {
    "duration": 61,
    "start_time": "2021-12-06T12:10:02.615Z"
   },
   {
    "duration": 8,
    "start_time": "2021-12-06T12:10:02.679Z"
   },
   {
    "duration": 19,
    "start_time": "2021-12-06T12:10:02.690Z"
   },
   {
    "duration": 20,
    "start_time": "2021-12-06T12:10:02.711Z"
   },
   {
    "duration": 37,
    "start_time": "2021-12-06T12:10:02.734Z"
   },
   {
    "duration": 10,
    "start_time": "2021-12-06T12:10:02.773Z"
   },
   {
    "duration": 93,
    "start_time": "2021-12-06T12:10:02.786Z"
   },
   {
    "duration": 24,
    "start_time": "2021-12-06T12:10:02.881Z"
   },
   {
    "duration": 77,
    "start_time": "2021-12-06T12:10:02.910Z"
   },
   {
    "duration": 5,
    "start_time": "2021-12-06T12:10:02.990Z"
   },
   {
    "duration": 12,
    "start_time": "2021-12-06T12:10:02.997Z"
   },
   {
    "duration": 10,
    "start_time": "2021-12-06T12:10:03.011Z"
   },
   {
    "duration": 979,
    "start_time": "2021-12-06T12:10:03.023Z"
   },
   {
    "duration": 11031,
    "start_time": "2021-12-06T12:10:04.005Z"
   },
   {
    "duration": 562,
    "start_time": "2021-12-06T12:10:15.039Z"
   },
   {
    "duration": 6,
    "start_time": "2021-12-06T12:10:15.604Z"
   },
   {
    "duration": 67,
    "start_time": "2021-12-06T12:10:15.613Z"
   },
   {
    "duration": 17,
    "start_time": "2021-12-06T12:10:15.683Z"
   },
   {
    "duration": 723,
    "start_time": "2021-12-06T12:10:15.703Z"
   },
   {
    "duration": 681,
    "start_time": "2021-12-06T12:10:16.429Z"
   },
   {
    "duration": 27,
    "start_time": "2021-12-06T12:10:17.113Z"
   },
   {
    "duration": 471,
    "start_time": "2021-12-06T12:10:17.143Z"
   },
   {
    "duration": 17,
    "start_time": "2021-12-06T12:10:17.617Z"
   },
   {
    "duration": 35,
    "start_time": "2021-12-06T12:10:17.636Z"
   },
   {
    "duration": 1358,
    "start_time": "2021-12-06T12:10:17.673Z"
   },
   {
    "duration": 20,
    "start_time": "2021-12-06T12:10:55.606Z"
   },
   {
    "duration": 20,
    "start_time": "2021-12-06T12:11:06.644Z"
   },
   {
    "duration": 37,
    "start_time": "2021-12-06T12:11:30.275Z"
   },
   {
    "duration": 13709,
    "start_time": "2021-12-06T12:12:26.844Z"
   },
   {
    "duration": 4,
    "start_time": "2021-12-06T12:13:38.756Z"
   },
   {
    "duration": 1618,
    "start_time": "2021-12-06T12:13:38.763Z"
   },
   {
    "duration": 48,
    "start_time": "2021-12-06T12:13:40.384Z"
   },
   {
    "duration": 34,
    "start_time": "2021-12-06T12:13:40.435Z"
   },
   {
    "duration": 9,
    "start_time": "2021-12-06T12:13:40.472Z"
   },
   {
    "duration": 5,
    "start_time": "2021-12-06T12:13:40.483Z"
   },
   {
    "duration": 27,
    "start_time": "2021-12-06T12:13:40.491Z"
   },
   {
    "duration": 81,
    "start_time": "2021-12-06T12:13:40.521Z"
   },
   {
    "duration": 16,
    "start_time": "2021-12-06T12:13:40.606Z"
   },
   {
    "duration": 54,
    "start_time": "2021-12-06T12:13:40.625Z"
   },
   {
    "duration": 12463,
    "start_time": "2021-12-06T12:13:40.682Z"
   },
   {
    "duration": 28,
    "start_time": "2021-12-06T12:13:53.147Z"
   },
   {
    "duration": 13,
    "start_time": "2021-12-06T12:13:53.177Z"
   },
   {
    "duration": 17,
    "start_time": "2021-12-06T12:13:53.193Z"
   },
   {
    "duration": 10,
    "start_time": "2021-12-06T12:13:53.212Z"
   },
   {
    "duration": 36,
    "start_time": "2021-12-06T12:13:53.267Z"
   },
   {
    "duration": 20,
    "start_time": "2021-12-06T12:13:53.305Z"
   },
   {
    "duration": 10,
    "start_time": "2021-12-06T12:13:53.328Z"
   },
   {
    "duration": 11,
    "start_time": "2021-12-06T12:13:53.368Z"
   },
   {
    "duration": 34,
    "start_time": "2021-12-06T12:13:53.381Z"
   },
   {
    "duration": 8,
    "start_time": "2021-12-06T12:13:53.417Z"
   },
   {
    "duration": 40,
    "start_time": "2021-12-06T12:13:53.427Z"
   },
   {
    "duration": 22,
    "start_time": "2021-12-06T12:13:53.469Z"
   },
   {
    "duration": 17,
    "start_time": "2021-12-06T12:13:53.493Z"
   },
   {
    "duration": 9,
    "start_time": "2021-12-06T12:13:53.513Z"
   },
   {
    "duration": 105,
    "start_time": "2021-12-06T12:13:53.525Z"
   },
   {
    "duration": 38,
    "start_time": "2021-12-06T12:13:53.635Z"
   },
   {
    "duration": 53,
    "start_time": "2021-12-06T12:13:53.677Z"
   },
   {
    "duration": 36,
    "start_time": "2021-12-06T12:13:53.733Z"
   },
   {
    "duration": 4,
    "start_time": "2021-12-06T12:13:53.771Z"
   },
   {
    "duration": 7,
    "start_time": "2021-12-06T12:13:53.777Z"
   },
   {
    "duration": 962,
    "start_time": "2021-12-06T12:13:53.787Z"
   },
   {
    "duration": 10940,
    "start_time": "2021-12-06T12:13:54.751Z"
   },
   {
    "duration": 576,
    "start_time": "2021-12-06T12:14:05.694Z"
   },
   {
    "duration": 5,
    "start_time": "2021-12-06T12:14:06.273Z"
   },
   {
    "duration": 41,
    "start_time": "2021-12-06T12:14:06.280Z"
   },
   {
    "duration": 50,
    "start_time": "2021-12-06T12:14:06.323Z"
   },
   {
    "duration": 698,
    "start_time": "2021-12-06T12:14:06.375Z"
   },
   {
    "duration": 673,
    "start_time": "2021-12-06T12:14:07.075Z"
   },
   {
    "duration": 36,
    "start_time": "2021-12-06T12:14:07.750Z"
   },
   {
    "duration": 457,
    "start_time": "2021-12-06T12:14:07.788Z"
   },
   {
    "duration": 27,
    "start_time": "2021-12-06T12:14:08.248Z"
   },
   {
    "duration": 13,
    "start_time": "2021-12-06T12:14:08.278Z"
   },
   {
    "duration": 1370,
    "start_time": "2021-12-06T12:14:08.294Z"
   },
   {
    "duration": 89,
    "start_time": "2021-12-07T06:55:09.592Z"
   },
   {
    "duration": 99,
    "start_time": "2021-12-07T06:56:03.681Z"
   },
   {
    "duration": 154,
    "start_time": "2021-12-07T06:56:58.550Z"
   },
   {
    "duration": 91,
    "start_time": "2021-12-07T07:02:48.264Z"
   },
   {
    "duration": 5,
    "start_time": "2021-12-07T07:47:47.093Z"
   },
   {
    "duration": 1756,
    "start_time": "2021-12-07T07:47:47.108Z"
   },
   {
    "duration": 65,
    "start_time": "2021-12-07T07:47:48.867Z"
   },
   {
    "duration": 13,
    "start_time": "2021-12-07T07:47:48.935Z"
   },
   {
    "duration": 9,
    "start_time": "2021-12-07T07:47:48.951Z"
   },
   {
    "duration": 11,
    "start_time": "2021-12-07T07:47:48.963Z"
   },
   {
    "duration": 51,
    "start_time": "2021-12-07T07:47:48.976Z"
   },
   {
    "duration": 53,
    "start_time": "2021-12-07T07:47:49.029Z"
   },
   {
    "duration": 51,
    "start_time": "2021-12-07T07:47:49.086Z"
   },
   {
    "duration": 33,
    "start_time": "2021-12-07T07:47:49.141Z"
   },
   {
    "duration": 12055,
    "start_time": "2021-12-07T07:47:49.176Z"
   },
   {
    "duration": 20,
    "start_time": "2021-12-07T07:48:01.234Z"
   },
   {
    "duration": 15,
    "start_time": "2021-12-07T07:48:01.257Z"
   },
   {
    "duration": 56,
    "start_time": "2021-12-07T07:48:01.275Z"
   },
   {
    "duration": 16,
    "start_time": "2021-12-07T07:48:01.335Z"
   },
   {
    "duration": 37,
    "start_time": "2021-12-07T07:48:01.354Z"
   },
   {
    "duration": 38,
    "start_time": "2021-12-07T07:48:01.394Z"
   },
   {
    "duration": 10,
    "start_time": "2021-12-07T07:48:01.435Z"
   },
   {
    "duration": 14,
    "start_time": "2021-12-07T07:48:01.449Z"
   },
   {
    "duration": 89,
    "start_time": "2021-12-07T07:48:01.467Z"
   },
   {
    "duration": 11,
    "start_time": "2021-12-07T07:48:01.559Z"
   },
   {
    "duration": 9,
    "start_time": "2021-12-07T07:48:01.573Z"
   },
   {
    "duration": 56,
    "start_time": "2021-12-07T07:48:01.585Z"
   },
   {
    "duration": 27,
    "start_time": "2021-12-07T07:48:01.649Z"
   },
   {
    "duration": 16,
    "start_time": "2021-12-07T07:48:01.680Z"
   },
   {
    "duration": 99,
    "start_time": "2021-12-07T07:48:01.698Z"
   },
   {
    "duration": 35,
    "start_time": "2021-12-07T07:48:01.799Z"
   },
   {
    "duration": 51,
    "start_time": "2021-12-07T07:48:01.836Z"
   },
   {
    "duration": 28,
    "start_time": "2021-12-07T07:48:01.889Z"
   },
   {
    "duration": 3,
    "start_time": "2021-12-07T07:48:01.920Z"
   },
   {
    "duration": 12,
    "start_time": "2021-12-07T07:48:01.925Z"
   },
   {
    "duration": 980,
    "start_time": "2021-12-07T07:48:01.939Z"
   },
   {
    "duration": 11517,
    "start_time": "2021-12-07T07:48:02.921Z"
   },
   {
    "duration": 858,
    "start_time": "2021-12-07T07:48:14.441Z"
   },
   {
    "duration": 17,
    "start_time": "2021-12-07T07:48:15.302Z"
   },
   {
    "duration": 40,
    "start_time": "2021-12-07T07:48:15.321Z"
   },
   {
    "duration": 16,
    "start_time": "2021-12-07T07:48:15.363Z"
   },
   {
    "duration": 870,
    "start_time": "2021-12-07T07:48:15.381Z"
   },
   {
    "duration": 642,
    "start_time": "2021-12-07T07:48:16.253Z"
   },
   {
    "duration": 37,
    "start_time": "2021-12-07T07:48:16.898Z"
   },
   {
    "duration": 428,
    "start_time": "2021-12-07T07:48:16.938Z"
   },
   {
    "duration": 15,
    "start_time": "2021-12-07T07:48:17.368Z"
   },
   {
    "duration": 33,
    "start_time": "2021-12-07T07:48:17.385Z"
   },
   {
    "duration": 1369,
    "start_time": "2021-12-07T07:48:17.421Z"
   },
   {
    "duration": 1585,
    "start_time": "2021-12-08T07:06:29.083Z"
   },
   {
    "duration": 45,
    "start_time": "2021-12-08T07:06:31.279Z"
   },
   {
    "duration": 21,
    "start_time": "2021-12-08T07:06:32.108Z"
   },
   {
    "duration": 16,
    "start_time": "2021-12-08T07:06:33.141Z"
   },
   {
    "duration": 9,
    "start_time": "2021-12-08T07:06:33.531Z"
   },
   {
    "duration": 6,
    "start_time": "2021-12-08T07:06:34.187Z"
   },
   {
    "duration": 20,
    "start_time": "2021-12-08T07:06:34.859Z"
   },
   {
    "duration": 47,
    "start_time": "2021-12-08T07:06:36.410Z"
   },
   {
    "duration": 15,
    "start_time": "2021-12-08T07:06:36.843Z"
   },
   {
    "duration": 32,
    "start_time": "2021-12-08T07:06:37.035Z"
   },
   {
    "duration": 3,
    "start_time": "2021-12-08T07:06:37.447Z"
   },
   {
    "duration": 34,
    "start_time": "2021-12-08T07:06:37.971Z"
   },
   {
    "duration": 20,
    "start_time": "2021-12-08T07:06:38.139Z"
   },
   {
    "duration": 11,
    "start_time": "2021-12-08T07:06:38.466Z"
   },
   {
    "duration": 16,
    "start_time": "2021-12-08T07:06:38.634Z"
   },
   {
    "duration": 9,
    "start_time": "2021-12-08T07:06:38.995Z"
   },
   {
    "duration": 33,
    "start_time": "2021-12-08T07:06:40.099Z"
   },
   {
    "duration": 18,
    "start_time": "2021-12-08T07:06:41.867Z"
   },
   {
    "duration": 5,
    "start_time": "2021-12-08T07:07:14.805Z"
   },
   {
    "duration": 11,
    "start_time": "2021-12-08T07:07:18.158Z"
   },
   {
    "duration": 10,
    "start_time": "2021-12-08T07:07:18.414Z"
   },
   {
    "duration": 30,
    "start_time": "2021-12-08T07:07:18.779Z"
   },
   {
    "duration": 8,
    "start_time": "2021-12-08T07:07:19.275Z"
   },
   {
    "duration": 5,
    "start_time": "2021-12-08T07:07:19.659Z"
   },
   {
    "duration": 18,
    "start_time": "2021-12-08T07:07:19.964Z"
   },
   {
    "duration": 19,
    "start_time": "2021-12-08T07:07:20.331Z"
   },
   {
    "duration": 11,
    "start_time": "2021-12-08T07:07:21.051Z"
   },
   {
    "duration": 5,
    "start_time": "2021-12-08T07:07:22.484Z"
   },
   {
    "duration": 25,
    "start_time": "2021-12-08T07:07:23.163Z"
   },
   {
    "duration": 24,
    "start_time": "2021-12-08T07:07:23.699Z"
   },
   {
    "duration": 22,
    "start_time": "2021-12-08T07:07:24.914Z"
   },
   {
    "duration": 9,
    "start_time": "2021-12-08T07:07:26.195Z"
   },
   {
    "duration": 4772,
    "start_time": "2021-12-08T07:07:27.961Z"
   },
   {
    "duration": 5,
    "start_time": "2021-12-08T07:07:32.736Z"
   },
   {
    "duration": 3,
    "start_time": "2021-12-08T07:07:33.352Z"
   },
   {
    "duration": 10987,
    "start_time": "2021-12-08T07:07:33.358Z"
   },
   {
    "duration": 519,
    "start_time": "2021-12-08T07:07:44.348Z"
   },
   {
    "duration": 13,
    "start_time": "2021-12-08T07:07:44.870Z"
   },
   {
    "duration": 38,
    "start_time": "2021-12-08T07:07:44.886Z"
   },
   {
    "duration": 12,
    "start_time": "2021-12-08T07:07:44.927Z"
   },
   {
    "duration": 6,
    "start_time": "2021-12-08T07:07:44.942Z"
   },
   {
    "duration": 78,
    "start_time": "2021-12-08T07:07:44.952Z"
   },
   {
    "duration": 117,
    "start_time": "2021-12-08T07:09:16.440Z"
   },
   {
    "duration": 121,
    "start_time": "2021-12-08T07:19:54.702Z"
   }
  ],
  "kernelspec": {
   "display_name": "Python 3 (ipykernel)",
   "language": "python",
   "name": "python3"
  },
  "language_info": {
   "codemirror_mode": {
    "name": "ipython",
    "version": 3
   },
   "file_extension": ".py",
   "mimetype": "text/x-python",
   "name": "python",
   "nbconvert_exporter": "python",
   "pygments_lexer": "ipython3",
   "version": "3.9.12"
  },
  "notebookId": "f28acc6b-17df-40cb-8f00-c5f3d59a99c3",
  "notebookPath": "e3abef98-ad76-487c-bc5c-ea7abab266d2_review_V1.ipynb",
  "toc": {
   "base_numbering": 1,
   "nav_menu": {},
   "number_sections": true,
   "sideBar": true,
   "skip_h1_title": true,
   "title_cell": "Table of Contents",
   "title_sidebar": "Contents",
   "toc_cell": false,
   "toc_position": {
    "height": "calc(100% - 180px)",
    "left": "10px",
    "top": "150px",
    "width": "288px"
   },
   "toc_section_display": true,
   "toc_window_display": true
  }
 },
 "nbformat": 4,
 "nbformat_minor": 4
}
