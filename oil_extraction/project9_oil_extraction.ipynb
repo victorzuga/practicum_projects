{
 "cells": [
  {
   "cell_type": "markdown",
   "metadata": {
    "cellId": "n4xyipd08fnay7w14uyci"
   },
   "source": [
    "# Choice of location for the well\n",
    "\n",
    "Let's say you work for the mining company GlavNeft. We need to decide where to drill a new well.\n",
    "\n",
    "You have been provided with oil samples in three regions: in each of 10,000 fields, where the quality of oil and the volume of its reserves have been measured. Build a machine learning model to help determine the region where mining will bring the most profit. Analyze possible profits and risks using the *Bootstrap.* technique\n",
    "\n",
    "Steps to choose a location:\n",
    "\n",
    "- In the selected region, they are looking for deposits, for each, the values ​​of the signs are determined;\n",
    "- Build a model and estimate the volume of reserves;\n",
    "- Select the deposits with the highest value estimates. The number of fields depends on the company's budget and the cost of developing one well;\n",
    "- The profit is equal to the total profit of the selected fields.\n",
    "\n",
    "## Loading and preparing data"
   ]
  },
  {
   "cell_type": "code",
   "execution_count": 1,
   "metadata": {
    "cellId": "0u9gpwqqjzjbrv77rtv5nhl"
   },
   "outputs": [],
   "source": [
    "import pandas as pd\n",
    "import numpy as np\n",
    "\n",
    "from sklearn.linear_model import LinearRegression\n",
    "from sklearn.model_selection import train_test_split\n",
    "from sklearn.metrics import mean_squared_error\n",
    "from sklearn.preprocessing import StandardScaler\n",
    "\n",
    "import warnings\n",
    "warnings.filterwarnings('ignore')"
   ]
  },
  {
   "cell_type": "code",
   "execution_count": 2,
   "metadata": {
    "cellId": "sr5k71aijhlo3miz1hwkog"
   },
   "outputs": [],
   "source": [
    "#loading files\n",
    "path ='/Users/vzuga/Documents/jupyter/'\n",
    "try:\n",
    "    df1 = pd.read_csv('geo_data_0.csv') #Region 1\n",
    "    df2 = pd.read_csv('geo_data_1.csv') #Region 2\n",
    "    df3 = pd.read_csv('geo_data_2.csv') #Region 3\n",
    "except:\n",
    "    df1 = pd.read_csv(path+'/datasets/geo_data_0.csv')\n",
    "    df2 = pd.read_csv(path+'/datasets/geo_data_1.csv')\n",
    "    df3 = pd.read_csv(path+'/datasets/geo_data_2.csv')"
   ]
  },
  {
   "cell_type": "markdown",
   "metadata": {
    "cellId": "vnj8ut4n3kjw8wuufgsa3g"
   },
   "source": [
    "I will write a function that will show brief information about the file, display the first 5 lines, check for duplicates and repetitions in the well ID."
   ]
  },
  {
   "cell_type": "code",
   "execution_count": 3,
   "metadata": {
    "cellId": "b5c7xoeuit6e6ap4g85jqm"
   },
   "outputs": [],
   "source": [
    "def data_check(data):\n",
    "    data.info()\n",
    "    print()\n",
    "    display(data.head())\n",
    "    print()\n",
    "    print('Duplicates:', data.duplicated().sum())\n",
    "    print()\n",
    "    print('Number of unique ID values:',len(data['id'].unique()))  "
   ]
  },
  {
   "cell_type": "markdown",
   "metadata": {
    "cellId": "f9a98l2gjwuzqirwsq1o77"
   },
   "source": [
    "### Region 1"
   ]
  },
  {
   "cell_type": "code",
   "execution_count": 4,
   "metadata": {
    "cellId": "ydcy9vh05xceq95elxtfce"
   },
   "outputs": [
    {
     "name": "stdout",
     "output_type": "stream",
     "text": [
      "<class 'pandas.core.frame.DataFrame'>\n",
      "RangeIndex: 100000 entries, 0 to 99999\n",
      "Data columns (total 5 columns):\n",
      " #   Column   Non-Null Count   Dtype  \n",
      "---  ------   --------------   -----  \n",
      " 0   id       100000 non-null  object \n",
      " 1   f0       100000 non-null  float64\n",
      " 2   f1       100000 non-null  float64\n",
      " 3   f2       100000 non-null  float64\n",
      " 4   product  100000 non-null  float64\n",
      "dtypes: float64(4), object(1)\n",
      "memory usage: 3.8+ MB\n",
      "\n"
     ]
    },
    {
     "data": {
      "text/html": [
       "<div>\n",
       "<style scoped>\n",
       "    .dataframe tbody tr th:only-of-type {\n",
       "        vertical-align: middle;\n",
       "    }\n",
       "\n",
       "    .dataframe tbody tr th {\n",
       "        vertical-align: top;\n",
       "    }\n",
       "\n",
       "    .dataframe thead th {\n",
       "        text-align: right;\n",
       "    }\n",
       "</style>\n",
       "<table border=\"1\" class=\"dataframe\">\n",
       "  <thead>\n",
       "    <tr style=\"text-align: right;\">\n",
       "      <th></th>\n",
       "      <th>id</th>\n",
       "      <th>f0</th>\n",
       "      <th>f1</th>\n",
       "      <th>f2</th>\n",
       "      <th>product</th>\n",
       "    </tr>\n",
       "  </thead>\n",
       "  <tbody>\n",
       "    <tr>\n",
       "      <th>0</th>\n",
       "      <td>txEyH</td>\n",
       "      <td>0.705745</td>\n",
       "      <td>-0.497823</td>\n",
       "      <td>1.221170</td>\n",
       "      <td>105.280062</td>\n",
       "    </tr>\n",
       "    <tr>\n",
       "      <th>1</th>\n",
       "      <td>2acmU</td>\n",
       "      <td>1.334711</td>\n",
       "      <td>-0.340164</td>\n",
       "      <td>4.365080</td>\n",
       "      <td>73.037750</td>\n",
       "    </tr>\n",
       "    <tr>\n",
       "      <th>2</th>\n",
       "      <td>409Wp</td>\n",
       "      <td>1.022732</td>\n",
       "      <td>0.151990</td>\n",
       "      <td>1.419926</td>\n",
       "      <td>85.265647</td>\n",
       "    </tr>\n",
       "    <tr>\n",
       "      <th>3</th>\n",
       "      <td>iJLyR</td>\n",
       "      <td>-0.032172</td>\n",
       "      <td>0.139033</td>\n",
       "      <td>2.978566</td>\n",
       "      <td>168.620776</td>\n",
       "    </tr>\n",
       "    <tr>\n",
       "      <th>4</th>\n",
       "      <td>Xdl7t</td>\n",
       "      <td>1.988431</td>\n",
       "      <td>0.155413</td>\n",
       "      <td>4.751769</td>\n",
       "      <td>154.036647</td>\n",
       "    </tr>\n",
       "  </tbody>\n",
       "</table>\n",
       "</div>"
      ],
      "text/plain": [
       "      id        f0        f1        f2     product\n",
       "0  txEyH  0.705745 -0.497823  1.221170  105.280062\n",
       "1  2acmU  1.334711 -0.340164  4.365080   73.037750\n",
       "2  409Wp  1.022732  0.151990  1.419926   85.265647\n",
       "3  iJLyR -0.032172  0.139033  2.978566  168.620776\n",
       "4  Xdl7t  1.988431  0.155413  4.751769  154.036647"
      ]
     },
     "metadata": {},
     "output_type": "display_data"
    },
    {
     "name": "stdout",
     "output_type": "stream",
     "text": [
      "\n",
      "Duplicates: 0\n",
      "\n",
      "Number of unique ID values: 99990\n"
     ]
    }
   ],
   "source": [
    "data_check(df1)"
   ]
  },
  {
   "cell_type": "markdown",
   "metadata": {
    "cellId": "sg6ts7qkgk8z9jfx0n0a0n"
   },
   "source": [
    "### Region 2"
   ]
  },
  {
   "cell_type": "code",
   "execution_count": 5,
   "metadata": {
    "cellId": "gu9mehb12vcitbj5vx085"
   },
   "outputs": [
    {
     "name": "stdout",
     "output_type": "stream",
     "text": [
      "<class 'pandas.core.frame.DataFrame'>\n",
      "RangeIndex: 100000 entries, 0 to 99999\n",
      "Data columns (total 5 columns):\n",
      " #   Column   Non-Null Count   Dtype  \n",
      "---  ------   --------------   -----  \n",
      " 0   id       100000 non-null  object \n",
      " 1   f0       100000 non-null  float64\n",
      " 2   f1       100000 non-null  float64\n",
      " 3   f2       100000 non-null  float64\n",
      " 4   product  100000 non-null  float64\n",
      "dtypes: float64(4), object(1)\n",
      "memory usage: 3.8+ MB\n",
      "\n"
     ]
    },
    {
     "data": {
      "text/html": [
       "<div>\n",
       "<style scoped>\n",
       "    .dataframe tbody tr th:only-of-type {\n",
       "        vertical-align: middle;\n",
       "    }\n",
       "\n",
       "    .dataframe tbody tr th {\n",
       "        vertical-align: top;\n",
       "    }\n",
       "\n",
       "    .dataframe thead th {\n",
       "        text-align: right;\n",
       "    }\n",
       "</style>\n",
       "<table border=\"1\" class=\"dataframe\">\n",
       "  <thead>\n",
       "    <tr style=\"text-align: right;\">\n",
       "      <th></th>\n",
       "      <th>id</th>\n",
       "      <th>f0</th>\n",
       "      <th>f1</th>\n",
       "      <th>f2</th>\n",
       "      <th>product</th>\n",
       "    </tr>\n",
       "  </thead>\n",
       "  <tbody>\n",
       "    <tr>\n",
       "      <th>0</th>\n",
       "      <td>kBEdx</td>\n",
       "      <td>-15.001348</td>\n",
       "      <td>-8.276000</td>\n",
       "      <td>-0.005876</td>\n",
       "      <td>3.179103</td>\n",
       "    </tr>\n",
       "    <tr>\n",
       "      <th>1</th>\n",
       "      <td>62mP7</td>\n",
       "      <td>14.272088</td>\n",
       "      <td>-3.475083</td>\n",
       "      <td>0.999183</td>\n",
       "      <td>26.953261</td>\n",
       "    </tr>\n",
       "    <tr>\n",
       "      <th>2</th>\n",
       "      <td>vyE1P</td>\n",
       "      <td>6.263187</td>\n",
       "      <td>-5.948386</td>\n",
       "      <td>5.001160</td>\n",
       "      <td>134.766305</td>\n",
       "    </tr>\n",
       "    <tr>\n",
       "      <th>3</th>\n",
       "      <td>KcrkZ</td>\n",
       "      <td>-13.081196</td>\n",
       "      <td>-11.506057</td>\n",
       "      <td>4.999415</td>\n",
       "      <td>137.945408</td>\n",
       "    </tr>\n",
       "    <tr>\n",
       "      <th>4</th>\n",
       "      <td>AHL4O</td>\n",
       "      <td>12.702195</td>\n",
       "      <td>-8.147433</td>\n",
       "      <td>5.004363</td>\n",
       "      <td>134.766305</td>\n",
       "    </tr>\n",
       "  </tbody>\n",
       "</table>\n",
       "</div>"
      ],
      "text/plain": [
       "      id         f0         f1        f2     product\n",
       "0  kBEdx -15.001348  -8.276000 -0.005876    3.179103\n",
       "1  62mP7  14.272088  -3.475083  0.999183   26.953261\n",
       "2  vyE1P   6.263187  -5.948386  5.001160  134.766305\n",
       "3  KcrkZ -13.081196 -11.506057  4.999415  137.945408\n",
       "4  AHL4O  12.702195  -8.147433  5.004363  134.766305"
      ]
     },
     "metadata": {},
     "output_type": "display_data"
    },
    {
     "name": "stdout",
     "output_type": "stream",
     "text": [
      "\n",
      "Duplicates: 0\n",
      "\n",
      "Number of unique ID values: 99996\n"
     ]
    }
   ],
   "source": [
    "data_check(df2)"
   ]
  },
  {
   "cell_type": "markdown",
   "metadata": {
    "cellId": "7g8kdhfayhe5ht2qstt5ie"
   },
   "source": [
    "### Region 3"
   ]
  },
  {
   "cell_type": "code",
   "execution_count": 6,
   "metadata": {
    "cellId": "ea8l87451cfdbk7kue1br9"
   },
   "outputs": [
    {
     "name": "stdout",
     "output_type": "stream",
     "text": [
      "<class 'pandas.core.frame.DataFrame'>\n",
      "RangeIndex: 100000 entries, 0 to 99999\n",
      "Data columns (total 5 columns):\n",
      " #   Column   Non-Null Count   Dtype  \n",
      "---  ------   --------------   -----  \n",
      " 0   id       100000 non-null  object \n",
      " 1   f0       100000 non-null  float64\n",
      " 2   f1       100000 non-null  float64\n",
      " 3   f2       100000 non-null  float64\n",
      " 4   product  100000 non-null  float64\n",
      "dtypes: float64(4), object(1)\n",
      "memory usage: 3.8+ MB\n",
      "\n"
     ]
    },
    {
     "data": {
      "text/html": [
       "<div>\n",
       "<style scoped>\n",
       "    .dataframe tbody tr th:only-of-type {\n",
       "        vertical-align: middle;\n",
       "    }\n",
       "\n",
       "    .dataframe tbody tr th {\n",
       "        vertical-align: top;\n",
       "    }\n",
       "\n",
       "    .dataframe thead th {\n",
       "        text-align: right;\n",
       "    }\n",
       "</style>\n",
       "<table border=\"1\" class=\"dataframe\">\n",
       "  <thead>\n",
       "    <tr style=\"text-align: right;\">\n",
       "      <th></th>\n",
       "      <th>id</th>\n",
       "      <th>f0</th>\n",
       "      <th>f1</th>\n",
       "      <th>f2</th>\n",
       "      <th>product</th>\n",
       "    </tr>\n",
       "  </thead>\n",
       "  <tbody>\n",
       "    <tr>\n",
       "      <th>0</th>\n",
       "      <td>fwXo0</td>\n",
       "      <td>-1.146987</td>\n",
       "      <td>0.963328</td>\n",
       "      <td>-0.828965</td>\n",
       "      <td>27.758673</td>\n",
       "    </tr>\n",
       "    <tr>\n",
       "      <th>1</th>\n",
       "      <td>WJtFt</td>\n",
       "      <td>0.262778</td>\n",
       "      <td>0.269839</td>\n",
       "      <td>-2.530187</td>\n",
       "      <td>56.069697</td>\n",
       "    </tr>\n",
       "    <tr>\n",
       "      <th>2</th>\n",
       "      <td>ovLUW</td>\n",
       "      <td>0.194587</td>\n",
       "      <td>0.289035</td>\n",
       "      <td>-5.586433</td>\n",
       "      <td>62.871910</td>\n",
       "    </tr>\n",
       "    <tr>\n",
       "      <th>3</th>\n",
       "      <td>q6cA6</td>\n",
       "      <td>2.236060</td>\n",
       "      <td>-0.553760</td>\n",
       "      <td>0.930038</td>\n",
       "      <td>114.572842</td>\n",
       "    </tr>\n",
       "    <tr>\n",
       "      <th>4</th>\n",
       "      <td>WPMUX</td>\n",
       "      <td>-0.515993</td>\n",
       "      <td>1.716266</td>\n",
       "      <td>5.899011</td>\n",
       "      <td>149.600746</td>\n",
       "    </tr>\n",
       "  </tbody>\n",
       "</table>\n",
       "</div>"
      ],
      "text/plain": [
       "      id        f0        f1        f2     product\n",
       "0  fwXo0 -1.146987  0.963328 -0.828965   27.758673\n",
       "1  WJtFt  0.262778  0.269839 -2.530187   56.069697\n",
       "2  ovLUW  0.194587  0.289035 -5.586433   62.871910\n",
       "3  q6cA6  2.236060 -0.553760  0.930038  114.572842\n",
       "4  WPMUX -0.515993  1.716266  5.899011  149.600746"
      ]
     },
     "metadata": {},
     "output_type": "display_data"
    },
    {
     "name": "stdout",
     "output_type": "stream",
     "text": [
      "\n",
      "Duplicates: 0\n",
      "\n",
      "Number of unique ID values: 99996\n"
     ]
    }
   ],
   "source": [
    "data_check(df3)"
   ]
  },
  {
   "cell_type": "markdown",
   "metadata": {
    "cellId": "47ci0qg7a4t2e6l2shk8g7"
   },
   "source": [
    "### Conclusions:\n",
    "\n",
    "* No gaps or obvious duplicates were found in the data\n",
    "* there is a small number of repetitions in the ID, but there are very few of them, I will ignore them\n",
    "* I will not make any changes to the data\n",
    "\n",
    "## Train and validate the model\n",
    "\n",
    "### Splitting data into samples\n",
    "\n",
    "I will divide the data into 2 parts in a ratio of 3: 1 into training and validation samples."
   ]
  },
  {
   "cell_type": "code",
   "execution_count": 7,
   "metadata": {
    "cellId": "zccuw3zo448dm4lx4q7gbt"
   },
   "outputs": [],
   "source": [
    "#extract features and target\n",
    "features1 = df1.drop(['id', 'product'], axis=1)\n",
    "target1 = df1['product']\n",
    "\n",
    "features2 = df2.drop(['id', 'product'], axis=1)\n",
    "target2 = df2['product']\n",
    "\n",
    "features3 = df3.drop(['id', 'product'], axis=1)\n",
    "target3 = df3['product']"
   ]
  },
  {
   "cell_type": "code",
   "execution_count": 8,
   "metadata": {
    "cellId": "s0am4d8finhubdlqo95p"
   },
   "outputs": [],
   "source": [
    "#creating samples\n",
    "features_train1, features_valid1, target_train1, target_valid1 = train_test_split(\n",
    "    features1, target1, test_size=.25, random_state=12345)\n",
    "\n",
    "features_train2, features_valid2, target_train2, target_valid2 = train_test_split(\n",
    "    features2, target2, test_size=.25, random_state=12345)\n",
    "\n",
    "features_train3, features_valid3, target_train3, target_valid3 = train_test_split(\n",
    "    features3, target3, test_size=.25, random_state=12345)"
   ]
  },
  {
   "cell_type": "code",
   "execution_count": 9,
   "metadata": {
    "cellId": "f3mlxd36gku9ilgzxeuvbt"
   },
   "outputs": [
    {
     "name": "stdout",
     "output_type": "stream",
     "text": [
      "features\n",
      "75000 25000\n",
      "75000 25000\n",
      "75000 25000\n",
      "\n",
      "targets\n",
      "75000 25000\n",
      "75000 25000\n",
      "75000 25000\n"
     ]
    }
   ],
   "source": [
    "#size check\n",
    "print('features')\n",
    "print(len(features_train1), len(features_valid1))\n",
    "print(len(features_train2), len(features_valid2))\n",
    "print(len(features_train3), len(features_valid3))\n",
    "print()\n",
    "print('targets')\n",
    "print(len(target_train1), len(target_valid1))\n",
    "print(len(target_train2), len(target_valid2))\n",
    "print(len(target_train3), len(target_valid3))"
   ]
  },
  {
   "cell_type": "markdown",
   "metadata": {
    "cellId": "0jczl62rhbcl4uunm5r7hvg"
   },
   "source": [
    "### Feature scaling"
   ]
  },
  {
   "cell_type": "code",
   "execution_count": 10,
   "metadata": {
    "cellId": "cbarm8du1fk3plf9xqx7"
   },
   "outputs": [],
   "source": [
    "#numeric features\n",
    "numeric = ['f0', 'f1', 'f2']"
   ]
  },
  {
   "cell_type": "code",
   "execution_count": 11,
   "metadata": {
    "cellId": "mofy21g4cgk2a963k1txm"
   },
   "outputs": [],
   "source": [
    "# Region 1\n",
    "scaler1 = StandardScaler()\n",
    "scaler1.fit(features_train1[numeric])\n",
    "features_train1[numeric] = scaler1.transform(features_train1[numeric])\n",
    "features_valid1[numeric] = scaler1.transform(features_valid1[numeric])\n",
    "\n",
    "# Region 2\n",
    "scaler2 = StandardScaler()\n",
    "scaler2.fit(features_train2[numeric])\n",
    "features_train2[numeric] = scaler2.transform(features_train2[numeric])\n",
    "features_valid2[numeric] = scaler2.transform(features_valid2[numeric])\n",
    "\n",
    "# Region 3\n",
    "scaler3 = StandardScaler()\n",
    "scaler3.fit(features_train3[numeric])\n",
    "features_train3[numeric] = scaler3.transform(features_train3[numeric])\n",
    "features_valid3[numeric] = scaler3.transform(features_valid3[numeric])"
   ]
  },
  {
   "cell_type": "code",
   "execution_count": 12,
   "metadata": {
    "cellId": "iyxtd5by2is27acx13xuf2"
   },
   "outputs": [
    {
     "data": {
      "text/html": [
       "<div>\n",
       "<style scoped>\n",
       "    .dataframe tbody tr th:only-of-type {\n",
       "        vertical-align: middle;\n",
       "    }\n",
       "\n",
       "    .dataframe tbody tr th {\n",
       "        vertical-align: top;\n",
       "    }\n",
       "\n",
       "    .dataframe thead th {\n",
       "        text-align: right;\n",
       "    }\n",
       "</style>\n",
       "<table border=\"1\" class=\"dataframe\">\n",
       "  <thead>\n",
       "    <tr style=\"text-align: right;\">\n",
       "      <th></th>\n",
       "      <th>f0</th>\n",
       "      <th>f1</th>\n",
       "      <th>f2</th>\n",
       "    </tr>\n",
       "  </thead>\n",
       "  <tbody>\n",
       "    <tr>\n",
       "      <th>27212</th>\n",
       "      <td>-0.526160</td>\n",
       "      <td>0.776329</td>\n",
       "      <td>-0.400793</td>\n",
       "    </tr>\n",
       "    <tr>\n",
       "      <th>7866</th>\n",
       "      <td>-0.889625</td>\n",
       "      <td>-0.404070</td>\n",
       "      <td>-1.222936</td>\n",
       "    </tr>\n",
       "    <tr>\n",
       "      <th>62041</th>\n",
       "      <td>-1.133984</td>\n",
       "      <td>0.208576</td>\n",
       "      <td>0.296765</td>\n",
       "    </tr>\n",
       "    <tr>\n",
       "      <th>70185</th>\n",
       "      <td>1.227045</td>\n",
       "      <td>1.570166</td>\n",
       "      <td>-0.764556</td>\n",
       "    </tr>\n",
       "    <tr>\n",
       "      <th>82230</th>\n",
       "      <td>-0.194289</td>\n",
       "      <td>0.878312</td>\n",
       "      <td>0.840821</td>\n",
       "    </tr>\n",
       "  </tbody>\n",
       "</table>\n",
       "</div>"
      ],
      "text/plain": [
       "             f0        f1        f2\n",
       "27212 -0.526160  0.776329 -0.400793\n",
       "7866  -0.889625 -0.404070 -1.222936\n",
       "62041 -1.133984  0.208576  0.296765\n",
       "70185  1.227045  1.570166 -0.764556\n",
       "82230 -0.194289  0.878312  0.840821"
      ]
     },
     "execution_count": 12,
     "metadata": {},
     "output_type": "execute_result"
    }
   ],
   "source": [
    "features_train3.head()"
   ]
  },
  {
   "cell_type": "markdown",
   "metadata": {
    "cellId": "xuav5yfmx1bk4lzaryqu4b"
   },
   "source": [
    "### Model Training"
   ]
  },
  {
   "cell_type": "code",
   "execution_count": 13,
   "metadata": {
    "cellId": "g5x6u388zrowpvxn3nlsl9"
   },
   "outputs": [],
   "source": [
    "model1 = LinearRegression()\n",
    "model1.fit(features_train1, target_train1)\n",
    "predicted_valid1 = model1.predict(features_valid1)\n",
    "\n",
    "model2 = LinearRegression()\n",
    "model2.fit(features_train2, target_train2)\n",
    "predicted_valid2 = model2.predict(features_valid2)\n",
    "\n",
    "model3 = LinearRegression()\n",
    "model3.fit(features_train3, target_train3)\n",
    "predicted_valid3 = model3.predict(features_valid3)"
   ]
  },
  {
   "cell_type": "code",
   "execution_count": 14,
   "metadata": {
    "cellId": "v4440szo13rniy213tz6"
   },
   "outputs": [],
   "source": [
    "rmse1 = mean_squared_error(target_valid1, predicted_valid1)**.5\n",
    "\n",
    "rmse2 = mean_squared_error(target_valid2, predicted_valid2)**.5\n",
    "\n",
    "rmse3 = mean_squared_error(target_valid3, predicted_valid3)**.5"
   ]
  },
  {
   "cell_type": "markdown",
   "metadata": {
    "cellId": "wmtugxykaef4kotabcy1q"
   },
   "source": [
    "### Conclusions"
   ]
  },
  {
   "cell_type": "code",
   "execution_count": 15,
   "metadata": {
    "cellId": "do6acip7ovidl9a9sl8lic"
   },
   "outputs": [
    {
     "data": {
      "text/html": [
       "<div>\n",
       "<style scoped>\n",
       "    .dataframe tbody tr th:only-of-type {\n",
       "        vertical-align: middle;\n",
       "    }\n",
       "\n",
       "    .dataframe tbody tr th {\n",
       "        vertical-align: top;\n",
       "    }\n",
       "\n",
       "    .dataframe thead th {\n",
       "        text-align: right;\n",
       "    }\n",
       "</style>\n",
       "<table border=\"1\" class=\"dataframe\">\n",
       "  <thead>\n",
       "    <tr style=\"text-align: right;\">\n",
       "      <th></th>\n",
       "      <th>region</th>\n",
       "      <th>target_mean</th>\n",
       "      <th>predicted_mean</th>\n",
       "      <th>RMSE</th>\n",
       "    </tr>\n",
       "  </thead>\n",
       "  <tbody>\n",
       "    <tr>\n",
       "      <th>0</th>\n",
       "      <td>Region 1</td>\n",
       "      <td>92.078597</td>\n",
       "      <td>92.592568</td>\n",
       "      <td>37.579422</td>\n",
       "    </tr>\n",
       "    <tr>\n",
       "      <th>1</th>\n",
       "      <td>Region 2</td>\n",
       "      <td>68.723136</td>\n",
       "      <td>92.592568</td>\n",
       "      <td>0.893099</td>\n",
       "    </tr>\n",
       "    <tr>\n",
       "      <th>2</th>\n",
       "      <td>Region 3</td>\n",
       "      <td>94.884233</td>\n",
       "      <td>92.592568</td>\n",
       "      <td>40.029709</td>\n",
       "    </tr>\n",
       "  </tbody>\n",
       "</table>\n",
       "</div>"
      ],
      "text/plain": [
       "     region  target_mean  predicted_mean       RMSE\n",
       "0  Region 1    92.078597       92.592568  37.579422\n",
       "1  Region 2    68.723136       92.592568   0.893099\n",
       "2  Region 3    94.884233       92.592568  40.029709"
      ]
     },
     "execution_count": 15,
     "metadata": {},
     "output_type": "execute_result"
    }
   ],
   "source": [
    "mean_rmse = pd.DataFrame(data={'region':['Region 1', 'Region 2', 'Region 3'],                               \n",
    "'target_mean':[target_valid1.mean(), target_valid2.mean(), target_valid3.mean()],\n",
    "'predicted_mean':[predicted_valid1.mean(), predicted_valid1.mean(), predicted_valid1.mean()],\n",
    "'RMSE':[rmse1, rmse2, rmse3]})\n",
    "\n",
    "mean_rmse"
   ]
  },
  {
   "cell_type": "markdown",
   "metadata": {
    "cellId": "325r7kxgdee02ydbwsth5px"
   },
   "source": [
    "* The models did a good job of predicting the average stock of raw materials.\n",
    "* The quality of models for the first and third regions are low.\n",
    "* Since further model predictions are only used to select wells with the highest estimated values, the absolute values of the predicted reserves are not so important.\n",
    "\n",
    "## Preparation for profit calculation\n",
    "\n",
    "* The budget for the development of wells in the region is 10 billion rubles\n",
    "* Income from each unit of the product is 450 thousand rubles\n",
    "* When exploring a region, 200 best wells are selected for development."
   ]
  },
  {
   "cell_type": "code",
   "execution_count": 16,
   "metadata": {
    "cellId": "y1ay7zzexmlsa27wg6r2l"
   },
   "outputs": [],
   "source": [
    "BUDGET = 1e10\n",
    "INCOME = 4.5e5\n",
    "N_WELL = 200 #final number of wells\n",
    "SCOUT_WELL = 500 #number of exploration wells"
   ]
  },
  {
   "cell_type": "markdown",
   "metadata": {
    "cellId": "7efnla717ovv4bvn4wm4mc"
   },
   "source": [
    "Sufficient volume of raw materials for break-even development of a new well:"
   ]
  },
  {
   "cell_type": "code",
   "execution_count": 17,
   "metadata": {
    "cellId": "0ysfjguf016be7zxwovlri"
   },
   "outputs": [
    {
     "name": "stdout",
     "output_type": "stream",
     "text": [
      "The volume of raw materials for break-even development: 111 thousand barrels\n",
      "\n",
      "Average stock in each region:\n"
     ]
    },
    {
     "data": {
      "text/html": [
       "<div>\n",
       "<style scoped>\n",
       "    .dataframe tbody tr th:only-of-type {\n",
       "        vertical-align: middle;\n",
       "    }\n",
       "\n",
       "    .dataframe tbody tr th {\n",
       "        vertical-align: top;\n",
       "    }\n",
       "\n",
       "    .dataframe thead th {\n",
       "        text-align: right;\n",
       "    }\n",
       "</style>\n",
       "<table border=\"1\" class=\"dataframe\">\n",
       "  <thead>\n",
       "    <tr style=\"text-align: right;\">\n",
       "      <th></th>\n",
       "      <th>region</th>\n",
       "      <th>target_mean</th>\n",
       "    </tr>\n",
       "  </thead>\n",
       "  <tbody>\n",
       "    <tr>\n",
       "      <th>0</th>\n",
       "      <td>Region 1</td>\n",
       "      <td>92.078597</td>\n",
       "    </tr>\n",
       "    <tr>\n",
       "      <th>1</th>\n",
       "      <td>Region 2</td>\n",
       "      <td>68.723136</td>\n",
       "    </tr>\n",
       "    <tr>\n",
       "      <th>2</th>\n",
       "      <td>Region 3</td>\n",
       "      <td>94.884233</td>\n",
       "    </tr>\n",
       "  </tbody>\n",
       "</table>\n",
       "</div>"
      ],
      "text/plain": [
       "     region  target_mean\n",
       "0  Region 1    92.078597\n",
       "1  Region 2    68.723136\n",
       "2  Region 3    94.884233"
      ]
     },
     "metadata": {},
     "output_type": "display_data"
    }
   ],
   "source": [
    "product_required = BUDGET/INCOME/N_WELL\n",
    "print('The volume of raw materials for break-even development:', int(product_required), 'thousand barrels')\n",
    "print()\n",
    "print('Average stock in each region:')\n",
    "display(mean_rmse[['region', 'target_mean']])"
   ]
  },
  {
   "cell_type": "code",
   "execution_count": 18,
   "metadata": {
    "cellId": "d1x7xjo9jdmohhva77sorj"
   },
   "outputs": [
    {
     "data": {
      "text/plain": [
       "184.83373964536008"
      ]
     },
     "execution_count": 18,
     "metadata": {},
     "output_type": "execute_result"
    }
   ],
   "source": [
    "#average production from the top 200 wells from initial data\n",
    "df1.sort_values(by='product', ascending=False).head(N_WELL)['product'].mean()"
   ]
  },
  {
   "cell_type": "markdown",
   "metadata": {
    "cellId": "k1na9xdk6pd8lc6r8ik23x"
   },
   "source": [
    "### Conclusions:\n",
    "\n",
    "* Sufficient volume of raw materials for break-even development of one well with the current budget and the number of wells is 111 thousand barrels.\n",
    "* The average stock in each region is less than sufficient.\n",
    "* If we select the best 200 wells in each region, then there will be enough of them for break-even production.\n",
    "\n",
    "## Profit and Risk Calculation\n",
    "\n",
    "### Profit calculation function\n",
    "\n",
    "I will write a function to calculate profit based on the selected number of wells and model predictions."
   ]
  },
  {
   "cell_type": "code",
   "execution_count": 19,
   "metadata": {
    "cellId": "8qjtmkvd0xxneu85wypctk"
   },
   "outputs": [],
   "source": [
    "def profit(prediction, target):\n",
    "    return target[prediction.sort_values(ascending=False).index].head(N_WELL).sum()*INCOME - BUDGET\n",
    "#the function receives pd.Series as input, so that in the future it does not wrap np.array twice in a Series"
   ]
  },
  {
   "cell_type": "code",
   "execution_count": 20,
   "metadata": {
    "cellId": "kr0c81a3hlbtj9jf6rhjj"
   },
   "outputs": [
    {
     "data": {
      "text/plain": [
       "3320826043.1398506"
      ]
     },
     "execution_count": 20,
     "metadata": {},
     "output_type": "execute_result"
    }
   ],
   "source": [
    "profit(pd.Series(predicted_valid1), pd.Series(target_valid1).reset_index(drop=True))"
   ]
  },
  {
   "cell_type": "markdown",
   "metadata": {
    "cellId": "xkqdd1biw0i028i1x6k3og8"
   },
   "source": [
    "### Risks and rewards for each region\n",
    "I'll use the Bootstrap technique with 1000 samples to find the profit distribution."
   ]
  },
  {
   "cell_type": "code",
   "execution_count": 21,
   "metadata": {
    "cellId": "2fwum8g5tjwqkwtmla9obp"
   },
   "outputs": [],
   "source": [
    "def profit_bootstrap(prediction, target):\n",
    "    state = np.random.RandomState(12345)\n",
    "    profit_values = []\n",
    "    prediction = pd.Series(prediction)\n",
    "    target = pd.Series(target).reset_index(drop=True)\n",
    "    for i in range(1000):\n",
    "        prediction_subsample = prediction.sample(n=SCOUT_WELL, replace=True, random_state=state)\n",
    "        profit_values.append(profit(prediction_subsample, target))\n",
    "    return profit_values"
   ]
  },
  {
   "cell_type": "markdown",
   "metadata": {
    "cellId": "dy7ocvxhq2atz56bf4ca4"
   },
   "source": [
    "### Region 1"
   ]
  },
  {
   "cell_type": "code",
   "execution_count": 22,
   "metadata": {
    "cellId": "6qkbzn1n1cdgb5v0tzbcrf"
   },
   "outputs": [],
   "source": [
    "region1 = pd.Series(profit_bootstrap(predicted_valid1, target_valid1))"
   ]
  },
  {
   "cell_type": "code",
   "execution_count": 23,
   "metadata": {
    "cellId": "ro730qod6bopqo7a768z"
   },
   "outputs": [
    {
     "name": "stdout",
     "output_type": "stream",
     "text": [
      "Average profit: 3.961650e+08\n",
      "Confidence interval: (-1.112155e+08, 9.097669e+08)\n",
      "Risk of loss 6.9%\n"
     ]
    }
   ],
   "source": [
    "print(f'Average profit: {region1.mean():e}')\n",
    "print(f'Confidence interval: ({region1.quantile(.025):e}, {region1.quantile(.975):e})')\n",
    "print(f'Risk of loss {region1.lt(0).mean():.1%}')"
   ]
  },
  {
   "cell_type": "markdown",
   "metadata": {
    "cellId": "hx8f4redcx5du9lxwblmpm"
   },
   "source": [
    "### Region 2"
   ]
  },
  {
   "cell_type": "code",
   "execution_count": 24,
   "metadata": {
    "cellId": "0il5haidx5xc5wyh4ky0ejx"
   },
   "outputs": [],
   "source": [
    "region2 = pd.Series(profit_bootstrap(predicted_valid2, target_valid2))"
   ]
  },
  {
   "cell_type": "code",
   "execution_count": 25,
   "metadata": {
    "cellId": "3wynteooooskso466fhnrr",
    "scrolled": true
   },
   "outputs": [
    {
     "name": "stdout",
     "output_type": "stream",
     "text": [
      "Average profit: 4.560451e+08\n",
      "Confidence interval: (3.382051e+07, 8.522895e+08)\n",
      "Risk of loss 1.5%\n"
     ]
    }
   ],
   "source": [
    "print(f'Average profit: {region2.mean():e}')\n",
    "print(f'Confidence interval: ({region2.quantile(.025):e}, {region2.quantile(.975):e})')\n",
    "print(f'Risk of loss {region2.lt(0).mean():.1%}')"
   ]
  },
  {
   "cell_type": "markdown",
   "metadata": {
    "cellId": "itf54um9f3ar1efnugxs9"
   },
   "source": [
    "### Region 3"
   ]
  },
  {
   "cell_type": "code",
   "execution_count": 26,
   "metadata": {
    "cellId": "pqvdc3gaegj071vmeea4x9j"
   },
   "outputs": [],
   "source": [
    "region3 = pd.Series(profit_bootstrap(predicted_valid3, target_valid3))"
   ]
  },
  {
   "cell_type": "code",
   "execution_count": 27,
   "metadata": {
    "cellId": "sjeuyrldonlot59sozrzi",
    "scrolled": false
   },
   "outputs": [
    {
     "name": "stdout",
     "output_type": "stream",
     "text": [
      "Average profit: 4.044039e+08\n",
      "Confidence interval: (-1.633504e+08, 9.503596e+08)\n",
      "Risk of loss 7.6%\n"
     ]
    }
   ],
   "source": [
    "print(f'Average profit: {region3.mean():e}')\n",
    "print(f'Confidence interval: ({region3.quantile(.025):e}, {region3.quantile(.975):e})')\n",
    "print(f'Risk of loss {region3.lt(0).mean():.1%}')"
   ]
  },
  {
   "cell_type": "markdown",
   "metadata": {
    "cellId": "a07jtrui5fgsyhwhogoy4"
   },
   "source": [
    "### Conclusion:\n",
    "\n",
    "* models were built to determine the region with the highest profit\n",
    "* using the bootstrap technique, the possible profit, confidence interval and risks were calculated\n",
    "* the highest returns and lowest risks were found in the second region\n",
    "* according to the results of the study, region No. 2 is proposed for development"
   ]
  }
 ],
 "metadata": {
  "kernelspec": {
   "display_name": "Python 3 (ipykernel)",
   "language": "python",
   "name": "python3"
  },
  "language_info": {
   "codemirror_mode": {
    "name": "ipython",
    "version": 3
   },
   "file_extension": ".py",
   "mimetype": "text/x-python",
   "name": "python",
   "nbconvert_exporter": "python",
   "pygments_lexer": "ipython3",
   "version": "3.9.12"
  },
  "notebookId": "e2ae8c60-46ae-4c9d-9c2e-c9f5e506bc5b",
  "notebookPath": "ds-ml-business.ipynb",
  "toc": {
   "base_numbering": 1,
   "nav_menu": {},
   "number_sections": true,
   "sideBar": true,
   "skip_h1_title": true,
   "title_cell": "Table of Contents",
   "title_sidebar": "Contents",
   "toc_cell": false,
   "toc_position": {},
   "toc_section_display": true,
   "toc_window_display": false
  }
 },
 "nbformat": 4,
 "nbformat_minor": 4
}
