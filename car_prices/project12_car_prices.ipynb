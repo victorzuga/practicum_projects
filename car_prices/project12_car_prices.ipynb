{
 "cells": [
  {
   "cell_type": "markdown",
   "metadata": {},
   "source": [
    "# Determining the cost of cars\n",
    "\n",
    "Service for the sale of used cars \"No Accidents\" is developing an application to attract new customers. In it, you can quickly find out the market value of your car. At your disposal are historical data: technical specifications, equipment and prices of cars. You need to build a model to determine the cost.\n",
    "\n",
    "The customer is important:\n",
    "\n",
    "- quality of prediction;\n",
    "- prediction speed;\n",
    "- studying time.\n",
    "\n",
    "## Data preparation"
   ]
  },
  {
   "cell_type": "code",
   "execution_count": 1,
   "metadata": {},
   "outputs": [],
   "source": [
    "#conda install lightgbm"
   ]
  },
  {
   "cell_type": "code",
   "execution_count": 2,
   "metadata": {},
   "outputs": [],
   "source": [
    "import pandas as pd\n",
    "import numpy as np\n",
    "import time\n",
    "import lightgbm as lgb\n",
    "\n",
    "from catboost import CatBoostRegressor\n",
    "\n",
    "from sklearn.model_selection import cross_val_score, train_test_split\n",
    "from sklearn.linear_model import LinearRegression\n",
    "from sklearn.preprocessing import StandardScaler\n",
    "from sklearn.pipeline import make_pipeline, Pipeline\n",
    "from sklearn.compose import ColumnTransformer\n",
    "from sklearn.preprocessing import OneHotEncoder\n",
    "from sklearn.base import clone\n",
    "from sklearn.metrics import mean_squared_error\n",
    "\n",
    "import warnings\n",
    "warnings.filterwarnings('ignore')"
   ]
  },
  {
   "cell_type": "code",
   "execution_count": 3,
   "metadata": {},
   "outputs": [],
   "source": [
    "try:\n",
    "    df = pd.read_csv(\"/Users/vzuga/Documents/jupyter/datasets/autos.csv\")\n",
    "except:\n",
    "    df = pd.read_csv('/datasets/autos.csv')"
   ]
  },
  {
   "cell_type": "code",
   "execution_count": 4,
   "metadata": {},
   "outputs": [],
   "source": [
    "def data_check(data):\n",
    "    data.info()\n",
    "    print()\n",
    "    display(data.head())\n",
    "    print()\n",
    "    print('Duplicates:', data.duplicated().sum())\n",
    "    print()\n",
    "    print('Missing values')\n",
    "    print(data.isna().mean())   \n",
    "    print()\n",
    "    print('Statistics')\n",
    "    print(data.describe())"
   ]
  },
  {
   "cell_type": "code",
   "execution_count": 5,
   "metadata": {},
   "outputs": [
    {
     "name": "stdout",
     "output_type": "stream",
     "text": [
      "<class 'pandas.core.frame.DataFrame'>\n",
      "RangeIndex: 354369 entries, 0 to 354368\n",
      "Data columns (total 16 columns):\n",
      " #   Column             Non-Null Count   Dtype \n",
      "---  ------             --------------   ----- \n",
      " 0   DateCrawled        354369 non-null  object\n",
      " 1   Price              354369 non-null  int64 \n",
      " 2   VehicleType        316879 non-null  object\n",
      " 3   RegistrationYear   354369 non-null  int64 \n",
      " 4   Gearbox            334536 non-null  object\n",
      " 5   Power              354369 non-null  int64 \n",
      " 6   Model              334664 non-null  object\n",
      " 7   Kilometer          354369 non-null  int64 \n",
      " 8   RegistrationMonth  354369 non-null  int64 \n",
      " 9   FuelType           321474 non-null  object\n",
      " 10  Brand              354369 non-null  object\n",
      " 11  NotRepaired        283215 non-null  object\n",
      " 12  DateCreated        354369 non-null  object\n",
      " 13  NumberOfPictures   354369 non-null  int64 \n",
      " 14  PostalCode         354369 non-null  int64 \n",
      " 15  LastSeen           354369 non-null  object\n",
      "dtypes: int64(7), object(9)\n",
      "memory usage: 43.3+ MB\n",
      "\n"
     ]
    },
    {
     "data": {
      "text/html": [
       "<div>\n",
       "<style scoped>\n",
       "    .dataframe tbody tr th:only-of-type {\n",
       "        vertical-align: middle;\n",
       "    }\n",
       "\n",
       "    .dataframe tbody tr th {\n",
       "        vertical-align: top;\n",
       "    }\n",
       "\n",
       "    .dataframe thead th {\n",
       "        text-align: right;\n",
       "    }\n",
       "</style>\n",
       "<table border=\"1\" class=\"dataframe\">\n",
       "  <thead>\n",
       "    <tr style=\"text-align: right;\">\n",
       "      <th></th>\n",
       "      <th>DateCrawled</th>\n",
       "      <th>Price</th>\n",
       "      <th>VehicleType</th>\n",
       "      <th>RegistrationYear</th>\n",
       "      <th>Gearbox</th>\n",
       "      <th>Power</th>\n",
       "      <th>Model</th>\n",
       "      <th>Kilometer</th>\n",
       "      <th>RegistrationMonth</th>\n",
       "      <th>FuelType</th>\n",
       "      <th>Brand</th>\n",
       "      <th>NotRepaired</th>\n",
       "      <th>DateCreated</th>\n",
       "      <th>NumberOfPictures</th>\n",
       "      <th>PostalCode</th>\n",
       "      <th>LastSeen</th>\n",
       "    </tr>\n",
       "  </thead>\n",
       "  <tbody>\n",
       "    <tr>\n",
       "      <th>0</th>\n",
       "      <td>2016-03-24 11:52:17</td>\n",
       "      <td>480</td>\n",
       "      <td>NaN</td>\n",
       "      <td>1993</td>\n",
       "      <td>manual</td>\n",
       "      <td>0</td>\n",
       "      <td>golf</td>\n",
       "      <td>150000</td>\n",
       "      <td>0</td>\n",
       "      <td>petrol</td>\n",
       "      <td>volkswagen</td>\n",
       "      <td>NaN</td>\n",
       "      <td>2016-03-24 00:00:00</td>\n",
       "      <td>0</td>\n",
       "      <td>70435</td>\n",
       "      <td>2016-04-07 03:16:57</td>\n",
       "    </tr>\n",
       "    <tr>\n",
       "      <th>1</th>\n",
       "      <td>2016-03-24 10:58:45</td>\n",
       "      <td>18300</td>\n",
       "      <td>coupe</td>\n",
       "      <td>2011</td>\n",
       "      <td>manual</td>\n",
       "      <td>190</td>\n",
       "      <td>NaN</td>\n",
       "      <td>125000</td>\n",
       "      <td>5</td>\n",
       "      <td>gasoline</td>\n",
       "      <td>audi</td>\n",
       "      <td>yes</td>\n",
       "      <td>2016-03-24 00:00:00</td>\n",
       "      <td>0</td>\n",
       "      <td>66954</td>\n",
       "      <td>2016-04-07 01:46:50</td>\n",
       "    </tr>\n",
       "    <tr>\n",
       "      <th>2</th>\n",
       "      <td>2016-03-14 12:52:21</td>\n",
       "      <td>9800</td>\n",
       "      <td>suv</td>\n",
       "      <td>2004</td>\n",
       "      <td>auto</td>\n",
       "      <td>163</td>\n",
       "      <td>grand</td>\n",
       "      <td>125000</td>\n",
       "      <td>8</td>\n",
       "      <td>gasoline</td>\n",
       "      <td>jeep</td>\n",
       "      <td>NaN</td>\n",
       "      <td>2016-03-14 00:00:00</td>\n",
       "      <td>0</td>\n",
       "      <td>90480</td>\n",
       "      <td>2016-04-05 12:47:46</td>\n",
       "    </tr>\n",
       "    <tr>\n",
       "      <th>3</th>\n",
       "      <td>2016-03-17 16:54:04</td>\n",
       "      <td>1500</td>\n",
       "      <td>small</td>\n",
       "      <td>2001</td>\n",
       "      <td>manual</td>\n",
       "      <td>75</td>\n",
       "      <td>golf</td>\n",
       "      <td>150000</td>\n",
       "      <td>6</td>\n",
       "      <td>petrol</td>\n",
       "      <td>volkswagen</td>\n",
       "      <td>no</td>\n",
       "      <td>2016-03-17 00:00:00</td>\n",
       "      <td>0</td>\n",
       "      <td>91074</td>\n",
       "      <td>2016-03-17 17:40:17</td>\n",
       "    </tr>\n",
       "    <tr>\n",
       "      <th>4</th>\n",
       "      <td>2016-03-31 17:25:20</td>\n",
       "      <td>3600</td>\n",
       "      <td>small</td>\n",
       "      <td>2008</td>\n",
       "      <td>manual</td>\n",
       "      <td>69</td>\n",
       "      <td>fabia</td>\n",
       "      <td>90000</td>\n",
       "      <td>7</td>\n",
       "      <td>gasoline</td>\n",
       "      <td>skoda</td>\n",
       "      <td>no</td>\n",
       "      <td>2016-03-31 00:00:00</td>\n",
       "      <td>0</td>\n",
       "      <td>60437</td>\n",
       "      <td>2016-04-06 10:17:21</td>\n",
       "    </tr>\n",
       "  </tbody>\n",
       "</table>\n",
       "</div>"
      ],
      "text/plain": [
       "           DateCrawled  Price VehicleType  RegistrationYear Gearbox  Power  \\\n",
       "0  2016-03-24 11:52:17    480         NaN              1993  manual      0   \n",
       "1  2016-03-24 10:58:45  18300       coupe              2011  manual    190   \n",
       "2  2016-03-14 12:52:21   9800         suv              2004    auto    163   \n",
       "3  2016-03-17 16:54:04   1500       small              2001  manual     75   \n",
       "4  2016-03-31 17:25:20   3600       small              2008  manual     69   \n",
       "\n",
       "   Model  Kilometer  RegistrationMonth  FuelType       Brand NotRepaired  \\\n",
       "0   golf     150000                  0    petrol  volkswagen         NaN   \n",
       "1    NaN     125000                  5  gasoline        audi         yes   \n",
       "2  grand     125000                  8  gasoline        jeep         NaN   \n",
       "3   golf     150000                  6    petrol  volkswagen          no   \n",
       "4  fabia      90000                  7  gasoline       skoda          no   \n",
       "\n",
       "           DateCreated  NumberOfPictures  PostalCode             LastSeen  \n",
       "0  2016-03-24 00:00:00                 0       70435  2016-04-07 03:16:57  \n",
       "1  2016-03-24 00:00:00                 0       66954  2016-04-07 01:46:50  \n",
       "2  2016-03-14 00:00:00                 0       90480  2016-04-05 12:47:46  \n",
       "3  2016-03-17 00:00:00                 0       91074  2016-03-17 17:40:17  \n",
       "4  2016-03-31 00:00:00                 0       60437  2016-04-06 10:17:21  "
      ]
     },
     "metadata": {},
     "output_type": "display_data"
    },
    {
     "name": "stdout",
     "output_type": "stream",
     "text": [
      "\n",
      "Duplicates: 4\n",
      "\n",
      "Missing values\n",
      "DateCrawled          0.000000\n",
      "Price                0.000000\n",
      "VehicleType          0.105794\n",
      "RegistrationYear     0.000000\n",
      "Gearbox              0.055967\n",
      "Power                0.000000\n",
      "Model                0.055606\n",
      "Kilometer            0.000000\n",
      "RegistrationMonth    0.000000\n",
      "FuelType             0.092827\n",
      "Brand                0.000000\n",
      "NotRepaired          0.200791\n",
      "DateCreated          0.000000\n",
      "NumberOfPictures     0.000000\n",
      "PostalCode           0.000000\n",
      "LastSeen             0.000000\n",
      "dtype: float64\n",
      "\n",
      "Statistics\n",
      "               Price  RegistrationYear          Power      Kilometer  \\\n",
      "count  354369.000000     354369.000000  354369.000000  354369.000000   \n",
      "mean     4416.656776       2004.234448     110.094337  128211.172535   \n",
      "std      4514.158514         90.227958     189.850405   37905.341530   \n",
      "min         0.000000       1000.000000       0.000000    5000.000000   \n",
      "25%      1050.000000       1999.000000      69.000000  125000.000000   \n",
      "50%      2700.000000       2003.000000     105.000000  150000.000000   \n",
      "75%      6400.000000       2008.000000     143.000000  150000.000000   \n",
      "max     20000.000000       9999.000000   20000.000000  150000.000000   \n",
      "\n",
      "       RegistrationMonth  NumberOfPictures     PostalCode  \n",
      "count      354369.000000          354369.0  354369.000000  \n",
      "mean            5.714645               0.0   50508.689087  \n",
      "std             3.726421               0.0   25783.096248  \n",
      "min             0.000000               0.0    1067.000000  \n",
      "25%             3.000000               0.0   30165.000000  \n",
      "50%             6.000000               0.0   49413.000000  \n",
      "75%             9.000000               0.0   71083.000000  \n",
      "max            12.000000               0.0   99998.000000  \n"
     ]
    }
   ],
   "source": [
    "data_check(df)"
   ]
  },
  {
   "cell_type": "markdown",
   "metadata": {},
   "source": [
    "### Conclusions:\n",
    "* rename column names\n",
    "* convert dates to DateTime\n",
    "* there are gaps in not_repaired, vehicle_type, fuel_type, gearbox, model\n",
    "* 4 obvious duplicates\n",
    "* abnormal values in price, registration_year, power\n",
    "* number_of_pictures only zeros\n",
    "\n",
    "### Renaming columns"
   ]
  },
  {
   "cell_type": "code",
   "execution_count": 6,
   "metadata": {},
   "outputs": [
    {
     "data": {
      "text/plain": [
       "Index(['date_crawled', 'price', 'vehicle_type', 'registration_year', 'gearbox',\n",
       "       'power', 'model', 'kilometer', 'registration_month', 'fuel_type',\n",
       "       'brand', 'not_repaired', 'date_created', 'number_of_pictures',\n",
       "       'postal_code', 'last_seen'],\n",
       "      dtype='object')"
      ]
     },
     "execution_count": 6,
     "metadata": {},
     "output_type": "execute_result"
    }
   ],
   "source": [
    "df.columns = df.columns.str.lower()\n",
    "\n",
    "df.columns = ['date_crawled', 'price', 'vehicle_type', 'registration_year', 'gearbox',\n",
    "       'power', 'model', 'kilometer', 'registration_month', 'fuel_type', 'brand',\n",
    "       'not_repaired', 'date_created', 'number_of_pictures', 'postal_code',\n",
    "       'last_seen']\n",
    "df.columns"
   ]
  },
  {
   "cell_type": "markdown",
   "metadata": {},
   "source": [
    "### DateTime\n",
    "\n",
    "Convert the following columns to DateTime format:\n",
    "*date_crawled\n",
    "*date_created\n",
    "* last_seen"
   ]
  },
  {
   "cell_type": "code",
   "execution_count": 7,
   "metadata": {},
   "outputs": [],
   "source": [
    "df['date_crawled'] = pd.to_datetime(df['date_crawled'], format='%Y-%m-%d %H:%M:%S')\n",
    "df['date_created'] = pd.to_datetime(df['date_created'], format='%Y-%m-%d %H:%M:%S')\n",
    "df['last_seen'] = pd.to_datetime(df['last_seen'], format='%Y-%m-%d %H:%M:%S')"
   ]
  },
  {
   "cell_type": "markdown",
   "metadata": {},
   "source": [
    "Check the registration_month column. It may be possible to combine it with registration_year and also convert it to DateTime."
   ]
  },
  {
   "cell_type": "code",
   "execution_count": 8,
   "metadata": {
    "scrolled": true
   },
   "outputs": [
    {
     "data": {
      "text/plain": [
       "0     37352\n",
       "3     34373\n",
       "6     31508\n",
       "4     29270\n",
       "5     29153\n",
       "7     27213\n",
       "10    26099\n",
       "12    24289\n",
       "11    24186\n",
       "9     23813\n",
       "1     23219\n",
       "8     22627\n",
       "2     21267\n",
       "Name: registration_month, dtype: int64"
      ]
     },
     "execution_count": 8,
     "metadata": {},
     "output_type": "execute_result"
    }
   ],
   "source": [
    "df['registration_month'].value_counts()"
   ]
  },
  {
   "cell_type": "markdown",
   "metadata": {},
   "source": [
    "Since there is a zero month and there are a lot of these values, I will leave it as it is.\n",
    "\n",
    "### Passes\n",
    "\n",
    "I'll start with the passes in the type of vehicle. Perhaps the data on the missing types can be taken from the model-vehicle type link."
   ]
  },
  {
   "cell_type": "code",
   "execution_count": 9,
   "metadata": {},
   "outputs": [
    {
     "data": {
      "text/plain": [
       "251"
      ]
     },
     "execution_count": 9,
     "metadata": {},
     "output_type": "execute_result"
    }
   ],
   "source": [
    "#amout of all car models\n",
    "len(df.model.unique())"
   ]
  },
  {
   "cell_type": "code",
   "execution_count": 10,
   "metadata": {
    "scrolled": false
   },
   "outputs": [
    {
     "data": {
      "text/html": [
       "<div>\n",
       "<style scoped>\n",
       "    .dataframe tbody tr th:only-of-type {\n",
       "        vertical-align: middle;\n",
       "    }\n",
       "\n",
       "    .dataframe tbody tr th {\n",
       "        vertical-align: top;\n",
       "    }\n",
       "\n",
       "    .dataframe thead th {\n",
       "        text-align: right;\n",
       "    }\n",
       "</style>\n",
       "<table border=\"1\" class=\"dataframe\">\n",
       "  <thead>\n",
       "    <tr style=\"text-align: right;\">\n",
       "      <th></th>\n",
       "      <th>model</th>\n",
       "      <th>vehicle_type</th>\n",
       "    </tr>\n",
       "  </thead>\n",
       "  <tbody>\n",
       "    <tr>\n",
       "      <th>2</th>\n",
       "      <td>grand</td>\n",
       "      <td>suv</td>\n",
       "    </tr>\n",
       "    <tr>\n",
       "      <th>3</th>\n",
       "      <td>golf</td>\n",
       "      <td>small</td>\n",
       "    </tr>\n",
       "    <tr>\n",
       "      <th>4</th>\n",
       "      <td>fabia</td>\n",
       "      <td>small</td>\n",
       "    </tr>\n",
       "    <tr>\n",
       "      <th>5</th>\n",
       "      <td>3er</td>\n",
       "      <td>sedan</td>\n",
       "    </tr>\n",
       "    <tr>\n",
       "      <th>6</th>\n",
       "      <td>2_reihe</td>\n",
       "      <td>convertible</td>\n",
       "    </tr>\n",
       "    <tr>\n",
       "      <th>...</th>\n",
       "      <td>...</td>\n",
       "      <td>...</td>\n",
       "    </tr>\n",
       "    <tr>\n",
       "      <th>339350</th>\n",
       "      <td>m_reihe</td>\n",
       "      <td>suv</td>\n",
       "    </tr>\n",
       "    <tr>\n",
       "      <th>340012</th>\n",
       "      <td>fox</td>\n",
       "      <td>convertible</td>\n",
       "    </tr>\n",
       "    <tr>\n",
       "      <th>344028</th>\n",
       "      <td>note</td>\n",
       "      <td>other</td>\n",
       "    </tr>\n",
       "    <tr>\n",
       "      <th>351588</th>\n",
       "      <td>zafira</td>\n",
       "      <td>coupe</td>\n",
       "    </tr>\n",
       "    <tr>\n",
       "      <th>352538</th>\n",
       "      <td>toledo</td>\n",
       "      <td>coupe</td>\n",
       "    </tr>\n",
       "  </tbody>\n",
       "</table>\n",
       "<p>1131 rows × 2 columns</p>\n",
       "</div>"
      ],
      "text/plain": [
       "          model vehicle_type\n",
       "2         grand          suv\n",
       "3          golf        small\n",
       "4         fabia        small\n",
       "5           3er        sedan\n",
       "6       2_reihe  convertible\n",
       "...         ...          ...\n",
       "339350  m_reihe          suv\n",
       "340012      fox  convertible\n",
       "344028     note        other\n",
       "351588   zafira        coupe\n",
       "352538   toledo        coupe\n",
       "\n",
       "[1131 rows x 2 columns]"
      ]
     },
     "execution_count": 10,
     "metadata": {},
     "output_type": "execute_result"
    }
   ],
   "source": [
    "#unique values of models and types\n",
    "df[['model', 'vehicle_type']].dropna().drop_duplicates()"
   ]
  },
  {
   "cell_type": "code",
   "execution_count": 11,
   "metadata": {},
   "outputs": [
    {
     "data": {
      "text/plain": [
       "sorento               2\n",
       "850                   2\n",
       "x_type                2\n",
       "range_rover_sport     1\n",
       "serie_3               1\n",
       "phaeton               1\n",
       "captiva               1\n",
       "range_rover           1\n",
       "cherokee              1\n",
       "b_max                 1\n",
       "gl                    1\n",
       "range_rover_evoque    1\n",
       "eos                   1\n",
       "s60                   1\n",
       "serie_1               1\n",
       "Name: model, dtype: int64"
      ]
     },
     "execution_count": 11,
     "metadata": {},
     "output_type": "execute_result"
    }
   ],
   "source": [
    "#how many types of vehicle corresponds to each model\n",
    "#last 15 of 251 entries\n",
    "df[['model', 'vehicle_type']].dropna().drop_duplicates()['model'].value_counts(ascending=False).tail(15)"
   ]
  },
  {
   "cell_type": "markdown",
   "metadata": {},
   "source": [
    "It can be seen that almost every model corresponds to 2 or more different types. It is not possible to replace gaps from this data. I'll look at the type values for some models."
   ]
  },
  {
   "cell_type": "code",
   "execution_count": 12,
   "metadata": {},
   "outputs": [
    {
     "data": {
      "text/html": [
       "<div>\n",
       "<style scoped>\n",
       "    .dataframe tbody tr th:only-of-type {\n",
       "        vertical-align: middle;\n",
       "    }\n",
       "\n",
       "    .dataframe tbody tr th {\n",
       "        vertical-align: top;\n",
       "    }\n",
       "\n",
       "    .dataframe thead th {\n",
       "        text-align: right;\n",
       "    }\n",
       "</style>\n",
       "<table border=\"1\" class=\"dataframe\">\n",
       "  <thead>\n",
       "    <tr style=\"text-align: right;\">\n",
       "      <th></th>\n",
       "      <th>model</th>\n",
       "      <th>vehicle_type</th>\n",
       "    </tr>\n",
       "  </thead>\n",
       "  <tbody>\n",
       "    <tr>\n",
       "      <th>3</th>\n",
       "      <td>golf</td>\n",
       "      <td>small</td>\n",
       "    </tr>\n",
       "    <tr>\n",
       "      <th>32</th>\n",
       "      <td>golf</td>\n",
       "      <td>sedan</td>\n",
       "    </tr>\n",
       "    <tr>\n",
       "      <th>189</th>\n",
       "      <td>golf</td>\n",
       "      <td>bus</td>\n",
       "    </tr>\n",
       "    <tr>\n",
       "      <th>191</th>\n",
       "      <td>golf</td>\n",
       "      <td>other</td>\n",
       "    </tr>\n",
       "    <tr>\n",
       "      <th>195</th>\n",
       "      <td>golf</td>\n",
       "      <td>wagon</td>\n",
       "    </tr>\n",
       "    <tr>\n",
       "      <th>219</th>\n",
       "      <td>golf</td>\n",
       "      <td>convertible</td>\n",
       "    </tr>\n",
       "    <tr>\n",
       "      <th>1108</th>\n",
       "      <td>golf</td>\n",
       "      <td>coupe</td>\n",
       "    </tr>\n",
       "    <tr>\n",
       "      <th>32468</th>\n",
       "      <td>golf</td>\n",
       "      <td>suv</td>\n",
       "    </tr>\n",
       "  </tbody>\n",
       "</table>\n",
       "</div>"
      ],
      "text/plain": [
       "      model vehicle_type\n",
       "3      golf        small\n",
       "32     golf        sedan\n",
       "189    golf          bus\n",
       "191    golf        other\n",
       "195    golf        wagon\n",
       "219    golf  convertible\n",
       "1108   golf        coupe\n",
       "32468  golf          suv"
      ]
     },
     "execution_count": 12,
     "metadata": {},
     "output_type": "execute_result"
    }
   ],
   "source": [
    "df[['model', 'vehicle_type']].dropna().drop_duplicates().query('model==\"golf\"')"
   ]
  },
  {
   "cell_type": "code",
   "execution_count": 13,
   "metadata": {},
   "outputs": [
    {
     "data": {
      "text/html": [
       "<div>\n",
       "<style scoped>\n",
       "    .dataframe tbody tr th:only-of-type {\n",
       "        vertical-align: middle;\n",
       "    }\n",
       "\n",
       "    .dataframe tbody tr th {\n",
       "        vertical-align: top;\n",
       "    }\n",
       "\n",
       "    .dataframe thead th {\n",
       "        text-align: right;\n",
       "    }\n",
       "</style>\n",
       "<table border=\"1\" class=\"dataframe\">\n",
       "  <thead>\n",
       "    <tr style=\"text-align: right;\">\n",
       "      <th></th>\n",
       "      <th>model</th>\n",
       "      <th>vehicle_type</th>\n",
       "    </tr>\n",
       "  </thead>\n",
       "  <tbody>\n",
       "    <tr>\n",
       "      <th>11</th>\n",
       "      <td>passat</td>\n",
       "      <td>wagon</td>\n",
       "    </tr>\n",
       "    <tr>\n",
       "      <th>95</th>\n",
       "      <td>passat</td>\n",
       "      <td>sedan</td>\n",
       "    </tr>\n",
       "    <tr>\n",
       "      <th>284</th>\n",
       "      <td>passat</td>\n",
       "      <td>coupe</td>\n",
       "    </tr>\n",
       "    <tr>\n",
       "      <th>11394</th>\n",
       "      <td>passat</td>\n",
       "      <td>suv</td>\n",
       "    </tr>\n",
       "    <tr>\n",
       "      <th>21016</th>\n",
       "      <td>passat</td>\n",
       "      <td>bus</td>\n",
       "    </tr>\n",
       "    <tr>\n",
       "      <th>50782</th>\n",
       "      <td>passat</td>\n",
       "      <td>small</td>\n",
       "    </tr>\n",
       "    <tr>\n",
       "      <th>123412</th>\n",
       "      <td>passat</td>\n",
       "      <td>other</td>\n",
       "    </tr>\n",
       "    <tr>\n",
       "      <th>294619</th>\n",
       "      <td>passat</td>\n",
       "      <td>convertible</td>\n",
       "    </tr>\n",
       "  </tbody>\n",
       "</table>\n",
       "</div>"
      ],
      "text/plain": [
       "         model vehicle_type\n",
       "11      passat        wagon\n",
       "95      passat        sedan\n",
       "284     passat        coupe\n",
       "11394   passat          suv\n",
       "21016   passat          bus\n",
       "50782   passat        small\n",
       "123412  passat        other\n",
       "294619  passat  convertible"
      ]
     },
     "execution_count": 13,
     "metadata": {},
     "output_type": "execute_result"
    }
   ],
   "source": [
    "df[['model', 'vehicle_type']].dropna().drop_duplicates().query('model==\"passat\"')"
   ]
  },
  {
   "cell_type": "markdown",
   "metadata": {},
   "source": [
    "It is clearly seen that the value of vehicle types does not correspond to the model. For example, Passat is available only as a station wagon and a sedan, but in the data it is also listed as a coupe, suv and bus. I will not use the __vehicle_type__ column to train the model.\n",
    "\n",
    "#### not_repaired, vehicle_type, fuel_type, gearbox, model\n",
    "\n",
    "I will check the unique values in the remaining columns with gaps."
   ]
  },
  {
   "cell_type": "code",
   "execution_count": 14,
   "metadata": {},
   "outputs": [
    {
     "data": {
      "text/plain": [
       "array(['manual', 'auto', nan], dtype=object)"
      ]
     },
     "execution_count": 14,
     "metadata": {},
     "output_type": "execute_result"
    }
   ],
   "source": [
    "df['gearbox'].unique()"
   ]
  },
  {
   "cell_type": "code",
   "execution_count": 15,
   "metadata": {},
   "outputs": [
    {
     "data": {
      "text/plain": [
       "array([nan, 'yes', 'no'], dtype=object)"
      ]
     },
     "execution_count": 15,
     "metadata": {},
     "output_type": "execute_result"
    }
   ],
   "source": [
    "df['not_repaired'].unique()"
   ]
  },
  {
   "cell_type": "code",
   "execution_count": 16,
   "metadata": {},
   "outputs": [
    {
     "data": {
      "text/plain": [
       "array(['petrol', 'gasoline', nan, 'lpg', 'other', 'hybrid', 'cng',\n",
       "       'electric'], dtype=object)"
      ]
     },
     "execution_count": 16,
     "metadata": {},
     "output_type": "execute_result"
    }
   ],
   "source": [
    "df['fuel_type'].unique()"
   ]
  },
  {
   "cell_type": "markdown",
   "metadata": {},
   "source": [
    "Replace all gaps with 'unknown'"
   ]
  },
  {
   "cell_type": "code",
   "execution_count": 17,
   "metadata": {},
   "outputs": [],
   "source": [
    "df =  df.fillna('unknown')"
   ]
  },
  {
   "cell_type": "markdown",
   "metadata": {},
   "source": [
    "### Duplicates"
   ]
  },
  {
   "cell_type": "code",
   "execution_count": 18,
   "metadata": {},
   "outputs": [],
   "source": [
    "df = df.drop_duplicates()"
   ]
  },
  {
   "cell_type": "markdown",
   "metadata": {},
   "source": [
    "### Validate values\n",
    "The minimum price value is zero."
   ]
  },
  {
   "cell_type": "code",
   "execution_count": 19,
   "metadata": {},
   "outputs": [
    {
     "data": {
      "text/plain": [
       "<AxesSubplot:>"
      ]
     },
     "execution_count": 19,
     "metadata": {},
     "output_type": "execute_result"
    },
    {
     "data": {
      "image/png": "[encoded data removed]",
      "text/plain": [
       "<Figure size 432x288 with 1 Axes>"
      ]
     },
     "metadata": {
      "needs_background": "light"
     },
     "output_type": "display_data"
    }
   ],
   "source": [
    "df.price.hist(bins=20)"
   ]
  },
  {
   "cell_type": "code",
   "execution_count": 20,
   "metadata": {},
   "outputs": [
    {
     "data": {
      "text/plain": [
       "0.030398035923412302"
      ]
     },
     "execution_count": 20,
     "metadata": {},
     "output_type": "execute_result"
    }
   ],
   "source": [
    "len(df.query('price==0'))/len(df)"
   ]
  },
  {
   "cell_type": "markdown",
   "metadata": {},
   "source": [
    "Data with a zero price is only 3%, I will delete them."
   ]
  },
  {
   "cell_type": "code",
   "execution_count": 21,
   "metadata": {},
   "outputs": [],
   "source": [
    "df = df.query('price!=0')"
   ]
  },
  {
   "cell_type": "markdown",
   "metadata": {},
   "source": [
    "In the year of registration, there are values ​​more than 2022 and less than 1950. I'll look at their amount."
   ]
  },
  {
   "cell_type": "code",
   "execution_count": 22,
   "metadata": {},
   "outputs": [
    {
     "data": {
      "text/plain": [
       "<AxesSubplot:>"
      ]
     },
     "execution_count": 22,
     "metadata": {},
     "output_type": "execute_result"
    },
    {
     "data": {
      "image/png": "[encoded data removed]",
      "text/plain": [
       "<Figure size 432x288 with 1 Axes>"
      ]
     },
     "metadata": {
      "needs_background": "light"
     },
     "output_type": "display_data"
    }
   ],
   "source": [
    "df.registration_year.hist(range=(1950, 2022), bins=10)"
   ]
  },
  {
   "cell_type": "code",
   "execution_count": 23,
   "metadata": {},
   "outputs": [
    {
     "data": {
      "text/plain": [
       "0.04062364483560492"
      ]
     },
     "execution_count": 23,
     "metadata": {},
     "output_type": "execute_result"
    }
   ],
   "source": [
    "len(df.query('registration_year<1950 or registration_year>2016'))/len(df)"
   ]
  },
  {
   "cell_type": "markdown",
   "metadata": {},
   "source": [
    "Not much. I'll delete them too."
   ]
  },
  {
   "cell_type": "code",
   "execution_count": 24,
   "metadata": {},
   "outputs": [],
   "source": [
    "df = df.query('registration_year>1950 or registration_year<2016')"
   ]
  },
  {
   "cell_type": "code",
   "execution_count": 25,
   "metadata": {
    "scrolled": false
   },
   "outputs": [
    {
     "data": {
      "text/plain": [
       "count                  343593\n",
       "unique                 265135\n",
       "top       2016-03-24 14:49:47\n",
       "freq                        7\n",
       "first     2016-03-05 14:06:22\n",
       "last      2016-04-07 14:36:58\n",
       "Name: date_crawled, dtype: object"
      ]
     },
     "execution_count": 25,
     "metadata": {},
     "output_type": "execute_result"
    }
   ],
   "source": [
    "df['date_crawled'].describe()"
   ]
  },
  {
   "cell_type": "markdown",
   "metadata": {},
   "source": [
    "Remained anomalous values in power."
   ]
  },
  {
   "cell_type": "code",
   "execution_count": 26,
   "metadata": {
    "scrolled": true
   },
   "outputs": [
    {
     "data": {
      "text/plain": [
       "<AxesSubplot:>"
      ]
     },
     "execution_count": 26,
     "metadata": {},
     "output_type": "execute_result"
    },
    {
     "data": {
      "image/png": "[encoded data removed]",
      "text/plain": [
       "<Figure size 432x288 with 1 Axes>"
      ]
     },
     "metadata": {
      "needs_background": "light"
     },
     "output_type": "display_data"
    }
   ],
   "source": [
    "df.power.hist(range=(0, 600), bins=40)"
   ]
  },
  {
   "cell_type": "code",
   "execution_count": 27,
   "metadata": {
    "scrolled": true
   },
   "outputs": [
    {
     "data": {
      "text/plain": [
       "361"
      ]
     },
     "execution_count": 27,
     "metadata": {},
     "output_type": "execute_result"
    }
   ],
   "source": [
    "len(df.query('power>600'))"
   ]
  },
  {
   "cell_type": "markdown",
   "metadata": {},
   "source": [
    "I will remove a small number of values with too much power."
   ]
  },
  {
   "cell_type": "code",
   "execution_count": 28,
   "metadata": {},
   "outputs": [],
   "source": [
    "df = df.query('power<600')"
   ]
  },
  {
   "cell_type": "markdown",
   "metadata": {},
   "source": [
    "Number of cars with zero power:"
   ]
  },
  {
   "cell_type": "code",
   "execution_count": 29,
   "metadata": {},
   "outputs": [
    {
     "data": {
      "text/plain": [
       "0.10593695643939946"
      ]
     },
     "execution_count": 29,
     "metadata": {},
     "output_type": "execute_result"
    }
   ],
   "source": [
    "len(df.query('power==0'))/len(df)"
   ]
  },
  {
   "cell_type": "markdown",
   "metadata": {},
   "source": [
    "I will replace 10% of zero values with an average power value."
   ]
  },
  {
   "cell_type": "code",
   "execution_count": 30,
   "metadata": {},
   "outputs": [],
   "source": [
    "df.power = df.power.replace(0, df.power.mean())\n",
    "df.power = df.power.astype('int')"
   ]
  },
  {
   "cell_type": "markdown",
   "metadata": {},
   "source": [
    "The number_of_pictures column contains only zeros."
   ]
  },
  {
   "cell_type": "code",
   "execution_count": 31,
   "metadata": {
    "scrolled": true
   },
   "outputs": [
    {
     "data": {
      "text/plain": [
       "array([0])"
      ]
     },
     "execution_count": 31,
     "metadata": {},
     "output_type": "execute_result"
    }
   ],
   "source": [
    "df.number_of_pictures.unique()"
   ]
  },
  {
   "cell_type": "markdown",
   "metadata": {},
   "source": [
    "Also, I will not use this column in training.\n",
    "\n",
    "### Dates"
   ]
  },
  {
   "cell_type": "code",
   "execution_count": 32,
   "metadata": {
    "scrolled": false
   },
   "outputs": [
    {
     "data": {
      "text/plain": [
       "count                  343223\n",
       "unique                    109\n",
       "top       2016-04-03 00:00:00\n",
       "freq                    13329\n",
       "first     2014-03-10 00:00:00\n",
       "last      2016-04-07 00:00:00\n",
       "Name: date_created, dtype: object"
      ]
     },
     "execution_count": 32,
     "metadata": {},
     "output_type": "execute_result"
    }
   ],
   "source": [
    "df.date_created.describe()"
   ]
  },
  {
   "cell_type": "code",
   "execution_count": 33,
   "metadata": {},
   "outputs": [
    {
     "data": {
      "text/plain": [
       "count                  343223\n",
       "unique                 174389\n",
       "top       2016-04-06 13:45:54\n",
       "freq                       16\n",
       "first     2016-03-05 14:15:08\n",
       "last      2016-04-07 14:58:51\n",
       "Name: last_seen, dtype: object"
      ]
     },
     "execution_count": 33,
     "metadata": {},
     "output_type": "execute_result"
    }
   ],
   "source": [
    "df.last_seen.describe()"
   ]
  },
  {
   "cell_type": "code",
   "execution_count": 34,
   "metadata": {},
   "outputs": [
    {
     "data": {
      "text/plain": [
       "count                  343223\n",
       "unique                 264929\n",
       "top       2016-03-24 14:49:47\n",
       "freq                        7\n",
       "first     2016-03-05 14:06:22\n",
       "last      2016-04-07 14:36:58\n",
       "Name: date_crawled, dtype: object"
      ]
     },
     "execution_count": 34,
     "metadata": {},
     "output_type": "execute_result"
    }
   ],
   "source": [
    "df.date_crawled.describe()"
   ]
  },
  {
   "cell_type": "code",
   "execution_count": 35,
   "metadata": {},
   "outputs": [
    {
     "data": {
      "text/plain": [
       "count    343223.000000\n",
       "mean      50688.534562\n",
       "std       25744.531616\n",
       "min        1067.000000\n",
       "25%       30449.000000\n",
       "50%       49525.000000\n",
       "75%       71229.000000\n",
       "max       99998.000000\n",
       "Name: postal_code, dtype: float64"
      ]
     },
     "execution_count": 35,
     "metadata": {},
     "output_type": "execute_result"
    }
   ],
   "source": [
    "df.postal_code.describe()"
   ]
  },
  {
   "cell_type": "markdown",
   "metadata": {},
   "source": [
    "Dates of creation, download and last activity, as well as the index, are within one month and do not carry important information for training models. I won't use them.\n",
    "\n",
    "## Model training\n",
    "\n",
    "### Create selections"
   ]
  },
  {
   "cell_type": "code",
   "execution_count": 36,
   "metadata": {},
   "outputs": [],
   "source": [
    "#target and features\n",
    "features = df.drop(['price','number_of_pictures', 'vehicle_type', \n",
    "                    'date_created', 'last_seen', 'date_crawled', 'postal_code'], axis=1)\n",
    "target = df['price']\n",
    "numerical = list(features.select_dtypes(include=['int64']).columns)\n",
    "categorical = list(features.select_dtypes(include=['object', 'category']).columns)\n",
    "features[categorical] = features[categorical].astype('category')"
   ]
  },
  {
   "cell_type": "code",
   "execution_count": 37,
   "metadata": {},
   "outputs": [],
   "source": [
    "features_train, features_test, target_train, target_test = train_test_split(\n",
    "    features, target, test_size=.25, random_state=12345)"
   ]
  },
  {
   "cell_type": "markdown",
   "metadata": {},
   "source": [
    "### Linear regression\n",
    "\n",
    "To begin with, I will take the linear regression model as the least accurate, but the fastest.\n",
    "\n",
    "Linear regression requires feature encoding and scaling."
   ]
  },
  {
   "cell_type": "code",
   "execution_count": 38,
   "metadata": {},
   "outputs": [],
   "source": [
    "start = time.time()\n",
    "\n",
    "t = [('cat', OneHotEncoder(handle_unknown = 'ignore'), \n",
    "      categorical), ('num', StandardScaler(), numerical)]\n",
    "col_transform = ColumnTransformer(transformers=t)\n",
    "model = LinearRegression()\n",
    "pipeline = Pipeline(steps=[('prep',col_transform), ('m', model)])\n",
    "\n",
    "rmse_lr_pipe = -1*cross_val_score(pipeline, features_train, target_train, \n",
    "                                  cv=3, scoring='neg_root_mean_squared_error')\n",
    "\n",
    "pipeline = clone(pipeline)\n",
    "pipeline.fit(features_train, target_train)\n",
    "rmse_lr = np.mean(rmse_lr_pipe)\n",
    "rmse_lr_test = mean_squared_error(target_test, pipeline.predict(features_test), squared=False)\n",
    "\n",
    "end = time.time()\n",
    "time_lr = end - start"
   ]
  },
  {
   "cell_type": "code",
   "execution_count": 39,
   "metadata": {
    "scrolled": true
   },
   "outputs": [
    {
     "name": "stdout",
     "output_type": "stream",
     "text": [
      "RMSE for regression model: 2883.0054377292267\n",
      "Time: 25.51385998725891\n",
      "rmse on test data: 2900.84634399913\n"
     ]
    }
   ],
   "source": [
    "print('RMSE for regression model:', rmse_lr)\n",
    "print('Time:', time_lr)\n",
    "print(\"rmse on test data:\", rmse_lr_test)"
   ]
  },
  {
   "cell_type": "markdown",
   "metadata": {},
   "source": [
    "### LightGBM\n",
    "\n",
    "I'll start with the default values."
   ]
  },
  {
   "cell_type": "code",
   "execution_count": 40,
   "metadata": {},
   "outputs": [],
   "source": [
    "#default hyperparameters\n",
    "start = time.time()\n",
    "\n",
    "model = lgb.LGBMRegressor()\n",
    "\n",
    "rmse_lgb = -1*cross_val_score(model, features_train, target_train, cv=3, scoring='neg_root_mean_squared_error')\n",
    "\n",
    "rmse_lgb_default = np.mean(rmse_lgb)\n",
    "model = clone(model)\n",
    "model.fit(features_train, target_train)\n",
    "rmse_lgb_default_test = mean_squared_error(target_test, model.predict(features_test), squared=False)\n",
    "\n",
    "end = time.time()\n",
    "time_lgb_default = end - start"
   ]
  },
  {
   "cell_type": "code",
   "execution_count": 41,
   "metadata": {
    "scrolled": false
   },
   "outputs": [
    {
     "name": "stdout",
     "output_type": "stream",
     "text": [
      "RMSE LightGBM: 1743\n",
      "Time LightGBM: 2\n",
      "RMSE on test data: 1737.5469405548126\n"
     ]
    }
   ],
   "source": [
    "print('RMSE LightGBM:', int(rmse_lgb_default))\n",
    "print('Time LightGBM:', int(time_lgb_default))\n",
    "print(\"RMSE on test data:\", rmse_lgb_default_test)"
   ]
  },
  {
   "cell_type": "code",
   "execution_count": 42,
   "metadata": {},
   "outputs": [],
   "source": [
    "#faster\n",
    "start = time.time()\n",
    "\n",
    "model = lgb.LGBMRegressor(num_leaves=10, max_depth=2,n_estimators=50, learning_rate=0.5)\n",
    "\n",
    "rmse_lgb = -1*cross_val_score(model, \n",
    "                              features_train, target_train, cv=3, scoring='neg_root_mean_squared_error')\n",
    "\n",
    "rmse_lgb_fast = np.mean(rmse_lgb)\n",
    "\n",
    "model = clone(model)\n",
    "model.fit(features_train, target_train)\n",
    "rmse_lgb_fast_test = mean_squared_error(target_test, model.predict(features_test), squared=False)\n",
    "\n",
    "end = time.time()\n",
    "time_lgb_fast = end - start"
   ]
  },
  {
   "cell_type": "code",
   "execution_count": 43,
   "metadata": {},
   "outputs": [
    {
     "name": "stdout",
     "output_type": "stream",
     "text": [
      "RMSE LightGBM: 1975\n",
      "Time LightGBM: 0\n",
      "RMSE on test data: 1977.979858983996\n"
     ]
    }
   ],
   "source": [
    "print('RMSE LightGBM:', int(rmse_lgb_fast))\n",
    "print('Time LightGBM:', int(time_lgb_fast))\n",
    "print(\"RMSE on test data:\", rmse_lgb_fast_test)"
   ]
  },
  {
   "cell_type": "code",
   "execution_count": 44,
   "metadata": {},
   "outputs": [],
   "source": [
    "#more precise\n",
    "start = time.time()\n",
    "\n",
    "model = lgb.LGBMRegressor(num_leaves=431, max_depth=-1,n_estimators=500, learning_rate=0.1)\n",
    "\n",
    "rmse_lgb = -1*cross_val_score(model, \n",
    "                              features_train, target_train, cv=3, scoring='neg_root_mean_squared_error')\n",
    "\n",
    "rmse_lgb_precise = np.mean(rmse_lgb)\n",
    "\n",
    "model = clone(model)\n",
    "model.fit(features_train, target_train)\n",
    "rmse_lgb_precise_test = mean_squared_error(target_test, model.predict(features_test), squared=False)\n",
    "\n",
    "end = time.time()\n",
    "time_lgb_precise = end - start"
   ]
  },
  {
   "cell_type": "code",
   "execution_count": 45,
   "metadata": {},
   "outputs": [
    {
     "name": "stdout",
     "output_type": "stream",
     "text": [
      "RMSE LightGBM: 1657\n",
      "Time LightGBM: 30\n",
      "RMSE on test data: 1616.0595679928556\n"
     ]
    }
   ],
   "source": [
    "print('RMSE LightGBM:', int(rmse_lgb_precise))\n",
    "print('Time LightGBM:', int(time_lgb_precise))\n",
    "print(\"RMSE on test data:\", rmse_lgb_precise_test)"
   ]
  },
  {
   "cell_type": "markdown",
   "metadata": {},
   "source": [
    "### Catboost"
   ]
  },
  {
   "cell_type": "code",
   "execution_count": 46,
   "metadata": {
    "scrolled": true
   },
   "outputs": [
    {
     "name": "stdout",
     "output_type": "stream",
     "text": [
      "Learning rate set to 0.088206\n",
      "0:\tlearn: 4261.2883325\ttotal: 93.3ms\tremaining: 1m 33s\n",
      "999:\tlearn: 1652.7096343\ttotal: 23s\tremaining: 0us\n",
      "Learning rate set to 0.088206\n",
      "0:\tlearn: 4268.3339900\ttotal: 28.1ms\tremaining: 28.1s\n",
      "999:\tlearn: 1659.5129040\ttotal: 23.6s\tremaining: 0us\n",
      "Learning rate set to 0.098415\n",
      "0:\tlearn: 4231.2800941\ttotal: 59.1ms\tremaining: 59s\n",
      "999:\tlearn: 1658.4132592\ttotal: 43.3s\tremaining: 0us\n"
     ]
    }
   ],
   "source": [
    "#default\n",
    "start = time.time()\n",
    "\n",
    "model = CatBoostRegressor(cat_features=categorical, verbose=1000)\n",
    "rmse_cat = -1*cross_val_score(model, \n",
    "                              features_train, target_train, cv=2, scoring='neg_root_mean_squared_error')\n",
    "\n",
    "rmse_cat_default = np.mean(rmse_cat)\n",
    "model = clone(model)\n",
    "model.fit(features_train, target_train)\n",
    "rmse_cat_default_test = mean_squared_error(target_test, model.predict(features_test), squared=False)\n",
    "\n",
    "end = time.time()\n",
    "time_cat_default = end - start"
   ]
  },
  {
   "cell_type": "code",
   "execution_count": 47,
   "metadata": {
    "scrolled": true
   },
   "outputs": [
    {
     "name": "stdout",
     "output_type": "stream",
     "text": [
      "RMSE CatBoost: 1744\n",
      "Time CatBoost: 91\n",
      "RMSE on test data: 1721.4877482928382\n"
     ]
    }
   ],
   "source": [
    "print('RMSE CatBoost:', int(rmse_cat_default))\n",
    "print('Time CatBoost:', int(time_cat_default))\n",
    "print(\"RMSE on test data:\", rmse_cat_default_test)"
   ]
  },
  {
   "cell_type": "code",
   "execution_count": 48,
   "metadata": {},
   "outputs": [
    {
     "name": "stdout",
     "output_type": "stream",
     "text": [
      "0:\tlearn: 3255.2523759\ttotal: 15.7ms\tremaining: 142ms\n",
      "9:\tlearn: 2039.2169135\ttotal: 150ms\tremaining: 0us\n",
      "0:\tlearn: 3241.9190704\ttotal: 15.5ms\tremaining: 140ms\n",
      "9:\tlearn: 2028.8592562\ttotal: 149ms\tremaining: 0us\n",
      "0:\tlearn: 3295.7286848\ttotal: 15.1ms\tremaining: 136ms\n",
      "9:\tlearn: 2040.3034154\ttotal: 147ms\tremaining: 0us\n",
      "0:\tlearn: 3246.9122918\ttotal: 25.5ms\tremaining: 230ms\n",
      "9:\tlearn: 2041.2216444\ttotal: 213ms\tremaining: 0us\n"
     ]
    }
   ],
   "source": [
    "#faster\n",
    "start = time.time()\n",
    "\n",
    "model = CatBoostRegressor(cat_features=categorical, verbose=1000,\n",
    "                                               learning_rate=0.5, iterations=10)\n",
    "rmse_cat = -1*cross_val_score(model, \n",
    "                              features_train, target_train, cv=3, scoring='neg_root_mean_squared_error')\n",
    "\n",
    "rmse_cat_fast = np.mean(rmse_cat)\n",
    "model = clone(model)\n",
    "model.fit(features_train, target_train)\n",
    "rmse_cat_fast_test = mean_squared_error(target_test, model.predict(features_test), squared=False)\n",
    "\n",
    "end = time.time()\n",
    "time_cat_fast = end - start"
   ]
  },
  {
   "cell_type": "code",
   "execution_count": 49,
   "metadata": {},
   "outputs": [
    {
     "name": "stdout",
     "output_type": "stream",
     "text": [
      "RMSE CatBoost: 2038\n",
      "Time CatBoost: 1\n",
      "RMSE on test data: 2037.7432438748808\n"
     ]
    }
   ],
   "source": [
    "print('RMSE CatBoost:', int(rmse_cat_fast))\n",
    "print('Time CatBoost:', int(time_cat_fast))\n",
    "print(\"RMSE on test data:\", rmse_cat_fast_test)"
   ]
  },
  {
   "cell_type": "code",
   "execution_count": 50,
   "metadata": {},
   "outputs": [
    {
     "name": "stdout",
     "output_type": "stream",
     "text": [
      "0:\tlearn: 3622.2580931\ttotal: 22.4ms\tremaining: 2.22s\n",
      "99:\tlearn: 1614.4329797\ttotal: 2.31s\tremaining: 0us\n",
      "0:\tlearn: 3621.8819811\ttotal: 23.1ms\tremaining: 2.28s\n",
      "99:\tlearn: 1619.0740937\ttotal: 2.24s\tremaining: 0us\n",
      "0:\tlearn: 3609.3747182\ttotal: 22.9ms\tremaining: 2.27s\n",
      "99:\tlearn: 1611.0711766\ttotal: 2.41s\tremaining: 0us\n",
      "0:\tlearn: 3614.7404069\ttotal: 35.4ms\tremaining: 3.51s\n",
      "99:\tlearn: 1632.6021791\ttotal: 3.09s\tremaining: 0us\n"
     ]
    }
   ],
   "source": [
    "#more precise\n",
    "start = time.time()\n",
    "\n",
    "model = CatBoostRegressor(cat_features=categorical, verbose=1000,\n",
    "                                               learning_rate=0.3, iterations=100, depth=10)\n",
    "rmse_cat = -1*cross_val_score(model, \n",
    "                              features_train, target_train, cv=3, scoring='neg_root_mean_squared_error')\n",
    "\n",
    "rmse_cat_precise = np.mean(rmse_cat)\n",
    "model = clone(model)\n",
    "model.fit(features_train, target_train)\n",
    "rmse_cat_precise_test = mean_squared_error(target_test, model.predict(features_test), squared=False)\n",
    "\n",
    "end = time.time()\n",
    "time_cat_precise = end - start"
   ]
  },
  {
   "cell_type": "code",
   "execution_count": 51,
   "metadata": {},
   "outputs": [
    {
     "name": "stdout",
     "output_type": "stream",
     "text": [
      "RMSE CatBoost: 1744\n",
      "Time CatBoost: 10\n",
      "RMSE on test data: 1732.0056059797028\n"
     ]
    }
   ],
   "source": [
    "print('RMSE CatBoost:', int(rmse_cat_precise))\n",
    "print('Time CatBoost:', int(time_cat_precise))\n",
    "print(\"RMSE on test data:\", rmse_cat_precise_test)"
   ]
  },
  {
   "cell_type": "markdown",
   "metadata": {},
   "source": [
    "## Analysis of models"
   ]
  },
  {
   "cell_type": "code",
   "execution_count": 52,
   "metadata": {
    "scrolled": false
   },
   "outputs": [
    {
     "data": {
      "text/html": [
       "<div>\n",
       "<style scoped>\n",
       "    .dataframe tbody tr th:only-of-type {\n",
       "        vertical-align: middle;\n",
       "    }\n",
       "\n",
       "    .dataframe tbody tr th {\n",
       "        vertical-align: top;\n",
       "    }\n",
       "\n",
       "    .dataframe thead th {\n",
       "        text-align: right;\n",
       "    }\n",
       "</style>\n",
       "<table border=\"1\" class=\"dataframe\">\n",
       "  <thead>\n",
       "    <tr style=\"text-align: right;\">\n",
       "      <th></th>\n",
       "      <th>parameters</th>\n",
       "      <th>RMSE</th>\n",
       "      <th>time</th>\n",
       "    </tr>\n",
       "    <tr>\n",
       "      <th>model</th>\n",
       "      <th></th>\n",
       "      <th></th>\n",
       "      <th></th>\n",
       "    </tr>\n",
       "  </thead>\n",
       "  <tbody>\n",
       "    <tr>\n",
       "      <th>LinearRegression</th>\n",
       "      <td>default</td>\n",
       "      <td>2900.846344</td>\n",
       "      <td>25.513860</td>\n",
       "    </tr>\n",
       "    <tr>\n",
       "      <th>LightGBM</th>\n",
       "      <td>default</td>\n",
       "      <td>1737.546941</td>\n",
       "      <td>2.219168</td>\n",
       "    </tr>\n",
       "    <tr>\n",
       "      <th>LightGBM</th>\n",
       "      <td>fast</td>\n",
       "      <td>1977.979859</td>\n",
       "      <td>0.671290</td>\n",
       "    </tr>\n",
       "    <tr>\n",
       "      <th>LightGBM</th>\n",
       "      <td>precise</td>\n",
       "      <td>1616.059568</td>\n",
       "      <td>30.425030</td>\n",
       "    </tr>\n",
       "    <tr>\n",
       "      <th>CatBoost</th>\n",
       "      <td>default</td>\n",
       "      <td>1721.487748</td>\n",
       "      <td>91.384846</td>\n",
       "    </tr>\n",
       "    <tr>\n",
       "      <th>CatBoost</th>\n",
       "      <td>fast</td>\n",
       "      <td>2037.743244</td>\n",
       "      <td>1.335653</td>\n",
       "    </tr>\n",
       "    <tr>\n",
       "      <th>CatBoost</th>\n",
       "      <td>precise</td>\n",
       "      <td>1732.005606</td>\n",
       "      <td>10.764473</td>\n",
       "    </tr>\n",
       "  </tbody>\n",
       "</table>\n",
       "</div>"
      ],
      "text/plain": [
       "                 parameters         RMSE       time\n",
       "model                                              \n",
       "LinearRegression    default  2900.846344  25.513860\n",
       "LightGBM            default  1737.546941   2.219168\n",
       "LightGBM               fast  1977.979859   0.671290\n",
       "LightGBM            precise  1616.059568  30.425030\n",
       "CatBoost            default  1721.487748  91.384846\n",
       "CatBoost               fast  2037.743244   1.335653\n",
       "CatBoost            precise  1732.005606  10.764473"
      ]
     },
     "execution_count": 52,
     "metadata": {},
     "output_type": "execute_result"
    }
   ],
   "source": [
    "models_rmse = pd.DataFrame(data={'model':['LinearRegression', 'LightGBM','LightGBM','LightGBM', \n",
    "                                          'CatBoost', 'CatBoost', 'CatBoost'],                               \n",
    "'parameters':['default', 'default','fast', 'precise', \n",
    "              'default', 'fast', 'precise'],\n",
    "'RMSE':[rmse_lr_test, rmse_lgb_default_test, rmse_lgb_fast_test, rmse_lgb_precise_test, \n",
    "        rmse_cat_default_test, rmse_cat_fast_test, rmse_cat_precise_test],\n",
    "'time':[time_lr, time_lgb_default, time_lgb_fast, time_lgb_precise,\n",
    "       time_cat_default, time_cat_fast, time_cat_precise]})\n",
    "models_rmse.set_index(['model'])"
   ]
  },
  {
   "cell_type": "markdown",
   "metadata": {},
   "source": [
    "Linear regression showed the least accuracy. Without using detailed enumeration of hyperparameters, such as GridSearch, the best prediction results were achieved using LightGBM. With the default settings, LightGBM is faster than CatBoost for the same accuracy.\n",
    "\n",
    "### Conclusions:\n",
    "* data were prepared for training car price prediction models\n",
    "* Trained linear regression and gradient boosting models\n",
    "* gradient boosting is faster than linear regression"
   ]
  }
 ],
 "metadata": {
  "ExecuteTimeLog": [
   {
    "duration": 4,
    "start_time": "2022-05-03T08:02:27.153Z"
   },
   {
    "duration": 2,
    "start_time": "2022-05-03T08:02:27.705Z"
   },
   {
    "duration": 2610,
    "start_time": "2022-05-03T08:02:37.052Z"
   },
   {
    "duration": 836,
    "start_time": "2022-05-03T08:02:44.974Z"
   },
   {
    "duration": 3,
    "start_time": "2022-05-03T08:02:54.039Z"
   },
   {
    "duration": 823,
    "start_time": "2022-05-03T08:02:55.327Z"
   },
   {
    "duration": 7,
    "start_time": "2022-05-03T08:04:12.866Z"
   },
   {
    "duration": 302,
    "start_time": "2022-05-03T08:04:19.392Z"
   },
   {
    "duration": 8,
    "start_time": "2022-05-03T08:04:20.591Z"
   },
   {
    "duration": 23,
    "start_time": "2022-05-03T08:04:34.864Z"
   },
   {
    "duration": 102,
    "start_time": "2022-05-03T08:04:35.873Z"
   },
   {
    "duration": 20,
    "start_time": "2022-05-03T08:20:25.369Z"
   },
   {
    "duration": 20,
    "start_time": "2022-05-03T08:20:32.539Z"
   },
   {
    "duration": 126,
    "start_time": "2022-05-03T08:20:35.597Z"
   },
   {
    "duration": 21,
    "start_time": "2022-05-03T08:20:37.554Z"
   },
   {
    "duration": 22,
    "start_time": "2022-05-03T08:20:41.086Z"
   },
   {
    "duration": 325,
    "start_time": "2022-05-03T08:20:49.169Z"
   },
   {
    "duration": 547,
    "start_time": "2022-05-03T08:20:57.875Z"
   },
   {
    "duration": 16,
    "start_time": "2022-05-03T08:21:04.785Z"
   },
   {
    "duration": 41,
    "start_time": "2022-05-03T08:21:10.277Z"
   },
   {
    "duration": 14,
    "start_time": "2022-05-03T08:21:12.523Z"
   },
   {
    "duration": 139,
    "start_time": "2022-05-03T08:21:50.037Z"
   },
   {
    "duration": 9,
    "start_time": "2022-05-03T08:21:58.386Z"
   },
   {
    "duration": 42,
    "start_time": "2022-05-03T08:22:00.015Z"
   },
   {
    "duration": 191,
    "start_time": "2022-05-03T08:22:31.211Z"
   },
   {
    "duration": 9,
    "start_time": "2022-05-03T08:22:36.305Z"
   },
   {
    "duration": 30,
    "start_time": "2022-05-03T08:22:39.827Z"
   },
   {
    "duration": 15,
    "start_time": "2022-05-03T08:22:41.148Z"
   },
   {
    "duration": 5,
    "start_time": "2022-05-03T08:22:59.937Z"
   },
   {
    "duration": 9,
    "start_time": "2022-05-03T08:23:09.439Z"
   },
   {
    "duration": 5,
    "start_time": "2022-05-03T08:23:15.458Z"
   },
   {
    "duration": 80,
    "start_time": "2022-05-03T08:23:20.323Z"
   },
   {
    "duration": 6,
    "start_time": "2022-05-03T08:23:53.544Z"
   },
   {
    "duration": 26,
    "start_time": "2022-05-03T08:24:00.190Z"
   },
   {
    "duration": 75,
    "start_time": "2022-05-03T08:24:24.649Z"
   },
   {
    "duration": 535,
    "start_time": "2022-05-03T08:24:25.214Z"
   },
   {
    "duration": 132,
    "start_time": "2022-05-03T08:24:40.188Z"
   },
   {
    "duration": 3488,
    "start_time": "2022-05-03T08:26:15.639Z"
   },
   {
    "duration": 2,
    "start_time": "2022-05-03T08:26:25.240Z"
   },
   {
    "duration": 4,
    "start_time": "2022-05-03T08:26:25.244Z"
   },
   {
    "duration": 5,
    "start_time": "2022-05-03T08:26:25.250Z"
   },
   {
    "duration": 787,
    "start_time": "2022-05-03T08:26:25.257Z"
   },
   {
    "duration": 5,
    "start_time": "2022-05-03T08:26:26.046Z"
   },
   {
    "duration": 813,
    "start_time": "2022-05-03T08:26:26.053Z"
   },
   {
    "duration": 5,
    "start_time": "2022-05-03T08:26:26.868Z"
   },
   {
    "duration": 254,
    "start_time": "2022-05-03T08:26:26.874Z"
   },
   {
    "duration": 9,
    "start_time": "2022-05-03T08:26:27.130Z"
   },
   {
    "duration": 34,
    "start_time": "2022-05-03T08:26:27.141Z"
   },
   {
    "duration": 114,
    "start_time": "2022-05-03T08:26:27.176Z"
   },
   {
    "duration": 89,
    "start_time": "2022-05-03T08:26:27.292Z"
   },
   {
    "duration": 99,
    "start_time": "2022-05-03T08:26:27.383Z"
   },
   {
    "duration": 112,
    "start_time": "2022-05-03T08:26:27.484Z"
   },
   {
    "duration": 31,
    "start_time": "2022-05-03T08:26:27.598Z"
   },
   {
    "duration": 25,
    "start_time": "2022-05-03T08:26:27.631Z"
   },
   {
    "duration": 33,
    "start_time": "2022-05-03T08:26:27.658Z"
   },
   {
    "duration": 128,
    "start_time": "2022-05-03T08:26:27.693Z"
   },
   {
    "duration": 311,
    "start_time": "2022-05-03T08:26:27.823Z"
   },
   {
    "duration": 177,
    "start_time": "2022-05-03T08:26:28.137Z"
   },
   {
    "duration": 19,
    "start_time": "2022-05-03T08:26:28.316Z"
   },
   {
    "duration": 34,
    "start_time": "2022-05-03T08:26:28.337Z"
   },
   {
    "duration": 166,
    "start_time": "2022-05-03T08:26:28.373Z"
   },
   {
    "duration": 9,
    "start_time": "2022-05-03T08:26:28.541Z"
   },
   {
    "duration": 29,
    "start_time": "2022-05-03T08:26:28.551Z"
   },
   {
    "duration": 188,
    "start_time": "2022-05-03T08:26:28.581Z"
   },
   {
    "duration": 8,
    "start_time": "2022-05-03T08:26:28.771Z"
   },
   {
    "duration": 47,
    "start_time": "2022-05-03T08:26:28.781Z"
   },
   {
    "duration": 15,
    "start_time": "2022-05-03T08:26:28.831Z"
   },
   {
    "duration": 77,
    "start_time": "2022-05-03T08:26:28.848Z"
   },
   {
    "duration": 7,
    "start_time": "2022-05-03T08:26:28.927Z"
   },
   {
    "duration": 27,
    "start_time": "2022-05-03T08:26:28.936Z"
   },
   {
    "duration": 5,
    "start_time": "2022-05-03T08:26:28.965Z"
   },
   {
    "duration": 536,
    "start_time": "2022-05-03T08:26:28.972Z"
   },
   {
    "duration": 5,
    "start_time": "2022-05-03T08:27:54.849Z"
   },
   {
    "duration": 4,
    "start_time": "2022-05-03T08:28:29.018Z"
   },
   {
    "duration": 3187,
    "start_time": "2022-05-03T08:28:29.811Z"
   },
   {
    "duration": 2,
    "start_time": "2022-05-03T08:28:40.018Z"
   },
   {
    "duration": 6,
    "start_time": "2022-05-03T08:28:40.022Z"
   },
   {
    "duration": 6,
    "start_time": "2022-05-03T08:28:40.030Z"
   },
   {
    "duration": 776,
    "start_time": "2022-05-03T08:28:40.037Z"
   },
   {
    "duration": 6,
    "start_time": "2022-05-03T08:28:40.816Z"
   },
   {
    "duration": 808,
    "start_time": "2022-05-03T08:28:40.824Z"
   },
   {
    "duration": 10,
    "start_time": "2022-05-03T08:28:41.634Z"
   },
   {
    "duration": 234,
    "start_time": "2022-05-03T08:28:41.646Z"
   },
   {
    "duration": 8,
    "start_time": "2022-05-03T08:28:41.882Z"
   },
   {
    "duration": 33,
    "start_time": "2022-05-03T08:28:41.892Z"
   },
   {
    "duration": 100,
    "start_time": "2022-05-03T08:28:41.932Z"
   },
   {
    "duration": 98,
    "start_time": "2022-05-03T08:28:42.035Z"
   },
   {
    "duration": 93,
    "start_time": "2022-05-03T08:28:42.137Z"
   },
   {
    "duration": 100,
    "start_time": "2022-05-03T08:28:42.234Z"
   },
   {
    "duration": 21,
    "start_time": "2022-05-03T08:28:42.337Z"
   },
   {
    "duration": 41,
    "start_time": "2022-05-03T08:28:42.360Z"
   },
   {
    "duration": 44,
    "start_time": "2022-05-03T08:28:42.403Z"
   },
   {
    "duration": 113,
    "start_time": "2022-05-03T08:28:42.449Z"
   },
   {
    "duration": 386,
    "start_time": "2022-05-03T08:28:42.563Z"
   },
   {
    "duration": 171,
    "start_time": "2022-05-03T08:28:42.951Z"
   },
   {
    "duration": 14,
    "start_time": "2022-05-03T08:28:43.126Z"
   },
   {
    "duration": 32,
    "start_time": "2022-05-03T08:28:43.141Z"
   },
   {
    "duration": 172,
    "start_time": "2022-05-03T08:28:43.175Z"
   },
   {
    "duration": 10,
    "start_time": "2022-05-03T08:28:43.349Z"
   },
   {
    "duration": 32,
    "start_time": "2022-05-03T08:28:43.361Z"
   },
   {
    "duration": 186,
    "start_time": "2022-05-03T08:28:43.395Z"
   },
   {
    "duration": 8,
    "start_time": "2022-05-03T08:28:43.582Z"
   },
   {
    "duration": 47,
    "start_time": "2022-05-03T08:28:43.592Z"
   },
   {
    "duration": 15,
    "start_time": "2022-05-03T08:28:43.640Z"
   },
   {
    "duration": 89,
    "start_time": "2022-05-03T08:28:43.657Z"
   },
   {
    "duration": 8,
    "start_time": "2022-05-03T08:28:43.747Z"
   },
   {
    "duration": 41,
    "start_time": "2022-05-03T08:28:43.756Z"
   },
   {
    "duration": 6,
    "start_time": "2022-05-03T08:28:43.799Z"
   },
   {
    "duration": 537,
    "start_time": "2022-05-03T08:28:43.807Z"
   },
   {
    "duration": 6,
    "start_time": "2022-05-03T08:29:05.976Z"
   },
   {
    "duration": 37,
    "start_time": "2022-05-03T08:30:26.379Z"
   },
   {
    "duration": 105715,
    "start_time": "2022-05-03T08:30:26.820Z"
   },
   {
    "duration": 4,
    "start_time": "2022-05-03T08:33:03.287Z"
   },
   {
    "duration": 313030,
    "start_time": "2022-05-03T08:37:28.215Z"
   },
   {
    "duration": 5,
    "start_time": "2022-05-03T08:44:14.241Z"
   },
   {
    "duration": 4,
    "start_time": "2022-05-03T08:44:43.635Z"
   },
   {
    "duration": 74829,
    "start_time": "2022-05-03T08:45:33.499Z"
   },
   {
    "duration": 93,
    "start_time": "2022-05-03T08:46:48.331Z"
   },
   {
    "duration": 6,
    "start_time": "2022-05-04T06:19:04.712Z"
   },
   {
    "duration": 5,
    "start_time": "2022-05-04T06:19:04.721Z"
   },
   {
    "duration": 1830,
    "start_time": "2022-05-04T06:19:04.728Z"
   },
   {
    "duration": 1466,
    "start_time": "2022-05-04T06:19:06.560Z"
   },
   {
    "duration": 7,
    "start_time": "2022-05-04T06:19:08.030Z"
   },
   {
    "duration": 1266,
    "start_time": "2022-05-04T06:19:08.040Z"
   },
   {
    "duration": 8,
    "start_time": "2022-05-04T06:19:09.308Z"
   },
   {
    "duration": 424,
    "start_time": "2022-05-04T06:19:09.319Z"
   },
   {
    "duration": 11,
    "start_time": "2022-05-04T06:19:09.745Z"
   },
   {
    "duration": 69,
    "start_time": "2022-05-04T06:19:09.759Z"
   },
   {
    "duration": 212,
    "start_time": "2022-05-04T06:19:09.831Z"
   },
   {
    "duration": 186,
    "start_time": "2022-05-04T06:19:10.048Z"
   },
   {
    "duration": 136,
    "start_time": "2022-05-04T06:19:10.236Z"
   },
   {
    "duration": 141,
    "start_time": "2022-05-04T06:19:10.374Z"
   },
   {
    "duration": 29,
    "start_time": "2022-05-04T06:19:10.517Z"
   },
   {
    "duration": 50,
    "start_time": "2022-05-04T06:19:10.549Z"
   },
   {
    "duration": 32,
    "start_time": "2022-05-04T06:19:10.602Z"
   },
   {
    "duration": 169,
    "start_time": "2022-05-04T06:19:10.637Z"
   },
   {
    "duration": 532,
    "start_time": "2022-05-04T06:19:10.809Z"
   },
   {
    "duration": 800,
    "start_time": "2022-05-04T06:19:11.343Z"
   },
   {
    "duration": 22,
    "start_time": "2022-05-04T06:19:12.146Z"
   },
   {
    "duration": 87,
    "start_time": "2022-05-04T06:19:12.170Z"
   },
   {
    "duration": 350,
    "start_time": "2022-05-04T06:19:12.259Z"
   },
   {
    "duration": 20,
    "start_time": "2022-05-04T06:19:12.612Z"
   },
   {
    "duration": 91,
    "start_time": "2022-05-04T06:19:12.634Z"
   },
   {
    "duration": 73,
    "start_time": "2022-05-04T06:19:12.727Z"
   },
   {
    "duration": 292,
    "start_time": "2022-05-04T06:19:12.803Z"
   },
   {
    "duration": 15,
    "start_time": "2022-05-04T06:19:13.099Z"
   },
   {
    "duration": 91,
    "start_time": "2022-05-04T06:19:13.117Z"
   },
   {
    "duration": 26,
    "start_time": "2022-05-04T06:19:13.210Z"
   },
   {
    "duration": 221,
    "start_time": "2022-05-04T06:19:13.238Z"
   },
   {
    "duration": 10,
    "start_time": "2022-05-04T06:19:13.462Z"
   },
   {
    "duration": 35,
    "start_time": "2022-05-04T06:19:13.479Z"
   },
   {
    "duration": 85,
    "start_time": "2022-05-04T06:19:13.516Z"
   },
   {
    "duration": 68,
    "start_time": "2022-05-04T06:19:13.603Z"
   },
   {
    "duration": 38,
    "start_time": "2022-05-04T06:19:13.673Z"
   },
   {
    "duration": 4,
    "start_time": "2022-05-04T06:19:13.713Z"
   },
   {
    "duration": 36,
    "start_time": "2022-05-04T06:19:13.719Z"
   },
   {
    "duration": 168,
    "start_time": "2022-05-04T06:19:13.757Z"
   },
   {
    "duration": 36,
    "start_time": "2022-05-04T06:19:13.927Z"
   },
   {
    "duration": 103927,
    "start_time": "2022-05-04T06:19:13.966Z"
   },
   {
    "duration": 5,
    "start_time": "2022-05-04T06:20:57.896Z"
   },
   {
    "duration": 337,
    "start_time": "2022-05-04T06:20:57.904Z"
   },
   {
    "duration": 161229,
    "start_time": "2022-05-04T07:03:41.770Z"
   },
   {
    "duration": 205,
    "start_time": "2022-05-04T07:08:46.091Z"
   },
   {
    "duration": 227,
    "start_time": "2022-05-04T07:09:05.930Z"
   },
   {
    "duration": 225662,
    "start_time": "2022-05-04T07:09:12.331Z"
   },
   {
    "duration": 205,
    "start_time": "2022-05-04T07:14:15.252Z"
   },
   {
    "duration": 82097,
    "start_time": "2022-05-04T07:14:42.250Z"
   },
   {
    "duration": 211185,
    "start_time": "2022-05-04T07:16:35.210Z"
   },
   {
    "duration": 92,
    "start_time": "2022-05-04T07:20:09.530Z"
   },
   {
    "duration": 47,
    "start_time": "2022-05-04T07:37:37.900Z"
   },
   {
    "duration": 4,
    "start_time": "2022-05-04T07:37:54.949Z"
   },
   {
    "duration": 4,
    "start_time": "2022-05-04T07:37:54.955Z"
   },
   {
    "duration": 1572,
    "start_time": "2022-05-04T07:37:54.961Z"
   },
   {
    "duration": 797,
    "start_time": "2022-05-04T07:37:56.537Z"
   },
   {
    "duration": 4,
    "start_time": "2022-05-04T07:37:57.336Z"
   },
   {
    "duration": 843,
    "start_time": "2022-05-04T07:37:57.342Z"
   },
   {
    "duration": 5,
    "start_time": "2022-05-04T07:37:58.187Z"
   },
   {
    "duration": 295,
    "start_time": "2022-05-04T07:37:58.194Z"
   },
   {
    "duration": 8,
    "start_time": "2022-05-04T07:37:58.491Z"
   },
   {
    "duration": 38,
    "start_time": "2022-05-04T07:37:58.501Z"
   },
   {
    "duration": 111,
    "start_time": "2022-05-04T07:37:58.540Z"
   },
   {
    "duration": 85,
    "start_time": "2022-05-04T07:37:58.652Z"
   },
   {
    "duration": 94,
    "start_time": "2022-05-04T07:37:58.739Z"
   },
   {
    "duration": 96,
    "start_time": "2022-05-04T07:37:58.835Z"
   },
   {
    "duration": 24,
    "start_time": "2022-05-04T07:37:58.932Z"
   },
   {
    "duration": 38,
    "start_time": "2022-05-04T07:37:58.958Z"
   },
   {
    "duration": 23,
    "start_time": "2022-05-04T07:37:58.997Z"
   },
   {
    "duration": 139,
    "start_time": "2022-05-04T07:37:59.022Z"
   },
   {
    "duration": 324,
    "start_time": "2022-05-04T07:37:59.162Z"
   },
   {
    "duration": 547,
    "start_time": "2022-05-04T07:37:59.488Z"
   },
   {
    "duration": 26,
    "start_time": "2022-05-04T07:38:00.037Z"
   },
   {
    "duration": 45,
    "start_time": "2022-05-04T07:38:00.064Z"
   },
   {
    "duration": 164,
    "start_time": "2022-05-04T07:38:00.111Z"
   },
   {
    "duration": 17,
    "start_time": "2022-05-04T07:38:00.277Z"
   },
   {
    "duration": 62,
    "start_time": "2022-05-04T07:38:00.296Z"
   },
   {
    "duration": 40,
    "start_time": "2022-05-04T07:38:00.359Z"
   },
   {
    "duration": 192,
    "start_time": "2022-05-04T07:38:00.401Z"
   },
   {
    "duration": 9,
    "start_time": "2022-05-04T07:38:00.597Z"
   },
   {
    "duration": 55,
    "start_time": "2022-05-04T07:38:00.607Z"
   },
   {
    "duration": 16,
    "start_time": "2022-05-04T07:38:00.663Z"
   },
   {
    "duration": 163,
    "start_time": "2022-05-04T07:38:00.682Z"
   },
   {
    "duration": 12,
    "start_time": "2022-05-04T07:38:00.847Z"
   },
   {
    "duration": 46,
    "start_time": "2022-05-04T07:38:00.861Z"
   },
   {
    "duration": 56,
    "start_time": "2022-05-04T07:38:00.909Z"
   },
   {
    "duration": 42,
    "start_time": "2022-05-04T07:38:00.967Z"
   },
   {
    "duration": 38,
    "start_time": "2022-05-04T07:38:01.011Z"
   },
   {
    "duration": 9,
    "start_time": "2022-05-04T07:38:01.054Z"
   },
   {
    "duration": 44,
    "start_time": "2022-05-04T07:38:01.065Z"
   },
   {
    "duration": 94,
    "start_time": "2022-05-04T07:38:01.111Z"
   },
   {
    "duration": 22,
    "start_time": "2022-05-04T07:38:01.207Z"
   },
   {
    "duration": 77524,
    "start_time": "2022-05-04T07:38:01.231Z"
   },
   {
    "duration": 5,
    "start_time": "2022-05-04T07:39:18.756Z"
   },
   {
    "duration": 241,
    "start_time": "2022-05-04T07:39:18.763Z"
   },
   {
    "duration": 0,
    "start_time": "2022-05-04T07:39:19.005Z"
   },
   {
    "duration": 0,
    "start_time": "2022-05-04T07:39:19.007Z"
   },
   {
    "duration": 0,
    "start_time": "2022-05-04T07:39:19.008Z"
   },
   {
    "duration": 0,
    "start_time": "2022-05-04T07:39:19.009Z"
   },
   {
    "duration": 0,
    "start_time": "2022-05-04T07:39:19.010Z"
   },
   {
    "duration": 0,
    "start_time": "2022-05-04T07:39:19.011Z"
   },
   {
    "duration": 1,
    "start_time": "2022-05-04T07:39:19.012Z"
   },
   {
    "duration": 0,
    "start_time": "2022-05-04T07:39:19.013Z"
   },
   {
    "duration": 0,
    "start_time": "2022-05-04T07:39:19.014Z"
   },
   {
    "duration": 0,
    "start_time": "2022-05-04T07:39:19.016Z"
   },
   {
    "duration": 0,
    "start_time": "2022-05-04T07:39:19.016Z"
   },
   {
    "duration": 0,
    "start_time": "2022-05-04T07:39:19.018Z"
   },
   {
    "duration": 0,
    "start_time": "2022-05-04T07:39:19.018Z"
   },
   {
    "duration": 0,
    "start_time": "2022-05-04T07:39:19.019Z"
   },
   {
    "duration": 0,
    "start_time": "2022-05-04T07:39:19.020Z"
   },
   {
    "duration": 97,
    "start_time": "2022-05-04T07:41:48.244Z"
   },
   {
    "duration": 109021,
    "start_time": "2022-05-04T07:42:07.734Z"
   },
   {
    "duration": 146,
    "start_time": "2022-05-04T07:43:59.887Z"
   }
  ],
  "kernelspec": {
   "display_name": "Python 3 (ipykernel)",
   "language": "python",
   "name": "python3"
  },
  "language_info": {
   "codemirror_mode": {
    "name": "ipython",
    "version": 3
   },
   "file_extension": ".py",
   "mimetype": "text/x-python",
   "name": "python",
   "nbconvert_exporter": "python",
   "pygments_lexer": "ipython3",
   "version": "3.9.12"
  },
  "toc": {
   "base_numbering": 1,
   "nav_menu": {},
   "number_sections": true,
   "sideBar": true,
   "skip_h1_title": true,
   "title_cell": "Table of Contents",
   "title_sidebar": "Contents",
   "toc_cell": false,
   "toc_position": {},
   "toc_section_display": true,
   "toc_window_display": true
  }
 },
 "nbformat": 4,
 "nbformat_minor": 2
}
