{
 "cells": [
  {
   "cell_type": "markdown",
   "metadata": {
    "cellId": "cpbwd7rcrhathd7pvit5a"
   },
   "source": [
    "# Determining the tariff for a telecom company\n",
    "The mobile operator \"Megaline\" found out that many customers use archival tariffs. They want to build a system that can analyze customer behavior and offer users a new tariff: \"Smart\" or \"Ultra\".\n",
    "\n",
    "At your disposal is data on the behavior of customers who have already switched to these tariffs. You need to build a model for the classification problem that will select the appropriate rate. Data preprocessing is not required - you have already done it.\n",
    "\n",
    "Build the model with the highest possible accuracy. To pass the project successfully, you need to bring the percentage of correct answers to at least 0.75. Check accuracy on the test set yourself.\n",
    "\n",
    "- Divide the input data into training, validation and test sets.\n",
    "- Explore the quality of different models by changing hyperparameters. Briefly write the conclusions of the study.\n",
    "- Check the quality of the model on the test set.\n",
    "\n",
    "Each object in the data set is information about the behavior of one user per month. Known:\n",
    "- calls — number of calls,\n",
    "- minutes — total duration of calls in minutes,\n",
    "- messages — number of sms messages,\n",
    "- mb_used - used Internet traffic in Mb,\n",
    "- is_ultra - what tariff did you use during the month (\"Ultra\" - 1, \"Smart\" - 0).\n",
    "\n",
    "\n",
    "## Exploring general information"
   ]
  },
  {
   "cell_type": "code",
   "execution_count": 1,
   "metadata": {
    "cellId": "x90oho6eh5btw0c5t3g3"
   },
   "outputs": [],
   "source": [
    "import pandas as pd\n",
    "import matplotlib.pyplot as plt\n",
    "import numpy as np\n",
    "import scipy\n",
    "from scipy import stats as st\n",
    "from scipy.stats import norm\n",
    "pd.set_option('display.float_format', '{:.2f}'.format)"
   ]
  },
  {
   "cell_type": "code",
   "execution_count": 2,
   "metadata": {
    "cellId": "fr50vvu7eq812dx2qbublg"
   },
   "outputs": [],
   "source": [
    "path ='/Users/vzuga/Documents/jupyter/'\n",
    "\n",
    "try:\n",
    "    calls = pd.read_csv('calls.csv')\n",
    "    internet = pd.read_csv('internet.csv')\n",
    "    messages = pd.read_csv('messages.csv')\n",
    "    tariffs = pd.read_csv('tariffs.csv')\n",
    "    users = pd.read_csv('users.csv')\n",
    "except:\n",
    "    calls = pd.read_csv(path+'/datasets/calls.csv')\n",
    "    internet = pd.read_csv(path+'/datasets/internet.csv')\n",
    "    messages = pd.read_csv(path+'/datasets/messages.csv')\n",
    "    tariffs = pd.read_csv(path+'/datasets/tariffs.csv')\n",
    "    users = pd.read_csv(path+'/datasets/users.csv')"
   ]
  },
  {
   "cell_type": "markdown",
   "metadata": {
    "cellId": "u6n7jsp9edrfg21vbc7h"
   },
   "source": [
    "### calls"
   ]
  },
  {
   "cell_type": "code",
   "execution_count": 3,
   "metadata": {
    "cellId": "evmeo3wnihatbtg21t9gom"
   },
   "outputs": [
    {
     "name": "stdout",
     "output_type": "stream",
     "text": [
      "<class 'pandas.core.frame.DataFrame'>\n",
      "RangeIndex: 202607 entries, 0 to 202606\n",
      "Data columns (total 4 columns):\n",
      " #   Column     Non-Null Count   Dtype  \n",
      "---  ------     --------------   -----  \n",
      " 0   id         202607 non-null  object \n",
      " 1   call_date  202607 non-null  object \n",
      " 2   duration   202607 non-null  float64\n",
      " 3   user_id    202607 non-null  int64  \n",
      "dtypes: float64(1), int64(1), object(2)\n",
      "memory usage: 6.2+ MB\n",
      "\n"
     ]
    },
    {
     "data": {
      "text/html": [
       "<div>\n",
       "<style scoped>\n",
       "    .dataframe tbody tr th:only-of-type {\n",
       "        vertical-align: middle;\n",
       "    }\n",
       "\n",
       "    .dataframe tbody tr th {\n",
       "        vertical-align: top;\n",
       "    }\n",
       "\n",
       "    .dataframe thead th {\n",
       "        text-align: right;\n",
       "    }\n",
       "</style>\n",
       "<table border=\"1\" class=\"dataframe\">\n",
       "  <thead>\n",
       "    <tr style=\"text-align: right;\">\n",
       "      <th></th>\n",
       "      <th>id</th>\n",
       "      <th>call_date</th>\n",
       "      <th>duration</th>\n",
       "      <th>user_id</th>\n",
       "    </tr>\n",
       "  </thead>\n",
       "  <tbody>\n",
       "    <tr>\n",
       "      <th>0</th>\n",
       "      <td>1000_0</td>\n",
       "      <td>2018-07-25</td>\n",
       "      <td>0.00</td>\n",
       "      <td>1000</td>\n",
       "    </tr>\n",
       "    <tr>\n",
       "      <th>1</th>\n",
       "      <td>1000_1</td>\n",
       "      <td>2018-08-17</td>\n",
       "      <td>0.00</td>\n",
       "      <td>1000</td>\n",
       "    </tr>\n",
       "    <tr>\n",
       "      <th>2</th>\n",
       "      <td>1000_2</td>\n",
       "      <td>2018-06-11</td>\n",
       "      <td>2.85</td>\n",
       "      <td>1000</td>\n",
       "    </tr>\n",
       "    <tr>\n",
       "      <th>3</th>\n",
       "      <td>1000_3</td>\n",
       "      <td>2018-09-21</td>\n",
       "      <td>13.80</td>\n",
       "      <td>1000</td>\n",
       "    </tr>\n",
       "    <tr>\n",
       "      <th>4</th>\n",
       "      <td>1000_4</td>\n",
       "      <td>2018-12-15</td>\n",
       "      <td>5.18</td>\n",
       "      <td>1000</td>\n",
       "    </tr>\n",
       "  </tbody>\n",
       "</table>\n",
       "</div>"
      ],
      "text/plain": [
       "       id   call_date  duration  user_id\n",
       "0  1000_0  2018-07-25      0.00     1000\n",
       "1  1000_1  2018-08-17      0.00     1000\n",
       "2  1000_2  2018-06-11      2.85     1000\n",
       "3  1000_3  2018-09-21     13.80     1000\n",
       "4  1000_4  2018-12-15      5.18     1000"
      ]
     },
     "execution_count": 3,
     "metadata": {},
     "output_type": "execute_result"
    }
   ],
   "source": [
    "calls.info()\n",
    "print()\n",
    "calls.head()"
   ]
  },
  {
   "cell_type": "code",
   "execution_count": 4,
   "metadata": {
    "cellId": "7hfm042cvtlsm7i5qpcfc"
   },
   "outputs": [
    {
     "data": {
      "text/html": [
       "<div>\n",
       "<style scoped>\n",
       "    .dataframe tbody tr th:only-of-type {\n",
       "        vertical-align: middle;\n",
       "    }\n",
       "\n",
       "    .dataframe tbody tr th {\n",
       "        vertical-align: top;\n",
       "    }\n",
       "\n",
       "    .dataframe thead th {\n",
       "        text-align: right;\n",
       "    }\n",
       "</style>\n",
       "<table border=\"1\" class=\"dataframe\">\n",
       "  <thead>\n",
       "    <tr style=\"text-align: right;\">\n",
       "      <th></th>\n",
       "      <th>duration</th>\n",
       "      <th>user_id</th>\n",
       "    </tr>\n",
       "  </thead>\n",
       "  <tbody>\n",
       "    <tr>\n",
       "      <th>count</th>\n",
       "      <td>202607.00</td>\n",
       "      <td>202607.00</td>\n",
       "    </tr>\n",
       "    <tr>\n",
       "      <th>mean</th>\n",
       "      <td>6.76</td>\n",
       "      <td>1253.94</td>\n",
       "    </tr>\n",
       "    <tr>\n",
       "      <th>std</th>\n",
       "      <td>5.84</td>\n",
       "      <td>144.72</td>\n",
       "    </tr>\n",
       "    <tr>\n",
       "      <th>min</th>\n",
       "      <td>0.00</td>\n",
       "      <td>1000.00</td>\n",
       "    </tr>\n",
       "    <tr>\n",
       "      <th>25%</th>\n",
       "      <td>1.30</td>\n",
       "      <td>1126.00</td>\n",
       "    </tr>\n",
       "    <tr>\n",
       "      <th>50%</th>\n",
       "      <td>6.00</td>\n",
       "      <td>1260.00</td>\n",
       "    </tr>\n",
       "    <tr>\n",
       "      <th>75%</th>\n",
       "      <td>10.70</td>\n",
       "      <td>1379.00</td>\n",
       "    </tr>\n",
       "    <tr>\n",
       "      <th>max</th>\n",
       "      <td>38.00</td>\n",
       "      <td>1499.00</td>\n",
       "    </tr>\n",
       "  </tbody>\n",
       "</table>\n",
       "</div>"
      ],
      "text/plain": [
       "       duration   user_id\n",
       "count 202607.00 202607.00\n",
       "mean       6.76   1253.94\n",
       "std        5.84    144.72\n",
       "min        0.00   1000.00\n",
       "25%        1.30   1126.00\n",
       "50%        6.00   1260.00\n",
       "75%       10.70   1379.00\n",
       "max       38.00   1499.00"
      ]
     },
     "execution_count": 4,
     "metadata": {},
     "output_type": "execute_result"
    }
   ],
   "source": [
    "calls.describe()"
   ]
  },
  {
   "cell_type": "code",
   "execution_count": 5,
   "metadata": {
    "cellId": "lmaic5yid8ka4fbzxvw096"
   },
   "outputs": [
    {
     "data": {
      "text/plain": [
       "0"
      ]
     },
     "execution_count": 5,
     "metadata": {},
     "output_type": "execute_result"
    }
   ],
   "source": [
    "calls.duplicated().sum()"
   ]
  },
  {
   "cell_type": "markdown",
   "metadata": {
    "cellId": "uqeo8w3av0s0zicqx08llw"
   },
   "source": [
    "Conclusions:\n",
    "* there are no gaps and duplicates in calls\n",
    "* there are no abnormal values in the duration of calls\n",
    "* call_date must be converted to DateTime\n",
    "* duration round up and convert to int"
   ]
  },
  {
   "cell_type": "markdown",
   "metadata": {
    "cellId": "m7wzgobihhwo7vh6bu97"
   },
   "source": [
    "### internet"
   ]
  },
  {
   "cell_type": "code",
   "execution_count": 6,
   "metadata": {
    "cellId": "zjq2172g1yrnbmzxwvz6cg"
   },
   "outputs": [
    {
     "name": "stdout",
     "output_type": "stream",
     "text": [
      "<class 'pandas.core.frame.DataFrame'>\n",
      "RangeIndex: 149396 entries, 0 to 149395\n",
      "Data columns (total 5 columns):\n",
      " #   Column        Non-Null Count   Dtype  \n",
      "---  ------        --------------   -----  \n",
      " 0   Unnamed: 0    149396 non-null  int64  \n",
      " 1   id            149396 non-null  object \n",
      " 2   mb_used       149396 non-null  float64\n",
      " 3   session_date  149396 non-null  object \n",
      " 4   user_id       149396 non-null  int64  \n",
      "dtypes: float64(1), int64(2), object(2)\n",
      "memory usage: 5.7+ MB\n",
      "\n"
     ]
    },
    {
     "data": {
      "text/html": [
       "<div>\n",
       "<style scoped>\n",
       "    .dataframe tbody tr th:only-of-type {\n",
       "        vertical-align: middle;\n",
       "    }\n",
       "\n",
       "    .dataframe tbody tr th {\n",
       "        vertical-align: top;\n",
       "    }\n",
       "\n",
       "    .dataframe thead th {\n",
       "        text-align: right;\n",
       "    }\n",
       "</style>\n",
       "<table border=\"1\" class=\"dataframe\">\n",
       "  <thead>\n",
       "    <tr style=\"text-align: right;\">\n",
       "      <th></th>\n",
       "      <th>Unnamed: 0</th>\n",
       "      <th>id</th>\n",
       "      <th>mb_used</th>\n",
       "      <th>session_date</th>\n",
       "      <th>user_id</th>\n",
       "    </tr>\n",
       "  </thead>\n",
       "  <tbody>\n",
       "    <tr>\n",
       "      <th>0</th>\n",
       "      <td>0</td>\n",
       "      <td>1000_0</td>\n",
       "      <td>112.95</td>\n",
       "      <td>2018-11-25</td>\n",
       "      <td>1000</td>\n",
       "    </tr>\n",
       "    <tr>\n",
       "      <th>1</th>\n",
       "      <td>1</td>\n",
       "      <td>1000_1</td>\n",
       "      <td>1052.81</td>\n",
       "      <td>2018-09-07</td>\n",
       "      <td>1000</td>\n",
       "    </tr>\n",
       "    <tr>\n",
       "      <th>2</th>\n",
       "      <td>2</td>\n",
       "      <td>1000_2</td>\n",
       "      <td>1197.26</td>\n",
       "      <td>2018-06-25</td>\n",
       "      <td>1000</td>\n",
       "    </tr>\n",
       "    <tr>\n",
       "      <th>3</th>\n",
       "      <td>3</td>\n",
       "      <td>1000_3</td>\n",
       "      <td>550.27</td>\n",
       "      <td>2018-08-22</td>\n",
       "      <td>1000</td>\n",
       "    </tr>\n",
       "    <tr>\n",
       "      <th>4</th>\n",
       "      <td>4</td>\n",
       "      <td>1000_4</td>\n",
       "      <td>302.56</td>\n",
       "      <td>2018-09-24</td>\n",
       "      <td>1000</td>\n",
       "    </tr>\n",
       "  </tbody>\n",
       "</table>\n",
       "</div>"
      ],
      "text/plain": [
       "   Unnamed: 0      id  mb_used session_date  user_id\n",
       "0           0  1000_0   112.95   2018-11-25     1000\n",
       "1           1  1000_1  1052.81   2018-09-07     1000\n",
       "2           2  1000_2  1197.26   2018-06-25     1000\n",
       "3           3  1000_3   550.27   2018-08-22     1000\n",
       "4           4  1000_4   302.56   2018-09-24     1000"
      ]
     },
     "execution_count": 6,
     "metadata": {},
     "output_type": "execute_result"
    }
   ],
   "source": [
    "internet.info()\n",
    "print()\n",
    "internet.head()"
   ]
  },
  {
   "cell_type": "code",
   "execution_count": 7,
   "metadata": {
    "cellId": "yr7a12fav8syvluwrifd"
   },
   "outputs": [
    {
     "data": {
      "text/html": [
       "<div>\n",
       "<style scoped>\n",
       "    .dataframe tbody tr th:only-of-type {\n",
       "        vertical-align: middle;\n",
       "    }\n",
       "\n",
       "    .dataframe tbody tr th {\n",
       "        vertical-align: top;\n",
       "    }\n",
       "\n",
       "    .dataframe thead th {\n",
       "        text-align: right;\n",
       "    }\n",
       "</style>\n",
       "<table border=\"1\" class=\"dataframe\">\n",
       "  <thead>\n",
       "    <tr style=\"text-align: right;\">\n",
       "      <th></th>\n",
       "      <th>Unnamed: 0</th>\n",
       "      <th>mb_used</th>\n",
       "      <th>user_id</th>\n",
       "    </tr>\n",
       "  </thead>\n",
       "  <tbody>\n",
       "    <tr>\n",
       "      <th>count</th>\n",
       "      <td>149396.00</td>\n",
       "      <td>149396.00</td>\n",
       "      <td>149396.00</td>\n",
       "    </tr>\n",
       "    <tr>\n",
       "      <th>mean</th>\n",
       "      <td>74697.50</td>\n",
       "      <td>370.19</td>\n",
       "      <td>1252.10</td>\n",
       "    </tr>\n",
       "    <tr>\n",
       "      <th>std</th>\n",
       "      <td>43127.05</td>\n",
       "      <td>278.30</td>\n",
       "      <td>144.05</td>\n",
       "    </tr>\n",
       "    <tr>\n",
       "      <th>min</th>\n",
       "      <td>0.00</td>\n",
       "      <td>0.00</td>\n",
       "      <td>1000.00</td>\n",
       "    </tr>\n",
       "    <tr>\n",
       "      <th>25%</th>\n",
       "      <td>37348.75</td>\n",
       "      <td>138.19</td>\n",
       "      <td>1130.00</td>\n",
       "    </tr>\n",
       "    <tr>\n",
       "      <th>50%</th>\n",
       "      <td>74697.50</td>\n",
       "      <td>348.01</td>\n",
       "      <td>1251.00</td>\n",
       "    </tr>\n",
       "    <tr>\n",
       "      <th>75%</th>\n",
       "      <td>112046.25</td>\n",
       "      <td>559.55</td>\n",
       "      <td>1380.00</td>\n",
       "    </tr>\n",
       "    <tr>\n",
       "      <th>max</th>\n",
       "      <td>149395.00</td>\n",
       "      <td>1724.83</td>\n",
       "      <td>1499.00</td>\n",
       "    </tr>\n",
       "  </tbody>\n",
       "</table>\n",
       "</div>"
      ],
      "text/plain": [
       "       Unnamed: 0   mb_used   user_id\n",
       "count   149396.00 149396.00 149396.00\n",
       "mean     74697.50    370.19   1252.10\n",
       "std      43127.05    278.30    144.05\n",
       "min          0.00      0.00   1000.00\n",
       "25%      37348.75    138.19   1130.00\n",
       "50%      74697.50    348.01   1251.00\n",
       "75%     112046.25    559.55   1380.00\n",
       "max     149395.00   1724.83   1499.00"
      ]
     },
     "execution_count": 7,
     "metadata": {},
     "output_type": "execute_result"
    }
   ],
   "source": [
    "internet.describe()"
   ]
  },
  {
   "cell_type": "code",
   "execution_count": 8,
   "metadata": {
    "cellId": "2g97fp87ecjglaenadj94k"
   },
   "outputs": [
    {
     "data": {
      "text/plain": [
       "0"
      ]
     },
     "execution_count": 8,
     "metadata": {},
     "output_type": "execute_result"
    }
   ],
   "source": [
    "internet.duplicated().sum()"
   ]
  },
  {
   "cell_type": "markdown",
   "metadata": {
    "cellId": "pddyw7s803p59q6ldzb1hi"
   },
   "source": [
    "Conclusions:\n",
    "* there are no gaps and duplicates in Internet sessions\n",
    "* there are no abnormal values in the number of megabytes\n",
    "* session_date must be converted to DateTime\n",
    "* mb_used will need to be totaled for each month, converted to GB and rounded up and then converted to int."
   ]
  },
  {
   "cell_type": "markdown",
   "metadata": {
    "cellId": "tnk5rp9akc9qova558gvst"
   },
   "source": [
    "### messages"
   ]
  },
  {
   "cell_type": "code",
   "execution_count": 9,
   "metadata": {
    "cellId": "b2450h0j0e8kzn8fn34nuc"
   },
   "outputs": [
    {
     "name": "stdout",
     "output_type": "stream",
     "text": [
      "<class 'pandas.core.frame.DataFrame'>\n",
      "RangeIndex: 123036 entries, 0 to 123035\n",
      "Data columns (total 3 columns):\n",
      " #   Column        Non-Null Count   Dtype \n",
      "---  ------        --------------   ----- \n",
      " 0   id            123036 non-null  object\n",
      " 1   message_date  123036 non-null  object\n",
      " 2   user_id       123036 non-null  int64 \n",
      "dtypes: int64(1), object(2)\n",
      "memory usage: 2.8+ MB\n",
      "\n"
     ]
    },
    {
     "data": {
      "text/html": [
       "<div>\n",
       "<style scoped>\n",
       "    .dataframe tbody tr th:only-of-type {\n",
       "        vertical-align: middle;\n",
       "    }\n",
       "\n",
       "    .dataframe tbody tr th {\n",
       "        vertical-align: top;\n",
       "    }\n",
       "\n",
       "    .dataframe thead th {\n",
       "        text-align: right;\n",
       "    }\n",
       "</style>\n",
       "<table border=\"1\" class=\"dataframe\">\n",
       "  <thead>\n",
       "    <tr style=\"text-align: right;\">\n",
       "      <th></th>\n",
       "      <th>id</th>\n",
       "      <th>message_date</th>\n",
       "      <th>user_id</th>\n",
       "    </tr>\n",
       "  </thead>\n",
       "  <tbody>\n",
       "    <tr>\n",
       "      <th>0</th>\n",
       "      <td>1000_0</td>\n",
       "      <td>2018-06-27</td>\n",
       "      <td>1000</td>\n",
       "    </tr>\n",
       "    <tr>\n",
       "      <th>1</th>\n",
       "      <td>1000_1</td>\n",
       "      <td>2018-10-08</td>\n",
       "      <td>1000</td>\n",
       "    </tr>\n",
       "    <tr>\n",
       "      <th>2</th>\n",
       "      <td>1000_2</td>\n",
       "      <td>2018-08-04</td>\n",
       "      <td>1000</td>\n",
       "    </tr>\n",
       "    <tr>\n",
       "      <th>3</th>\n",
       "      <td>1000_3</td>\n",
       "      <td>2018-06-16</td>\n",
       "      <td>1000</td>\n",
       "    </tr>\n",
       "    <tr>\n",
       "      <th>4</th>\n",
       "      <td>1000_4</td>\n",
       "      <td>2018-12-05</td>\n",
       "      <td>1000</td>\n",
       "    </tr>\n",
       "  </tbody>\n",
       "</table>\n",
       "</div>"
      ],
      "text/plain": [
       "       id message_date  user_id\n",
       "0  1000_0   2018-06-27     1000\n",
       "1  1000_1   2018-10-08     1000\n",
       "2  1000_2   2018-08-04     1000\n",
       "3  1000_3   2018-06-16     1000\n",
       "4  1000_4   2018-12-05     1000"
      ]
     },
     "execution_count": 9,
     "metadata": {},
     "output_type": "execute_result"
    }
   ],
   "source": [
    "messages.info()\n",
    "print()\n",
    "messages.head()"
   ]
  },
  {
   "cell_type": "code",
   "execution_count": 10,
   "metadata": {
    "cellId": "3rv3926z8hk0oqf2mnjjwir"
   },
   "outputs": [
    {
     "data": {
      "text/plain": [
       "0"
      ]
     },
     "execution_count": 10,
     "metadata": {},
     "output_type": "execute_result"
    }
   ],
   "source": [
    "messages.duplicated().sum()"
   ]
  },
  {
   "cell_type": "markdown",
   "metadata": {
    "cellId": "4iqmqfmuxip9l3xvd8cdzj"
   },
   "source": [
    "Conclusions:\n",
    "* there are no gaps and duplicates in the messages\n",
    "* message_date must be converted to DateTime"
   ]
  },
  {
   "cell_type": "markdown",
   "metadata": {
    "cellId": "l6avgn8m68jmt7lf20stn"
   },
   "source": [
    "### tariffs"
   ]
  },
  {
   "cell_type": "code",
   "execution_count": 11,
   "metadata": {
    "cellId": "jlwrxf8xp802a9vhxu7gir"
   },
   "outputs": [
    {
     "data": {
      "text/html": [
       "<div>\n",
       "<style scoped>\n",
       "    .dataframe tbody tr th:only-of-type {\n",
       "        vertical-align: middle;\n",
       "    }\n",
       "\n",
       "    .dataframe tbody tr th {\n",
       "        vertical-align: top;\n",
       "    }\n",
       "\n",
       "    .dataframe thead th {\n",
       "        text-align: right;\n",
       "    }\n",
       "</style>\n",
       "<table border=\"1\" class=\"dataframe\">\n",
       "  <thead>\n",
       "    <tr style=\"text-align: right;\">\n",
       "      <th></th>\n",
       "      <th>messages_included</th>\n",
       "      <th>mb_per_month_included</th>\n",
       "      <th>minutes_included</th>\n",
       "      <th>rub_monthly_fee</th>\n",
       "      <th>rub_per_gb</th>\n",
       "      <th>rub_per_message</th>\n",
       "      <th>rub_per_minute</th>\n",
       "      <th>tariff_name</th>\n",
       "    </tr>\n",
       "  </thead>\n",
       "  <tbody>\n",
       "    <tr>\n",
       "      <th>0</th>\n",
       "      <td>50</td>\n",
       "      <td>15360</td>\n",
       "      <td>500</td>\n",
       "      <td>550</td>\n",
       "      <td>200</td>\n",
       "      <td>3</td>\n",
       "      <td>3</td>\n",
       "      <td>smart</td>\n",
       "    </tr>\n",
       "    <tr>\n",
       "      <th>1</th>\n",
       "      <td>1000</td>\n",
       "      <td>30720</td>\n",
       "      <td>3000</td>\n",
       "      <td>1950</td>\n",
       "      <td>150</td>\n",
       "      <td>1</td>\n",
       "      <td>1</td>\n",
       "      <td>ultra</td>\n",
       "    </tr>\n",
       "  </tbody>\n",
       "</table>\n",
       "</div>"
      ],
      "text/plain": [
       "   messages_included  mb_per_month_included  minutes_included  \\\n",
       "0                 50                  15360               500   \n",
       "1               1000                  30720              3000   \n",
       "\n",
       "   rub_monthly_fee  rub_per_gb  rub_per_message  rub_per_minute tariff_name  \n",
       "0              550         200                3               3       smart  \n",
       "1             1950         150                1               1       ultra  "
      ]
     },
     "execution_count": 11,
     "metadata": {},
     "output_type": "execute_result"
    }
   ],
   "source": [
    "tariffs"
   ]
  },
  {
   "cell_type": "markdown",
   "metadata": {
    "cellId": "3gfx8rf52atcz1xnhu2x2g"
   },
   "source": [
    "Description of tariffs."
   ]
  },
  {
   "cell_type": "markdown",
   "metadata": {
    "cellId": "7j8pdbrjnflynjo97f4cxh"
   },
   "source": [
    "### users"
   ]
  },
  {
   "cell_type": "code",
   "execution_count": 12,
   "metadata": {
    "cellId": "kpdey9t20yj5hae6z4gjwa"
   },
   "outputs": [
    {
     "name": "stdout",
     "output_type": "stream",
     "text": [
      "<class 'pandas.core.frame.DataFrame'>\n",
      "RangeIndex: 500 entries, 0 to 499\n",
      "Data columns (total 8 columns):\n",
      " #   Column      Non-Null Count  Dtype \n",
      "---  ------      --------------  ----- \n",
      " 0   user_id     500 non-null    int64 \n",
      " 1   age         500 non-null    int64 \n",
      " 2   churn_date  38 non-null     object\n",
      " 3   city        500 non-null    object\n",
      " 4   first_name  500 non-null    object\n",
      " 5   last_name   500 non-null    object\n",
      " 6   reg_date    500 non-null    object\n",
      " 7   tariff      500 non-null    object\n",
      "dtypes: int64(2), object(6)\n",
      "memory usage: 31.4+ KB\n",
      "\n"
     ]
    },
    {
     "data": {
      "text/html": [
       "<div>\n",
       "<style scoped>\n",
       "    .dataframe tbody tr th:only-of-type {\n",
       "        vertical-align: middle;\n",
       "    }\n",
       "\n",
       "    .dataframe tbody tr th {\n",
       "        vertical-align: top;\n",
       "    }\n",
       "\n",
       "    .dataframe thead th {\n",
       "        text-align: right;\n",
       "    }\n",
       "</style>\n",
       "<table border=\"1\" class=\"dataframe\">\n",
       "  <thead>\n",
       "    <tr style=\"text-align: right;\">\n",
       "      <th></th>\n",
       "      <th>user_id</th>\n",
       "      <th>age</th>\n",
       "      <th>churn_date</th>\n",
       "      <th>city</th>\n",
       "      <th>first_name</th>\n",
       "      <th>last_name</th>\n",
       "      <th>reg_date</th>\n",
       "      <th>tariff</th>\n",
       "    </tr>\n",
       "  </thead>\n",
       "  <tbody>\n",
       "    <tr>\n",
       "      <th>0</th>\n",
       "      <td>1000</td>\n",
       "      <td>52</td>\n",
       "      <td>NaN</td>\n",
       "      <td>Краснодар</td>\n",
       "      <td>Рафаил</td>\n",
       "      <td>Верещагин</td>\n",
       "      <td>2018-05-25</td>\n",
       "      <td>ultra</td>\n",
       "    </tr>\n",
       "    <tr>\n",
       "      <th>1</th>\n",
       "      <td>1001</td>\n",
       "      <td>41</td>\n",
       "      <td>NaN</td>\n",
       "      <td>Москва</td>\n",
       "      <td>Иван</td>\n",
       "      <td>Ежов</td>\n",
       "      <td>2018-11-01</td>\n",
       "      <td>smart</td>\n",
       "    </tr>\n",
       "    <tr>\n",
       "      <th>2</th>\n",
       "      <td>1002</td>\n",
       "      <td>59</td>\n",
       "      <td>NaN</td>\n",
       "      <td>Стерлитамак</td>\n",
       "      <td>Евгений</td>\n",
       "      <td>Абрамович</td>\n",
       "      <td>2018-06-17</td>\n",
       "      <td>smart</td>\n",
       "    </tr>\n",
       "    <tr>\n",
       "      <th>3</th>\n",
       "      <td>1003</td>\n",
       "      <td>23</td>\n",
       "      <td>NaN</td>\n",
       "      <td>Москва</td>\n",
       "      <td>Белла</td>\n",
       "      <td>Белякова</td>\n",
       "      <td>2018-08-17</td>\n",
       "      <td>ultra</td>\n",
       "    </tr>\n",
       "    <tr>\n",
       "      <th>4</th>\n",
       "      <td>1004</td>\n",
       "      <td>68</td>\n",
       "      <td>NaN</td>\n",
       "      <td>Новокузнецк</td>\n",
       "      <td>Татьяна</td>\n",
       "      <td>Авдеенко</td>\n",
       "      <td>2018-05-14</td>\n",
       "      <td>ultra</td>\n",
       "    </tr>\n",
       "  </tbody>\n",
       "</table>\n",
       "</div>"
      ],
      "text/plain": [
       "   user_id  age churn_date         city first_name  last_name    reg_date  \\\n",
       "0     1000   52        NaN    Краснодар     Рафаил  Верещагин  2018-05-25   \n",
       "1     1001   41        NaN       Москва       Иван       Ежов  2018-11-01   \n",
       "2     1002   59        NaN  Стерлитамак    Евгений  Абрамович  2018-06-17   \n",
       "3     1003   23        NaN       Москва      Белла   Белякова  2018-08-17   \n",
       "4     1004   68        NaN  Новокузнецк    Татьяна   Авдеенко  2018-05-14   \n",
       "\n",
       "  tariff  \n",
       "0  ultra  \n",
       "1  smart  \n",
       "2  smart  \n",
       "3  ultra  \n",
       "4  ultra  "
      ]
     },
     "execution_count": 12,
     "metadata": {},
     "output_type": "execute_result"
    }
   ],
   "source": [
    "users.info()\n",
    "print()\n",
    "users.head()"
   ]
  },
  {
   "cell_type": "markdown",
   "metadata": {
    "cellId": "wctj59207ytp82vm3vifk"
   },
   "source": [
    "Based on the tasks in this file, I need information about user_id, city and tariffs. I'll check those columns."
   ]
  },
  {
   "cell_type": "code",
   "execution_count": 13,
   "metadata": {
    "cellId": "hzkvl5xig8671nnvqpm6z3"
   },
   "outputs": [
    {
     "data": {
      "text/plain": [
       "495    1495\n",
       "496    1496\n",
       "497    1497\n",
       "498    1498\n",
       "499    1499\n",
       "Name: user_id, dtype: int64"
      ]
     },
     "execution_count": 13,
     "metadata": {},
     "output_type": "execute_result"
    }
   ],
   "source": [
    "users['user_id'].tail()"
   ]
  },
  {
   "cell_type": "markdown",
   "metadata": {
    "cellId": "74hns8y4wta79ci3whs3qc"
   },
   "source": [
    "user_id matches the indexes and is not repeated, but just in case, I will check for duplicates."
   ]
  },
  {
   "cell_type": "code",
   "execution_count": 14,
   "metadata": {
    "cellId": "ajujoy6w7zqhr8d77sp41c"
   },
   "outputs": [
    {
     "data": {
      "text/plain": [
       "0"
      ]
     },
     "execution_count": 14,
     "metadata": {},
     "output_type": "execute_result"
    }
   ],
   "source": [
    "users.duplicated().sum()"
   ]
  },
  {
   "cell_type": "code",
   "execution_count": 15,
   "metadata": {
    "cellId": "e2s45drppf0zvvg5hls9p"
   },
   "outputs": [
    {
     "data": {
      "text/plain": [
       "array(['Краснодар', 'Москва', 'Стерлитамак', 'Новокузнецк',\n",
       "       'Набережные Челны', 'Ульяновск', 'Челябинск', 'Пермь', 'Тюмень',\n",
       "       'Самара', 'Санкт-Петербург', 'Иваново', 'Чебоксары', 'Омск', 'Уфа',\n",
       "       'Томск', 'Чита', 'Мурманск', 'Петрозаводск', 'Тверь',\n",
       "       'Екатеринбург', 'Махачкала', 'Вологда', 'Череповец', 'Ярославль',\n",
       "       'Сочи', 'Хабаровск', 'Ставрополь', 'Рязань', 'Улан-Удэ', 'Тула',\n",
       "       'Саратов', 'Ростов-на-Дону', 'Казань', 'Иркутск', 'Курск',\n",
       "       'Калуга', 'Якутск', 'Астрахань', 'Химки', 'Владикавказ',\n",
       "       'Волгоград', 'Саранск', 'Ижевск', 'Новосибирск', 'Брянск',\n",
       "       'Тольятти', 'Нижний Тагил', 'Орёл', 'Белгород', 'Воронеж',\n",
       "       'Волжский', 'Курган', 'Барнаул', 'Красноярск', 'Архангельск',\n",
       "       'Липецк', 'Кемерово', 'Киров', 'Сургут', 'Пенза', 'Магнитогорск',\n",
       "       'Нижний Новгород', 'Кострома', 'Владивосток', 'Тамбов', 'Балашиха',\n",
       "       'Севастополь', 'Калининград', 'Оренбург', 'Смоленск',\n",
       "       'Нижневартовск', 'Владимир', 'Новороссийск', 'Грозный', 'Подольск'],\n",
       "      dtype=object)"
      ]
     },
     "execution_count": 15,
     "metadata": {},
     "output_type": "execute_result"
    }
   ],
   "source": [
    "users['city'].unique()"
   ]
  },
  {
   "cell_type": "markdown",
   "metadata": {
    "cellId": "c955unne81svbqhwid41x9"
   },
   "source": [
    "The cities are fine."
   ]
  },
  {
   "cell_type": "code",
   "execution_count": 16,
   "metadata": {
    "cellId": "cz8si94khkhxqmw3rk2t3m"
   },
   "outputs": [
    {
     "data": {
      "text/plain": [
       "smart    351\n",
       "ultra    149\n",
       "Name: tariff, dtype: int64"
      ]
     },
     "execution_count": 16,
     "metadata": {},
     "output_type": "execute_result"
    }
   ],
   "source": [
    "users['tariff'].value_counts()"
   ]
  },
  {
   "cell_type": "markdown",
   "metadata": {
    "cellId": "yr6r2wtq7eel1o61bun1z"
   },
   "source": [
    "2/3 of users use the smart tariff.\n",
    "\n",
    "Conclusions:\n",
    "* no additional conversions are needed in users yet.\n",
    "\n",
    "## Data preparation\n",
    "\n",
    "### Preparing data (replacing types, errors, filling in gaps, etc.)\n",
    "\n",
    "I'll round up the calls."
   ]
  },
  {
   "cell_type": "code",
   "execution_count": 17,
   "metadata": {
    "cellId": "qry5r1a0o38kbzqw266v7m"
   },
   "outputs": [
    {
     "data": {
      "text/plain": [
       "0          0\n",
       "1          0\n",
       "2          3\n",
       "3         14\n",
       "4          6\n",
       "          ..\n",
       "202602     1\n",
       "202603    19\n",
       "202604    11\n",
       "202605     5\n",
       "202606    20\n",
       "Name: duration, Length: 202607, dtype: int64"
      ]
     },
     "execution_count": 17,
     "metadata": {},
     "output_type": "execute_result"
    }
   ],
   "source": [
    "calls['duration'] = calls['duration'].apply(np.ceil).astype(int)\n",
    "calls['duration']"
   ]
  },
  {
   "cell_type": "markdown",
   "metadata": {
    "cellId": "iy2lpbp3cu7sq6wnts44z"
   },
   "source": [
    "I will convert the dates to DateTime and get the month and year from there (check that it is 2018 everywhere and there are no errors in the selection)."
   ]
  },
  {
   "cell_type": "code",
   "execution_count": 18,
   "metadata": {
    "cellId": "qm8d5audat7uzzh464f6q"
   },
   "outputs": [
    {
     "data": {
      "text/plain": [
       "0    2018-07-25\n",
       "Name: call_date, dtype: object"
      ]
     },
     "execution_count": 18,
     "metadata": {},
     "output_type": "execute_result"
    }
   ],
   "source": [
    "calls['call_date'].head(1)"
   ]
  },
  {
   "cell_type": "code",
   "execution_count": 19,
   "metadata": {
    "cellId": "4npp4pazi9wuytndzg4ma"
   },
   "outputs": [
    {
     "data": {
      "text/plain": [
       "array([2018])"
      ]
     },
     "execution_count": 19,
     "metadata": {},
     "output_type": "execute_result"
    }
   ],
   "source": [
    "calls['call_date'] = pd.to_datetime(calls['call_date'], format='%Y-%m-%d')\n",
    "calls['month'] = pd.DatetimeIndex(calls['call_date']).month_name()\n",
    "calls['year'] = pd.DatetimeIndex(calls['call_date']).year\n",
    "calls['year'].unique()"
   ]
  },
  {
   "cell_type": "code",
   "execution_count": 20,
   "metadata": {
    "cellId": "cewovj2zqhb1ke4cz3q6g"
   },
   "outputs": [
    {
     "data": {
      "text/plain": [
       "array([2018])"
      ]
     },
     "execution_count": 20,
     "metadata": {},
     "output_type": "execute_result"
    }
   ],
   "source": [
    "internet['session_date'] = pd.to_datetime(internet['session_date'], format='%Y-%m-%d')\n",
    "internet['month'] = pd.DatetimeIndex(internet['session_date']).month_name()\n",
    "internet['year'] = pd.DatetimeIndex(internet['session_date']).year\n",
    "internet['year'].unique()"
   ]
  },
  {
   "cell_type": "code",
   "execution_count": 21,
   "metadata": {
    "cellId": "0qa1wpfddk4sagi8gucruea"
   },
   "outputs": [
    {
     "data": {
      "text/plain": [
       "array([2018])"
      ]
     },
     "execution_count": 21,
     "metadata": {},
     "output_type": "execute_result"
    }
   ],
   "source": [
    "messages['message_date'] = pd.to_datetime(messages['message_date'], format='%Y-%m-%d')\n",
    "messages['month'] = pd.DatetimeIndex(messages['message_date']).month_name()\n",
    "messages['year'] = pd.DatetimeIndex(messages['message_date']).year\n",
    "messages['year'].unique()"
   ]
  },
  {
   "cell_type": "code",
   "execution_count": 22,
   "metadata": {
    "cellId": "pu5zq1csugox76f9vu1mmh"
   },
   "outputs": [
    {
     "data": {
      "text/plain": [
       "December     20555\n",
       "November     18244\n",
       "October      17114\n",
       "September    14759\n",
       "August       13088\n",
       "July         11320\n",
       "June          8983\n",
       "May           7298\n",
       "April         5179\n",
       "March         3648\n",
       "February      1924\n",
       "January        924\n",
       "Name: month, dtype: int64"
      ]
     },
     "execution_count": 22,
     "metadata": {},
     "output_type": "execute_result"
    }
   ],
   "source": [
    "messages['month'].value_counts()"
   ]
  },
  {
   "cell_type": "markdown",
   "metadata": {
    "cellId": "atpf5vf4ji9i1jvz381kmj"
   },
   "source": [
    "I got the months and checked: there are 12 of them and the year for all data is really 2018. But the number of months is not the same, which means that for each specific user the data may not be for the whole year.\n",
    "\n",
    "### Preparing user data (calls, sms, traffic volume, etc.)"
   ]
  },
  {
   "cell_type": "code",
   "execution_count": 23,
   "metadata": {
    "cellId": "tnzztkcyrxiwim0ilk1bj"
   },
   "outputs": [
    {
     "data": {
      "text/html": [
       "<div>\n",
       "<style scoped>\n",
       "    .dataframe tbody tr th:only-of-type {\n",
       "        vertical-align: middle;\n",
       "    }\n",
       "\n",
       "    .dataframe tbody tr th {\n",
       "        vertical-align: top;\n",
       "    }\n",
       "\n",
       "    .dataframe thead th {\n",
       "        text-align: right;\n",
       "    }\n",
       "</style>\n",
       "<table border=\"1\" class=\"dataframe\">\n",
       "  <thead>\n",
       "    <tr style=\"text-align: right;\">\n",
       "      <th></th>\n",
       "      <th>user_id</th>\n",
       "      <th>month</th>\n",
       "      <th>duration</th>\n",
       "    </tr>\n",
       "  </thead>\n",
       "  <tbody>\n",
       "    <tr>\n",
       "      <th>0</th>\n",
       "      <td>1000</td>\n",
       "      <td>August</td>\n",
       "      <td>408</td>\n",
       "    </tr>\n",
       "    <tr>\n",
       "      <th>1</th>\n",
       "      <td>1000</td>\n",
       "      <td>December</td>\n",
       "      <td>333</td>\n",
       "    </tr>\n",
       "    <tr>\n",
       "      <th>2</th>\n",
       "      <td>1000</td>\n",
       "      <td>July</td>\n",
       "      <td>340</td>\n",
       "    </tr>\n",
       "    <tr>\n",
       "      <th>3</th>\n",
       "      <td>1000</td>\n",
       "      <td>June</td>\n",
       "      <td>172</td>\n",
       "    </tr>\n",
       "    <tr>\n",
       "      <th>4</th>\n",
       "      <td>1000</td>\n",
       "      <td>May</td>\n",
       "      <td>159</td>\n",
       "    </tr>\n",
       "  </tbody>\n",
       "</table>\n",
       "</div>"
      ],
      "text/plain": [
       "   user_id     month  duration\n",
       "0     1000    August       408\n",
       "1     1000  December       333\n",
       "2     1000      July       340\n",
       "3     1000      June       172\n",
       "4     1000       May       159"
      ]
     },
     "execution_count": 23,
     "metadata": {},
     "output_type": "execute_result"
    }
   ],
   "source": [
    "# sum up calls for the month\n",
    "calls_sum = calls.groupby(['user_id', 'month'])['duration'].agg('sum').reset_index()\n",
    "calls_sum.head()"
   ]
  },
  {
   "cell_type": "code",
   "execution_count": 24,
   "metadata": {
    "cellId": "tzsq0ir7harycpco8qjk",
    "scrolled": true
   },
   "outputs": [
    {
     "data": {
      "text/html": [
       "<div>\n",
       "<style scoped>\n",
       "    .dataframe tbody tr th:only-of-type {\n",
       "        vertical-align: middle;\n",
       "    }\n",
       "\n",
       "    .dataframe tbody tr th {\n",
       "        vertical-align: top;\n",
       "    }\n",
       "\n",
       "    .dataframe thead th {\n",
       "        text-align: right;\n",
       "    }\n",
       "</style>\n",
       "<table border=\"1\" class=\"dataframe\">\n",
       "  <thead>\n",
       "    <tr style=\"text-align: right;\">\n",
       "      <th></th>\n",
       "      <th>user_id</th>\n",
       "      <th>month</th>\n",
       "      <th>mb_used</th>\n",
       "      <th>gb_used</th>\n",
       "    </tr>\n",
       "  </thead>\n",
       "  <tbody>\n",
       "    <tr>\n",
       "      <th>0</th>\n",
       "      <td>1000</td>\n",
       "      <td>August</td>\n",
       "      <td>14055.93</td>\n",
       "      <td>14</td>\n",
       "    </tr>\n",
       "    <tr>\n",
       "      <th>1</th>\n",
       "      <td>1000</td>\n",
       "      <td>December</td>\n",
       "      <td>9817.61</td>\n",
       "      <td>10</td>\n",
       "    </tr>\n",
       "    <tr>\n",
       "      <th>2</th>\n",
       "      <td>1000</td>\n",
       "      <td>July</td>\n",
       "      <td>14003.64</td>\n",
       "      <td>14</td>\n",
       "    </tr>\n",
       "    <tr>\n",
       "      <th>3</th>\n",
       "      <td>1000</td>\n",
       "      <td>June</td>\n",
       "      <td>23233.77</td>\n",
       "      <td>23</td>\n",
       "    </tr>\n",
       "    <tr>\n",
       "      <th>4</th>\n",
       "      <td>1000</td>\n",
       "      <td>May</td>\n",
       "      <td>2253.49</td>\n",
       "      <td>3</td>\n",
       "    </tr>\n",
       "  </tbody>\n",
       "</table>\n",
       "</div>"
      ],
      "text/plain": [
       "   user_id     month  mb_used  gb_used\n",
       "0     1000    August 14055.93       14\n",
       "1     1000  December  9817.61       10\n",
       "2     1000      July 14003.64       14\n",
       "3     1000      June 23233.77       23\n",
       "4     1000       May  2253.49        3"
      ]
     },
     "execution_count": 24,
     "metadata": {},
     "output_type": "execute_result"
    }
   ],
   "source": [
    "# calculate monthly traffic and round up to GB\n",
    "internet_sum = internet.groupby(['user_id', 'month'])['mb_used'].agg('sum').reset_index()\n",
    "internet_sum['gb_used'] = (internet_sum['mb_used']/1024).apply(np.ceil).astype(int)\n",
    "internet_sum.head()"
   ]
  },
  {
   "cell_type": "code",
   "execution_count": 25,
   "metadata": {
    "cellId": "t7f78qadthrjdy1ez9baxa"
   },
   "outputs": [
    {
     "data": {
      "text/html": [
       "<div>\n",
       "<style scoped>\n",
       "    .dataframe tbody tr th:only-of-type {\n",
       "        vertical-align: middle;\n",
       "    }\n",
       "\n",
       "    .dataframe tbody tr th {\n",
       "        vertical-align: top;\n",
       "    }\n",
       "\n",
       "    .dataframe thead th {\n",
       "        text-align: right;\n",
       "    }\n",
       "</style>\n",
       "<table border=\"1\" class=\"dataframe\">\n",
       "  <thead>\n",
       "    <tr style=\"text-align: right;\">\n",
       "      <th></th>\n",
       "      <th>user_id</th>\n",
       "      <th>month</th>\n",
       "      <th>message_count</th>\n",
       "    </tr>\n",
       "  </thead>\n",
       "  <tbody>\n",
       "    <tr>\n",
       "      <th>0</th>\n",
       "      <td>1000</td>\n",
       "      <td>August</td>\n",
       "      <td>81</td>\n",
       "    </tr>\n",
       "    <tr>\n",
       "      <th>1</th>\n",
       "      <td>1000</td>\n",
       "      <td>December</td>\n",
       "      <td>70</td>\n",
       "    </tr>\n",
       "    <tr>\n",
       "      <th>2</th>\n",
       "      <td>1000</td>\n",
       "      <td>July</td>\n",
       "      <td>75</td>\n",
       "    </tr>\n",
       "    <tr>\n",
       "      <th>3</th>\n",
       "      <td>1000</td>\n",
       "      <td>June</td>\n",
       "      <td>60</td>\n",
       "    </tr>\n",
       "    <tr>\n",
       "      <th>4</th>\n",
       "      <td>1000</td>\n",
       "      <td>May</td>\n",
       "      <td>22</td>\n",
       "    </tr>\n",
       "  </tbody>\n",
       "</table>\n",
       "</div>"
      ],
      "text/plain": [
       "   user_id     month  message_count\n",
       "0     1000    August             81\n",
       "1     1000  December             70\n",
       "2     1000      July             75\n",
       "3     1000      June             60\n",
       "4     1000       May             22"
      ]
     },
     "execution_count": 25,
     "metadata": {},
     "output_type": "execute_result"
    }
   ],
   "source": [
    "# messages per month\n",
    "messages_sum = messages.groupby(['user_id', 'month'])['id'].agg('count').reset_index()\n",
    "messages_sum.columns = ['user_id', 'month', 'message_count'] #переименую колонку с кол-вом сообщений, чтобы не запутаться\n",
    "messages_sum.head()"
   ]
  },
  {
   "cell_type": "markdown",
   "metadata": {
    "cellId": "qyiyryg0j7gzypidgojkr9"
   },
   "source": [
    "I will combine everything into one file, first I will connect calls, messages and traffic with the outer parameter (in case some months are missing somewhere), and then I will attach this to users."
   ]
  },
  {
   "cell_type": "code",
   "execution_count": 26,
   "metadata": {
    "cellId": "lnv5o4ns6o8c8t5t5pm2uv"
   },
   "outputs": [
    {
     "data": {
      "text/html": [
       "<div>\n",
       "<style scoped>\n",
       "    .dataframe tbody tr th:only-of-type {\n",
       "        vertical-align: middle;\n",
       "    }\n",
       "\n",
       "    .dataframe tbody tr th {\n",
       "        vertical-align: top;\n",
       "    }\n",
       "\n",
       "    .dataframe thead th {\n",
       "        text-align: right;\n",
       "    }\n",
       "</style>\n",
       "<table border=\"1\" class=\"dataframe\">\n",
       "  <thead>\n",
       "    <tr style=\"text-align: right;\">\n",
       "      <th></th>\n",
       "      <th>user_id</th>\n",
       "      <th>age</th>\n",
       "      <th>churn_date</th>\n",
       "      <th>city</th>\n",
       "      <th>first_name</th>\n",
       "      <th>last_name</th>\n",
       "      <th>reg_date</th>\n",
       "      <th>tariff</th>\n",
       "      <th>month</th>\n",
       "      <th>duration</th>\n",
       "      <th>message_count</th>\n",
       "      <th>mb_used</th>\n",
       "      <th>gb_used</th>\n",
       "    </tr>\n",
       "  </thead>\n",
       "  <tbody>\n",
       "    <tr>\n",
       "      <th>0</th>\n",
       "      <td>1000</td>\n",
       "      <td>52</td>\n",
       "      <td>NaN</td>\n",
       "      <td>Краснодар</td>\n",
       "      <td>Рафаил</td>\n",
       "      <td>Верещагин</td>\n",
       "      <td>2018-05-25</td>\n",
       "      <td>ultra</td>\n",
       "      <td>August</td>\n",
       "      <td>408.00</td>\n",
       "      <td>81.00</td>\n",
       "      <td>14055.93</td>\n",
       "      <td>14.00</td>\n",
       "    </tr>\n",
       "    <tr>\n",
       "      <th>1</th>\n",
       "      <td>1000</td>\n",
       "      <td>52</td>\n",
       "      <td>NaN</td>\n",
       "      <td>Краснодар</td>\n",
       "      <td>Рафаил</td>\n",
       "      <td>Верещагин</td>\n",
       "      <td>2018-05-25</td>\n",
       "      <td>ultra</td>\n",
       "      <td>December</td>\n",
       "      <td>333.00</td>\n",
       "      <td>70.00</td>\n",
       "      <td>9817.61</td>\n",
       "      <td>10.00</td>\n",
       "    </tr>\n",
       "    <tr>\n",
       "      <th>2</th>\n",
       "      <td>1000</td>\n",
       "      <td>52</td>\n",
       "      <td>NaN</td>\n",
       "      <td>Краснодар</td>\n",
       "      <td>Рафаил</td>\n",
       "      <td>Верещагин</td>\n",
       "      <td>2018-05-25</td>\n",
       "      <td>ultra</td>\n",
       "      <td>July</td>\n",
       "      <td>340.00</td>\n",
       "      <td>75.00</td>\n",
       "      <td>14003.64</td>\n",
       "      <td>14.00</td>\n",
       "    </tr>\n",
       "    <tr>\n",
       "      <th>3</th>\n",
       "      <td>1000</td>\n",
       "      <td>52</td>\n",
       "      <td>NaN</td>\n",
       "      <td>Краснодар</td>\n",
       "      <td>Рафаил</td>\n",
       "      <td>Верещагин</td>\n",
       "      <td>2018-05-25</td>\n",
       "      <td>ultra</td>\n",
       "      <td>June</td>\n",
       "      <td>172.00</td>\n",
       "      <td>60.00</td>\n",
       "      <td>23233.77</td>\n",
       "      <td>23.00</td>\n",
       "    </tr>\n",
       "    <tr>\n",
       "      <th>4</th>\n",
       "      <td>1000</td>\n",
       "      <td>52</td>\n",
       "      <td>NaN</td>\n",
       "      <td>Краснодар</td>\n",
       "      <td>Рафаил</td>\n",
       "      <td>Верещагин</td>\n",
       "      <td>2018-05-25</td>\n",
       "      <td>ultra</td>\n",
       "      <td>May</td>\n",
       "      <td>159.00</td>\n",
       "      <td>22.00</td>\n",
       "      <td>2253.49</td>\n",
       "      <td>3.00</td>\n",
       "    </tr>\n",
       "    <tr>\n",
       "      <th>...</th>\n",
       "      <td>...</td>\n",
       "      <td>...</td>\n",
       "      <td>...</td>\n",
       "      <td>...</td>\n",
       "      <td>...</td>\n",
       "      <td>...</td>\n",
       "      <td>...</td>\n",
       "      <td>...</td>\n",
       "      <td>...</td>\n",
       "      <td>...</td>\n",
       "      <td>...</td>\n",
       "      <td>...</td>\n",
       "      <td>...</td>\n",
       "    </tr>\n",
       "    <tr>\n",
       "      <th>3211</th>\n",
       "      <td>1498</td>\n",
       "      <td>68</td>\n",
       "      <td>2018-10-25</td>\n",
       "      <td>Владикавказ</td>\n",
       "      <td>Всеволод</td>\n",
       "      <td>Акимчин</td>\n",
       "      <td>2018-07-19</td>\n",
       "      <td>smart</td>\n",
       "      <td>September</td>\n",
       "      <td>471.00</td>\n",
       "      <td>44.00</td>\n",
       "      <td>22134.41</td>\n",
       "      <td>22.00</td>\n",
       "    </tr>\n",
       "    <tr>\n",
       "      <th>3212</th>\n",
       "      <td>1499</td>\n",
       "      <td>35</td>\n",
       "      <td>NaN</td>\n",
       "      <td>Пермь</td>\n",
       "      <td>Гектор</td>\n",
       "      <td>Корнилов</td>\n",
       "      <td>2018-09-27</td>\n",
       "      <td>smart</td>\n",
       "      <td>December</td>\n",
       "      <td>492.00</td>\n",
       "      <td>66.00</td>\n",
       "      <td>13055.58</td>\n",
       "      <td>13.00</td>\n",
       "    </tr>\n",
       "    <tr>\n",
       "      <th>3213</th>\n",
       "      <td>1499</td>\n",
       "      <td>35</td>\n",
       "      <td>NaN</td>\n",
       "      <td>Пермь</td>\n",
       "      <td>Гектор</td>\n",
       "      <td>Корнилов</td>\n",
       "      <td>2018-09-27</td>\n",
       "      <td>smart</td>\n",
       "      <td>November</td>\n",
       "      <td>612.00</td>\n",
       "      <td>59.00</td>\n",
       "      <td>17963.31</td>\n",
       "      <td>18.00</td>\n",
       "    </tr>\n",
       "    <tr>\n",
       "      <th>3214</th>\n",
       "      <td>1499</td>\n",
       "      <td>35</td>\n",
       "      <td>NaN</td>\n",
       "      <td>Пермь</td>\n",
       "      <td>Гектор</td>\n",
       "      <td>Корнилов</td>\n",
       "      <td>2018-09-27</td>\n",
       "      <td>smart</td>\n",
       "      <td>October</td>\n",
       "      <td>449.00</td>\n",
       "      <td>48.00</td>\n",
       "      <td>17788.51</td>\n",
       "      <td>18.00</td>\n",
       "    </tr>\n",
       "    <tr>\n",
       "      <th>3215</th>\n",
       "      <td>1499</td>\n",
       "      <td>35</td>\n",
       "      <td>NaN</td>\n",
       "      <td>Пермь</td>\n",
       "      <td>Гектор</td>\n",
       "      <td>Корнилов</td>\n",
       "      <td>2018-09-27</td>\n",
       "      <td>smart</td>\n",
       "      <td>September</td>\n",
       "      <td>70.00</td>\n",
       "      <td>11.00</td>\n",
       "      <td>1845.75</td>\n",
       "      <td>2.00</td>\n",
       "    </tr>\n",
       "  </tbody>\n",
       "</table>\n",
       "<p>3216 rows × 13 columns</p>\n",
       "</div>"
      ],
      "text/plain": [
       "      user_id  age  churn_date         city first_name  last_name    reg_date  \\\n",
       "0        1000   52         NaN    Краснодар     Рафаил  Верещагин  2018-05-25   \n",
       "1        1000   52         NaN    Краснодар     Рафаил  Верещагин  2018-05-25   \n",
       "2        1000   52         NaN    Краснодар     Рафаил  Верещагин  2018-05-25   \n",
       "3        1000   52         NaN    Краснодар     Рафаил  Верещагин  2018-05-25   \n",
       "4        1000   52         NaN    Краснодар     Рафаил  Верещагин  2018-05-25   \n",
       "...       ...  ...         ...          ...        ...        ...         ...   \n",
       "3211     1498   68  2018-10-25  Владикавказ   Всеволод    Акимчин  2018-07-19   \n",
       "3212     1499   35         NaN        Пермь     Гектор   Корнилов  2018-09-27   \n",
       "3213     1499   35         NaN        Пермь     Гектор   Корнилов  2018-09-27   \n",
       "3214     1499   35         NaN        Пермь     Гектор   Корнилов  2018-09-27   \n",
       "3215     1499   35         NaN        Пермь     Гектор   Корнилов  2018-09-27   \n",
       "\n",
       "     tariff      month  duration  message_count  mb_used  gb_used  \n",
       "0     ultra     August    408.00          81.00 14055.93    14.00  \n",
       "1     ultra   December    333.00          70.00  9817.61    10.00  \n",
       "2     ultra       July    340.00          75.00 14003.64    14.00  \n",
       "3     ultra       June    172.00          60.00 23233.77    23.00  \n",
       "4     ultra        May    159.00          22.00  2253.49     3.00  \n",
       "...     ...        ...       ...            ...      ...      ...  \n",
       "3211  smart  September    471.00          44.00 22134.41    22.00  \n",
       "3212  smart   December    492.00          66.00 13055.58    13.00  \n",
       "3213  smart   November    612.00          59.00 17963.31    18.00  \n",
       "3214  smart    October    449.00          48.00 17788.51    18.00  \n",
       "3215  smart  September     70.00          11.00  1845.75     2.00  \n",
       "\n",
       "[3216 rows x 13 columns]"
      ]
     },
     "execution_count": 26,
     "metadata": {},
     "output_type": "execute_result"
    }
   ],
   "source": [
    "df = users.merge((calls_sum.merge(messages_sum, how='outer')).merge(internet_sum, how='outer'), how='left', on='user_id')\n",
    "df"
   ]
  },
  {
   "cell_type": "code",
   "execution_count": 27,
   "metadata": {
    "cellId": "z8wwezu43mb40yhta7xkc9"
   },
   "outputs": [],
   "source": [
    "df = df.drop(columns=['age', 'churn_date', 'first_name', 'last_name', 'reg_date', 'mb_used'])"
   ]
  },
  {
   "cell_type": "code",
   "execution_count": 28,
   "metadata": {
    "cellId": "6pueoij2yfslh9vkypon17"
   },
   "outputs": [
    {
     "data": {
      "text/html": [
       "<div>\n",
       "<style scoped>\n",
       "    .dataframe tbody tr th:only-of-type {\n",
       "        vertical-align: middle;\n",
       "    }\n",
       "\n",
       "    .dataframe tbody tr th {\n",
       "        vertical-align: top;\n",
       "    }\n",
       "\n",
       "    .dataframe thead th {\n",
       "        text-align: right;\n",
       "    }\n",
       "</style>\n",
       "<table border=\"1\" class=\"dataframe\">\n",
       "  <thead>\n",
       "    <tr style=\"text-align: right;\">\n",
       "      <th></th>\n",
       "      <th>user_id</th>\n",
       "      <th>city</th>\n",
       "      <th>tariff</th>\n",
       "      <th>month</th>\n",
       "      <th>duration</th>\n",
       "      <th>message_count</th>\n",
       "      <th>gb_used</th>\n",
       "    </tr>\n",
       "  </thead>\n",
       "  <tbody>\n",
       "    <tr>\n",
       "      <th>0</th>\n",
       "      <td>1000</td>\n",
       "      <td>Краснодар</td>\n",
       "      <td>ultra</td>\n",
       "      <td>August</td>\n",
       "      <td>408.00</td>\n",
       "      <td>81.00</td>\n",
       "      <td>14.00</td>\n",
       "    </tr>\n",
       "    <tr>\n",
       "      <th>1</th>\n",
       "      <td>1000</td>\n",
       "      <td>Краснодар</td>\n",
       "      <td>ultra</td>\n",
       "      <td>December</td>\n",
       "      <td>333.00</td>\n",
       "      <td>70.00</td>\n",
       "      <td>10.00</td>\n",
       "    </tr>\n",
       "    <tr>\n",
       "      <th>2</th>\n",
       "      <td>1000</td>\n",
       "      <td>Краснодар</td>\n",
       "      <td>ultra</td>\n",
       "      <td>July</td>\n",
       "      <td>340.00</td>\n",
       "      <td>75.00</td>\n",
       "      <td>14.00</td>\n",
       "    </tr>\n",
       "    <tr>\n",
       "      <th>3</th>\n",
       "      <td>1000</td>\n",
       "      <td>Краснодар</td>\n",
       "      <td>ultra</td>\n",
       "      <td>June</td>\n",
       "      <td>172.00</td>\n",
       "      <td>60.00</td>\n",
       "      <td>23.00</td>\n",
       "    </tr>\n",
       "    <tr>\n",
       "      <th>4</th>\n",
       "      <td>1000</td>\n",
       "      <td>Краснодар</td>\n",
       "      <td>ultra</td>\n",
       "      <td>May</td>\n",
       "      <td>159.00</td>\n",
       "      <td>22.00</td>\n",
       "      <td>3.00</td>\n",
       "    </tr>\n",
       "  </tbody>\n",
       "</table>\n",
       "</div>"
      ],
      "text/plain": [
       "   user_id       city tariff     month  duration  message_count  gb_used\n",
       "0     1000  Краснодар  ultra    August    408.00          81.00    14.00\n",
       "1     1000  Краснодар  ultra  December    333.00          70.00    10.00\n",
       "2     1000  Краснодар  ultra      July    340.00          75.00    14.00\n",
       "3     1000  Краснодар  ultra      June    172.00          60.00    23.00\n",
       "4     1000  Краснодар  ultra       May    159.00          22.00     3.00"
      ]
     },
     "execution_count": 28,
     "metadata": {},
     "output_type": "execute_result"
    }
   ],
   "source": [
    "df.head()"
   ]
  },
  {
   "cell_type": "markdown",
   "metadata": {
    "cellId": "7udp7yd9fjbgkeer9wvk8p"
   },
   "source": [
    "It can be seen that the duration of calls, the number of messages and traffic became floats again, since as a result of the union there were missing values in some months, and pandas stores NaN columns only in floats. I will replace NaN with 0 so that there are no problems when calculating revenue and translate it into integers."
   ]
  },
  {
   "cell_type": "code",
   "execution_count": 29,
   "metadata": {
    "cellId": "9lkpg349zxj38crhnnu18r"
   },
   "outputs": [
    {
     "data": {
      "text/plain": [
       "user_id         0.00\n",
       "city            0.00\n",
       "tariff          0.00\n",
       "month           0.00\n",
       "duration        0.01\n",
       "message_count   0.16\n",
       "gb_used         0.00\n",
       "dtype: float64"
      ]
     },
     "execution_count": 29,
     "metadata": {},
     "output_type": "execute_result"
    }
   ],
   "source": [
    "df.isna().mean()"
   ]
  },
  {
   "cell_type": "code",
   "execution_count": 30,
   "metadata": {
    "cellId": "f6rbet82c4szumk2ow31ji"
   },
   "outputs": [],
   "source": [
    "df = df.fillna(0)"
   ]
  },
  {
   "cell_type": "code",
   "execution_count": 31,
   "metadata": {
    "cellId": "9cd53gdvceq4g1kd1oc4u"
   },
   "outputs": [
    {
     "data": {
      "text/plain": [
       "user_id         0.00\n",
       "city            0.00\n",
       "tariff          0.00\n",
       "month           0.00\n",
       "duration        0.00\n",
       "message_count   0.00\n",
       "gb_used         0.00\n",
       "dtype: float64"
      ]
     },
     "execution_count": 31,
     "metadata": {},
     "output_type": "execute_result"
    }
   ],
   "source": [
    "df.isna().mean()"
   ]
  },
  {
   "cell_type": "code",
   "execution_count": 32,
   "metadata": {
    "cellId": "fi7373ytr68wg6wgxfs00h"
   },
   "outputs": [],
   "source": [
    "df[['duration','message_count','gb_used']] = df[['duration','message_count','gb_used']].astype(int)"
   ]
  },
  {
   "cell_type": "markdown",
   "metadata": {
    "cellId": "gylv50hkd35ceolvv0zkq8"
   },
   "source": [
    "I'll calculate the income. I will write a function for this."
   ]
  },
  {
   "cell_type": "code",
   "execution_count": 33,
   "metadata": {
    "cellId": "fft7bcy1o3fnrkbyaput7",
    "scrolled": true
   },
   "outputs": [
    {
     "data": {
      "text/html": [
       "<div>\n",
       "<style scoped>\n",
       "    .dataframe tbody tr th:only-of-type {\n",
       "        vertical-align: middle;\n",
       "    }\n",
       "\n",
       "    .dataframe tbody tr th {\n",
       "        vertical-align: top;\n",
       "    }\n",
       "\n",
       "    .dataframe thead th {\n",
       "        text-align: right;\n",
       "    }\n",
       "</style>\n",
       "<table border=\"1\" class=\"dataframe\">\n",
       "  <thead>\n",
       "    <tr style=\"text-align: right;\">\n",
       "      <th></th>\n",
       "      <th>messages_included</th>\n",
       "      <th>mb_per_month_included</th>\n",
       "      <th>minutes_included</th>\n",
       "      <th>rub_monthly_fee</th>\n",
       "      <th>rub_per_gb</th>\n",
       "      <th>rub_per_message</th>\n",
       "      <th>rub_per_minute</th>\n",
       "    </tr>\n",
       "    <tr>\n",
       "      <th>tariff_name</th>\n",
       "      <th></th>\n",
       "      <th></th>\n",
       "      <th></th>\n",
       "      <th></th>\n",
       "      <th></th>\n",
       "      <th></th>\n",
       "      <th></th>\n",
       "    </tr>\n",
       "  </thead>\n",
       "  <tbody>\n",
       "    <tr>\n",
       "      <th>smart</th>\n",
       "      <td>50</td>\n",
       "      <td>15360</td>\n",
       "      <td>500</td>\n",
       "      <td>550</td>\n",
       "      <td>200</td>\n",
       "      <td>3</td>\n",
       "      <td>3</td>\n",
       "    </tr>\n",
       "    <tr>\n",
       "      <th>ultra</th>\n",
       "      <td>1000</td>\n",
       "      <td>30720</td>\n",
       "      <td>3000</td>\n",
       "      <td>1950</td>\n",
       "      <td>150</td>\n",
       "      <td>1</td>\n",
       "      <td>1</td>\n",
       "    </tr>\n",
       "  </tbody>\n",
       "</table>\n",
       "</div>"
      ],
      "text/plain": [
       "             messages_included  mb_per_month_included  minutes_included  \\\n",
       "tariff_name                                                               \n",
       "smart                       50                  15360               500   \n",
       "ultra                     1000                  30720              3000   \n",
       "\n",
       "             rub_monthly_fee  rub_per_gb  rub_per_message  rub_per_minute  \n",
       "tariff_name                                                                \n",
       "smart                    550         200                3               3  \n",
       "ultra                   1950         150                1               1  "
      ]
     },
     "execution_count": 33,
     "metadata": {},
     "output_type": "execute_result"
    }
   ],
   "source": [
    "tariffs = tariffs.set_index('tariff_name')\n",
    "tariffs"
   ]
  },
  {
   "cell_type": "code",
   "execution_count": 34,
   "metadata": {},
   "outputs": [
    {
     "data": {
      "text/plain": [
       "550"
      ]
     },
     "execution_count": 34,
     "metadata": {},
     "output_type": "execute_result"
    }
   ],
   "source": [
    "tariffs.loc['smart', 'rub_monthly_fee']"
   ]
  },
  {
   "cell_type": "code",
   "execution_count": 35,
   "metadata": {
    "cellId": "bgxdtwnp7wqmyiyx9u7nv"
   },
   "outputs": [],
   "source": [
    "def revenue(row):\n",
    "    \n",
    "    #calculation for smart tariff\n",
    "    if row['tariff']=='smart':\n",
    "        \n",
    "        #price\n",
    "        monthly_fee = tariffs.loc['smart', 'rub_monthly_fee']\n",
    "        min_price = tariffs.loc['smart', 'rub_per_minute']\n",
    "        mess_price = tariffs.loc['smart', 'rub_per_message']\n",
    "        gb_price = tariffs.loc['smart', 'rub_per_gb']\n",
    "        \n",
    "        #minutes\n",
    "        if row['duration'] <= 500:\n",
    "            minutes = 0\n",
    "        else:\n",
    "            minutes = row['duration'] - 500\n",
    "        \n",
    "        #messages   \n",
    "        if row['message_count'] <= 50:\n",
    "            messages = 0\n",
    "        else:\n",
    "            messages = row['message_count'] - 50\n",
    "        \n",
    "        #gigabytes \n",
    "        if row['gb_used'] <= 15:\n",
    "            gb = 0 \n",
    "        else:\n",
    "            gb = row['gb_used'] - 15\n",
    "    \n",
    "    #calculation for ultra tariff\n",
    "    else:\n",
    "        \n",
    "        #price\n",
    "        monthly_fee = tariffs.loc['ultra', 'rub_monthly_fee']\n",
    "        min_price = tariffs.loc['ultra', 'rub_per_minute']\n",
    "        mess_price = tariffs.loc['ultra', 'rub_per_message']\n",
    "        gb_price = tariffs.loc['ultra', 'rub_per_gb']\n",
    "        \n",
    "        #minutes\n",
    "        if row['duration'] <= 3000:\n",
    "            minutes = 0\n",
    "        else:\n",
    "            minutes = row['duration'] - 3000\n",
    "        \n",
    "        #messages\n",
    "        if row['message_count'] <= 1000:\n",
    "            messages = 0\n",
    "        else:\n",
    "            messages = row['message_count'] - 1000\n",
    "        \n",
    "        #gigabytes\n",
    "        if row['gb_used'] <= 30:\n",
    "            gb = 0 \n",
    "        else:\n",
    "            gb = row['gb_used'] - 30\n",
    "    \n",
    "    #revenue\n",
    "    rev = monthly_fee + minutes*min_price + messages*mess_price + gb*gb_price\n",
    "    return rev"
   ]
  },
  {
   "cell_type": "code",
   "execution_count": 36,
   "metadata": {
    "cellId": "9yy8nijidakmdnghb0ep2"
   },
   "outputs": [
    {
     "name": "stdout",
     "output_type": "stream",
     "text": [
      "user_id              1001\n",
      "city               Москва\n",
      "tariff              smart\n",
      "month            November\n",
      "duration              430\n",
      "message_count           0\n",
      "gb_used                18\n",
      "Name: 9, dtype: object\n",
      "\n",
      "Выручка: 1150\n"
     ]
    }
   ],
   "source": [
    "#check the function\n",
    "print(df.loc[9])\n",
    "print()\n",
    "print('Выручка:', revenue(df.loc[9]))\n",
    "\n",
    "#smart\n",
    "#minutes up to 500, no messages, gigabytes 15+3, revenue = 550 + 3*200"
   ]
  },
  {
   "cell_type": "code",
   "execution_count": 37,
   "metadata": {
    "cellId": "oegxt6ksp4rrbnx5px5cd"
   },
   "outputs": [
    {
     "name": "stdout",
     "output_type": "stream",
     "text": [
      "user_id               1000\n",
      "city             Краснодар\n",
      "tariff               ultra\n",
      "month                 June\n",
      "duration               172\n",
      "message_count           60\n",
      "gb_used                 23\n",
      "Name: 3, dtype: object\n",
      "\n",
      "Выручка: 1950\n"
     ]
    }
   ],
   "source": [
    "#check the function\n",
    "print(df.loc[3])\n",
    "print()\n",
    "print('Выручка:', revenue(df.loc[3]))\n",
    "#ультра"
   ]
  },
  {
   "cell_type": "code",
   "execution_count": 38,
   "metadata": {
    "cellId": "pvhqnjmjr5pgfc4i27u6p"
   },
   "outputs": [
    {
     "data": {
      "text/html": [
       "<div>\n",
       "<style scoped>\n",
       "    .dataframe tbody tr th:only-of-type {\n",
       "        vertical-align: middle;\n",
       "    }\n",
       "\n",
       "    .dataframe tbody tr th {\n",
       "        vertical-align: top;\n",
       "    }\n",
       "\n",
       "    .dataframe thead th {\n",
       "        text-align: right;\n",
       "    }\n",
       "</style>\n",
       "<table border=\"1\" class=\"dataframe\">\n",
       "  <thead>\n",
       "    <tr style=\"text-align: right;\">\n",
       "      <th></th>\n",
       "      <th>user_id</th>\n",
       "      <th>city</th>\n",
       "      <th>tariff</th>\n",
       "      <th>month</th>\n",
       "      <th>duration</th>\n",
       "      <th>message_count</th>\n",
       "      <th>gb_used</th>\n",
       "      <th>revenue</th>\n",
       "    </tr>\n",
       "  </thead>\n",
       "  <tbody>\n",
       "    <tr>\n",
       "      <th>0</th>\n",
       "      <td>1000</td>\n",
       "      <td>Краснодар</td>\n",
       "      <td>ultra</td>\n",
       "      <td>August</td>\n",
       "      <td>408</td>\n",
       "      <td>81</td>\n",
       "      <td>14</td>\n",
       "      <td>1950</td>\n",
       "    </tr>\n",
       "    <tr>\n",
       "      <th>1</th>\n",
       "      <td>1000</td>\n",
       "      <td>Краснодар</td>\n",
       "      <td>ultra</td>\n",
       "      <td>December</td>\n",
       "      <td>333</td>\n",
       "      <td>70</td>\n",
       "      <td>10</td>\n",
       "      <td>1950</td>\n",
       "    </tr>\n",
       "    <tr>\n",
       "      <th>2</th>\n",
       "      <td>1000</td>\n",
       "      <td>Краснодар</td>\n",
       "      <td>ultra</td>\n",
       "      <td>July</td>\n",
       "      <td>340</td>\n",
       "      <td>75</td>\n",
       "      <td>14</td>\n",
       "      <td>1950</td>\n",
       "    </tr>\n",
       "    <tr>\n",
       "      <th>3</th>\n",
       "      <td>1000</td>\n",
       "      <td>Краснодар</td>\n",
       "      <td>ultra</td>\n",
       "      <td>June</td>\n",
       "      <td>172</td>\n",
       "      <td>60</td>\n",
       "      <td>23</td>\n",
       "      <td>1950</td>\n",
       "    </tr>\n",
       "    <tr>\n",
       "      <th>4</th>\n",
       "      <td>1000</td>\n",
       "      <td>Краснодар</td>\n",
       "      <td>ultra</td>\n",
       "      <td>May</td>\n",
       "      <td>159</td>\n",
       "      <td>22</td>\n",
       "      <td>3</td>\n",
       "      <td>1950</td>\n",
       "    </tr>\n",
       "  </tbody>\n",
       "</table>\n",
       "</div>"
      ],
      "text/plain": [
       "   user_id       city tariff     month  duration  message_count  gb_used  \\\n",
       "0     1000  Краснодар  ultra    August       408             81       14   \n",
       "1     1000  Краснодар  ultra  December       333             70       10   \n",
       "2     1000  Краснодар  ultra      July       340             75       14   \n",
       "3     1000  Краснодар  ultra      June       172             60       23   \n",
       "4     1000  Краснодар  ultra       May       159             22        3   \n",
       "\n",
       "   revenue  \n",
       "0     1950  \n",
       "1     1950  \n",
       "2     1950  \n",
       "3     1950  \n",
       "4     1950  "
      ]
     },
     "execution_count": 38,
     "metadata": {},
     "output_type": "execute_result"
    }
   ],
   "source": [
    "#I will calculate the revenue for all df\n",
    "df['revenue'] = df.apply(revenue, axis=1)\n",
    "df.head()"
   ]
  },
  {
   "cell_type": "markdown",
   "metadata": {
    "cellId": "42flprpb9hlxyk3nlhz74d"
   },
   "source": [
    "## Data analysis and description\n",
    "\n",
    "*Analyze the data. Describe the behavior of the operator's customers based on the sample. How many minutes of conversation, how many messages and how much Internet traffic do users of each tariff need per month? Calculate the mean, variance and standard deviation. Plot histograms. Describe the distributions.*"
   ]
  },
  {
   "cell_type": "code",
   "execution_count": 39,
   "metadata": {
    "cellId": "1jqv1449uuzr10fy370pls"
   },
   "outputs": [],
   "source": [
    "df_smart = df.query('tariff==\"smart\"')\n",
    "df_ultra = df.query('tariff==\"ultra\"')"
   ]
  },
  {
   "cell_type": "markdown",
   "metadata": {
    "cellId": "ehaohbwhifvuvl2n41hex"
   },
   "source": [
    "### Tariff Smart\n",
    "\n",
    "I will build histograms and a normal distribution, I will designate the limits in the tariff with a vertical dotted line on the graphs.\n",
    "\n",
    "#### Minutes"
   ]
  },
  {
   "cell_type": "code",
   "execution_count": 61,
   "metadata": {
    "cellId": "6y074xtwgb6mv397xerp2"
   },
   "outputs": [
    {
     "name": "stdout",
     "output_type": "stream",
     "text": [
      "Mean: 417.747533632287\n",
      "Variance: 36265.124153109864\n",
      "Standard deviation 190.43404147659595\n"
     ]
    }
   ],
   "source": [
    "print('Mean:',df_smart['duration'].mean())\n",
    "print('Variance:',np.var(df_smart['duration']))\n",
    "print('Standard deviation',np.std(df_smart['duration']))"
   ]
  },
  {
   "cell_type": "code",
   "execution_count": 41,
   "metadata": {},
   "outputs": [
    {
     "data": {
      "text/html": [
       "<div>\n",
       "<style scoped>\n",
       "    .dataframe tbody tr th:only-of-type {\n",
       "        vertical-align: middle;\n",
       "    }\n",
       "\n",
       "    .dataframe tbody tr th {\n",
       "        vertical-align: top;\n",
       "    }\n",
       "\n",
       "    .dataframe thead th {\n",
       "        text-align: right;\n",
       "    }\n",
       "</style>\n",
       "<table border=\"1\" class=\"dataframe\">\n",
       "  <thead>\n",
       "    <tr style=\"text-align: right;\">\n",
       "      <th></th>\n",
       "      <th>mean</th>\n",
       "      <th>var</th>\n",
       "      <th>std</th>\n",
       "    </tr>\n",
       "    <tr>\n",
       "      <th>tariff</th>\n",
       "      <th></th>\n",
       "      <th></th>\n",
       "      <th></th>\n",
       "    </tr>\n",
       "  </thead>\n",
       "  <tbody>\n",
       "    <tr>\n",
       "      <th>smart</th>\n",
       "      <td>417.75</td>\n",
       "      <td>36265.12</td>\n",
       "      <td>190.43</td>\n",
       "    </tr>\n",
       "    <tr>\n",
       "      <th>ultra</th>\n",
       "      <td>526.09</td>\n",
       "      <td>100950.01</td>\n",
       "      <td>317.73</td>\n",
       "    </tr>\n",
       "  </tbody>\n",
       "</table>\n",
       "</div>"
      ],
      "text/plain": [
       "         mean       var    std\n",
       "tariff                        \n",
       "smart  417.75  36265.12 190.43\n",
       "ultra  526.09 100950.01 317.73"
      ]
     },
     "execution_count": 41,
     "metadata": {},
     "output_type": "execute_result"
    }
   ],
   "source": [
    "df.groupby('tariff')['duration'].agg(\n",
    "    mean=(np.mean), var=(lambda x: np.var(x, ddof=0)), std=(lambda x: np.std(x, ddof=0)))"
   ]
  },
  {
   "cell_type": "code",
   "execution_count": 42,
   "metadata": {
    "cellId": "2pjdvq91ufj2194m823qdf"
   },
   "outputs": [
    {
     "data": {
      "image/png": "[encoded data removed]",
      "text/plain": [
       "<Figure size 432x288 with 1 Axes>"
      ]
     },
     "metadata": {
      "needs_background": "light"
     },
     "output_type": "display_data"
    }
   ],
   "source": [
    "fig = plt.figure()\n",
    "ax = fig.add_axes([0,0,1,1])\n",
    "value = df_smart['duration']\n",
    "ax.hist(value, color='lightblue', density=True, bins=50)\n",
    "plt.axvline(x=500, color='green', linestyle='--') #tariff limit\n",
    "x=range(0, value.max())\n",
    "plt.plot(x, scipy.stats.norm.pdf(x, value.mean(), np.std(value)), color='blue')\n",
    "plt.xlabel('min', fontsize=16)\n",
    "plt.title('Calls', fontsize=20)\n",
    "plt.show()"
   ]
  },
  {
   "cell_type": "markdown",
   "metadata": {
    "cellId": "xt2dmw5aichxfr1v9367"
   },
   "source": [
    "#### Messages"
   ]
  },
  {
   "cell_type": "code",
   "execution_count": 62,
   "metadata": {
    "cellId": "q9a3w35obxsyrem7y7i08"
   },
   "outputs": [
    {
     "name": "stdout",
     "output_type": "stream",
     "text": [
      "Mean: 33.36905829596412\n",
      "Variance: 796.597876691669\n",
      "Standart deviation 28.224065559229217\n"
     ]
    }
   ],
   "source": [
    "print('Mean:',df_smart['message_count'].mean())\n",
    "print('Variance:',np.var(df_smart['message_count']))\n",
    "print('Standart deviation',np.std(df_smart['message_count']))"
   ]
  },
  {
   "cell_type": "code",
   "execution_count": 44,
   "metadata": {
    "cellId": "kos9vk68autwl301qycna"
   },
   "outputs": [
    {
     "data": {
      "image/png": "[encoded data removed]",
      "text/plain": [
       "<Figure size 432x288 with 1 Axes>"
      ]
     },
     "metadata": {
      "needs_background": "light"
     },
     "output_type": "display_data"
    }
   ],
   "source": [
    "fig = plt.figure()\n",
    "ax = fig.add_axes([0,0,1,1])\n",
    "value = df_smart['message_count']\n",
    "ax.hist(value, color='salmon', density=True, bins=50, range=(1,value.max()))\n",
    "#the messages had the most gaps / zeros, I threw out zero values\n",
    "plt.axvline(x=50, color='green', linestyle='--') #tariff limit\n",
    "x=range(1, value.max())\n",
    "plt.plot(x, scipy.stats.norm.pdf(x, value.mean(), np.std(value)), color='blue')\n",
    "plt.xlabel('amount', fontsize=16)\n",
    "plt.title('Messages', fontsize=20)\n",
    "plt.show()"
   ]
  },
  {
   "cell_type": "markdown",
   "metadata": {
    "cellId": "sifal7siliaxpj3ryltksg"
   },
   "source": [
    "#### Internet traffic"
   ]
  },
  {
   "cell_type": "code",
   "execution_count": 63,
   "metadata": {
    "cellId": "itkeikhzdk9yq4qpvtk0yh"
   },
   "outputs": [
    {
     "name": "stdout",
     "output_type": "stream",
     "text": [
      "Mean: 16.32152466367713\n",
      "Variance: 33.11859498481772\n",
      "Standart deviation 5.754875757548352\n"
     ]
    }
   ],
   "source": [
    "print('Mean:',df_smart['gb_used'].mean())\n",
    "print('Variance:',np.var(df_smart['gb_used']))\n",
    "print('Standart deviation',np.std(df_smart['gb_used']))"
   ]
  },
  {
   "cell_type": "code",
   "execution_count": 46,
   "metadata": {
    "cellId": "xj4fiuvczoqdyopk7end1",
    "scrolled": false
   },
   "outputs": [
    {
     "data": {
      "image/png": "[encoded data removed]",
      "text/plain": [
       "<Figure size 432x288 with 1 Axes>"
      ]
     },
     "metadata": {
      "needs_background": "light"
     },
     "output_type": "display_data"
    }
   ],
   "source": [
    "fig = plt.figure()\n",
    "ax = fig.add_axes([0,0,1,1])\n",
    "value = df_smart['gb_used']\n",
    "ax.hist(value, color='lightsteelblue', density=True, bins=50)\n",
    "plt.axvline(x=15, color='red', linestyle='--') #tariff limit\n",
    "x=range(0, value.max())\n",
    "plt.plot(x, scipy.stats.norm.pdf(x, value.mean(), np.std(value)), color='purple')\n",
    "plt.xlabel('Gb', fontsize=16)\n",
    "plt.title('Internet', fontsize=20)\n",
    "plt.show()"
   ]
  },
  {
   "cell_type": "markdown",
   "metadata": {
    "cellId": "jgybt6grqoqgwvokq7wbhb"
   },
   "source": [
    "#### Conclusions:\n",
    "* average minutes: 418±190, messages: 33±28, traffic GB: 16±6\n",
    "* slightly more than half of users fit into the limits on calls\n",
    "* most of the users are within the message limits\n",
    "* slightly less than half of users have enough traffic per month\n",
    "* Calls and traffic are distributed normally, messages are shifted to the left with a large dispersion.\n",
    "\n",
    "### Tariff Ultra\n",
    "\n",
    "#### Minutes"
   ]
  },
  {
   "cell_type": "code",
   "execution_count": 64,
   "metadata": {
    "cellId": "2qj5axu6ceilxbh326l4ma"
   },
   "outputs": [
    {
     "name": "stdout",
     "output_type": "stream",
     "text": [
      "Mean: 526.0892494929006\n",
      "Variance: 100950.00623331098\n",
      "Standart deviation 317.7263071155912\n"
     ]
    }
   ],
   "source": [
    "print('Mean:',df_ultra['duration'].mean())\n",
    "print('Variance:',np.var(df_ultra['duration']))\n",
    "print('Standart deviation',np.std(df_ultra['duration']))"
   ]
  },
  {
   "cell_type": "code",
   "execution_count": 66,
   "metadata": {
    "cellId": "w8r34hg6brheh2721m15p"
   },
   "outputs": [
    {
     "data": {
      "image/png": "[encoded data removed]",
      "text/plain": [
       "<Figure size 432x288 with 1 Axes>"
      ]
     },
     "metadata": {
      "needs_background": "light"
     },
     "output_type": "display_data"
    }
   ],
   "source": [
    "fig = plt.figure()\n",
    "ax = fig.add_axes([0,0,1,1])\n",
    "value = df_ultra['duration']\n",
    "ax.hist(value, color='lightblue', density=True, bins=50)\n",
    "#plt.axvline(x=3000, color='green', linestyle='--') #tariff limit\n",
    "x=range(0, value.max())\n",
    "plt.plot(x, scipy.stats.norm.pdf(x, value.mean(), np.std(value)), color='blue')\n",
    "plt.xlabel('min', fontsize=16)\n",
    "plt.title('Calls', fontsize=20)\n",
    "plt.show()"
   ]
  },
  {
   "cell_type": "markdown",
   "metadata": {
    "cellId": "6jyxil3mphrzrglbp90mfm"
   },
   "source": [
    "#### Messages"
   ]
  },
  {
   "cell_type": "code",
   "execution_count": 67,
   "metadata": {
    "cellId": "0gw2yw364fb54ohzs8ye2h"
   },
   "outputs": [
    {
     "name": "stdout",
     "output_type": "stream",
     "text": [
      "Mean: 49.31338742393509\n",
      "Variance: 2283.0995570851965\n",
      "Standart deviation 47.781791061922284\n"
     ]
    }
   ],
   "source": [
    "print('Mean:',df_ultra['message_count'].mean())\n",
    "print('Variance:',np.var(df_ultra['message_count']))\n",
    "print('Standart deviation',np.std(df_ultra['message_count']))"
   ]
  },
  {
   "cell_type": "code",
   "execution_count": 50,
   "metadata": {
    "cellId": "eb2b1qwvxpzghzrnk0koe"
   },
   "outputs": [
    {
     "data": {
      "image/png": "[encoded data removed]",
      "text/plain": [
       "<Figure size 432x288 with 1 Axes>"
      ]
     },
     "metadata": {
      "needs_background": "light"
     },
     "output_type": "display_data"
    }
   ],
   "source": [
    "fig = plt.figure()\n",
    "ax = fig.add_axes([0,0,1,1])\n",
    "value = df_ultra['message_count']\n",
    "ax.hist(value, color='salmon', density=True, bins=50, range=(1,value.max()))\n",
    "#plt.axvline(x=1000, color='green', linestyle='--') #лимит тарифа\n",
    "x=range(1, value.max())\n",
    "plt.plot(x, scipy.stats.norm.pdf(x, value.mean(), np.std(value)), color='blue')\n",
    "plt.xlabel('amount', fontsize=16)\n",
    "plt.title('Messages', fontsize=20)\n",
    "plt.show()"
   ]
  },
  {
   "cell_type": "markdown",
   "metadata": {
    "cellId": "j8spbc312cpwebjrtr9t8"
   },
   "source": [
    "#### Internet traffic"
   ]
  },
  {
   "cell_type": "code",
   "execution_count": 68,
   "metadata": {
    "cellId": "ayv352lws79addcidmtaq6"
   },
   "outputs": [
    {
     "name": "stdout",
     "output_type": "stream",
     "text": [
      "Mean: 19.474645030425965\n",
      "Variance: 97.27978308900674\n",
      "Standdart deviation 9.863051408616236\n"
     ]
    }
   ],
   "source": [
    "print('Mean:',df_ultra['gb_used'].mean())\n",
    "print('Variance:',np.var(df_ultra['gb_used']))\n",
    "print('Standdart deviation',np.std(df_ultra['gb_used']))"
   ]
  },
  {
   "cell_type": "code",
   "execution_count": 52,
   "metadata": {
    "cellId": "vkuuyy9gvakstocbk8wvri"
   },
   "outputs": [
    {
     "data": {
      "image/png": "[encoded data removed]",
      "text/plain": [
       "<Figure size 432x288 with 1 Axes>"
      ]
     },
     "metadata": {
      "needs_background": "light"
     },
     "output_type": "display_data"
    }
   ],
   "source": [
    "fig = plt.figure()\n",
    "ax = fig.add_axes([0,0,1,1])\n",
    "value = df_ultra['gb_used']\n",
    "ax.hist(value, color='burlywood', density=True, bins=50)\n",
    "plt.axvline(x=30, color='red', linestyle='--') #tariff limit\n",
    "x=range(0, value.max())\n",
    "plt.plot(x, scipy.stats.norm.pdf(x, value.mean(), np.std(value)), color='purple')\n",
    "plt.xlabel('Gb', fontsize=16)\n",
    "plt.title('Internet', fontsize=20)\n",
    "plt.show()"
   ]
  },
  {
   "cell_type": "markdown",
   "metadata": {
    "cellId": "l0kk5dbeos0522329nxn64"
   },
   "source": [
    "#### Conclusions:\n",
    "* average minutes: 526±318, messages: 49±48, traffic GB: 19±10\n",
    "*Ultra tariff users do not exceed the limit on calls and messages\n",
    "* but only 2/3 users will have enough traffic\n",
    "* calls and traffic are distributed normally, messages are shifted to the left.\n",
    "\n",
    "## Hypothesis testing and clarification\n",
    "\n",
    "*Check hypotheses\n",
    "the average revenue of users of the \"Ultra\" and \"Smart\" tariffs differ;\n",
    "the average revenue of users from Moscow differs from the revenue of users from other regions.\n",
    "Set the threshold value alpha yourself.\n",
    "Explain:\n",
    "How did you formulate the null and alternative hypotheses?\n",
    "what criterion was used to test the hypotheses and why.*\n",
    "\n",
    "### Revenue of different tariffs"
   ]
  },
  {
   "cell_type": "code",
   "execution_count": 69,
   "metadata": {
    "cellId": "nzpxlv62944nm9sdf7yrm"
   },
   "outputs": [
    {
     "name": "stdout",
     "output_type": "stream",
     "text": [
      "Average Smart tariff revenue: 1290 ± 818\n",
      "Average Ultra tariff revenue: 2070 ± 376\n"
     ]
    }
   ],
   "source": [
    "print(f\"Average Smart tariff revenue: {df_smart['revenue'].mean():.0f} ± {np.std(df_smart['revenue']):.0f}\")\n",
    "print(f\"Average Ultra tariff revenue: {df_ultra['revenue'].mean():.0f} ± {np.std(df_ultra['revenue']):.0f}\")"
   ]
  },
  {
   "cell_type": "code",
   "execution_count": 54,
   "metadata": {
    "cellId": "6pogzhie0xwjp2uaiqnip"
   },
   "outputs": [
    {
     "data": {
      "text/plain": [
       "array([<AxesSubplot:title={'center':'revenue'}>], dtype=object)"
      ]
     },
     "execution_count": 54,
     "metadata": {},
     "output_type": "execute_result"
    },
    {
     "data": {
      "image/png": "[encoded data removed]",
      "text/plain": [
       "<Figure size 432x288 with 1 Axes>"
      ]
     },
     "metadata": {
      "needs_background": "light"
     },
     "output_type": "display_data"
    }
   ],
   "source": [
    "fig, ax = plt.subplots()\n",
    "df_smart.hist(column=['revenue'], ax=ax, alpha=0.9, range=(0,5000), bins=5)\n",
    "df_ultra.hist(column=['revenue'], ax=ax, color='red', alpha=0.5, range=(0,5000), bins=5)"
   ]
  },
  {
   "cell_type": "markdown",
   "metadata": {
    "cellId": "04mft5iqk137d2m5bqukym7"
   },
   "source": [
    "The average revenue of the Ultra tariff is higher. I'll do a statistical test.\n",
    "\n",
    "I will formulate hypotheses.\n",
    "\n",
    "Null hypothesis: the revenues of both tariffs are the same. An alternative one-sided hypothesis: the revenue of the Ultra tariff is greater than the average revenue of the Smart tariff."
   ]
  },
  {
   "cell_type": "code",
   "execution_count": 70,
   "metadata": {
    "cellId": "lc7s690k8osqsmhkm2onx"
   },
   "outputs": [
    {
     "name": "stdout",
     "output_type": "stream",
     "text": [
      "p-value:  1.927011394420941e-250\n",
      "Rejecting the null hypothesis\n"
     ]
    }
   ],
   "source": [
    "#Null hypothesis\n",
    "\n",
    "alpha = .05 # level of significance\n",
    "\n",
    "# if p-value is less than it, we reject the hypothesis\n",
    "# I will add the equal_var parameter. I already know that the dispersion is different \n",
    "# and the number of users of the smart tariff is almost 2 times more\n",
    "\n",
    "results = st.ttest_ind(df_smart['revenue'], df_ultra['revenue'], equal_var = False)\n",
    "\n",
    "print('p-value: ', results.pvalue)\n",
    "\n",
    "if results.pvalue < alpha:\n",
    "    print(\"Rejecting the null hypothesis\")\n",
    "else:\n",
    "    print(\"Failed to reject the null hypothesis\")"
   ]
  },
  {
   "cell_type": "code",
   "execution_count": 76,
   "metadata": {
    "cellId": "r6sx2ma6fxq7m4y6zlcplo"
   },
   "outputs": [
    {
     "name": "stdout",
     "output_type": "stream",
     "text": [
      "p-value: 5.470571110784552e-09\n",
      "Failed to reject the alternative hypothesis: the revenue is greater than the average revenue of the Smart tariff\n"
     ]
    }
   ],
   "source": [
    "#alternative hypothesis\n",
    "\n",
    "interested_value =  2001 #df_smart['revenue'].mean()\n",
    "\n",
    "# imagine that I did not just calculate the average for smart,\n",
    "# but found some sample mean and it is slightly different from the true mean\n",
    "\n",
    "alpha = 0.05\n",
    "re = df_ultra['revenue']\n",
    "results = st.ttest_1samp(df_ultra['revenue'], interested_value)\n",
    "\n",
    "print('p-value:', results.pvalue/2)\n",
    "\n",
    "if (results.pvalue/2 < alpha) and (df_ultra['revenue'].mean() > interested_value):\n",
    "    print(\"Failed to reject the alternative hypothesis: \\\n",
    "the revenue is greater than the average revenue of the Smart tariff\")\n",
    "\n",
    "else:\n",
    "    print(\"Rejecting the alternative hypothesis\")"
   ]
  },
  {
   "cell_type": "markdown",
   "metadata": {
    "cellId": "1zsue2sjafz7qxyqtvo1f"
   },
   "source": [
    "### Revenue from different cities."
   ]
  },
  {
   "cell_type": "code",
   "execution_count": 57,
   "metadata": {
    "cellId": "mde7pakge6ghahwflrx4t4"
   },
   "outputs": [],
   "source": [
    "df_moscow = df.query('city==\"Москва\"')\n",
    "df_region = df.query('city!=\"Москва\"')"
   ]
  },
  {
   "cell_type": "code",
   "execution_count": 79,
   "metadata": {
    "cellId": "8qu203lbc3hjap1jg7f8n"
   },
   "outputs": [
    {
     "name": "stdout",
     "output_type": "stream",
     "text": [
      "Average revenue in Moscow: 1547 ± 751\n",
      "Average revenue in the other cities: 1525 ± 809\n"
     ]
    }
   ],
   "source": [
    "print(f\"Average revenue in Moscow: {df_moscow['revenue'].mean():.0f} ± {np.std(df_moscow['revenue']):.0f}\")\n",
    "print(f\"Average revenue in the other cities: {df_region['revenue'].mean():.0f} ± {np.std(df_region['revenue']):.0f}\")"
   ]
  },
  {
   "cell_type": "markdown",
   "metadata": {
    "cellId": "vysnikr57dqfnktz5fodsp"
   },
   "source": [
    "Null hypothesis: the average revenue in Moscow and other cities is the same. Alternative: revenue is different."
   ]
  },
  {
   "cell_type": "code",
   "execution_count": 80,
   "metadata": {
    "cellId": "wr8agwtxdhmb8xn406yv5d"
   },
   "outputs": [
    {
     "name": "stdout",
     "output_type": "stream",
     "text": [
      "p-value:  0.5400751614511182\n",
      "Failed to reject the null hypothesis\n"
     ]
    }
   ],
   "source": [
    "#Null hypothesis\n",
    "\n",
    "alpha = .05 # significance level\n",
    "\n",
    "results = st.ttest_ind(df_moscow['revenue'], df_region['revenue'])\n",
    "\n",
    "print('p-value: ', results.pvalue)\n",
    "\n",
    "if results.pvalue < alpha:\n",
    "    print(\"Rejecting the null hypothesis\")\n",
    "else:\n",
    "    print(\"Failed to reject the null hypothesis\")"
   ]
  },
  {
   "cell_type": "markdown",
   "metadata": {
    "cellId": "83mi70hhcxjc25mtnyo3ip"
   },
   "source": [
    "### Conclusions\n",
    "* the Ultra tariff has more revenue\n",
    "* in Moscow and other cities, the revenue is the same\n",
    "* for null hypotheses I used the equal sign between the two means of the two populations\n",
    "* for alternative hypotheses, I used the one-sided hypothesis for the mean greater than the given value and the two-sided hypothesis about the inequality of the means of the two populations\n",
    "* I chose the threshold value of 5% as the most common, but this did not play a key role: the resulting p-values ​​were much less or more than the threshold.\n",
    "\n",
    "## General conclusion\n",
    "* conducted a preliminary analysis of tariffs on a small sample of customers\n",
    "* found out which tariff brings more money - Ultra\n",
    "* also found out that users in different cities spend about the same amount of money on mobile communications\n",
    "* users of the Ultra tariff have enough minutes and messages included in the tariff, but about a third of users pay for the Internet in excess of the tariff,\n",
    "* average spending of users with the Ultra tariff is close to the monthly fee\n",
    "* almost every second user of the Smart tariff does not have enough minutes, messages or traffic included in the tariff\n",
    "* the size of the average spending of users with the Smart tariff is equal to two monthly fees, but it is still less than the average revenue from the Ultra tariff"
   ]
  }
 ],
 "metadata": {
  "ExecuteTimeLog": [
   {
    "duration": 3,
    "start_time": "2022-01-19T17:42:24.766Z"
   },
   {
    "duration": 1058,
    "start_time": "2022-01-19T17:42:24.773Z"
   },
   {
    "duration": 1107,
    "start_time": "2022-01-19T17:42:25.832Z"
   },
   {
    "duration": 30,
    "start_time": "2022-01-19T17:42:26.941Z"
   },
   {
    "duration": 32,
    "start_time": "2022-01-19T17:42:26.973Z"
   },
   {
    "duration": 100,
    "start_time": "2022-01-19T17:42:27.007Z"
   },
   {
    "duration": 25,
    "start_time": "2022-01-19T17:42:27.110Z"
   },
   {
    "duration": 28,
    "start_time": "2022-01-19T17:42:27.136Z"
   },
   {
    "duration": 95,
    "start_time": "2022-01-19T17:42:27.167Z"
   },
   {
    "duration": 19,
    "start_time": "2022-01-19T17:42:27.264Z"
   },
   {
    "duration": 56,
    "start_time": "2022-01-19T17:42:27.285Z"
   },
   {
    "duration": 8,
    "start_time": "2022-01-19T17:42:27.343Z"
   },
   {
    "duration": 15,
    "start_time": "2022-01-19T17:42:27.353Z"
   },
   {
    "duration": 29,
    "start_time": "2022-01-19T17:42:27.371Z"
   },
   {
    "duration": 10,
    "start_time": "2022-01-19T17:42:27.403Z"
   },
   {
    "duration": 11,
    "start_time": "2022-01-19T17:42:27.415Z"
   },
   {
    "duration": 6,
    "start_time": "2022-01-19T17:42:27.428Z"
   },
   {
    "duration": 9,
    "start_time": "2022-01-19T17:42:27.436Z"
   },
   {
    "duration": 7,
    "start_time": "2022-01-19T17:42:27.447Z"
   },
   {
    "duration": 134,
    "start_time": "2022-01-19T17:42:27.455Z"
   },
   {
    "duration": 87,
    "start_time": "2022-01-19T17:42:27.591Z"
   },
   {
    "duration": 79,
    "start_time": "2022-01-19T17:42:27.680Z"
   },
   {
    "duration": 19,
    "start_time": "2022-01-19T17:42:27.761Z"
   },
   {
    "duration": 54,
    "start_time": "2022-01-19T17:42:27.808Z"
   },
   {
    "duration": 44,
    "start_time": "2022-01-19T17:42:27.864Z"
   },
   {
    "duration": 31,
    "start_time": "2022-01-19T17:42:27.909Z"
   },
   {
    "duration": 31,
    "start_time": "2022-01-19T17:42:27.942Z"
   },
   {
    "duration": 23,
    "start_time": "2022-01-19T17:42:27.975Z"
   },
   {
    "duration": 11,
    "start_time": "2022-01-19T17:42:28.000Z"
   },
   {
    "duration": 8,
    "start_time": "2022-01-19T17:42:28.013Z"
   },
   {
    "duration": 5,
    "start_time": "2022-01-19T17:42:28.023Z"
   },
   {
    "duration": 6,
    "start_time": "2022-01-19T17:42:28.030Z"
   },
   {
    "duration": 14,
    "start_time": "2022-01-19T17:42:28.038Z"
   },
   {
    "duration": 15,
    "start_time": "2022-01-19T17:42:28.054Z"
   },
   {
    "duration": 33,
    "start_time": "2022-01-19T17:42:28.071Z"
   },
   {
    "duration": 27,
    "start_time": "2022-01-19T17:42:28.106Z"
   },
   {
    "duration": 15,
    "start_time": "2022-01-19T17:42:28.135Z"
   },
   {
    "duration": 145,
    "start_time": "2022-01-19T17:42:28.152Z"
   },
   {
    "duration": 8,
    "start_time": "2022-01-19T17:42:28.298Z"
   },
   {
    "duration": 13,
    "start_time": "2022-01-19T17:42:28.307Z"
   },
   {
    "duration": 417,
    "start_time": "2022-01-19T17:42:28.322Z"
   },
   {
    "duration": 6,
    "start_time": "2022-01-19T17:42:28.741Z"
   },
   {
    "duration": 436,
    "start_time": "2022-01-19T17:42:28.749Z"
   },
   {
    "duration": 14,
    "start_time": "2022-01-19T17:42:29.187Z"
   },
   {
    "duration": 401,
    "start_time": "2022-01-19T17:42:29.203Z"
   },
   {
    "duration": 5,
    "start_time": "2022-01-19T17:42:29.605Z"
   },
   {
    "duration": 313,
    "start_time": "2022-01-19T17:42:29.612Z"
   },
   {
    "duration": 6,
    "start_time": "2022-01-19T17:42:29.927Z"
   },
   {
    "duration": 314,
    "start_time": "2022-01-19T17:42:29.934Z"
   },
   {
    "duration": 5,
    "start_time": "2022-01-19T17:42:30.250Z"
   },
   {
    "duration": 469,
    "start_time": "2022-01-19T17:42:30.257Z"
   },
   {
    "duration": 5,
    "start_time": "2022-01-19T17:42:30.727Z"
   },
   {
    "duration": 227,
    "start_time": "2022-01-19T17:42:30.733Z"
   },
   {
    "duration": 5,
    "start_time": "2022-01-19T17:42:30.962Z"
   },
   {
    "duration": 8,
    "start_time": "2022-01-19T17:42:30.969Z"
   },
   {
    "duration": 23,
    "start_time": "2022-01-19T17:42:30.978Z"
   },
   {
    "duration": 21,
    "start_time": "2022-01-19T17:42:31.003Z"
   },
   {
    "duration": 8,
    "start_time": "2022-01-19T17:42:31.026Z"
   },
   {
    "duration": 526,
    "start_time": "2022-01-19T18:27:56.002Z"
   },
   {
    "duration": 1086,
    "start_time": "2022-01-19T18:28:04.661Z"
   },
   {
    "duration": 573,
    "start_time": "2022-01-19T18:28:12.891Z"
   },
   {
    "duration": 29,
    "start_time": "2022-01-19T18:28:19.592Z"
   },
   {
    "duration": 12,
    "start_time": "2022-01-19T18:34:10.231Z"
   },
   {
    "duration": 4873,
    "start_time": "2022-01-19T18:34:35.873Z"
   },
   {
    "duration": 7,
    "start_time": "2022-01-19T18:34:54.820Z"
   },
   {
    "duration": 6,
    "start_time": "2022-01-19T18:35:14.162Z"
   },
   {
    "duration": 6,
    "start_time": "2022-01-19T18:35:36.701Z"
   },
   {
    "duration": 15117,
    "start_time": "2022-01-19T18:35:53.321Z"
   },
   {
    "duration": 4,
    "start_time": "2022-01-19T18:37:36.562Z"
   },
   {
    "duration": 10,
    "start_time": "2022-01-19T18:40:18.091Z"
   },
   {
    "duration": 9,
    "start_time": "2022-01-19T18:40:28.282Z"
   },
   {
    "duration": 343,
    "start_time": "2022-01-19T18:42:12.102Z"
   },
   {
    "duration": 2,
    "start_time": "2022-01-19T18:42:38.424Z"
   },
   {
    "duration": 1046,
    "start_time": "2022-01-19T18:42:38.434Z"
   },
   {
    "duration": 582,
    "start_time": "2022-01-19T18:42:39.482Z"
   },
   {
    "duration": 31,
    "start_time": "2022-01-19T18:42:40.066Z"
   },
   {
    "duration": 32,
    "start_time": "2022-01-19T18:42:40.099Z"
   },
   {
    "duration": 115,
    "start_time": "2022-01-19T18:42:40.132Z"
   },
   {
    "duration": 31,
    "start_time": "2022-01-19T18:42:40.249Z"
   },
   {
    "duration": 29,
    "start_time": "2022-01-19T18:42:40.282Z"
   },
   {
    "duration": 132,
    "start_time": "2022-01-19T18:42:40.316Z"
   },
   {
    "duration": 36,
    "start_time": "2022-01-19T18:42:40.451Z"
   },
   {
    "duration": 40,
    "start_time": "2022-01-19T18:42:40.489Z"
   },
   {
    "duration": 7,
    "start_time": "2022-01-19T18:42:40.531Z"
   },
   {
    "duration": 42,
    "start_time": "2022-01-19T18:42:40.539Z"
   },
   {
    "duration": 8,
    "start_time": "2022-01-19T18:42:40.583Z"
   },
   {
    "duration": 10,
    "start_time": "2022-01-19T18:42:40.593Z"
   },
   {
    "duration": 4,
    "start_time": "2022-01-19T18:42:40.605Z"
   },
   {
    "duration": 8,
    "start_time": "2022-01-19T18:42:40.611Z"
   },
   {
    "duration": 10,
    "start_time": "2022-01-19T18:42:40.622Z"
   },
   {
    "duration": 42,
    "start_time": "2022-01-19T18:42:40.634Z"
   },
   {
    "duration": 113,
    "start_time": "2022-01-19T18:42:40.678Z"
   },
   {
    "duration": 91,
    "start_time": "2022-01-19T18:42:40.793Z"
   },
   {
    "duration": 69,
    "start_time": "2022-01-19T18:42:40.885Z"
   },
   {
    "duration": 32,
    "start_time": "2022-01-19T18:42:40.955Z"
   },
   {
    "duration": 51,
    "start_time": "2022-01-19T18:42:40.990Z"
   },
   {
    "duration": 61,
    "start_time": "2022-01-19T18:42:41.043Z"
   },
   {
    "duration": 39,
    "start_time": "2022-01-19T18:42:41.106Z"
   },
   {
    "duration": 46,
    "start_time": "2022-01-19T18:42:41.147Z"
   },
   {
    "duration": 5,
    "start_time": "2022-01-19T18:42:41.194Z"
   },
   {
    "duration": 11,
    "start_time": "2022-01-19T18:42:41.201Z"
   },
   {
    "duration": 6,
    "start_time": "2022-01-19T18:42:41.214Z"
   },
   {
    "duration": 5,
    "start_time": "2022-01-19T18:42:41.222Z"
   },
   {
    "duration": 6,
    "start_time": "2022-01-19T18:42:41.228Z"
   },
   {
    "duration": 36,
    "start_time": "2022-01-19T18:42:41.236Z"
   },
   {
    "duration": 8,
    "start_time": "2022-01-19T18:42:41.273Z"
   },
   {
    "duration": 6,
    "start_time": "2022-01-19T18:42:41.283Z"
   },
   {
    "duration": 14,
    "start_time": "2022-01-19T18:42:41.291Z"
   },
   {
    "duration": 7,
    "start_time": "2022-01-19T18:42:41.307Z"
   },
   {
    "duration": 148,
    "start_time": "2022-01-19T18:42:41.316Z"
   },
   {
    "duration": 14,
    "start_time": "2022-01-19T18:42:41.466Z"
   },
   {
    "duration": 11,
    "start_time": "2022-01-19T18:42:41.482Z"
   },
   {
    "duration": 386,
    "start_time": "2022-01-19T18:42:41.494Z"
   },
   {
    "duration": 5,
    "start_time": "2022-01-19T18:42:41.882Z"
   },
   {
    "duration": 401,
    "start_time": "2022-01-19T18:42:41.889Z"
   },
   {
    "duration": 4,
    "start_time": "2022-01-19T18:42:42.292Z"
   },
   {
    "duration": 333,
    "start_time": "2022-01-19T18:42:42.298Z"
   },
   {
    "duration": 5,
    "start_time": "2022-01-19T18:42:42.632Z"
   },
   {
    "duration": 255,
    "start_time": "2022-01-19T18:42:42.639Z"
   },
   {
    "duration": 5,
    "start_time": "2022-01-19T18:42:42.896Z"
   },
   {
    "duration": 269,
    "start_time": "2022-01-19T18:42:42.903Z"
   },
   {
    "duration": 6,
    "start_time": "2022-01-19T18:42:43.174Z"
   },
   {
    "duration": 599,
    "start_time": "2022-01-19T18:42:43.182Z"
   },
   {
    "duration": 5,
    "start_time": "2022-01-19T18:42:43.783Z"
   },
   {
    "duration": 190,
    "start_time": "2022-01-19T18:42:43.790Z"
   },
   {
    "duration": 5,
    "start_time": "2022-01-19T18:42:43.981Z"
   },
   {
    "duration": 7,
    "start_time": "2022-01-19T18:42:43.988Z"
   },
   {
    "duration": 8,
    "start_time": "2022-01-19T18:42:43.997Z"
   },
   {
    "duration": 4,
    "start_time": "2022-01-19T18:42:44.007Z"
   },
   {
    "duration": 8,
    "start_time": "2022-01-19T18:42:44.013Z"
   },
   {
    "duration": 2,
    "start_time": "2022-01-19T18:44:36.435Z"
   },
   {
    "duration": 29,
    "start_time": "2022-01-19T18:44:41.438Z"
   },
   {
    "duration": 24,
    "start_time": "2022-01-19T18:44:48.575Z"
   },
   {
    "duration": 28,
    "start_time": "2022-01-19T18:45:07.686Z"
   },
   {
    "duration": 3,
    "start_time": "2022-01-19T18:47:30.084Z"
   },
   {
    "duration": 26,
    "start_time": "2022-01-19T18:47:35.190Z"
   },
   {
    "duration": 4,
    "start_time": "2022-01-19T18:50:52.419Z"
   },
   {
    "duration": 7,
    "start_time": "2022-01-19T18:53:11.556Z"
   },
   {
    "duration": 6,
    "start_time": "2022-01-19T18:53:17.034Z"
   },
   {
    "duration": 5,
    "start_time": "2022-01-19T18:53:19.504Z"
   },
   {
    "duration": 201,
    "start_time": "2022-01-19T18:53:22.995Z"
   },
   {
    "duration": 13,
    "start_time": "2022-01-19T18:54:33.589Z"
   },
   {
    "duration": 5,
    "start_time": "2022-01-19T18:55:39.054Z"
   },
   {
    "duration": 7,
    "start_time": "2022-01-19T18:55:45.954Z"
   },
   {
    "duration": 4,
    "start_time": "2022-01-19T18:56:30.112Z"
   },
   {
    "duration": 4,
    "start_time": "2022-01-19T18:56:43.715Z"
   },
   {
    "duration": 5,
    "start_time": "2022-01-19T18:56:48.893Z"
   },
   {
    "duration": 405,
    "start_time": "2022-01-19T18:56:54.190Z"
   },
   {
    "duration": 6,
    "start_time": "2022-01-19T18:56:58.864Z"
   },
   {
    "duration": 255,
    "start_time": "2022-01-19T18:57:03.748Z"
   },
   {
    "duration": 298,
    "start_time": "2022-01-19T18:57:06.383Z"
   },
   {
    "duration": 6,
    "start_time": "2022-01-19T18:57:16.389Z"
   },
   {
    "duration": 260,
    "start_time": "2022-01-19T18:57:35.195Z"
   },
   {
    "duration": 445,
    "start_time": "2022-01-19T18:57:39.474Z"
   },
   {
    "duration": 257,
    "start_time": "2022-01-19T18:58:32.684Z"
   },
   {
    "duration": 3,
    "start_time": "2022-01-19T18:58:50.234Z"
   },
   {
    "duration": 270,
    "start_time": "2022-01-19T18:59:02.294Z"
   },
   {
    "duration": 17,
    "start_time": "2022-01-19T19:01:05.747Z"
   },
   {
    "duration": 317,
    "start_time": "2022-01-19T19:01:22.045Z"
   },
   {
    "duration": 7,
    "start_time": "2022-01-19T19:03:24.909Z"
   },
   {
    "duration": 273,
    "start_time": "2022-01-19T19:03:49.383Z"
   },
   {
    "duration": 284,
    "start_time": "2022-01-19T19:03:59.194Z"
   },
   {
    "duration": 14,
    "start_time": "2022-01-19T19:04:03.464Z"
   },
   {
    "duration": 277,
    "start_time": "2022-01-19T19:04:14.626Z"
   },
   {
    "duration": 271,
    "start_time": "2022-01-19T19:04:18.844Z"
   },
   {
    "duration": 7,
    "start_time": "2022-01-19T19:04:30.126Z"
   },
   {
    "duration": 8,
    "start_time": "2022-01-19T19:05:33.553Z"
   },
   {
    "duration": 7,
    "start_time": "2022-01-19T19:05:49.486Z"
   },
   {
    "duration": 318,
    "start_time": "2022-01-19T19:06:00.184Z"
   },
   {
    "duration": 250,
    "start_time": "2022-01-19T19:06:06.424Z"
   },
   {
    "duration": 261,
    "start_time": "2022-01-19T19:06:35.344Z"
   },
   {
    "duration": 272,
    "start_time": "2022-01-19T19:06:41.774Z"
   },
   {
    "duration": 257,
    "start_time": "2022-01-19T19:06:50.246Z"
   },
   {
    "duration": 298,
    "start_time": "2022-01-19T19:07:05.843Z"
   },
   {
    "duration": 280,
    "start_time": "2022-01-19T19:07:22.744Z"
   },
   {
    "duration": 7,
    "start_time": "2022-01-19T19:07:30.493Z"
   },
   {
    "duration": 10,
    "start_time": "2022-01-19T19:09:16.077Z"
   },
   {
    "duration": 11,
    "start_time": "2022-01-19T19:09:24.468Z"
   },
   {
    "duration": 27,
    "start_time": "2022-01-19T19:09:34.084Z"
   },
   {
    "duration": 11,
    "start_time": "2022-01-19T19:09:41.054Z"
   },
   {
    "duration": 266,
    "start_time": "2022-01-19T19:09:46.985Z"
   },
   {
    "duration": 10,
    "start_time": "2022-01-19T19:09:51.774Z"
   },
   {
    "duration": 13,
    "start_time": "2022-01-19T19:10:00.433Z"
   },
   {
    "duration": 11,
    "start_time": "2022-01-19T19:10:08.965Z"
   },
   {
    "duration": 468,
    "start_time": "2022-01-19T19:11:06.309Z"
   },
   {
    "duration": 11,
    "start_time": "2022-01-19T19:13:20.613Z"
   },
   {
    "duration": 84,
    "start_time": "2022-01-19T19:14:11.583Z"
   },
   {
    "duration": 681,
    "start_time": "2022-01-19T19:14:19.554Z"
   },
   {
    "duration": 735,
    "start_time": "2022-01-19T19:14:26.525Z"
   },
   {
    "duration": 11,
    "start_time": "2022-01-19T19:14:32.364Z"
   },
   {
    "duration": 313,
    "start_time": "2022-01-19T19:16:10.974Z"
   },
   {
    "duration": 258,
    "start_time": "2022-01-19T19:16:18.505Z"
   },
   {
    "duration": 6,
    "start_time": "2022-01-19T19:16:42.765Z"
   },
   {
    "duration": 6,
    "start_time": "2022-01-19T19:16:48.135Z"
   },
   {
    "duration": 7,
    "start_time": "2022-01-19T19:16:51.614Z"
   },
   {
    "duration": 7,
    "start_time": "2022-01-19T19:17:05.555Z"
   },
   {
    "duration": 248,
    "start_time": "2022-01-19T19:17:13.765Z"
   },
   {
    "duration": 10,
    "start_time": "2022-01-19T19:17:17.434Z"
   },
   {
    "duration": 12,
    "start_time": "2022-01-19T19:17:32.725Z"
   },
   {
    "duration": 270,
    "start_time": "2022-01-19T19:17:44.795Z"
   },
   {
    "duration": 11,
    "start_time": "2022-01-19T19:17:48.724Z"
   },
   {
    "duration": 13,
    "start_time": "2022-01-19T19:18:12.424Z"
   },
   {
    "duration": 10,
    "start_time": "2022-01-19T19:18:16.755Z"
   },
   {
    "duration": 15,
    "start_time": "2022-01-19T19:18:25.994Z"
   },
   {
    "duration": 11,
    "start_time": "2022-01-19T19:18:40.477Z"
   },
   {
    "duration": 7,
    "start_time": "2022-01-19T19:21:36.715Z"
   },
   {
    "duration": 7,
    "start_time": "2022-01-19T19:21:45.965Z"
   },
   {
    "duration": 79,
    "start_time": "2022-01-19T19:21:56.382Z"
   },
   {
    "duration": 98,
    "start_time": "2022-01-19T19:22:02.694Z"
   },
   {
    "duration": 6,
    "start_time": "2022-01-19T19:22:07.074Z"
   },
   {
    "duration": 11,
    "start_time": "2022-01-19T19:22:46.634Z"
   },
   {
    "duration": 324,
    "start_time": "2022-01-19T19:23:12.914Z"
   },
   {
    "duration": 12,
    "start_time": "2022-01-19T19:23:21.904Z"
   },
   {
    "duration": 13,
    "start_time": "2022-01-19T19:23:51.997Z"
   },
   {
    "duration": 14,
    "start_time": "2022-01-19T19:24:26.318Z"
   },
   {
    "duration": 628,
    "start_time": "2022-01-19T19:25:56.983Z"
   },
   {
    "duration": 675,
    "start_time": "2022-01-19T19:26:33.915Z"
   },
   {
    "duration": 243,
    "start_time": "2022-01-19T19:26:46.995Z"
   },
   {
    "duration": 400,
    "start_time": "2022-01-19T19:27:56.749Z"
   },
   {
    "duration": 3,
    "start_time": "2022-01-19T19:28:19.953Z"
   },
   {
    "duration": 1083,
    "start_time": "2022-01-19T19:28:19.959Z"
   },
   {
    "duration": 3,
    "start_time": "2022-01-19T19:28:21.044Z"
   },
   {
    "duration": 578,
    "start_time": "2022-01-19T19:28:21.049Z"
   },
   {
    "duration": 28,
    "start_time": "2022-01-19T19:28:21.629Z"
   },
   {
    "duration": 27,
    "start_time": "2022-01-19T19:28:21.659Z"
   },
   {
    "duration": 99,
    "start_time": "2022-01-19T19:28:21.688Z"
   },
   {
    "duration": 24,
    "start_time": "2022-01-19T19:28:21.789Z"
   },
   {
    "duration": 27,
    "start_time": "2022-01-19T19:28:21.816Z"
   },
   {
    "duration": 85,
    "start_time": "2022-01-19T19:28:21.845Z"
   },
   {
    "duration": 21,
    "start_time": "2022-01-19T19:28:21.932Z"
   },
   {
    "duration": 68,
    "start_time": "2022-01-19T19:28:21.955Z"
   },
   {
    "duration": 11,
    "start_time": "2022-01-19T19:28:22.024Z"
   },
   {
    "duration": 35,
    "start_time": "2022-01-19T19:28:22.036Z"
   },
   {
    "duration": 4,
    "start_time": "2022-01-19T19:28:22.073Z"
   },
   {
    "duration": 6,
    "start_time": "2022-01-19T19:28:22.078Z"
   },
   {
    "duration": 5,
    "start_time": "2022-01-19T19:28:22.086Z"
   },
   {
    "duration": 6,
    "start_time": "2022-01-19T19:28:22.092Z"
   },
   {
    "duration": 16,
    "start_time": "2022-01-19T19:28:22.100Z"
   },
   {
    "duration": 5,
    "start_time": "2022-01-19T19:28:22.118Z"
   },
   {
    "duration": 135,
    "start_time": "2022-01-19T19:28:22.125Z"
   },
   {
    "duration": 84,
    "start_time": "2022-01-19T19:28:22.262Z"
   },
   {
    "duration": 72,
    "start_time": "2022-01-19T19:28:22.347Z"
   },
   {
    "duration": 19,
    "start_time": "2022-01-19T19:28:22.420Z"
   },
   {
    "duration": 67,
    "start_time": "2022-01-19T19:28:22.440Z"
   },
   {
    "duration": 37,
    "start_time": "2022-01-19T19:28:22.508Z"
   },
   {
    "duration": 44,
    "start_time": "2022-01-19T19:28:22.548Z"
   },
   {
    "duration": 26,
    "start_time": "2022-01-19T19:28:22.594Z"
   },
   {
    "duration": 5,
    "start_time": "2022-01-19T19:28:22.621Z"
   },
   {
    "duration": 13,
    "start_time": "2022-01-19T19:28:22.627Z"
   },
   {
    "duration": 7,
    "start_time": "2022-01-19T19:28:22.641Z"
   },
   {
    "duration": 5,
    "start_time": "2022-01-19T19:28:22.672Z"
   },
   {
    "duration": 7,
    "start_time": "2022-01-19T19:28:22.678Z"
   },
   {
    "duration": 6,
    "start_time": "2022-01-19T19:28:22.687Z"
   },
   {
    "duration": 15,
    "start_time": "2022-01-19T19:28:22.695Z"
   },
   {
    "duration": 10,
    "start_time": "2022-01-19T19:28:22.712Z"
   },
   {
    "duration": 11,
    "start_time": "2022-01-19T19:28:22.724Z"
   },
   {
    "duration": 13,
    "start_time": "2022-01-19T19:28:22.737Z"
   },
   {
    "duration": 21,
    "start_time": "2022-01-19T19:28:22.752Z"
   },
   {
    "duration": 200,
    "start_time": "2022-01-19T19:28:22.774Z"
   },
   {
    "duration": 8,
    "start_time": "2022-01-19T19:28:22.976Z"
   },
   {
    "duration": 5,
    "start_time": "2022-01-19T19:28:22.985Z"
   },
   {
    "duration": 11,
    "start_time": "2022-01-19T19:28:22.992Z"
   },
   {
    "duration": 441,
    "start_time": "2022-01-19T19:28:23.005Z"
   },
   {
    "duration": 5,
    "start_time": "2022-01-19T19:28:23.447Z"
   },
   {
    "duration": 396,
    "start_time": "2022-01-19T19:28:23.453Z"
   },
   {
    "duration": 5,
    "start_time": "2022-01-19T19:28:23.850Z"
   },
   {
    "duration": 369,
    "start_time": "2022-01-19T19:28:23.871Z"
   },
   {
    "duration": 5,
    "start_time": "2022-01-19T19:28:24.242Z"
   },
   {
    "duration": 256,
    "start_time": "2022-01-19T19:28:24.249Z"
   },
   {
    "duration": 6,
    "start_time": "2022-01-19T19:28:24.507Z"
   },
   {
    "duration": 242,
    "start_time": "2022-01-19T19:28:24.514Z"
   },
   {
    "duration": 14,
    "start_time": "2022-01-19T19:28:24.757Z"
   },
   {
    "duration": 348,
    "start_time": "2022-01-19T19:28:24.773Z"
   },
   {
    "duration": 5,
    "start_time": "2022-01-19T19:28:25.123Z"
   },
   {
    "duration": 194,
    "start_time": "2022-01-19T19:28:25.130Z"
   },
   {
    "duration": 5,
    "start_time": "2022-01-19T19:28:25.326Z"
   },
   {
    "duration": 8,
    "start_time": "2022-01-19T19:28:25.332Z"
   },
   {
    "duration": 12,
    "start_time": "2022-01-19T19:28:25.341Z"
   },
   {
    "duration": 20,
    "start_time": "2022-01-19T19:28:25.355Z"
   },
   {
    "duration": 7,
    "start_time": "2022-01-19T19:28:25.376Z"
   }
  ],
  "kernelspec": {
   "display_name": "Python 3 (ipykernel)",
   "language": "python",
   "name": "python3"
  },
  "language_info": {
   "codemirror_mode": {
    "name": "ipython",
    "version": 3
   },
   "file_extension": ".py",
   "mimetype": "text/x-python",
   "name": "python",
   "nbconvert_exporter": "python",
   "pygments_lexer": "ipython3",
   "version": "3.9.12"
  },
  "notebookId": "a9bab0ad-5a59-4d5c-9480-0ad568b503f4",
  "notebookPath": "da-ds-statistics.ipynb",
  "toc": {
   "base_numbering": 1,
   "nav_menu": {},
   "number_sections": true,
   "sideBar": true,
   "skip_h1_title": true,
   "title_cell": "Table of Contents",
   "title_sidebar": "Contents",
   "toc_cell": false,
   "toc_position": {},
   "toc_section_display": true,
   "toc_window_display": false
  }
 },
 "nbformat": 4,
 "nbformat_minor": 4
}
