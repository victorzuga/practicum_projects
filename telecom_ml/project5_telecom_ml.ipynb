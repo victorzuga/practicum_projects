{
 "cells": [
  {
   "cell_type": "markdown",
   "metadata": {
    "cellId": "lpzueyhcbukgi9q4jt5c"
   },
   "source": [
    "# Tariff recommendation\n",
    "\n",
    "At your disposal is data on the behavior of customers who have already switched to these tariffs. You need to build a model for the classification problem that will select the appropriate rate. Data preprocessing is not required - you have already done it.\n",
    "\n",
    "Build the model with the largest possible *accuracy* value. To pass the project successfully, you need to bring the percentage of correct answers to at least 0.75. Check *accuracy* on the test set yourself.\n",
    "\n",
    "_Project execution instructions_\n",
    "\n",
    "* _Open the data file and examine it._\n",
    "* _Divide the input data into training, validation and test sets._\n",
    "* _Explore the quality of different models by changing hyperparameters. Briefly write the findings of the study._\n",
    "* _Check the quality of the model on the test set._\n",
    "* _Additional task: check the models for sanity._\n",
    "\n",
    "## Open and examine the file"
   ]
  },
  {
   "cell_type": "code",
   "execution_count": 1,
   "metadata": {
    "cellId": "fzfb8ajcbkbq78b2zzzh5"
   },
   "outputs": [],
   "source": [
    "import pandas as pd\n",
    "\n",
    "from sklearn.tree import DecisionTreeClassifier\n",
    "from sklearn.ensemble import RandomForestClassifier\n",
    "from sklearn.linear_model import LogisticRegression\n",
    "from sklearn.model_selection import train_test_split\n",
    "from sklearn.metrics import accuracy_score\n",
    "from sklearn.dummy import DummyClassifier\n",
    "\n",
    "import warnings\n",
    "warnings.filterwarnings('ignore')"
   ]
  },
  {
   "cell_type": "code",
   "execution_count": 2,
   "metadata": {
    "cellId": "odi0ax5gqik9iqx14hdhq"
   },
   "outputs": [],
   "source": [
    "path ='/Users/vzuga/Documents/jupyter/'\n",
    "\n",
    "try:\n",
    "    df = pd.read_csv('users_behavior.csv')\n",
    "except:\n",
    "    df = pd.read_csv(path+'/datasets/users_behavior.csv')"
   ]
  },
  {
   "cell_type": "code",
   "execution_count": 3,
   "metadata": {
    "cellId": "5c3kcz5culte21q21yog44"
   },
   "outputs": [
    {
     "name": "stdout",
     "output_type": "stream",
     "text": [
      "<class 'pandas.core.frame.DataFrame'>\n",
      "RangeIndex: 3214 entries, 0 to 3213\n",
      "Data columns (total 5 columns):\n",
      " #   Column    Non-Null Count  Dtype  \n",
      "---  ------    --------------  -----  \n",
      " 0   calls     3214 non-null   float64\n",
      " 1   minutes   3214 non-null   float64\n",
      " 2   messages  3214 non-null   float64\n",
      " 3   mb_used   3214 non-null   float64\n",
      " 4   is_ultra  3214 non-null   int64  \n",
      "dtypes: float64(4), int64(1)\n",
      "memory usage: 125.7 KB\n",
      "\n"
     ]
    },
    {
     "data": {
      "text/html": [
       "<div>\n",
       "<style scoped>\n",
       "    .dataframe tbody tr th:only-of-type {\n",
       "        vertical-align: middle;\n",
       "    }\n",
       "\n",
       "    .dataframe tbody tr th {\n",
       "        vertical-align: top;\n",
       "    }\n",
       "\n",
       "    .dataframe thead th {\n",
       "        text-align: right;\n",
       "    }\n",
       "</style>\n",
       "<table border=\"1\" class=\"dataframe\">\n",
       "  <thead>\n",
       "    <tr style=\"text-align: right;\">\n",
       "      <th></th>\n",
       "      <th>calls</th>\n",
       "      <th>minutes</th>\n",
       "      <th>messages</th>\n",
       "      <th>mb_used</th>\n",
       "      <th>is_ultra</th>\n",
       "    </tr>\n",
       "  </thead>\n",
       "  <tbody>\n",
       "    <tr>\n",
       "      <th>0</th>\n",
       "      <td>40.0</td>\n",
       "      <td>311.90</td>\n",
       "      <td>83.0</td>\n",
       "      <td>19915.42</td>\n",
       "      <td>0</td>\n",
       "    </tr>\n",
       "    <tr>\n",
       "      <th>1</th>\n",
       "      <td>85.0</td>\n",
       "      <td>516.75</td>\n",
       "      <td>56.0</td>\n",
       "      <td>22696.96</td>\n",
       "      <td>0</td>\n",
       "    </tr>\n",
       "    <tr>\n",
       "      <th>2</th>\n",
       "      <td>77.0</td>\n",
       "      <td>467.66</td>\n",
       "      <td>86.0</td>\n",
       "      <td>21060.45</td>\n",
       "      <td>0</td>\n",
       "    </tr>\n",
       "    <tr>\n",
       "      <th>3</th>\n",
       "      <td>106.0</td>\n",
       "      <td>745.53</td>\n",
       "      <td>81.0</td>\n",
       "      <td>8437.39</td>\n",
       "      <td>1</td>\n",
       "    </tr>\n",
       "    <tr>\n",
       "      <th>4</th>\n",
       "      <td>66.0</td>\n",
       "      <td>418.74</td>\n",
       "      <td>1.0</td>\n",
       "      <td>14502.75</td>\n",
       "      <td>0</td>\n",
       "    </tr>\n",
       "  </tbody>\n",
       "</table>\n",
       "</div>"
      ],
      "text/plain": [
       "   calls  minutes  messages   mb_used  is_ultra\n",
       "0   40.0   311.90      83.0  19915.42         0\n",
       "1   85.0   516.75      56.0  22696.96         0\n",
       "2   77.0   467.66      86.0  21060.45         0\n",
       "3  106.0   745.53      81.0   8437.39         1\n",
       "4   66.0   418.74       1.0  14502.75         0"
      ]
     },
     "execution_count": 3,
     "metadata": {},
     "output_type": "execute_result"
    }
   ],
   "source": [
    "df.info()\n",
    "print()\n",
    "df.head()"
   ]
  },
  {
   "cell_type": "markdown",
   "metadata": {
    "cellId": "j8sk36c6gap9tel4dksb4d"
   },
   "source": [
    "The file contains the number of calls, minutes, messages, traffic and tariff for each user. Since the preprocessing has already been completed, I will not take any further actions.\n",
    "\n",
    "The 'calls' column appeared in this file, in the tariff determination project I did not create such a column (in fact, it is count), but used only the total minutes for each user.\n",
    "\n",
    "Just in case, I’ll check how the number of calls and minutes are related: are they proportional and are there any outliers."
   ]
  },
  {
   "cell_type": "code",
   "execution_count": 4,
   "metadata": {
    "cellId": "lpz9nmjglteio7ntdz5s4"
   },
   "outputs": [
    {
     "data": {
      "text/plain": [
       "<AxesSubplot:xlabel='calls', ylabel='minutes'>"
      ]
     },
     "execution_count": 4,
     "metadata": {},
     "output_type": "execute_result"
    },
    {
     "data": {
      "image/png": "[encoded data removed]",
      "text/plain": [
       "<Figure size 720x504 with 1 Axes>"
      ]
     },
     "metadata": {
      "needs_background": "light"
     },
     "output_type": "display_data"
    }
   ],
   "source": [
    "df.plot(kind='scatter', x='calls', y='minutes', alpha=0.5, s=5, figsize=(10,7))"
   ]
  },
  {
   "cell_type": "code",
   "execution_count": 5,
   "metadata": {
    "cellId": "idzu2csu4cj89e50an7e0m"
   },
   "outputs": [
    {
     "data": {
      "text/html": [
       "<div>\n",
       "<style scoped>\n",
       "    .dataframe tbody tr th:only-of-type {\n",
       "        vertical-align: middle;\n",
       "    }\n",
       "\n",
       "    .dataframe tbody tr th {\n",
       "        vertical-align: top;\n",
       "    }\n",
       "\n",
       "    .dataframe thead th {\n",
       "        text-align: right;\n",
       "    }\n",
       "</style>\n",
       "<table border=\"1\" class=\"dataframe\">\n",
       "  <thead>\n",
       "    <tr style=\"text-align: right;\">\n",
       "      <th></th>\n",
       "      <th>calls</th>\n",
       "      <th>minutes</th>\n",
       "    </tr>\n",
       "  </thead>\n",
       "  <tbody>\n",
       "    <tr>\n",
       "      <th>calls</th>\n",
       "      <td>1.000000</td>\n",
       "      <td>0.982083</td>\n",
       "    </tr>\n",
       "    <tr>\n",
       "      <th>minutes</th>\n",
       "      <td>0.982083</td>\n",
       "      <td>1.000000</td>\n",
       "    </tr>\n",
       "  </tbody>\n",
       "</table>\n",
       "</div>"
      ],
      "text/plain": [
       "            calls   minutes\n",
       "calls    1.000000  0.982083\n",
       "minutes  0.982083  1.000000"
      ]
     },
     "execution_count": 5,
     "metadata": {},
     "output_type": "execute_result"
    }
   ],
   "source": [
    "df[['calls','minutes']].corr()"
   ]
  },
  {
   "cell_type": "markdown",
   "metadata": {
    "cellId": "8vjubj3p1one0bwd9gn619"
   },
   "source": [
    "There are no outliers, almost 100% correlation."
   ]
  },
  {
   "cell_type": "markdown",
   "metadata": {
    "cellId": "7pwxzy7vx9mu03w7brm2tp"
   },
   "source": [
    "## Divide the data into samples\n",
    "I will divide the data into three parts in a ratio of 3:1:1 into training, test and validation samples, respectively."
   ]
  },
  {
   "cell_type": "code",
   "execution_count": 6,
   "metadata": {
    "cellId": "8i9jdexyoeyd3rfpiegmut"
   },
   "outputs": [],
   "source": [
    "#extract features and target\n",
    "features = df.drop(['is_ultra'], axis=1)\n",
    "target = df['is_ultra']"
   ]
  },
  {
   "cell_type": "code",
   "execution_count": 7,
   "metadata": {
    "cellId": "7ofhixw4z4rzpabai199qd"
   },
   "outputs": [],
   "source": [
    "#creating samples\n",
    "features_train_valid, features_test, target_train_valid, target_test = train_test_split(\n",
    "    features, target, test_size=.2, random_state=12345)\n",
    "\n",
    "features_train, features_valid, target_train, target_valid = train_test_split(\n",
    "    features_train_valid, target_train_valid, test_size=.25, random_state=12345)"
   ]
  },
  {
   "cell_type": "code",
   "execution_count": 8,
   "metadata": {
    "cellId": "env4wvvuipg6vqffcwg6l8"
   },
   "outputs": [
    {
     "name": "stdout",
     "output_type": "stream",
     "text": [
      "1928 643 643\n"
     ]
    }
   ],
   "source": [
    "#size check\n",
    "print(len(features_train), len(features_valid), len(features_test))"
   ]
  },
  {
   "cell_type": "markdown",
   "metadata": {
    "cellId": "0mmp7bq7lm5ipag957notzg"
   },
   "source": [
    "## Explore models\n",
    "\n",
    "### Decision tree"
   ]
  },
  {
   "cell_type": "code",
   "execution_count": 9,
   "metadata": {
    "cellId": "jwpjmus11qb1ddihao9sn3"
   },
   "outputs": [
    {
     "name": "stdout",
     "output_type": "stream",
     "text": [
      "Accuracy of the best model: 0.7744945567651633\n",
      "Depth: 7\n"
     ]
    }
   ],
   "source": [
    "result_tree = 0\n",
    "depth_tree = 0\n",
    "model_tree = None\n",
    "\n",
    "for depth in range(1, 30):\n",
    "    model = DecisionTreeClassifier(random_state=12345, max_depth=depth)\n",
    "    model.fit(features_train, target_train)\n",
    "    result = model.score(features_valid, target_valid)\n",
    "    \n",
    "    if result > result_tree:\n",
    "        result_tree = result\n",
    "        depth_tree = depth\n",
    "        model_tree = model\n",
    "        \n",
    "print(\"Accuracy of the best model:\", result_tree)\n",
    "print('Depth:', depth_tree)"
   ]
  },
  {
   "cell_type": "markdown",
   "metadata": {
    "cellId": "9lfxhl8d7dx29v3co859"
   },
   "source": [
    "### Random forest"
   ]
  },
  {
   "cell_type": "code",
   "execution_count": 10,
   "metadata": {
    "cellId": "dj7zb4me64l761funzhflk"
   },
   "outputs": [
    {
     "name": "stdout",
     "output_type": "stream",
     "text": [
      "Accuracy of the best model: 0.80248833592535\n",
      "Depth: 7\n",
      "Number of estimators: 20\n"
     ]
    }
   ],
   "source": [
    "result_forest = 0\n",
    "depth_forest = 0\n",
    "est_forest = 0\n",
    "model_forest = None\n",
    "\n",
    "for est in range(10, 51, 10):\n",
    "    for depth in range (1, 21):\n",
    "        model = RandomForestClassifier(random_state=12345, n_estimators=est, max_depth=depth)\n",
    "        model.fit(features_train, target_train)\n",
    "        result = model.score(features_valid, target_valid)\n",
    "        \n",
    "        if result > result_forest:\n",
    "            model_forest = model\n",
    "            result_forest = result\n",
    "            est_forest = est\n",
    "            depth_forest = depth_forest\n",
    "            \n",
    "print(\"Accuracy of the best model:\", result_forest)\n",
    "print('Depth:', depth_tree)\n",
    "print('Number of estimators:', est_forest)"
   ]
  },
  {
   "cell_type": "markdown",
   "metadata": {
    "cellId": "v5hx2lpj5npru9czh7t64e"
   },
   "source": [
    "### Logistic regression"
   ]
  },
  {
   "cell_type": "code",
   "execution_count": 11,
   "metadata": {
    "cellId": "0drm2nqaf39s55pfhs18zq"
   },
   "outputs": [
    {
     "name": "stdout",
     "output_type": "stream",
     "text": [
      "Accuracy: 0.7262830482115086\n"
     ]
    }
   ],
   "source": [
    "model_logic = LogisticRegression()\n",
    "model_logic.fit(features_train, target_train)\n",
    "result_logic = model_logic.score(features_valid, target_valid)    \n",
    "\n",
    "print('Accuracy:', result_logic)"
   ]
  },
  {
   "cell_type": "markdown",
   "metadata": {
    "cellId": "m6g4c7mojjmxwuxf6rgp2h"
   },
   "source": [
    "### Conclusions"
   ]
  },
  {
   "cell_type": "code",
   "execution_count": 12,
   "metadata": {
    "cellId": "wosjud6g9j1rv4yg9d3oe"
   },
   "outputs": [
    {
     "data": {
      "text/html": [
       "<style  type=\"text/css\" >\n",
       "</style><table id=\"T_d6834_\" ><thead>    <tr>        <th class=\"col_heading level0 col0\" >model</th>        <th class=\"col_heading level0 col1\" >accuracy_valid</th>    </tr></thead><tbody>\n",
       "                <tr>\n",
       "                                <td id=\"T_d6834_row0_col0\" class=\"data row0 col0\" >DecisionTree</td>\n",
       "                        <td id=\"T_d6834_row0_col1\" class=\"data row0 col1\" >0.774495</td>\n",
       "            </tr>\n",
       "            <tr>\n",
       "                                <td id=\"T_d6834_row1_col0\" class=\"data row1 col0\" >RandomForest</td>\n",
       "                        <td id=\"T_d6834_row1_col1\" class=\"data row1 col1\" >0.802488</td>\n",
       "            </tr>\n",
       "            <tr>\n",
       "                                <td id=\"T_d6834_row2_col0\" class=\"data row2 col0\" >LogisticRegression</td>\n",
       "                        <td id=\"T_d6834_row2_col1\" class=\"data row2 col1\" >0.726283</td>\n",
       "            </tr>\n",
       "    </tbody></table>"
      ],
      "text/plain": [
       "<pandas.io.formats.style.Styler at 0x162ff2850>"
      ]
     },
     "execution_count": 12,
     "metadata": {},
     "output_type": "execute_result"
    }
   ],
   "source": [
    "models = pd.DataFrame(data={'model':['DecisionTree','RandomForest','LogisticRegression'], \n",
    "                            'accuracy_valid':[result_tree, result_forest, result_logic]})\n",
    "models.style.hide_index()"
   ]
  },
  {
   "cell_type": "markdown",
   "metadata": {
    "cellId": "seyfun9ky3uyxan2e5nxp"
   },
   "source": [
    "* the best value of accuracy on the validation set was shown by the random forest model\n",
    "* logistic regression has the lowest accuracy\n",
    "* random forest was considered much longer than other models"
   ]
  },
  {
   "cell_type": "markdown",
   "metadata": {
    "cellId": "o1kvoia0t82m1wuah5r3e"
   },
   "source": [
    "## Check the model on the test set"
   ]
  },
  {
   "cell_type": "code",
   "execution_count": 13,
   "metadata": {
    "cellId": "eyoeowgnhrmf3azfsdxeod"
   },
   "outputs": [],
   "source": [
    "result_tree_test = model_tree.score(features_test, target_test)\n",
    "result_forest_test = model_forest.score(features_test, target_test)\n",
    "result_logic_test = model_logic.score(features_test, target_test)"
   ]
  },
  {
   "cell_type": "code",
   "execution_count": 14,
   "metadata": {
    "cellId": "xxaentj2m7daeegr4djeak"
   },
   "outputs": [
    {
     "data": {
      "text/html": [
       "<style  type=\"text/css\" >\n",
       "</style><table id=\"T_ac826_\" ><thead>    <tr>        <th class=\"col_heading level0 col0\" >model</th>        <th class=\"col_heading level0 col1\" >accuracy_valid</th>        <th class=\"col_heading level0 col2\" >accuracy_test</th>    </tr></thead><tbody>\n",
       "                <tr>\n",
       "                                <td id=\"T_ac826_row0_col0\" class=\"data row0 col0\" >DecisionTree</td>\n",
       "                        <td id=\"T_ac826_row0_col1\" class=\"data row0 col1\" >0.774495</td>\n",
       "                        <td id=\"T_ac826_row0_col2\" class=\"data row0 col2\" >0.788491</td>\n",
       "            </tr>\n",
       "            <tr>\n",
       "                                <td id=\"T_ac826_row1_col0\" class=\"data row1 col0\" >RandomForest</td>\n",
       "                        <td id=\"T_ac826_row1_col1\" class=\"data row1 col1\" >0.802488</td>\n",
       "                        <td id=\"T_ac826_row1_col2\" class=\"data row1 col2\" >0.785381</td>\n",
       "            </tr>\n",
       "            <tr>\n",
       "                                <td id=\"T_ac826_row2_col0\" class=\"data row2 col0\" >LogisticRegression</td>\n",
       "                        <td id=\"T_ac826_row2_col1\" class=\"data row2 col1\" >0.726283</td>\n",
       "                        <td id=\"T_ac826_row2_col2\" class=\"data row2 col2\" >0.758942</td>\n",
       "            </tr>\n",
       "    </tbody></table>"
      ],
      "text/plain": [
       "<pandas.io.formats.style.Styler at 0x163015100>"
      ]
     },
     "execution_count": 14,
     "metadata": {},
     "output_type": "execute_result"
    }
   ],
   "source": [
    "models['accuracy_test'] = pd.Series([result_tree_test, result_forest_test, result_logic_test])\n",
    "models.style.hide_index()"
   ]
  },
  {
   "cell_type": "markdown",
   "metadata": {
    "cellId": "uoq2ubqaru9lzk6ufvei5g"
   },
   "source": [
    "On the test set, the decision tree and logistic regression showed higher accuracy (underfitting), while the random forest model was overfitted."
   ]
  },
  {
   "cell_type": "markdown",
   "metadata": {
    "cellId": "hnu7p8k88qjrcahdh0ibis"
   },
   "source": [
    "## Check models for sanity"
   ]
  },
  {
   "cell_type": "markdown",
   "metadata": {
    "cellId": "p97u7skbnruzzkxa35abc"
   },
   "source": [
    "To check for adequacy, I will use a model that will produce a target feature regardless of the input features."
   ]
  },
  {
   "cell_type": "code",
   "execution_count": 15,
   "metadata": {
    "cellId": "9nwgrve7ibt2qozlo2dlzi"
   },
   "outputs": [
    {
     "data": {
      "text/plain": [
       "0.30647168637212197"
      ]
     },
     "execution_count": 15,
     "metadata": {},
     "output_type": "execute_result"
    }
   ],
   "source": [
    "df['is_ultra'].mean()"
   ]
  },
  {
   "cell_type": "markdown",
   "metadata": {
    "cellId": "9l68ynuqmhb8y7hdhk9ltx"
   },
   "source": [
    "The actual every third value in the target is one. To begin with, I will compare with the model, which will give the most frequently occurring value from the target (in this case, zero)."
   ]
  },
  {
   "cell_type": "code",
   "execution_count": 16,
   "metadata": {
    "cellId": "vqjbd3yew8a85i6nlc12jo"
   },
   "outputs": [
    {
     "data": {
      "text/plain": [
       "0.6951788491446346"
      ]
     },
     "execution_count": 16,
     "metadata": {},
     "output_type": "execute_result"
    }
   ],
   "source": [
    "model_dummy = DummyClassifier()\n",
    "model_dummy.fit(features_train, target_train)\n",
    "result_dummy = model_dummy.score(features_test, target_test)\n",
    "result_dummy"
   ]
  },
  {
   "cell_type": "markdown",
   "metadata": {
    "cellId": "q3aywf1wetpcgo151neqm"
   },
   "source": [
    "And compare with a random model (randomly produces zero or one with the same probability)."
   ]
  },
  {
   "cell_type": "code",
   "execution_count": 17,
   "metadata": {
    "cellId": "h791mzrr00s0kanazn25dl"
   },
   "outputs": [
    {
     "data": {
      "text/plain": [
       "0.4727838258164852"
      ]
     },
     "execution_count": 17,
     "metadata": {},
     "output_type": "execute_result"
    }
   ],
   "source": [
    "model_dummy = DummyClassifier(strategy='uniform')\n",
    "model_dummy.fit(features_train, target_train)\n",
    "result_dummy = model_dummy.score(features_test, target_test)\n",
    "result_dummy"
   ]
  },
  {
   "cell_type": "code",
   "execution_count": 18,
   "metadata": {
    "cellId": "h791mzrr00s0kanazn25dl"
   },
   "outputs": [
    {
     "data": {
      "text/plain": [
       "0.6951788491446346"
      ]
     },
     "execution_count": 18,
     "metadata": {},
     "output_type": "execute_result"
    }
   ],
   "source": [
    "model_dummy = DummyClassifier(strategy='most_frequent')\n",
    "model_dummy.fit(features_train, target_train)\n",
    "result_dummy = model_dummy.score(features_test, target_test)\n",
    "result_dummy"
   ]
  },
  {
   "cell_type": "markdown",
   "metadata": {
    "cellId": "6xubxjmfn245xrnsqoih9"
   },
   "source": [
    "The accuracy of all models is higher than the accuracy of dummy models.\n",
    "\n",
    "## Conclusion\n",
    "\n",
    "* three models were built for the problem of tariff classification\n",
    "* all models showed an accuracy greater than or equal to 0.75 on the test set\n",
    "* the decision tree model turned out to be the most successful - the accuracy is like that of a random forest, but the speed is higher\n",
    "* all models have been tested for adequacy and found to be adequate"
   ]
  }
 ],
 "metadata": {
  "ExecuteTimeLog": [
   {
    "duration": 392,
    "start_time": "2022-02-09T08:07:52.812Z"
   },
   {
    "duration": 4,
    "start_time": "2022-02-09T08:08:05.653Z"
   },
   {
    "duration": 6515,
    "start_time": "2022-02-09T08:08:05.659Z"
   },
   {
    "duration": 1482,
    "start_time": "2022-02-09T08:08:12.179Z"
   },
   {
    "duration": 225,
    "start_time": "2022-02-09T08:08:13.663Z"
   },
   {
    "duration": 27,
    "start_time": "2022-02-09T08:08:13.891Z"
   },
   {
    "duration": 650,
    "start_time": "2022-02-09T08:08:13.920Z"
   },
   {
    "duration": 12,
    "start_time": "2022-02-09T08:08:14.572Z"
   },
   {
    "duration": 5,
    "start_time": "2022-02-09T08:08:14.587Z"
   },
   {
    "duration": 9,
    "start_time": "2022-02-09T08:08:14.595Z"
   },
   {
    "duration": 5,
    "start_time": "2022-02-09T08:08:14.606Z"
   },
   {
    "duration": 228,
    "start_time": "2022-02-09T08:08:14.614Z"
   },
   {
    "duration": 12842,
    "start_time": "2022-02-09T08:08:14.845Z"
   },
   {
    "duration": 45,
    "start_time": "2022-02-09T08:08:27.690Z"
   },
   {
    "duration": 727,
    "start_time": "2022-02-09T08:08:27.738Z"
   },
   {
    "duration": 18,
    "start_time": "2022-02-09T08:08:28.468Z"
   },
   {
    "duration": 8,
    "start_time": "2022-02-09T08:08:28.488Z"
   },
   {
    "duration": 7,
    "start_time": "2022-02-09T08:08:28.499Z"
   },
   {
    "duration": 16,
    "start_time": "2022-02-09T08:08:28.508Z"
   },
   {
    "duration": 37,
    "start_time": "2022-02-09T08:08:28.526Z"
   },
   {
    "duration": 36,
    "start_time": "2022-02-09T08:08:58.278Z"
   },
   {
    "duration": 322,
    "start_time": "2022-02-09T08:09:03.252Z"
   },
   {
    "duration": 232,
    "start_time": "2022-02-09T08:09:49.342Z"
   },
   {
    "duration": 8,
    "start_time": "2022-02-09T08:12:10.732Z"
   },
   {
    "duration": 8,
    "start_time": "2022-02-09T08:13:54.092Z"
   },
   {
    "duration": 9,
    "start_time": "2022-02-09T08:13:56.653Z"
   },
   {
    "duration": 4,
    "start_time": "2022-02-09T08:16:11.333Z"
   },
   {
    "duration": 3184,
    "start_time": "2022-02-09T08:16:11.341Z"
   },
   {
    "duration": 1353,
    "start_time": "2022-02-09T08:16:14.528Z"
   },
   {
    "duration": 236,
    "start_time": "2022-02-09T08:16:15.884Z"
   },
   {
    "duration": 29,
    "start_time": "2022-02-09T08:16:16.122Z"
   },
   {
    "duration": 638,
    "start_time": "2022-02-09T08:16:16.154Z"
   },
   {
    "duration": 14,
    "start_time": "2022-02-09T08:16:16.795Z"
   },
   {
    "duration": 6,
    "start_time": "2022-02-09T08:16:16.812Z"
   },
   {
    "duration": 45,
    "start_time": "2022-02-09T08:16:16.823Z"
   },
   {
    "duration": 5,
    "start_time": "2022-02-09T08:16:16.871Z"
   },
   {
    "duration": 335,
    "start_time": "2022-02-09T08:16:16.879Z"
   },
   {
    "duration": 12865,
    "start_time": "2022-02-09T08:16:17.217Z"
   },
   {
    "duration": 44,
    "start_time": "2022-02-09T08:16:30.085Z"
   },
   {
    "duration": 661,
    "start_time": "2022-02-09T08:16:30.132Z"
   },
   {
    "duration": 18,
    "start_time": "2022-02-09T08:16:30.796Z"
   },
   {
    "duration": 8,
    "start_time": "2022-02-09T08:16:30.817Z"
   },
   {
    "duration": 35,
    "start_time": "2022-02-09T08:16:30.828Z"
   },
   {
    "duration": 22,
    "start_time": "2022-02-09T08:16:30.865Z"
   },
   {
    "duration": 11,
    "start_time": "2022-02-09T08:16:30.889Z"
   },
   {
    "duration": 27,
    "start_time": "2022-02-09T08:16:30.902Z"
   }
  ],
  "kernelspec": {
   "display_name": "Python 3 (ipykernel)",
   "language": "python",
   "name": "python3"
  },
  "language_info": {
   "codemirror_mode": {
    "name": "ipython",
    "version": 3
   },
   "file_extension": ".py",
   "mimetype": "text/x-python",
   "name": "python",
   "nbconvert_exporter": "python",
   "pygments_lexer": "ipython3",
   "version": "3.9.12"
  },
  "notebookId": "dbf512cf-3c0d-491c-b71d-35acde1dba33",
  "notebookPath": "ds-intro-ml.ipynb",
  "toc": {
   "base_numbering": 1,
   "nav_menu": {},
   "number_sections": true,
   "sideBar": true,
   "skip_h1_title": true,
   "title_cell": "Table of Contents",
   "title_sidebar": "Contents",
   "toc_cell": false,
   "toc_position": {},
   "toc_section_display": true,
   "toc_window_display": false
  }
 },
 "nbformat": 4,
 "nbformat_minor": 4
}
