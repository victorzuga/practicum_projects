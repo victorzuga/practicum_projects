{
 "cells": [
  {
   "cell_type": "markdown",
   "metadata": {
    "id": "E0vqbgi9ay0H"
   },
   "source": [
    "# Yandex.Music"
   ]
  },
  {
   "cell_type": "markdown",
   "metadata": {
    "id": "VUC88oWjTJw2"
   },
   "source": [
    "Comparison of Moscow and St. Petersburg is surrounded by myths. For example:\n",
    " * Moscow is a metropolis subject to the rigid rhythm of the working week;\n",
    " * St. Petersburg is a cultural capital, with its own tastes.\n",
    "\n",
    "Using Yandex.Music data, you will compare the behavior of users in the two capitals.\n",
    "\n",
    "**Research Purpose** - Test three hypotheses:\n",
    "1. User activity depends on the day of the week. Moreover, in Moscow and St. Petersburg this manifests itself in different ways.\n",
    "2. On Monday morning, certain genres prevail in Moscow, while others prevail in St. Petersburg. Similarly, Friday evenings are dominated by different genres, depending on the city.\n",
    "3. Moscow and St. Petersburg prefer different genres of music. In Moscow, they listen to pop music more often, in St. Petersburg - Russian rap.\n",
    "\n",
    "**Research Progress**\n",
    "\n",
    "You will receive data on user behavior from the `yandex_music_project.csv` file. Nothing is known about the quality of the data. Therefore, before testing hypotheses, a review of the data is needed.\n",
    "\n",
    "You will check the data for errors and assess their impact on the study. Then, during the pre-processing phase, you will look for opportunities to correct the most critical data errors.\n",
    " \n",
    "Thus, the study will take place in three stages:\n",
    " 1. Data review.\n",
    " 2. Data preprocessing.\n",
    " 3. Hypothesis testing.\n"
   ]
  },
  {
   "cell_type": "markdown",
   "metadata": {
    "id": "Ml1hmfXC_Zcs"
   },
   "source": [
    "## Browse data\n",
    "\n",
    "Get the first idea about Yandex.Music data."
   ]
  },
  {
   "cell_type": "markdown",
   "metadata": {
    "id": "57eAOGIz_Zcs"
   },
   "source": [
    "The main analytics tool is `pandas`. Import this library."
   ]
  },
  {
   "cell_type": "code",
   "execution_count": 1,
   "metadata": {
    "id": "AXN7PHPN_Zcs"
   },
   "outputs": [],
   "source": [
    "import pandas as pd"
   ]
  },
  {
   "cell_type": "markdown",
   "metadata": {
    "id": "SG23P8tt_Zcs"
   },
   "source": [
    "Read the `yandex_music_project.csv` file from the `/datasets` folder and save it in the `df` variable:"
   ]
  },
  {
   "cell_type": "code",
   "execution_count": 2,
   "metadata": {
    "id": "fFVu7vqh_Zct"
   },
   "outputs": [],
   "source": [
    "df = pd.read_csv('/datasets/yandex_music_project.csv')"
   ]
  },
  {
   "cell_type": "markdown",
   "metadata": {
    "id": "rDoOMd3uTqnZ"
   },
   "source": [
    "Display the first ten rows of the table:"
   ]
  },
  {
   "cell_type": "code",
   "execution_count": 3,
   "metadata": {
    "id": "oWTVX3gW_Zct",
    "scrolled": true
   },
   "outputs": [
    {
     "data": {
      "text/html": [
       "<div>\n",
       "<style scoped>\n",
       "    .dataframe tbody tr th:only-of-type {\n",
       "        vertical-align: middle;\n",
       "    }\n",
       "\n",
       "    .dataframe tbody tr th {\n",
       "        vertical-align: top;\n",
       "    }\n",
       "\n",
       "    .dataframe thead th {\n",
       "        text-align: right;\n",
       "    }\n",
       "</style>\n",
       "<table border=\"1\" class=\"dataframe\">\n",
       "  <thead>\n",
       "    <tr style=\"text-align: right;\">\n",
       "      <th></th>\n",
       "      <th>userID</th>\n",
       "      <th>Track</th>\n",
       "      <th>artist</th>\n",
       "      <th>genre</th>\n",
       "      <th>City</th>\n",
       "      <th>time</th>\n",
       "      <th>Day</th>\n",
       "    </tr>\n",
       "  </thead>\n",
       "  <tbody>\n",
       "    <tr>\n",
       "      <th>0</th>\n",
       "      <td>FFB692EC</td>\n",
       "      <td>Kamigata To Boots</td>\n",
       "      <td>The Mass Missile</td>\n",
       "      <td>rock</td>\n",
       "      <td>Saint-Petersburg</td>\n",
       "      <td>20:28:33</td>\n",
       "      <td>Wednesday</td>\n",
       "    </tr>\n",
       "    <tr>\n",
       "      <th>1</th>\n",
       "      <td>55204538</td>\n",
       "      <td>Delayed Because of Accident</td>\n",
       "      <td>Andreas Rönnberg</td>\n",
       "      <td>rock</td>\n",
       "      <td>Moscow</td>\n",
       "      <td>14:07:09</td>\n",
       "      <td>Friday</td>\n",
       "    </tr>\n",
       "    <tr>\n",
       "      <th>2</th>\n",
       "      <td>20EC38</td>\n",
       "      <td>Funiculì funiculà</td>\n",
       "      <td>Mario Lanza</td>\n",
       "      <td>pop</td>\n",
       "      <td>Saint-Petersburg</td>\n",
       "      <td>20:58:07</td>\n",
       "      <td>Wednesday</td>\n",
       "    </tr>\n",
       "    <tr>\n",
       "      <th>3</th>\n",
       "      <td>A3DD03C9</td>\n",
       "      <td>Dragons in the Sunset</td>\n",
       "      <td>Fire + Ice</td>\n",
       "      <td>folk</td>\n",
       "      <td>Saint-Petersburg</td>\n",
       "      <td>08:37:09</td>\n",
       "      <td>Monday</td>\n",
       "    </tr>\n",
       "    <tr>\n",
       "      <th>4</th>\n",
       "      <td>E2DC1FAE</td>\n",
       "      <td>Soul People</td>\n",
       "      <td>Space Echo</td>\n",
       "      <td>dance</td>\n",
       "      <td>Moscow</td>\n",
       "      <td>08:34:34</td>\n",
       "      <td>Monday</td>\n",
       "    </tr>\n",
       "    <tr>\n",
       "      <th>5</th>\n",
       "      <td>842029A1</td>\n",
       "      <td>Преданная</td>\n",
       "      <td>IMPERVTOR</td>\n",
       "      <td>rusrap</td>\n",
       "      <td>Saint-Petersburg</td>\n",
       "      <td>13:09:41</td>\n",
       "      <td>Friday</td>\n",
       "    </tr>\n",
       "    <tr>\n",
       "      <th>6</th>\n",
       "      <td>4CB90AA5</td>\n",
       "      <td>True</td>\n",
       "      <td>Roman Messer</td>\n",
       "      <td>dance</td>\n",
       "      <td>Moscow</td>\n",
       "      <td>13:00:07</td>\n",
       "      <td>Wednesday</td>\n",
       "    </tr>\n",
       "    <tr>\n",
       "      <th>7</th>\n",
       "      <td>F03E1C1F</td>\n",
       "      <td>Feeling This Way</td>\n",
       "      <td>Polina Griffith</td>\n",
       "      <td>dance</td>\n",
       "      <td>Moscow</td>\n",
       "      <td>20:47:49</td>\n",
       "      <td>Wednesday</td>\n",
       "    </tr>\n",
       "    <tr>\n",
       "      <th>8</th>\n",
       "      <td>8FA1D3BE</td>\n",
       "      <td>И вновь продолжается бой</td>\n",
       "      <td>NaN</td>\n",
       "      <td>ruspop</td>\n",
       "      <td>Moscow</td>\n",
       "      <td>09:17:40</td>\n",
       "      <td>Friday</td>\n",
       "    </tr>\n",
       "    <tr>\n",
       "      <th>9</th>\n",
       "      <td>E772D5C0</td>\n",
       "      <td>Pessimist</td>\n",
       "      <td>NaN</td>\n",
       "      <td>dance</td>\n",
       "      <td>Saint-Petersburg</td>\n",
       "      <td>21:20:49</td>\n",
       "      <td>Wednesday</td>\n",
       "    </tr>\n",
       "  </tbody>\n",
       "</table>\n",
       "</div>"
      ],
      "text/plain": [
       "     userID                        Track            artist   genre  \\\n",
       "0  FFB692EC            Kamigata To Boots  The Mass Missile    rock   \n",
       "1  55204538  Delayed Because of Accident  Andreas Rönnberg    rock   \n",
       "2    20EC38            Funiculì funiculà       Mario Lanza     pop   \n",
       "3  A3DD03C9        Dragons in the Sunset        Fire + Ice    folk   \n",
       "4  E2DC1FAE                  Soul People        Space Echo   dance   \n",
       "5  842029A1                    Преданная         IMPERVTOR  rusrap   \n",
       "6  4CB90AA5                         True      Roman Messer   dance   \n",
       "7  F03E1C1F             Feeling This Way   Polina Griffith   dance   \n",
       "8  8FA1D3BE     И вновь продолжается бой               NaN  ruspop   \n",
       "9  E772D5C0                    Pessimist               NaN   dance   \n",
       "\n",
       "             City        time        Day  \n",
       "0  Saint-Petersburg  20:28:33  Wednesday  \n",
       "1            Moscow  14:07:09     Friday  \n",
       "2  Saint-Petersburg  20:58:07  Wednesday  \n",
       "3  Saint-Petersburg  08:37:09     Monday  \n",
       "4            Moscow  08:34:34     Monday  \n",
       "5  Saint-Petersburg  13:09:41     Friday  \n",
       "6            Moscow  13:00:07  Wednesday  \n",
       "7            Moscow  20:47:49  Wednesday  \n",
       "8            Moscow  09:17:40     Friday  \n",
       "9  Saint-Petersburg  21:20:49  Wednesday  "
      ]
     },
     "execution_count": 3,
     "metadata": {},
     "output_type": "execute_result"
    }
   ],
   "source": [
    "df.head(10)"
   ]
  },
  {
   "cell_type": "markdown",
   "metadata": {
    "id": "EO73Kwic_Zct"
   },
   "source": [
    "One command to get general information about the table:"
   ]
  },
  {
   "cell_type": "code",
   "execution_count": 4,
   "metadata": {
    "id": "DSf2kIb-_Zct"
   },
   "outputs": [
    {
     "name": "stdout",
     "output_type": "stream",
     "text": [
      "<class 'pandas.core.frame.DataFrame'>\n",
      "RangeIndex: 65079 entries, 0 to 65078\n",
      "Data columns (total 7 columns):\n",
      " #   Column    Non-Null Count  Dtype \n",
      "---  ------    --------------  ----- \n",
      " 0     userID  65079 non-null  object\n",
      " 1   Track     63848 non-null  object\n",
      " 2   artist    57876 non-null  object\n",
      " 3   genre     63881 non-null  object\n",
      " 4     City    65079 non-null  object\n",
      " 5   time      65079 non-null  object\n",
      " 6   Day       65079 non-null  object\n",
      "dtypes: object(7)\n",
      "memory usage: 3.5+ MB\n"
     ]
    }
   ],
   "source": [
    "df.info()"
   ]
  },
  {
   "cell_type": "markdown",
   "metadata": {
    "id": "TaQ2Iwbr_Zct"
   },
   "source": [
    "So the table has seven columns. The data type in all columns is `object`.\n",
    "\n",
    "According to the data documentation:\n",
    "* `userID` - user ID;\n",
    "* `Track` — track name;\n",
    "* `artist` — artist name;\n",
    "* `genre` — genre name;\n",
    "* `City` - user's city;\n",
    "* `time` - start time of listening;\n",
    "* `Day` is the day of the week.\n",
    "\n",
    "There are three style violations in the column headings:\n",
    "1. Lowercase letters are combined with uppercase.\n",
    "2. There are gaps.\n",
    "\n",
    "The number of values in the columns varies. This means there are missing values in the data."
   ]
  },
  {
   "cell_type": "markdown",
   "metadata": {
    "id": "MCB6-dXG_Zct"
   },
   "source": [
    "**Conclusions**\n",
    "\n",
    "Each line of the table contains data about the track you have listened to. Some of the columns describe the composition itself: title, artist and genre. The rest of the data tells about the user: what city he is from, when he listened to music.\n",
    "\n",
    "Preliminarily, it can be argued that there is enough data to test hypotheses. But there are gaps in the data, and discrepancies in the names of the columns with good style.\n",
    "\n",
    "To move forward, you need to fix problems in the data."
   ]
  },
  {
   "cell_type": "markdown",
   "metadata": {
    "id": "SjYF6Ub9_Zct"
   },
   "source": [
    "## Data preprocessing\n",
    "Correct the style in the column headings, eliminate gaps. Then check the data for duplicates."
   ]
  },
  {
   "cell_type": "markdown",
   "metadata": {
    "id": "dIaKXr29_Zct"
   },
   "source": [
    "### Heading style\n",
    "Display the column names:"
   ]
  },
  {
   "cell_type": "code",
   "execution_count": 5,
   "metadata": {
    "id": "oKOTdF_Q_Zct"
   },
   "outputs": [
    {
     "data": {
      "text/plain": [
       "Index(['  userID', 'Track', 'artist', 'genre', '  City  ', 'time', 'Day'], dtype='object')"
      ]
     },
     "execution_count": 5,
     "metadata": {},
     "output_type": "execute_result"
    }
   ],
   "source": [
    "df.columns # list of column names of table"
   ]
  },
  {
   "cell_type": "markdown",
   "metadata": {
    "id": "zj5534cv_Zct"
   },
   "source": [
    "Bring titles in line with good style:\n",
    "* write a few words in the title in \"snake_register\",\n",
    "* make all characters lowercase,\n",
    "* eliminate spaces.\n",
    "\n",
    "To do this, rename the columns like this:\n",
    "* `'userID'` → `'user_id'`;\n",
    "* ``Track'` → ``track'`;\n",
    "* `'City'` → `'city'`;\n",
    "* `'Day'` → `'day'`."
   ]
  },
  {
   "cell_type": "code",
   "execution_count": 6,
   "metadata": {
    "id": "ISlFqs5y_Zct"
   },
   "outputs": [],
   "source": [
    "#renaming columns\n",
    "df = df.rename(columns={'  userID': 'user_id', 'Track': 'track', '  City  ': 'city', 'Day': 'day'})"
   ]
  },
  {
   "cell_type": "markdown",
   "metadata": {
    "id": "1dqbh00J_Zct"
   },
   "source": [
    "Check the result. To do this, display the column names again:"
   ]
  },
  {
   "cell_type": "code",
   "execution_count": 7,
   "metadata": {
    "id": "d4NOAmTW_Zct"
   },
   "outputs": [
    {
     "data": {
      "text/plain": [
       "Index(['user_id', 'track', 'artist', 'genre', 'city', 'time', 'day'], dtype='object')"
      ]
     },
     "execution_count": 7,
     "metadata": {},
     "output_type": "execute_result"
    }
   ],
   "source": [
    "df.columns # check results - list column names"
   ]
  },
  {
   "cell_type": "markdown",
   "metadata": {
    "id": "5ISfbcfY_Zct"
   },
   "source": [
    "### Missing values\n",
    "First, count how many missing values are in the table. Two `pandas` methods are sufficient for this:"
   ]
  },
  {
   "cell_type": "code",
   "execution_count": 11,
   "metadata": {
    "id": "RskX29qr_Zct"
   },
   "outputs": [
    {
     "data": {
      "text/plain": [
       "user_id       0\n",
       "track      1231\n",
       "artist     7203\n",
       "genre      1198\n",
       "city          0\n",
       "time          0\n",
       "day           0\n",
       "dtype: int64"
      ]
     },
     "execution_count": 11,
     "metadata": {},
     "output_type": "execute_result"
    }
   ],
   "source": [
    "df.isna().sum() # skip count"
   ]
  },
  {
   "cell_type": "markdown",
   "metadata": {
    "id": "qubhgnlO_Zct"
   },
   "source": [
    "Not all missing values affect the study. So in `track` and `artist` the gaps are not important for your work. It suffices to replace them with explicit notation.\n",
    "\n",
    "But omissions in `genre` can interfere with the comparison of musical tastes in Moscow and St. Petersburg. In practice, it would be correct to determine the cause of the gaps and restore the data. This option is not available in the curriculum. Have to:\n",
    "* fill in these gaps with explicit notation,\n",
    "* estimate how much they will damage the calculations."
   ]
  },
  {
   "cell_type": "markdown",
   "metadata": {
    "id": "fSv2laPA_Zct"
   },
   "source": [
    "Replace the missing values in the `track`, `artist` and `genre` columns with the string `'unknown'`. To do this, create a `columns_to_replace` list, iterate through its elements with a `for` loop, and for each column, replace the missing values:"
   ]
  },
  {
   "cell_type": "code",
   "execution_count": 12,
   "metadata": {
    "id": "KplB5qWs_Zct"
   },
   "outputs": [],
   "source": [
    "# loop through column names and replace missing values with 'unknown'\n",
    "\n",
    "columns_to_replace = ['track', 'artist', 'genre']\n",
    "\n",
    "for column in columns_to_replace:\n",
    "    df[column] = df[column].fillna('unknown')\n"
   ]
  },
  {
   "cell_type": "markdown",
   "metadata": {
    "id": "Ilsm-MZo_Zct"
   },
   "source": [
    "Make sure there are no gaps in the table. To do this, count the missing values again."
   ]
  },
  {
   "cell_type": "code",
   "execution_count": 13,
   "metadata": {
    "id": "Tq4nYRX4_Zct"
   },
   "outputs": [
    {
     "data": {
      "text/plain": [
       "user_id    0\n",
       "track      0\n",
       "artist     0\n",
       "genre      0\n",
       "city       0\n",
       "time       0\n",
       "day        0\n",
       "dtype: int64"
      ]
     },
     "execution_count": 13,
     "metadata": {},
     "output_type": "execute_result"
    }
   ],
   "source": [
    "df.isna().sum() # skip count"
   ]
  },
  {
   "cell_type": "markdown",
   "metadata": {
    "id": "BWKRtBJ3_Zct"
   },
   "source": [
    "### Duplicates\n",
    "Count explicit duplicates in a table with one command:"
   ]
  },
  {
   "cell_type": "code",
   "execution_count": 14,
   "metadata": {
    "id": "36eES_S0_Zct"
   },
   "outputs": [
    {
     "data": {
      "text/plain": [
       "3826"
      ]
     },
     "execution_count": 14,
     "metadata": {},
     "output_type": "execute_result"
    }
   ],
   "source": [
    "df.duplicated().sum() # counting duplicates"
   ]
  },
  {
   "cell_type": "markdown",
   "metadata": {
    "id": "Ot25h6XR_Zct"
   },
   "source": [
    "Call the special `pandas` method to remove obvious duplicates:"
   ]
  },
  {
   "cell_type": "code",
   "execution_count": 15,
   "metadata": {
    "id": "exFHq6tt_Zct"
   },
   "outputs": [],
   "source": [
    "# removal of explicit duplicates (with the removal of old indexes and the formation of new ones)\n",
    "\n",
    "df = df.drop_duplicates().reset_index(drop=True)"
   ]
  },
  {
   "cell_type": "markdown",
   "metadata": {
    "id": "Im2YwBEG_Zct"
   },
   "source": [
    "Once again, count the obvious duplicates in the table - make sure you get rid of them completely:"
   ]
  },
  {
   "cell_type": "code",
   "execution_count": 16,
   "metadata": {
    "id": "-8PuNWQ0_Zct"
   },
   "outputs": [
    {
     "data": {
      "text/plain": [
       "0"
      ]
     },
     "execution_count": 16,
     "metadata": {},
     "output_type": "execute_result"
    }
   ],
   "source": [
    "df.duplicated().sum() # check for duplicates"
   ]
  },
  {
   "cell_type": "markdown",
   "metadata": {
    "id": "QlFBsxAr_Zct"
   },
   "source": [
    "Now get rid of the implicit duplicates in the `genre` column. For example, the name of the same genre can be spelled slightly differently. Such errors will also affect the result of the study."
   ]
  },
  {
   "cell_type": "markdown",
   "metadata": {
    "id": "eSjWwsOh_Zct"
   },
   "source": [
    "Display a list of unique genre names sorted alphabetically. For this:\n",
    "* extract the desired dataframe column,\n",
    "* apply a sort method to it,\n",
    "* for a sorted column, call a method that will return the unique values from the column."
   ]
  },
  {
   "cell_type": "code",
   "execution_count": 17,
   "metadata": {
    "id": "JIUcqzZN_Zct",
    "scrolled": true
   },
   "outputs": [
    {
     "name": "stdout",
     "output_type": "stream",
     "text": [
      "Количество уникальных жанров до исправления неявных дубликатов: 290\n"
     ]
    },
    {
     "data": {
      "text/plain": [
       "array(['acid', 'acoustic', 'action', 'adult', 'africa', 'afrikaans',\n",
       "       'alternative', 'alternativepunk', 'ambient', 'americana',\n",
       "       'animated', 'anime', 'arabesk', 'arabic', 'arena',\n",
       "       'argentinetango', 'art', 'audiobook', 'author', 'avantgarde',\n",
       "       'axé', 'baile', 'balkan', 'beats', 'bigroom', 'black', 'bluegrass',\n",
       "       'blues', 'bollywood', 'bossa', 'brazilian', 'breakbeat', 'breaks',\n",
       "       'broadway', 'cantautori', 'cantopop', 'canzone', 'caribbean',\n",
       "       'caucasian', 'celtic', 'chamber', 'chanson', 'children', 'chill',\n",
       "       'chinese', 'choral', 'christian', 'christmas', 'classical',\n",
       "       'classicmetal', 'club', 'colombian', 'comedy', 'conjazz',\n",
       "       'contemporary', 'country', 'cuban', 'dance', 'dancehall',\n",
       "       'dancepop', 'dark', 'death', 'deep', 'deutschrock', 'deutschspr',\n",
       "       'dirty', 'disco', 'dnb', 'documentary', 'downbeat', 'downtempo',\n",
       "       'drum', 'dub', 'dubstep', 'eastern', 'easy', 'electronic',\n",
       "       'electropop', 'emo', 'entehno', 'epicmetal', 'estrada', 'ethnic',\n",
       "       'eurofolk', 'european', 'experimental', 'extrememetal', 'fado',\n",
       "       'fairytail', 'film', 'fitness', 'flamenco', 'folk', 'folklore',\n",
       "       'folkmetal', 'folkrock', 'folktronica', 'forró', 'frankreich',\n",
       "       'französisch', 'french', 'funk', 'future', 'gangsta', 'garage',\n",
       "       'german', 'ghazal', 'gitarre', 'glitch', 'gospel', 'gothic',\n",
       "       'grime', 'grunge', 'gypsy', 'handsup', \"hard'n'heavy\", 'hardcore',\n",
       "       'hardstyle', 'hardtechno', 'hip', 'hip-hop', 'hiphop',\n",
       "       'historisch', 'holiday', 'hop', 'horror', 'house', 'hymn', 'idm',\n",
       "       'independent', 'indian', 'indie', 'indipop', 'industrial',\n",
       "       'inspirational', 'instrumental', 'international', 'irish', 'jam',\n",
       "       'japanese', 'jazz', 'jewish', 'jpop', 'jungle', 'k-pop',\n",
       "       'karadeniz', 'karaoke', 'kayokyoku', 'korean', 'laiko', 'latin',\n",
       "       'latino', 'leftfield', 'local', 'lounge', 'loungeelectronic',\n",
       "       'lovers', 'malaysian', 'mandopop', 'marschmusik', 'meditative',\n",
       "       'mediterranean', 'melodic', 'metal', 'metalcore', 'mexican',\n",
       "       'middle', 'minimal', 'miscellaneous', 'modern', 'mood', 'mpb',\n",
       "       'muslim', 'native', 'neoklassik', 'neue', 'new', 'newage',\n",
       "       'newwave', 'nu', 'nujazz', 'numetal', 'oceania', 'old', 'opera',\n",
       "       'orchestral', 'other', 'piano', 'podcasts', 'pop', 'popdance',\n",
       "       'popelectronic', 'popeurodance', 'poprussian', 'post',\n",
       "       'posthardcore', 'postrock', 'power', 'progmetal', 'progressive',\n",
       "       'psychedelic', 'punjabi', 'punk', 'quebecois', 'ragga', 'ram',\n",
       "       'rancheras', 'rap', 'rave', 'reggae', 'reggaeton', 'regional',\n",
       "       'relax', 'religious', 'retro', 'rhythm', 'rnb', 'rnr', 'rock',\n",
       "       'rockabilly', 'rockalternative', 'rockindie', 'rockother',\n",
       "       'romance', 'roots', 'ruspop', 'rusrap', 'rusrock', 'russian',\n",
       "       'salsa', 'samba', 'scenic', 'schlager', 'self', 'sertanejo',\n",
       "       'shanson', 'shoegazing', 'showtunes', 'singer', 'ska', 'skarock',\n",
       "       'slow', 'smooth', 'soft', 'soul', 'soulful', 'sound', 'soundtrack',\n",
       "       'southern', 'specialty', 'speech', 'spiritual', 'sport',\n",
       "       'stonerrock', 'surf', 'swing', 'synthpop', 'synthrock',\n",
       "       'sängerportrait', 'tango', 'tanzorchester', 'taraftar', 'tatar',\n",
       "       'tech', 'techno', 'teen', 'thrash', 'top', 'traditional',\n",
       "       'tradjazz', 'trance', 'tribal', 'trip', 'triphop', 'tropical',\n",
       "       'türk', 'türkçe', 'ukrrock', 'unknown', 'urban', 'uzbek',\n",
       "       'variété', 'vi', 'videogame', 'vocal', 'western', 'world',\n",
       "       'worldbeat', 'ïîï', 'электроника'], dtype=object)"
      ]
     },
     "execution_count": 17,
     "metadata": {},
     "output_type": "execute_result"
    }
   ],
   "source": [
    "print('Number of unique genres before fixing implicit duplicates:', end=' ')\n",
    "print(len(df['genre'].unique()))\n",
    "\n",
    "df['genre'].sort_values().unique() # View Unique Genre Names"
   ]
  },
  {
   "cell_type": "markdown",
   "metadata": {
    "id": "qej-Qmuo_Zct"
   },
   "source": [
    "Look through the list and look for implicit duplicates of the name `hiphop`. These may be misspelled titles or alternative titles in the same genre.\n",
    "\n",
    "You will see the following implicit duplicates:\n",
    "**hip*,\n",
    "**hop*,\n",
    "**hip-hop*\n",
    "\n",
    "And also the values:\n",
    "\n",
    "* *'electronic'*\n",
    "* *'electronics'*\n",
    "**'poi'* - this value most likely arose due to incorrect encoding.\n",
    "\n",
    "\n",
    "To clear the table of them, write the `replace_wrong_genres()` function with two parameters:\n",
    "* `wrong_genres` - list of duplicates,\n",
    "* `correct_genre` is a string with the correct value.\n",
    "\n",
    "The function should correct the `genre` column in the `df` table: replace each value from the `wrong_genres` list with a value from `correct_genre`."
   ]
  },
  {
   "cell_type": "code",
   "execution_count": 18,
   "metadata": {
    "id": "ErNDkmns_Zct"
   },
   "outputs": [],
   "source": [
    "# Function to replace implicit duplicates\n",
    "def replace_wrong_genres(wrong_genres, correct_genre):\n",
    "    df['genre'] = df['genre'].replace(wrong_genres, correct_genre)"
   ]
  },
  {
   "cell_type": "markdown",
   "metadata": {
    "id": "aDoBJxbA_Zct"
   },
   "source": [
    "Call `replace_wrong_genres()` and pass it arguments such that it eliminates implicit duplicates: instead of `hip`, `hop` and `hip-hop` the table should have the value `hiphop`:"
   ]
  },
  {
   "cell_type": "code",
   "execution_count": 19,
   "metadata": {
    "id": "YN5i2hpmSo09"
   },
   "outputs": [],
   "source": [
    "# Eliminate Implicit Duplicates\n",
    "wrong_genres_hiphop = ['hip', 'hop', 'hip-hop' ]\n",
    "\n",
    "for value in wrong_genres_hiphop:\n",
    "    replace_wrong_genres(value, 'hiphop')"
   ]
  },
  {
   "cell_type": "code",
   "execution_count": 20,
   "metadata": {},
   "outputs": [],
   "source": [
    "replace_wrong_genres('электроника', 'electronic')\n",
    "replace_wrong_genres('ïîï', 'unknown')"
   ]
  },
  {
   "cell_type": "markdown",
   "metadata": {
    "id": "zQKF16_RG15m"
   },
   "source": [
    "Check that you have replaced the wrong names:\n",
    "\n",
    "* hip\n",
    "* hop\n",
    "* hip-hop\n",
    "\n",
    "Print a sorted list of unique values in the `genre` column:"
   ]
  },
  {
   "cell_type": "code",
   "execution_count": 21,
   "metadata": {
    "id": "wvixALnFG15m"
   },
   "outputs": [
    {
     "name": "stdout",
     "output_type": "stream",
     "text": [
      "Количество уникальных жанров после исправления неявных дубликатов: 285\n"
     ]
    },
    {
     "data": {
      "text/plain": [
       "array(['acid', 'acoustic', 'action', 'adult', 'africa', 'afrikaans',\n",
       "       'alternative', 'alternativepunk', 'ambient', 'americana',\n",
       "       'animated', 'anime', 'arabesk', 'arabic', 'arena',\n",
       "       'argentinetango', 'art', 'audiobook', 'author', 'avantgarde',\n",
       "       'axé', 'baile', 'balkan', 'beats', 'bigroom', 'black', 'bluegrass',\n",
       "       'blues', 'bollywood', 'bossa', 'brazilian', 'breakbeat', 'breaks',\n",
       "       'broadway', 'cantautori', 'cantopop', 'canzone', 'caribbean',\n",
       "       'caucasian', 'celtic', 'chamber', 'chanson', 'children', 'chill',\n",
       "       'chinese', 'choral', 'christian', 'christmas', 'classical',\n",
       "       'classicmetal', 'club', 'colombian', 'comedy', 'conjazz',\n",
       "       'contemporary', 'country', 'cuban', 'dance', 'dancehall',\n",
       "       'dancepop', 'dark', 'death', 'deep', 'deutschrock', 'deutschspr',\n",
       "       'dirty', 'disco', 'dnb', 'documentary', 'downbeat', 'downtempo',\n",
       "       'drum', 'dub', 'dubstep', 'eastern', 'easy', 'electronic',\n",
       "       'electropop', 'emo', 'entehno', 'epicmetal', 'estrada', 'ethnic',\n",
       "       'eurofolk', 'european', 'experimental', 'extrememetal', 'fado',\n",
       "       'fairytail', 'film', 'fitness', 'flamenco', 'folk', 'folklore',\n",
       "       'folkmetal', 'folkrock', 'folktronica', 'forró', 'frankreich',\n",
       "       'französisch', 'french', 'funk', 'future', 'gangsta', 'garage',\n",
       "       'german', 'ghazal', 'gitarre', 'glitch', 'gospel', 'gothic',\n",
       "       'grime', 'grunge', 'gypsy', 'handsup', \"hard'n'heavy\", 'hardcore',\n",
       "       'hardstyle', 'hardtechno', 'hiphop', 'historisch', 'holiday',\n",
       "       'horror', 'house', 'hymn', 'idm', 'independent', 'indian', 'indie',\n",
       "       'indipop', 'industrial', 'inspirational', 'instrumental',\n",
       "       'international', 'irish', 'jam', 'japanese', 'jazz', 'jewish',\n",
       "       'jpop', 'jungle', 'k-pop', 'karadeniz', 'karaoke', 'kayokyoku',\n",
       "       'korean', 'laiko', 'latin', 'latino', 'leftfield', 'local',\n",
       "       'lounge', 'loungeelectronic', 'lovers', 'malaysian', 'mandopop',\n",
       "       'marschmusik', 'meditative', 'mediterranean', 'melodic', 'metal',\n",
       "       'metalcore', 'mexican', 'middle', 'minimal', 'miscellaneous',\n",
       "       'modern', 'mood', 'mpb', 'muslim', 'native', 'neoklassik', 'neue',\n",
       "       'new', 'newage', 'newwave', 'nu', 'nujazz', 'numetal', 'oceania',\n",
       "       'old', 'opera', 'orchestral', 'other', 'piano', 'podcasts', 'pop',\n",
       "       'popdance', 'popelectronic', 'popeurodance', 'poprussian', 'post',\n",
       "       'posthardcore', 'postrock', 'power', 'progmetal', 'progressive',\n",
       "       'psychedelic', 'punjabi', 'punk', 'quebecois', 'ragga', 'ram',\n",
       "       'rancheras', 'rap', 'rave', 'reggae', 'reggaeton', 'regional',\n",
       "       'relax', 'religious', 'retro', 'rhythm', 'rnb', 'rnr', 'rock',\n",
       "       'rockabilly', 'rockalternative', 'rockindie', 'rockother',\n",
       "       'romance', 'roots', 'ruspop', 'rusrap', 'rusrock', 'russian',\n",
       "       'salsa', 'samba', 'scenic', 'schlager', 'self', 'sertanejo',\n",
       "       'shanson', 'shoegazing', 'showtunes', 'singer', 'ska', 'skarock',\n",
       "       'slow', 'smooth', 'soft', 'soul', 'soulful', 'sound', 'soundtrack',\n",
       "       'southern', 'specialty', 'speech', 'spiritual', 'sport',\n",
       "       'stonerrock', 'surf', 'swing', 'synthpop', 'synthrock',\n",
       "       'sängerportrait', 'tango', 'tanzorchester', 'taraftar', 'tatar',\n",
       "       'tech', 'techno', 'teen', 'thrash', 'top', 'traditional',\n",
       "       'tradjazz', 'trance', 'tribal', 'trip', 'triphop', 'tropical',\n",
       "       'türk', 'türkçe', 'ukrrock', 'unknown', 'urban', 'uzbek',\n",
       "       'variété', 'vi', 'videogame', 'vocal', 'western', 'world',\n",
       "       'worldbeat'], dtype=object)"
      ]
     },
     "execution_count": 21,
     "metadata": {},
     "output_type": "execute_result"
    }
   ],
   "source": [
    "print('Number of unique genres after fixing implicit duplicates:', end=' ')\n",
    "print(len(df['genre'].unique()))\n",
    "\n",
    "df['genre'].sort_values().unique() # Checking for Implicit Duplicates"
   ]
  },
  {
   "cell_type": "markdown",
   "metadata": {
    "id": "jz6a9-7HQUDd"
   },
   "source": [
    "**Conclusions**\n",
    "\n",
    "Preprocessing found three problems in the data:\n",
    "\n",
    "- headline style violations,\n",
    "- missing values,\n",
    "- duplicates - explicit and implicit.\n",
    "\n",
    "You've fixed the headers to make the table easier to work with. Without duplicates, the study will become more accurate.\n",
    "\n",
    "You have replaced missing values with `'unknown'`. It remains to be seen whether the gaps in the `genre` column will harm the study.\n",
    "\n",
    "Now we can move on to hypothesis testing."
   ]
  },
  {
   "cell_type": "markdown",
   "metadata": {
    "id": "WttZHXH0SqKk"
   },
   "source": [
    "## Testing hypotheses"
   ]
  },
  {
   "cell_type": "markdown",
   "metadata": {
    "id": "Im936VVi_Zcu"
   },
   "source": [
    "### Comparison of user behavior in two cities"
   ]
  },
  {
   "cell_type": "markdown",
   "metadata": {
    "id": "nwt_MuaL_Zcu"
   },
   "source": [
    "The first hypothesis states that users listen to music differently in Moscow and St. Petersburg. Check this assumption against the data on the three days of the week - Monday, Wednesday and Friday. For this:\n",
    "\n",
    "* Separate Moscow and St. Petersburg users\n",
    "* Compare how many tracks each user group listened to on Monday, Wednesday and Friday."
   ]
  },
  {
   "cell_type": "markdown",
   "metadata": {
    "id": "8Dw_YMmT_Zcu"
   },
   "source": [
    "For training, first perform each of the calculations separately.\n",
    "\n",
    "Estimate user activity in each city. Group the data by city and count the plays in each group."
   ]
  },
  {
   "cell_type": "code",
   "execution_count": 22,
   "metadata": {},
   "outputs": [
    {
     "data": {
      "text/plain": [
       "array(['Saint-Petersburg', 'Moscow'], dtype=object)"
      ]
     },
     "execution_count": 22,
     "metadata": {},
     "output_type": "execute_result"
    }
   ],
   "source": [
    "df['city'].unique() #checking cities"
   ]
  },
  {
   "cell_type": "code",
   "execution_count": 23,
   "metadata": {
    "id": "0_Qs96oh_Zcu"
   },
   "outputs": [
    {
     "name": "stdout",
     "output_type": "stream",
     "text": [
      "Общее количество прослушиваний в Москве: 42741\n",
      "Общее количество прослушиваний в Санкт-Петербурге: 18512\n"
     ]
    }
   ],
   "source": [
    "# Counting plays in each city\n",
    "print('Общее количество прослушиваний в Москве:', df[df['city']=='Moscow']['track'].count())\n",
    "print('Общее количество прослушиваний в Санкт-Петербурге:', df[df['city']=='Saint-Petersburg']['track'].count())"
   ]
  },
  {
   "cell_type": "markdown",
   "metadata": {
    "id": "dzli3w8o_Zcu"
   },
   "source": [
    "There are more auditions in Moscow than in St. Petersburg. It does not follow from this that Moscow users listen to music more often. There are simply more users in Moscow.\n",
    "\n",
    "Now group the data by day of the week and count the plays on Monday, Wednesday, and Friday. Please note that the data only contains information about the plays for these days only."
   ]
  },
  {
   "cell_type": "code",
   "execution_count": 24,
   "metadata": {
    "id": "uZMKjiJz_Zcu"
   },
   "outputs": [
    {
     "data": {
      "text/plain": [
       "day\n",
       "Friday       21840\n",
       "Monday       21354\n",
       "Wednesday    18059\n",
       "Name: track, dtype: int64"
      ]
     },
     "execution_count": 24,
     "metadata": {},
     "output_type": "execute_result"
    }
   ],
   "source": [
    "df.groupby('day')['track'].count() # Play count for each of the three days"
   ]
  },
  {
   "cell_type": "markdown",
   "metadata": {
    "id": "cC2tNrlL_Zcu"
   },
   "source": [
    "On average, users from the two cities are less active on Wednesdays. But the picture may change if we consider each city separately."
   ]
  },
  {
   "cell_type": "markdown",
   "metadata": {
    "id": "POzs8bGa_Zcu"
   },
   "source": [
    "You have seen how grouping by city and by day of the week works. Now write a function that combines these two calculations.\n",
    "\n",
    "Create a `number_tracks()` function that will count the plays for a given day and city. She needs two parameters:\n",
    "* day of the week,\n",
    "* city name.\n",
    "\n",
    "In the function, save to a variable the rows of the source table that have the value:\n",
    "  * in the `day` column is equal to the `day` parameter,\n",
    "  * in the `city` column is equal to the `city` parameter.\n",
    "\n",
    "To do this, apply sequential filtering with logical indexing.\n",
    "\n",
    "Then count the values ​​in the `user_id` column of the resulting table. Save the result to a new variable. Return this variable from the function."
   ]
  },
  {
   "cell_type": "code",
   "execution_count": 25,
   "metadata": {
    "id": "Nz3GdQB1_Zcu"
   },
   "outputs": [],
   "source": [
    "# <create number_tracks() function>\n",
    "# A function is declared with two parameters: day, city.\n",
    "# The track_list variable stores those rows of the df table for which\n",
    "# the value in the 'day' column is equal to the day parameter and at the same time the value\n",
    "# in the 'city' column is equal to the city parameter (use sequential filtering\n",
    "# using logical indexing).\n",
    "# The track_list_count variable stores the number of values in the 'user_id' column,\n",
    "# calculated by the count() method for the track_list table.\n",
    "# The function returns a number - the value of track_list_count.\n",
    "\n",
    "# Function for counting plays for a specific city and day.\n",
    "# Using sequential filtering with logical indexing, it\n",
    "# first get the rows with the desired day from the source table,\n",
    "# then from the result it will filter the rows with the desired city,\n",
    "# the count() method will count the number of values in the user_id column.\n",
    "# This is the number the function will return as a result\n",
    "\n",
    "def number_tracks(day, city):\n",
    "    track_list = df[(df['day']==day) & (df['city']==city)]\n",
    "    track_list_count = track_list['user_id'].count()\n",
    "    return track_list_count"
   ]
  },
  {
   "cell_type": "markdown",
   "metadata": {
    "id": "ytf7xFrFJQ2r"
   },
   "source": [
    "Call `number_tracks()` six times, changing the parameters so that you get data for each city on each of the three days."
   ]
  },
  {
   "cell_type": "code",
   "execution_count": 26,
   "metadata": {
    "id": "rJcRATNQ_Zcu"
   },
   "outputs": [
    {
     "data": {
      "text/plain": [
       "15740"
      ]
     },
     "execution_count": 26,
     "metadata": {},
     "output_type": "execute_result"
    }
   ],
   "source": [
    "# number of auditions in Moscow on Mondays\n",
    "number_tracks('Monday', 'Moscow')"
   ]
  },
  {
   "cell_type": "code",
   "execution_count": 27,
   "metadata": {
    "id": "hq_ncZ5T_Zcu"
   },
   "outputs": [
    {
     "data": {
      "text/plain": [
       "5614"
      ]
     },
     "execution_count": 27,
     "metadata": {},
     "output_type": "execute_result"
    }
   ],
   "source": [
    "# number of auditions in St. Petersburg on Mondays\n",
    "number_tracks('Monday', 'Saint-Petersburg')"
   ]
  },
  {
   "cell_type": "code",
   "execution_count": 28,
   "metadata": {
    "id": "_NTy2VPU_Zcu"
   },
   "outputs": [
    {
     "data": {
      "text/plain": [
       "11056"
      ]
     },
     "execution_count": 28,
     "metadata": {},
     "output_type": "execute_result"
    }
   ],
   "source": [
    "# number of auditions in Moscow on Wednesdays\n",
    "number_tracks('Wednesday', 'Moscow')"
   ]
  },
  {
   "cell_type": "code",
   "execution_count": 29,
   "metadata": {
    "id": "j2y3TAwo_Zcu"
   },
   "outputs": [
    {
     "data": {
      "text/plain": [
       "7003"
      ]
     },
     "execution_count": 29,
     "metadata": {},
     "output_type": "execute_result"
    }
   ],
   "source": [
    "# number of auditions in St. Petersburg on Wednesdays\n",
    "number_tracks('Wednesday', 'Saint-Petersburg')"
   ]
  },
  {
   "cell_type": "code",
   "execution_count": 30,
   "metadata": {
    "id": "vYDw5u_K_Zcu"
   },
   "outputs": [
    {
     "data": {
      "text/plain": [
       "15945"
      ]
     },
     "execution_count": 30,
     "metadata": {},
     "output_type": "execute_result"
    }
   ],
   "source": [
    "# number of auditions in Moscow on Fridays\n",
    "number_tracks('Friday', 'Moscow')"
   ]
  },
  {
   "cell_type": "code",
   "execution_count": 31,
   "metadata": {
    "id": "8_yzFtW3_Zcu"
   },
   "outputs": [
    {
     "data": {
      "text/plain": [
       "5895"
      ]
     },
     "execution_count": 31,
     "metadata": {},
     "output_type": "execute_result"
    }
   ],
   "source": [
    "# number of auditions in St. Petersburg on Fridays\n",
    "number_tracks('Friday', 'Saint-Petersburg')"
   ]
  },
  {
   "cell_type": "markdown",
   "metadata": {
    "id": "7QXffbO-_Zcu"
   },
   "source": [
    "Create a table using the `pd.DataFrame` constructor, where\n",
    "* column names - `['city', 'monday', 'wednesday', 'friday']`;\n",
    "* data is the results you got with `number_tracks`."
   ]
  },
  {
   "cell_type": "code",
   "execution_count": 32,
   "metadata": {
    "id": "APAcLpOr_Zcu"
   },
   "outputs": [
    {
     "data": {
      "text/html": [
       "<div>\n",
       "<style scoped>\n",
       "    .dataframe tbody tr th:only-of-type {\n",
       "        vertical-align: middle;\n",
       "    }\n",
       "\n",
       "    .dataframe tbody tr th {\n",
       "        vertical-align: top;\n",
       "    }\n",
       "\n",
       "    .dataframe thead th {\n",
       "        text-align: right;\n",
       "    }\n",
       "</style>\n",
       "<table border=\"1\" class=\"dataframe\">\n",
       "  <thead>\n",
       "    <tr style=\"text-align: right;\">\n",
       "      <th></th>\n",
       "      <th>city</th>\n",
       "      <th>monday</th>\n",
       "      <th>wednesday</th>\n",
       "      <th>friday</th>\n",
       "    </tr>\n",
       "  </thead>\n",
       "  <tbody>\n",
       "    <tr>\n",
       "      <th>0</th>\n",
       "      <td>Moscow</td>\n",
       "      <td>15740</td>\n",
       "      <td>11056</td>\n",
       "      <td>15945</td>\n",
       "    </tr>\n",
       "    <tr>\n",
       "      <th>1</th>\n",
       "      <td>Saint-Petersburg</td>\n",
       "      <td>5614</td>\n",
       "      <td>7003</td>\n",
       "      <td>5895</td>\n",
       "    </tr>\n",
       "  </tbody>\n",
       "</table>\n",
       "</div>"
      ],
      "text/plain": [
       "               city  monday  wednesday  friday\n",
       "0            Moscow   15740      11056   15945\n",
       "1  Saint-Petersburg    5614       7003    5895"
      ]
     },
     "metadata": {},
     "output_type": "display_data"
    }
   ],
   "source": [
    "# Results table\n",
    "\n",
    "first_hypothesis_columns = ['city', 'monday', 'wednesday', 'friday'] #column names\n",
    "first_hypothesis_data=[]                                             #list with data\n",
    "\n",
    "for city in ['Moscow', 'Saint-Petersburg']:                          #creating a list with data\n",
    "    result_city = []\n",
    "    result_city.append(city)\n",
    "    for day in ['Monday', 'Wednesday', 'Friday']:\n",
    "        result_city.append(number_tracks(day, city))\n",
    "    first_hypothesis_data.append(result_city)\n",
    "\n",
    "first_hypothesis_df = pd.DataFrame(columns=first_hypothesis_columns, data=first_hypothesis_data)\n",
    "display(first_hypothesis_df)"
   ]
  },
  {
   "cell_type": "markdown",
   "metadata": {
    "id": "-EgPIHYu_Zcu"
   },
   "source": [
    "**Conclusions**\n",
    "\n",
    "The data shows the difference in user behavior:\n",
    "\n",
    "- In Moscow, the peak of listening falls on Monday and Friday, and on Wednesday there is a noticeable decline.\n",
    "- In St. Petersburg, on the contrary, they listen to music more on Wednesdays. Activity on Monday and Friday here is almost equally inferior to Wednesday.\n",
    "\n",
    "So the data support the first hypothesis."
   ]
  },
  {
   "cell_type": "markdown",
   "metadata": {
    "id": "atZAxtq4_Zcu"
   },
   "source": [
    "### Music at the beginning and end of the week"
   ]
  },
  {
   "cell_type": "markdown",
   "metadata": {
    "id": "eXrQqXFH_Zcu"
   },
   "source": [
    "According to the second hypothesis, on Monday morning certain genres predominate in Moscow, while others dominate in St. Petersburg. Similarly, Friday evenings are dominated by different genres, depending on the city.\n",
    "\n",
    "Save tables with data in two variables:\n",
    "* in Moscow - in `moscow_general`;\n",
    "* in St. Petersburg - in `spb_general`."
   ]
  },
  {
   "cell_type": "code",
   "execution_count": 33,
   "metadata": {
    "id": "qeaFfM_P_Zcu"
   },
   "outputs": [],
   "source": [
    "# getting the moscow_general table from those rows of the df table,\n",
    "# for which the value in the 'city' column is 'Moscow'\n",
    "moscow_general = df[df['city']=='Moscow']"
   ]
  },
  {
   "cell_type": "code",
   "execution_count": 34,
   "metadata": {
    "id": "ORaVRKto_Zcu"
   },
   "outputs": [],
   "source": [
    "# getting the spb_general table from those rows of the df table,\n",
    "# for which the value in the 'city' column is 'Saint-Petersburg'\n",
    "spb_general = df[df['city']=='Saint-Petersburg']"
   ]
  },
  {
   "cell_type": "markdown",
   "metadata": {
    "id": "MEJV-CX2_Zcu"
   },
   "source": [
    "Create a function `genre_weekday()` with four parameters:\n",
    "* table (dataframe) with data,\n",
    "* day of the week,\n",
    "* start timestamp in 'hh:mm' format,\n",
    "* last timestamp in 'hh:mm' format.\n",
    "\n",
    "The function should return information about the top 10 genres of those tracks that were listened to on the specified day, in the interval between two timestamps."
   ]
  },
  {
   "cell_type": "code",
   "execution_count": 35,
   "metadata": {
    "id": "laJT9BYl_Zcu"
   },
   "outputs": [],
   "source": [
    "# Declaring the function genre_weekday() with parameters table, day, time1, time2,\n",
    "# which returns information about the most popular genres on the specified day in\n",
    "# given time:\n",
    "# 1) the genre_df variable saves those rows of the transmitted dataframe table, for\n",
    "# of which at the same time:\n",
    "# - the value in the day column is equal to the value of the day argument\n",
    "# - the value in the time column is greater than the value of the time1 argument\n",
    "# - the value in the time column is less than the value of the time2 argument\n",
    "# Use sequential filtering with boolean indexing.\n",
    "# 2) group dataframe genre_df by genre column, take one of its\n",
    "# columns and use the count() method to count the number of entries for each\n",
    "# of present genres, write the resulting Series to a variable\n",
    "#genre_df_count\n",
    "# 3) sort genre_df_count in descending order of occurrence and save\n",
    "# into the genre_df_sorted variable\n",
    "# 4) return a Series of the first 10 genre_df_sorted values, these will be the top 10\n",
    "# popular genres (on the specified day, at the specified time)\n",
    "\n",
    "def genre_weekday(table, day, time1, time2):\n",
    "    genre_df = table[table['day']==day]\n",
    "    genre_df = genre_df[(genre_df['time']>time1) & (genre_df['time']<time2)]\n",
    "    genre_df_count = genre_df.groupby('genre')['track'].count()\n",
    "    genre_df_sorted = genre_df_count.sort_values(ascending=False)\n",
    "    return genre_df_sorted.head(10)"
   ]
  },
  {
   "cell_type": "markdown",
   "metadata": {
    "id": "la2s2_PF_Zcu"
   },
   "source": [
    "Compare the results of the `genre_weekday()` function for Moscow and St. Petersburg on Monday morning (from 7:00 to 11:00) and Friday evening (from 17:00 to 23:00):"
   ]
  },
  {
   "cell_type": "code",
   "execution_count": 36,
   "metadata": {
    "id": "yz7itPUQ_Zcu",
    "scrolled": true
   },
   "outputs": [
    {
     "data": {
      "text/plain": [
       "genre\n",
       "pop            781\n",
       "dance          549\n",
       "electronic     480\n",
       "rock           474\n",
       "hiphop         286\n",
       "ruspop         186\n",
       "world          181\n",
       "rusrap         175\n",
       "alternative    164\n",
       "unknown        161\n",
       "Name: track, dtype: int64"
      ]
     },
     "execution_count": 36,
     "metadata": {},
     "output_type": "execute_result"
    }
   ],
   "source": [
    "# function call for Monday morning in Moscow (instead of df — moscow_general table)\n",
    "# time objects are strings and are compared as strings\n",
    "# call example: genre_weekday(moscow_general, 'Monday', '07:00', '11:00')\n",
    "genre_weekday(moscow_general, 'Monday', '07:00', '11:00')"
   ]
  },
  {
   "cell_type": "code",
   "execution_count": 37,
   "metadata": {
    "id": "kwUcHPdy_Zcu",
    "scrolled": true
   },
   "outputs": [
    {
     "data": {
      "text/plain": [
       "genre\n",
       "pop            218\n",
       "dance          182\n",
       "rock           162\n",
       "electronic     147\n",
       "hiphop          80\n",
       "ruspop          64\n",
       "alternative     58\n",
       "rusrap          55\n",
       "jazz            44\n",
       "classical       40\n",
       "Name: track, dtype: int64"
      ]
     },
     "execution_count": 37,
     "metadata": {},
     "output_type": "execute_result"
    }
   ],
   "source": [
    "# function call for Monday morning in St. Petersburg (instead of df - spb_general table)\n",
    "genre_weekday(spb_general, 'Monday', '07:00', '11:00')"
   ]
  },
  {
   "cell_type": "code",
   "execution_count": 38,
   "metadata": {
    "id": "EzXVRE1o_Zcu"
   },
   "outputs": [
    {
     "data": {
      "text/plain": [
       "genre\n",
       "pop            713\n",
       "rock           517\n",
       "dance          495\n",
       "electronic     482\n",
       "hiphop         273\n",
       "world          208\n",
       "ruspop         170\n",
       "alternative    163\n",
       "classical      163\n",
       "rusrap         142\n",
       "Name: track, dtype: int64"
      ]
     },
     "execution_count": 38,
     "metadata": {},
     "output_type": "execute_result"
    }
   ],
   "source": [
    "# function call for Friday evening in Moscow\n",
    "genre_weekday(moscow_general, 'Friday', '17:00', '23:00')"
   ]
  },
  {
   "cell_type": "code",
   "execution_count": 39,
   "metadata": {
    "id": "JZaEKu5v_Zcu"
   },
   "outputs": [
    {
     "data": {
      "text/plain": [
       "genre\n",
       "pop            256\n",
       "electronic     216\n",
       "rock           216\n",
       "dance          210\n",
       "hiphop          97\n",
       "alternative     63\n",
       "jazz            61\n",
       "classical       60\n",
       "rusrap          59\n",
       "world           54\n",
       "Name: track, dtype: int64"
      ]
     },
     "execution_count": 39,
     "metadata": {},
     "output_type": "execute_result"
    }
   ],
   "source": [
    "# function call for Friday evening in St. Petersburg\n",
    "genre_weekday(spb_general, 'Friday', '17:00', '23:00')"
   ]
  },
  {
   "cell_type": "markdown",
   "metadata": {
    "id": "wrCe4MNX_Zcu"
   },
   "source": [
    "**Conclusions**\n",
    "\n",
    "If we compare the top 10 genres on Monday morning, we can draw the following conclusions:\n",
    "\n",
    "1. In Moscow and St. Petersburg they listen to similar music. The only difference is that the Moscow rating includes the “world” genre, while the St. Petersburg rating includes jazz and classical.\n",
    "\n",
    "2. There were so many missing values ​​in Moscow that the value `'unknown'` took tenth place among the most popular genres. This means that missing values ​​occupy a significant share in the data and threaten the reliability of the study.\n",
    "\n",
    "Friday night does not change this picture. Some genres rise a little higher, others go down, but overall the top 10 stays the same.\n",
    "\n",
    "Thus, the second hypothesis was only partially confirmed:\n",
    "* Users listen to similar music at the beginning of the week and at the end.\n",
    "* The difference between Moscow and St. Petersburg is not very pronounced. In Moscow, they listen to Russian popular music more often, in St. Petersburg - jazz.\n",
    "\n",
    "However, gaps in the data cast doubt on this result. There are so many of them in Moscow that the top 10 ranking could look different if it were not for the lost genre data."
   ]
  },
  {
   "cell_type": "markdown",
   "metadata": {
    "id": "JolODAqr_Zcu"
   },
   "source": [
    "### Genre preferences in Moscow and St. Petersburg\n",
    "\n",
    "Hypothesis: St. Petersburg is the capital of rap, the music of this genre is listened to more often than in Moscow. And Moscow is a city of contrasts, which, nevertheless, is dominated by pop music."
   ]
  },
  {
   "cell_type": "markdown",
   "metadata": {
    "id": "DlegSvaT_Zcu"
   },
   "source": [
    "Group the `moscow_general` table by genre and count the plays of each genre's tracks using the `count()` method. Then sort the result in descending order and store it in the `moscow_genres` table."
   ]
  },
  {
   "cell_type": "code",
   "execution_count": 40,
   "metadata": {
    "id": "r19lIPke_Zcu"
   },
   "outputs": [],
   "source": [
    "# in one line: grouping the moscow_general table by the 'genre' column,\n",
    "# counting the number of 'genre' values in this grouping using the count() method,\n",
    "# sort the resulting Series in descending order and save to moscow_genres\n",
    "moscow_genres = moscow_general.groupby('genre')['genre'].count().sort_values(ascending=False)"
   ]
  },
  {
   "cell_type": "markdown",
   "metadata": {
    "id": "6kMuomxTiIr8"
   },
   "source": [
    "Print the first ten lines of `moscow_genres` to the screen:"
   ]
  },
  {
   "cell_type": "code",
   "execution_count": 41,
   "metadata": {
    "id": "WhCSooF8_Zcv"
   },
   "outputs": [
    {
     "data": {
      "text/plain": [
       "genre\n",
       "pop            5892\n",
       "dance          4435\n",
       "rock           3965\n",
       "electronic     3786\n",
       "hiphop         2096\n",
       "classical      1616\n",
       "world          1432\n",
       "alternative    1379\n",
       "ruspop         1372\n",
       "rusrap         1161\n",
       "Name: genre, dtype: int64"
      ]
     },
     "execution_count": 41,
     "metadata": {},
     "output_type": "execute_result"
    }
   ],
   "source": [
    "# view the first 10 lines of moscow_genres\n",
    "moscow_genres.head(10)"
   ]
  },
  {
   "cell_type": "markdown",
   "metadata": {
    "id": "cnPG2vnN_Zcv"
   },
   "source": [
    "Now repeat the same for Petersburg.\n",
    "\n",
    "Group the `spb_general` table by genre. Count the number of listens to tracks of each genre. Sort the result in descending order and store it in the `spb_genres` table:"
   ]
  },
  {
   "cell_type": "code",
   "execution_count": 42,
   "metadata": {
    "id": "gluLIpE7_Zcv"
   },
   "outputs": [],
   "source": [
    "# in one line: group spb_general table by 'genre' column,\n",
    "# counting the number of 'genre' values in this grouping using the count() method,\n",
    "# sort the resulting Series in descending order and store it in spb_genres\n",
    "spb_genres = spb_general.groupby('genre')['genre'].count().sort_values(ascending=False)"
   ]
  },
  {
   "cell_type": "markdown",
   "metadata": {
    "id": "5Doha_ODgyQ8"
   },
   "source": [
    "Print the first ten lines of `spb_genres` to the screen:"
   ]
  },
  {
   "cell_type": "code",
   "execution_count": 43,
   "metadata": {
    "id": "uaGJHjVU_Zcv"
   },
   "outputs": [
    {
     "data": {
      "text/plain": [
       "genre\n",
       "pop            2431\n",
       "dance          1932\n",
       "rock           1879\n",
       "electronic     1737\n",
       "hiphop          960\n",
       "alternative     649\n",
       "classical       646\n",
       "rusrap          564\n",
       "ruspop          538\n",
       "world           515\n",
       "Name: genre, dtype: int64"
      ]
     },
     "execution_count": 43,
     "metadata": {},
     "output_type": "execute_result"
    }
   ],
   "source": [
    "# view the first 10 lines of spb_genres\n",
    "spb_genres.head(10)"
   ]
  },
  {
   "cell_type": "markdown",
   "metadata": {
    "id": "nVhnJEm__Zcv"
   },
   "source": [
    "**Conclusions**\n",
    "\n",
    "\n",
    "The hypothesis was partially confirmed:\n",
    "* Pop music is the most popular genre in Moscow, as the hypothesis suggested. Moreover, in the top 10 genres there is a close genre - Russian popular music.\n",
    "* Contrary to expectations, rap is equally popular in Moscow and St. Petersburg."
   ]
  },
  {
   "cell_type": "markdown",
   "metadata": {
    "id": "tjUwbHb3_Zcv"
   },
   "source": [
    "## Results of the study\n",
    "\n",
    "You tested three hypotheses and found:\n",
    "\n",
    "1. The day of the week has a different effect on the activity of users in Moscow and St. Petersburg.\n",
    "\n",
    "The first hypothesis was fully confirmed.\n",
    "\n",
    "2. Musical preferences do not change much during the week - be it Moscow or St. Petersburg. Small differences are noticeable at the beginning of the week, on Mondays:\n",
    "* in Moscow they listen to music of the “world” genre,\n",
    "* in St. Petersburg - jazz and classical music.\n",
    "\n",
    "Thus, the second hypothesis was only partly confirmed. This result could have been different were it not for gaps in the data.\n",
    "\n",
    "3. The tastes of users of Moscow and St. Petersburg have more in common than differences. Contrary to expectations, genre preferences in St. Petersburg resemble those in Moscow.\n",
    "\n",
    "The third hypothesis was not confirmed. If there are differences in preferences, they are invisible to the bulk of users.\n",
    "\n",
    "**In practice, studies contain tests of statistical hypotheses.**\n",
    "From the data of one service, it is not always possible to draw a conclusion about all the inhabitants of the city.\n",
    "Tests of statistical hypotheses will show how reliable they are, based on the available data.\n",
    "You will learn more about hypothesis testing methods in the following topics."
   ]
  }
 ],
 "metadata": {
  "ExecuteTimeLog": [
   {
    "duration": 503,
    "start_time": "2021-11-17T21:30:21.646Z"
   },
   {
    "duration": 1773,
    "start_time": "2021-11-17T21:30:22.151Z"
   },
   {
    "duration": 394,
    "start_time": "2021-11-17T21:30:23.534Z"
   },
   {
    "duration": 393,
    "start_time": "2021-11-17T21:30:23.536Z"
   },
   {
    "duration": 390,
    "start_time": "2021-11-17T21:30:23.540Z"
   },
   {
    "duration": 388,
    "start_time": "2021-11-17T21:30:23.543Z"
   },
   {
    "duration": 385,
    "start_time": "2021-11-17T21:30:23.547Z"
   },
   {
    "duration": 383,
    "start_time": "2021-11-17T21:30:23.549Z"
   },
   {
    "duration": 382,
    "start_time": "2021-11-17T21:30:23.551Z"
   },
   {
    "duration": 380,
    "start_time": "2021-11-17T21:30:23.554Z"
   },
   {
    "duration": 379,
    "start_time": "2021-11-17T21:30:23.556Z"
   },
   {
    "duration": 373,
    "start_time": "2021-11-17T21:30:23.562Z"
   },
   {
    "duration": 372,
    "start_time": "2021-11-17T21:30:23.564Z"
   },
   {
    "duration": 371,
    "start_time": "2021-11-17T21:30:23.566Z"
   },
   {
    "duration": 370,
    "start_time": "2021-11-17T21:30:23.568Z"
   },
   {
    "duration": 369,
    "start_time": "2021-11-17T21:30:23.570Z"
   },
   {
    "duration": 369,
    "start_time": "2021-11-17T21:30:23.571Z"
   },
   {
    "duration": 368,
    "start_time": "2021-11-17T21:30:23.572Z"
   },
   {
    "duration": 367,
    "start_time": "2021-11-17T21:30:23.574Z"
   },
   {
    "duration": 366,
    "start_time": "2021-11-17T21:30:23.576Z"
   },
   {
    "duration": 365,
    "start_time": "2021-11-17T21:30:23.578Z"
   },
   {
    "duration": 365,
    "start_time": "2021-11-17T21:30:23.579Z"
   },
   {
    "duration": 363,
    "start_time": "2021-11-17T21:30:23.581Z"
   },
   {
    "duration": 362,
    "start_time": "2021-11-17T21:30:23.583Z"
   },
   {
    "duration": 362,
    "start_time": "2021-11-17T21:30:23.584Z"
   },
   {
    "duration": 360,
    "start_time": "2021-11-17T21:30:23.586Z"
   },
   {
    "duration": 359,
    "start_time": "2021-11-17T21:30:23.588Z"
   },
   {
    "duration": 358,
    "start_time": "2021-11-17T21:30:23.590Z"
   },
   {
    "duration": 358,
    "start_time": "2021-11-17T21:30:23.591Z"
   },
   {
    "duration": 356,
    "start_time": "2021-11-17T21:30:23.594Z"
   },
   {
    "duration": 354,
    "start_time": "2021-11-17T21:30:23.596Z"
   },
   {
    "duration": 354,
    "start_time": "2021-11-17T21:30:23.597Z"
   },
   {
    "duration": 353,
    "start_time": "2021-11-17T21:30:23.599Z"
   },
   {
    "duration": 353,
    "start_time": "2021-11-17T21:30:23.600Z"
   },
   {
    "duration": 351,
    "start_time": "2021-11-17T21:30:23.602Z"
   },
   {
    "duration": 350,
    "start_time": "2021-11-17T21:30:23.604Z"
   },
   {
    "duration": 349,
    "start_time": "2021-11-17T21:30:23.606Z"
   },
   {
    "duration": 348,
    "start_time": "2021-11-17T21:30:23.608Z"
   },
   {
    "duration": 347,
    "start_time": "2021-11-17T21:30:23.609Z"
   },
   {
    "duration": 346,
    "start_time": "2021-11-17T21:30:23.611Z"
   },
   {
    "duration": 345,
    "start_time": "2021-11-17T21:30:23.613Z"
   },
   {
    "duration": 345,
    "start_time": "2021-11-17T21:30:23.614Z"
   },
   {
    "duration": 344,
    "start_time": "2021-11-17T21:30:23.616Z"
   },
   {
    "duration": 599,
    "start_time": "2021-11-17T21:30:53.681Z"
   },
   {
    "duration": 664,
    "start_time": "2021-11-17T21:30:54.282Z"
   },
   {
    "duration": 15,
    "start_time": "2021-11-17T21:30:54.948Z"
   },
   {
    "duration": 35,
    "start_time": "2021-11-17T21:30:54.965Z"
   },
   {
    "duration": 12,
    "start_time": "2021-11-17T21:30:55.002Z"
   },
   {
    "duration": 29,
    "start_time": "2021-11-17T21:30:55.015Z"
   },
   {
    "duration": 13,
    "start_time": "2021-11-17T21:30:55.045Z"
   },
   {
    "duration": 19,
    "start_time": "2021-11-17T21:30:55.059Z"
   },
   {
    "duration": 5991,
    "start_time": "2021-11-17T21:30:55.080Z"
   },
   {
    "duration": 385,
    "start_time": "2021-11-17T21:31:00.688Z"
   },
   {
    "duration": 384,
    "start_time": "2021-11-17T21:31:00.690Z"
   },
   {
    "duration": 384,
    "start_time": "2021-11-17T21:31:00.691Z"
   },
   {
    "duration": 384,
    "start_time": "2021-11-17T21:31:00.692Z"
   },
   {
    "duration": 383,
    "start_time": "2021-11-17T21:31:00.694Z"
   },
   {
    "duration": 380,
    "start_time": "2021-11-17T21:31:00.698Z"
   },
   {
    "duration": 379,
    "start_time": "2021-11-17T21:31:00.700Z"
   },
   {
    "duration": 379,
    "start_time": "2021-11-17T21:31:00.701Z"
   },
   {
    "duration": 377,
    "start_time": "2021-11-17T21:31:00.704Z"
   },
   {
    "duration": 377,
    "start_time": "2021-11-17T21:31:00.705Z"
   },
   {
    "duration": 376,
    "start_time": "2021-11-17T21:31:00.707Z"
   },
   {
    "duration": 376,
    "start_time": "2021-11-17T21:31:00.708Z"
   },
   {
    "duration": 375,
    "start_time": "2021-11-17T21:31:00.710Z"
   },
   {
    "duration": 371,
    "start_time": "2021-11-17T21:31:00.715Z"
   },
   {
    "duration": 368,
    "start_time": "2021-11-17T21:31:00.718Z"
   },
   {
    "duration": 368,
    "start_time": "2021-11-17T21:31:00.719Z"
   },
   {
    "duration": 367,
    "start_time": "2021-11-17T21:31:00.721Z"
   },
   {
    "duration": 367,
    "start_time": "2021-11-17T21:31:00.722Z"
   },
   {
    "duration": 366,
    "start_time": "2021-11-17T21:31:00.724Z"
   },
   {
    "duration": 365,
    "start_time": "2021-11-17T21:31:00.725Z"
   },
   {
    "duration": 364,
    "start_time": "2021-11-17T21:31:00.727Z"
   },
   {
    "duration": 361,
    "start_time": "2021-11-17T21:31:00.731Z"
   },
   {
    "duration": 360,
    "start_time": "2021-11-17T21:31:00.733Z"
   },
   {
    "duration": 359,
    "start_time": "2021-11-17T21:31:00.734Z"
   },
   {
    "duration": 358,
    "start_time": "2021-11-17T21:31:00.736Z"
   },
   {
    "duration": 358,
    "start_time": "2021-11-17T21:31:00.737Z"
   },
   {
    "duration": 355,
    "start_time": "2021-11-17T21:31:00.740Z"
   },
   {
    "duration": 354,
    "start_time": "2021-11-17T21:31:00.742Z"
   },
   {
    "duration": 354,
    "start_time": "2021-11-17T21:31:00.743Z"
   },
   {
    "duration": 349,
    "start_time": "2021-11-17T21:31:00.748Z"
   },
   {
    "duration": 348,
    "start_time": "2021-11-17T21:31:00.750Z"
   },
   {
    "duration": 347,
    "start_time": "2021-11-17T21:31:00.752Z"
   },
   {
    "duration": 347,
    "start_time": "2021-11-17T21:31:00.753Z"
   },
   {
    "duration": 346,
    "start_time": "2021-11-17T21:31:00.755Z"
   },
   {
    "duration": 21,
    "start_time": "2021-11-17T21:33:14.183Z"
   },
   {
    "duration": 15,
    "start_time": "2021-11-17T21:33:15.864Z"
   },
   {
    "duration": 21,
    "start_time": "2021-11-17T21:33:17.242Z"
   },
   {
    "duration": 57,
    "start_time": "2021-11-17T21:34:11.738Z"
   },
   {
    "duration": 53,
    "start_time": "2021-11-17T21:34:12.168Z"
   },
   {
    "duration": 46,
    "start_time": "2021-11-17T21:34:12.516Z"
   },
   {
    "duration": 40,
    "start_time": "2021-11-17T21:34:13.032Z"
   },
   {
    "duration": 3,
    "start_time": "2021-11-17T21:34:13.351Z"
   },
   {
    "duration": 10,
    "start_time": "2021-11-17T21:34:13.949Z"
   },
   {
    "duration": 6,
    "start_time": "2021-11-17T21:34:14.435Z"
   },
   {
    "duration": 40,
    "start_time": "2021-11-17T21:34:14.789Z"
   },
   {
    "duration": 6,
    "start_time": "2021-11-17T21:40:29.610Z"
   },
   {
    "duration": 21,
    "start_time": "2021-11-17T21:40:29.941Z"
   },
   {
    "duration": 10,
    "start_time": "2021-11-17T21:40:31.325Z"
   },
   {
    "duration": 3,
    "start_time": "2021-11-17T21:40:34.127Z"
   },
   {
    "duration": 14,
    "start_time": "2021-11-17T21:40:34.821Z"
   },
   {
    "duration": 13,
    "start_time": "2021-11-17T21:40:34.994Z"
   },
   {
    "duration": 14,
    "start_time": "2021-11-17T21:40:35.181Z"
   },
   {
    "duration": 12,
    "start_time": "2021-11-17T21:40:35.381Z"
   },
   {
    "duration": 15,
    "start_time": "2021-11-17T21:40:35.587Z"
   },
   {
    "duration": 13,
    "start_time": "2021-11-17T21:40:35.765Z"
   },
   {
    "duration": 63,
    "start_time": "2021-11-17T21:40:40.012Z"
   },
   {
    "duration": 10,
    "start_time": "2021-11-17T21:41:31.185Z"
   },
   {
    "duration": 8,
    "start_time": "2021-11-17T21:41:31.360Z"
   },
   {
    "duration": 4,
    "start_time": "2021-11-17T21:41:32.151Z"
   },
   {
    "duration": 16,
    "start_time": "2021-11-17T21:41:32.996Z"
   },
   {
    "duration": 12,
    "start_time": "2021-11-17T21:41:33.286Z"
   },
   {
    "duration": 16,
    "start_time": "2021-11-17T21:41:33.822Z"
   },
   {
    "duration": 11,
    "start_time": "2021-11-17T21:41:34.706Z"
   },
   {
    "duration": 8,
    "start_time": "2021-11-17T21:41:39.030Z"
   },
   {
    "duration": 5,
    "start_time": "2021-11-17T21:41:39.528Z"
   },
   {
    "duration": 6,
    "start_time": "2021-11-17T21:42:49.401Z"
   },
   {
    "duration": 5,
    "start_time": "2021-11-17T21:42:50.200Z"
   },
   {
    "duration": 239,
    "start_time": "2021-11-17T21:45:17.596Z"
   },
   {
    "duration": 533,
    "start_time": "2021-11-17T23:38:28.819Z"
   },
   {
    "duration": 128,
    "start_time": "2021-11-17T23:38:29.354Z"
   },
   {
    "duration": 20,
    "start_time": "2021-11-17T23:38:29.484Z"
   },
   {
    "duration": 24,
    "start_time": "2021-11-17T23:38:29.506Z"
   },
   {
    "duration": 6,
    "start_time": "2021-11-17T23:38:29.532Z"
   },
   {
    "duration": 29,
    "start_time": "2021-11-17T23:38:29.540Z"
   },
   {
    "duration": 4,
    "start_time": "2021-11-17T23:38:29.572Z"
   },
   {
    "duration": 22,
    "start_time": "2021-11-17T23:38:29.577Z"
   },
   {
    "duration": 4778,
    "start_time": "2021-11-17T23:38:29.601Z"
   },
   {
    "duration": -85,
    "start_time": "2021-11-17T23:38:34.467Z"
   },
   {
    "duration": -87,
    "start_time": "2021-11-17T23:38:34.470Z"
   },
   {
    "duration": -99,
    "start_time": "2021-11-17T23:38:34.483Z"
   },
   {
    "duration": -100,
    "start_time": "2021-11-17T23:38:34.485Z"
   },
   {
    "duration": -100,
    "start_time": "2021-11-17T23:38:34.486Z"
   },
   {
    "duration": -101,
    "start_time": "2021-11-17T23:38:34.488Z"
   },
   {
    "duration": -102,
    "start_time": "2021-11-17T23:38:34.490Z"
   },
   {
    "duration": -102,
    "start_time": "2021-11-17T23:38:34.491Z"
   },
   {
    "duration": -103,
    "start_time": "2021-11-17T23:38:34.493Z"
   },
   {
    "duration": -103,
    "start_time": "2021-11-17T23:38:34.494Z"
   },
   {
    "duration": -103,
    "start_time": "2021-11-17T23:38:34.495Z"
   },
   {
    "duration": -103,
    "start_time": "2021-11-17T23:38:34.496Z"
   },
   {
    "duration": -103,
    "start_time": "2021-11-17T23:38:34.497Z"
   },
   {
    "duration": -103,
    "start_time": "2021-11-17T23:38:34.498Z"
   },
   {
    "duration": -103,
    "start_time": "2021-11-17T23:38:34.499Z"
   },
   {
    "duration": -138,
    "start_time": "2021-11-17T23:38:34.535Z"
   },
   {
    "duration": -141,
    "start_time": "2021-11-17T23:38:34.539Z"
   },
   {
    "duration": -165,
    "start_time": "2021-11-17T23:38:34.563Z"
   },
   {
    "duration": -165,
    "start_time": "2021-11-17T23:38:34.564Z"
   },
   {
    "duration": -166,
    "start_time": "2021-11-17T23:38:34.566Z"
   },
   {
    "duration": -166,
    "start_time": "2021-11-17T23:38:34.567Z"
   },
   {
    "duration": -167,
    "start_time": "2021-11-17T23:38:34.569Z"
   },
   {
    "duration": -176,
    "start_time": "2021-11-17T23:38:34.579Z"
   },
   {
    "duration": -176,
    "start_time": "2021-11-17T23:38:34.580Z"
   },
   {
    "duration": -176,
    "start_time": "2021-11-17T23:38:34.581Z"
   },
   {
    "duration": -176,
    "start_time": "2021-11-17T23:38:34.582Z"
   },
   {
    "duration": -176,
    "start_time": "2021-11-17T23:38:34.583Z"
   },
   {
    "duration": -176,
    "start_time": "2021-11-17T23:38:34.584Z"
   },
   {
    "duration": -176,
    "start_time": "2021-11-17T23:38:34.585Z"
   },
   {
    "duration": -175,
    "start_time": "2021-11-17T23:38:34.586Z"
   },
   {
    "duration": -175,
    "start_time": "2021-11-17T23:38:34.587Z"
   },
   {
    "duration": -175,
    "start_time": "2021-11-17T23:38:34.588Z"
   },
   {
    "duration": -175,
    "start_time": "2021-11-17T23:38:34.589Z"
   },
   {
    "duration": -173,
    "start_time": "2021-11-17T23:38:34.589Z"
   },
   {
    "duration": 174,
    "start_time": "2021-11-17T23:39:19.140Z"
   },
   {
    "duration": 2,
    "start_time": "2021-11-17T23:56:29.549Z"
   },
   {
    "duration": 2,
    "start_time": "2021-11-17T23:56:39.216Z"
   },
   {
    "duration": 24,
    "start_time": "2021-11-17T23:56:50.616Z"
   },
   {
    "duration": 2,
    "start_time": "2021-11-17T23:56:55.057Z"
   },
   {
    "duration": 558,
    "start_time": "2021-11-18T00:07:08.966Z"
   },
   {
    "duration": 128,
    "start_time": "2021-11-18T00:07:09.525Z"
   },
   {
    "duration": 16,
    "start_time": "2021-11-18T00:07:09.656Z"
   },
   {
    "duration": 35,
    "start_time": "2021-11-18T00:07:09.673Z"
   },
   {
    "duration": 14,
    "start_time": "2021-11-18T00:07:09.709Z"
   },
   {
    "duration": 30,
    "start_time": "2021-11-18T00:07:09.724Z"
   },
   {
    "duration": 26,
    "start_time": "2021-11-18T00:07:09.756Z"
   },
   {
    "duration": 6,
    "start_time": "2021-11-18T00:07:09.783Z"
   },
   {
    "duration": 6,
    "start_time": "2021-11-18T00:07:09.791Z"
   },
   {
    "duration": 4,
    "start_time": "2021-11-18T00:07:09.799Z"
   },
   {
    "duration": 24,
    "start_time": "2021-11-18T00:07:09.804Z"
   },
   {
    "duration": 22,
    "start_time": "2021-11-18T00:07:09.830Z"
   },
   {
    "duration": 19,
    "start_time": "2021-11-18T00:07:09.854Z"
   },
   {
    "duration": 60,
    "start_time": "2021-11-18T00:07:09.875Z"
   },
   {
    "duration": 77,
    "start_time": "2021-11-18T00:07:09.937Z"
   },
   {
    "duration": 51,
    "start_time": "2021-11-18T00:07:10.015Z"
   },
   {
    "duration": 53,
    "start_time": "2021-11-18T00:07:10.067Z"
   },
   {
    "duration": 2,
    "start_time": "2021-11-18T00:07:10.122Z"
   },
   {
    "duration": 20,
    "start_time": "2021-11-18T00:07:10.126Z"
   },
   {
    "duration": 13,
    "start_time": "2021-11-18T00:07:10.147Z"
   },
   {
    "duration": 46,
    "start_time": "2021-11-18T00:07:10.161Z"
   },
   {
    "duration": 6,
    "start_time": "2021-11-18T00:07:10.210Z"
   },
   {
    "duration": 24,
    "start_time": "2021-11-18T00:07:10.217Z"
   },
   {
    "duration": 10,
    "start_time": "2021-11-18T00:07:10.243Z"
   },
   {
    "duration": 3,
    "start_time": "2021-11-18T00:07:10.255Z"
   },
   {
    "duration": 44,
    "start_time": "2021-11-18T00:07:10.259Z"
   },
   {
    "duration": 27,
    "start_time": "2021-11-18T00:07:10.304Z"
   },
   {
    "duration": 30,
    "start_time": "2021-11-18T00:07:10.332Z"
   },
   {
    "duration": 43,
    "start_time": "2021-11-18T00:07:10.364Z"
   },
   {
    "duration": 21,
    "start_time": "2021-11-18T00:07:10.409Z"
   },
   {
    "duration": 14,
    "start_time": "2021-11-18T00:07:10.432Z"
   },
   {
    "duration": 70,
    "start_time": "2021-11-18T00:07:10.447Z"
   },
   {
    "duration": 9,
    "start_time": "2021-11-18T00:07:10.518Z"
   },
   {
    "duration": 33,
    "start_time": "2021-11-18T00:07:10.529Z"
   },
   {
    "duration": 22,
    "start_time": "2021-11-18T00:07:10.564Z"
   },
   {
    "duration": 73,
    "start_time": "2021-11-18T00:07:10.588Z"
   },
   {
    "duration": 34,
    "start_time": "2021-11-18T00:07:10.663Z"
   },
   {
    "duration": 43,
    "start_time": "2021-11-18T00:07:10.699Z"
   },
   {
    "duration": 13,
    "start_time": "2021-11-18T00:07:10.744Z"
   },
   {
    "duration": 13,
    "start_time": "2021-11-18T00:07:10.758Z"
   },
   {
    "duration": 21,
    "start_time": "2021-11-18T00:07:10.772Z"
   },
   {
    "duration": 9,
    "start_time": "2021-11-18T00:07:10.794Z"
   },
   {
    "duration": 9,
    "start_time": "2021-11-18T00:07:10.805Z"
   },
   {
    "duration": 527,
    "start_time": "2021-11-18T00:14:40.522Z"
   },
   {
    "duration": 137,
    "start_time": "2021-11-18T00:14:41.050Z"
   },
   {
    "duration": 15,
    "start_time": "2021-11-18T00:14:41.191Z"
   },
   {
    "duration": 25,
    "start_time": "2021-11-18T00:14:41.207Z"
   },
   {
    "duration": 4,
    "start_time": "2021-11-18T00:14:41.234Z"
   },
   {
    "duration": 22,
    "start_time": "2021-11-18T00:14:41.239Z"
   },
   {
    "duration": 3,
    "start_time": "2021-11-18T00:14:41.263Z"
   },
   {
    "duration": 24,
    "start_time": "2021-11-18T00:14:41.268Z"
   },
   {
    "duration": 4,
    "start_time": "2021-11-18T00:14:41.294Z"
   },
   {
    "duration": 5,
    "start_time": "2021-11-18T00:14:41.299Z"
   },
   {
    "duration": 24,
    "start_time": "2021-11-18T00:14:41.305Z"
   },
   {
    "duration": 18,
    "start_time": "2021-11-18T00:14:41.330Z"
   },
   {
    "duration": 45,
    "start_time": "2021-11-18T00:14:41.350Z"
   },
   {
    "duration": 56,
    "start_time": "2021-11-18T00:14:41.396Z"
   },
   {
    "duration": 80,
    "start_time": "2021-11-18T00:14:41.453Z"
   },
   {
    "duration": 57,
    "start_time": "2021-11-18T00:14:41.535Z"
   },
   {
    "duration": 41,
    "start_time": "2021-11-18T00:14:41.593Z"
   },
   {
    "duration": 3,
    "start_time": "2021-11-18T00:14:41.635Z"
   },
   {
    "duration": 12,
    "start_time": "2021-11-18T00:14:41.639Z"
   },
   {
    "duration": 6,
    "start_time": "2021-11-18T00:14:41.652Z"
   },
   {
    "duration": 66,
    "start_time": "2021-11-18T00:14:41.660Z"
   },
   {
    "duration": 5,
    "start_time": "2021-11-18T00:14:41.728Z"
   },
   {
    "duration": 24,
    "start_time": "2021-11-18T00:14:41.736Z"
   },
   {
    "duration": 32,
    "start_time": "2021-11-18T00:14:41.762Z"
   },
   {
    "duration": 4,
    "start_time": "2021-11-18T00:14:41.795Z"
   },
   {
    "duration": 20,
    "start_time": "2021-11-18T00:14:41.800Z"
   },
   {
    "duration": 13,
    "start_time": "2021-11-18T00:14:41.822Z"
   },
   {
    "duration": 14,
    "start_time": "2021-11-18T00:14:41.837Z"
   },
   {
    "duration": 43,
    "start_time": "2021-11-18T00:14:41.852Z"
   },
   {
    "duration": 16,
    "start_time": "2021-11-18T00:14:41.896Z"
   },
   {
    "duration": 13,
    "start_time": "2021-11-18T00:14:41.913Z"
   },
   {
    "duration": 87,
    "start_time": "2021-11-18T00:14:41.928Z"
   },
   {
    "duration": 10,
    "start_time": "2021-11-18T00:14:42.016Z"
   },
   {
    "duration": 8,
    "start_time": "2021-11-18T00:14:42.027Z"
   },
   {
    "duration": 4,
    "start_time": "2021-11-18T00:14:42.036Z"
   },
   {
    "duration": 20,
    "start_time": "2021-11-18T00:14:42.041Z"
   },
   {
    "duration": 35,
    "start_time": "2021-11-18T00:14:42.063Z"
   },
   {
    "duration": 15,
    "start_time": "2021-11-18T00:14:42.100Z"
   },
   {
    "duration": 10,
    "start_time": "2021-11-18T00:14:42.116Z"
   },
   {
    "duration": 7,
    "start_time": "2021-11-18T00:14:42.127Z"
   },
   {
    "duration": 4,
    "start_time": "2021-11-18T00:14:42.136Z"
   },
   {
    "duration": 7,
    "start_time": "2021-11-18T00:14:42.141Z"
   },
   {
    "duration": 4,
    "start_time": "2021-11-18T00:14:42.149Z"
   },
   {
    "duration": 781,
    "start_time": "2021-11-18T16:16:24.912Z"
   },
   {
    "duration": 192,
    "start_time": "2021-11-18T16:16:25.695Z"
   },
   {
    "duration": 27,
    "start_time": "2021-11-18T16:16:25.890Z"
   },
   {
    "duration": 51,
    "start_time": "2021-11-18T16:16:25.920Z"
   },
   {
    "duration": 16,
    "start_time": "2021-11-18T16:16:25.973Z"
   },
   {
    "duration": 39,
    "start_time": "2021-11-18T16:16:25.992Z"
   },
   {
    "duration": 11,
    "start_time": "2021-11-18T16:16:26.034Z"
   },
   {
    "duration": 4,
    "start_time": "2021-11-18T16:16:26.066Z"
   },
   {
    "duration": 8,
    "start_time": "2021-11-18T16:16:26.073Z"
   },
   {
    "duration": 7,
    "start_time": "2021-11-18T16:16:26.084Z"
   },
   {
    "duration": 39,
    "start_time": "2021-11-18T16:16:26.094Z"
   },
   {
    "duration": 46,
    "start_time": "2021-11-18T16:16:26.136Z"
   },
   {
    "duration": 33,
    "start_time": "2021-11-18T16:16:26.185Z"
   },
   {
    "duration": 111,
    "start_time": "2021-11-18T16:16:26.220Z"
   },
   {
    "duration": 113,
    "start_time": "2021-11-18T16:16:26.333Z"
   },
   {
    "duration": 89,
    "start_time": "2021-11-18T16:16:26.449Z"
   },
   {
    "duration": 77,
    "start_time": "2021-11-18T16:16:26.540Z"
   },
   {
    "duration": 4,
    "start_time": "2021-11-18T16:16:26.620Z"
   },
   {
    "duration": 22,
    "start_time": "2021-11-18T16:16:26.626Z"
   },
   {
    "duration": 23,
    "start_time": "2021-11-18T16:16:26.650Z"
   },
   {
    "duration": 67,
    "start_time": "2021-11-18T16:16:26.676Z"
   },
   {
    "duration": 27,
    "start_time": "2021-11-18T16:16:26.746Z"
   },
   {
    "duration": 33,
    "start_time": "2021-11-18T16:16:26.781Z"
   },
   {
    "duration": 59,
    "start_time": "2021-11-18T16:16:26.818Z"
   },
   {
    "duration": 6,
    "start_time": "2021-11-18T16:16:26.880Z"
   },
   {
    "duration": 29,
    "start_time": "2021-11-18T16:16:26.889Z"
   },
   {
    "duration": 50,
    "start_time": "2021-11-18T16:16:26.921Z"
   },
   {
    "duration": 22,
    "start_time": "2021-11-18T16:16:26.973Z"
   },
   {
    "duration": 24,
    "start_time": "2021-11-18T16:16:26.998Z"
   },
   {
    "duration": 55,
    "start_time": "2021-11-18T16:16:27.025Z"
   },
   {
    "duration": 18,
    "start_time": "2021-11-18T16:16:27.082Z"
   },
   {
    "duration": 116,
    "start_time": "2021-11-18T16:16:27.103Z"
   },
   {
    "duration": 15,
    "start_time": "2021-11-18T16:16:27.221Z"
   },
   {
    "duration": 29,
    "start_time": "2021-11-18T16:16:27.238Z"
   },
   {
    "duration": 7,
    "start_time": "2021-11-18T16:16:27.270Z"
   },
   {
    "duration": 29,
    "start_time": "2021-11-18T16:16:27.280Z"
   },
   {
    "duration": 16,
    "start_time": "2021-11-18T16:16:27.312Z"
   },
   {
    "duration": 51,
    "start_time": "2021-11-18T16:16:27.330Z"
   },
   {
    "duration": 17,
    "start_time": "2021-11-18T16:16:27.383Z"
   },
   {
    "duration": 24,
    "start_time": "2021-11-18T16:16:27.402Z"
   },
   {
    "duration": 11,
    "start_time": "2021-11-18T16:16:27.429Z"
   },
   {
    "duration": 26,
    "start_time": "2021-11-18T16:16:27.442Z"
   },
   {
    "duration": 11,
    "start_time": "2021-11-18T16:16:27.471Z"
   },
   {
    "duration": 412,
    "start_time": "2021-11-18T19:42:01.392Z"
   },
   {
    "duration": 771,
    "start_time": "2021-11-18T19:42:22.482Z"
   },
   {
    "duration": 190,
    "start_time": "2021-11-18T19:42:23.256Z"
   },
   {
    "duration": 26,
    "start_time": "2021-11-18T19:42:23.449Z"
   },
   {
    "duration": 31,
    "start_time": "2021-11-18T19:42:23.477Z"
   },
   {
    "duration": 5,
    "start_time": "2021-11-18T19:42:23.511Z"
   },
   {
    "duration": 58,
    "start_time": "2021-11-18T19:42:23.518Z"
   },
   {
    "duration": 8,
    "start_time": "2021-11-18T19:42:23.578Z"
   },
   {
    "duration": 7,
    "start_time": "2021-11-18T19:42:23.589Z"
   },
   {
    "duration": 7,
    "start_time": "2021-11-18T19:42:23.598Z"
   },
   {
    "duration": 6,
    "start_time": "2021-11-18T19:42:23.607Z"
   },
   {
    "duration": 59,
    "start_time": "2021-11-18T19:42:23.616Z"
   },
   {
    "duration": 21,
    "start_time": "2021-11-18T19:42:23.678Z"
   },
   {
    "duration": 35,
    "start_time": "2021-11-18T19:42:23.701Z"
   },
   {
    "duration": 81,
    "start_time": "2021-11-18T19:42:23.760Z"
   },
   {
    "duration": 90,
    "start_time": "2021-11-18T19:42:23.860Z"
   },
   {
    "duration": 76,
    "start_time": "2021-11-18T19:42:23.952Z"
   },
   {
    "duration": 79,
    "start_time": "2021-11-18T19:42:24.031Z"
   },
   {
    "duration": 4,
    "start_time": "2021-11-18T19:42:24.113Z"
   },
   {
    "duration": 24,
    "start_time": "2021-11-18T19:42:24.119Z"
   },
   {
    "duration": 10,
    "start_time": "2021-11-18T19:42:24.159Z"
   },
   {
    "duration": 68,
    "start_time": "2021-11-18T19:42:24.172Z"
   },
   {
    "duration": 20,
    "start_time": "2021-11-18T19:42:24.243Z"
   },
   {
    "duration": 28,
    "start_time": "2021-11-18T19:42:24.269Z"
   },
   {
    "duration": 14,
    "start_time": "2021-11-18T19:42:24.300Z"
   },
   {
    "duration": 46,
    "start_time": "2021-11-18T19:42:24.316Z"
   },
   {
    "duration": 34,
    "start_time": "2021-11-18T19:42:24.364Z"
   },
   {
    "duration": 18,
    "start_time": "2021-11-18T19:42:24.400Z"
   },
   {
    "duration": 42,
    "start_time": "2021-11-18T19:42:24.421Z"
   },
   {
    "duration": 18,
    "start_time": "2021-11-18T19:42:24.466Z"
   },
   {
    "duration": 22,
    "start_time": "2021-11-18T19:42:24.487Z"
   },
   {
    "duration": 52,
    "start_time": "2021-11-18T19:42:24.512Z"
   },
   {
    "duration": 98,
    "start_time": "2021-11-18T19:42:24.567Z"
   },
   {
    "duration": 14,
    "start_time": "2021-11-18T19:42:24.667Z"
   },
   {
    "duration": 13,
    "start_time": "2021-11-18T19:42:24.683Z"
   },
   {
    "duration": 6,
    "start_time": "2021-11-18T19:42:24.698Z"
   },
   {
    "duration": 63,
    "start_time": "2021-11-18T19:42:24.707Z"
   },
   {
    "duration": 17,
    "start_time": "2021-11-18T19:42:24.773Z"
   },
   {
    "duration": 23,
    "start_time": "2021-11-18T19:42:24.793Z"
   },
   {
    "duration": 52,
    "start_time": "2021-11-18T19:42:24.819Z"
   },
   {
    "duration": 13,
    "start_time": "2021-11-18T19:42:24.874Z"
   },
   {
    "duration": 8,
    "start_time": "2021-11-18T19:42:24.889Z"
   },
   {
    "duration": 12,
    "start_time": "2021-11-18T19:42:24.900Z"
   },
   {
    "duration": 45,
    "start_time": "2021-11-18T19:42:24.915Z"
   },
   {
    "duration": 391,
    "start_time": "2021-11-18T21:54:16.496Z"
   },
   {
    "duration": 1027,
    "start_time": "2021-11-18T21:54:24.966Z"
   },
   {
    "duration": 259,
    "start_time": "2021-11-18T21:54:25.997Z"
   },
   {
    "duration": 41,
    "start_time": "2021-11-18T21:54:26.260Z"
   },
   {
    "duration": 50,
    "start_time": "2021-11-18T21:54:26.304Z"
   },
   {
    "duration": 27,
    "start_time": "2021-11-18T21:54:26.357Z"
   },
   {
    "duration": 27,
    "start_time": "2021-11-18T21:54:26.386Z"
   },
   {
    "duration": 5,
    "start_time": "2021-11-18T21:54:26.415Z"
   },
   {
    "duration": 3,
    "start_time": "2021-11-18T21:54:26.424Z"
   },
   {
    "duration": 51,
    "start_time": "2021-11-18T21:54:26.430Z"
   },
   {
    "duration": 4,
    "start_time": "2021-11-18T21:54:26.484Z"
   },
   {
    "duration": 42,
    "start_time": "2021-11-18T21:54:26.491Z"
   },
   {
    "duration": 49,
    "start_time": "2021-11-18T21:54:26.536Z"
   },
   {
    "duration": 30,
    "start_time": "2021-11-18T21:54:26.587Z"
   },
   {
    "duration": 100,
    "start_time": "2021-11-18T21:54:26.620Z"
   },
   {
    "duration": 112,
    "start_time": "2021-11-18T21:54:26.723Z"
   },
   {
    "duration": 128,
    "start_time": "2021-11-18T21:54:26.838Z"
   },
   {
    "duration": 79,
    "start_time": "2021-11-18T21:54:26.969Z"
   },
   {
    "duration": 5,
    "start_time": "2021-11-18T21:54:27.051Z"
   },
   {
    "duration": 15,
    "start_time": "2021-11-18T21:54:27.081Z"
   },
   {
    "duration": 11,
    "start_time": "2021-11-18T21:54:27.098Z"
   },
   {
    "duration": 94,
    "start_time": "2021-11-18T21:54:27.112Z"
   },
   {
    "duration": 8,
    "start_time": "2021-11-18T21:54:27.208Z"
   },
   {
    "duration": 61,
    "start_time": "2021-11-18T21:54:27.222Z"
   },
   {
    "duration": 15,
    "start_time": "2021-11-18T21:54:27.285Z"
   },
   {
    "duration": 4,
    "start_time": "2021-11-18T21:54:27.302Z"
   },
   {
    "duration": 25,
    "start_time": "2021-11-18T21:54:27.309Z"
   },
   {
    "duration": 17,
    "start_time": "2021-11-18T21:54:27.336Z"
   },
   {
    "duration": 53,
    "start_time": "2021-11-18T21:54:27.355Z"
   },
   {
    "duration": 27,
    "start_time": "2021-11-18T21:54:27.411Z"
   },
   {
    "duration": 63,
    "start_time": "2021-11-18T21:54:27.441Z"
   },
   {
    "duration": 26,
    "start_time": "2021-11-18T21:54:27.507Z"
   },
   {
    "duration": 117,
    "start_time": "2021-11-18T21:54:27.536Z"
   },
   {
    "duration": 33,
    "start_time": "2021-11-18T21:54:27.656Z"
   },
   {
    "duration": 14,
    "start_time": "2021-11-18T21:54:27.691Z"
   },
   {
    "duration": 7,
    "start_time": "2021-11-18T21:54:27.708Z"
   },
   {
    "duration": 29,
    "start_time": "2021-11-18T21:54:27.718Z"
   },
   {
    "duration": 46,
    "start_time": "2021-11-18T21:54:27.750Z"
   },
   {
    "duration": 25,
    "start_time": "2021-11-18T21:54:27.799Z"
   },
   {
    "duration": 15,
    "start_time": "2021-11-18T21:54:27.827Z"
   },
   {
    "duration": 48,
    "start_time": "2021-11-18T21:54:27.844Z"
   },
   {
    "duration": 7,
    "start_time": "2021-11-18T21:54:27.894Z"
   },
   {
    "duration": 10,
    "start_time": "2021-11-18T21:54:27.903Z"
   },
   {
    "duration": 7,
    "start_time": "2021-11-18T21:54:27.915Z"
   },
   {
    "duration": 7,
    "start_time": "2021-11-18T21:54:50.263Z"
   },
   {
    "duration": 7,
    "start_time": "2021-11-18T21:54:54.875Z"
   },
   {
    "duration": 33,
    "start_time": "2021-11-18T21:55:02.560Z"
   },
   {
    "duration": 431,
    "start_time": "2022-08-26T09:10:40.470Z"
   },
   {
    "duration": 230,
    "start_time": "2022-08-26T09:10:40.903Z"
   },
   {
    "duration": 17,
    "start_time": "2022-08-26T09:10:41.136Z"
   },
   {
    "duration": 27,
    "start_time": "2022-08-26T09:10:41.155Z"
   },
   {
    "duration": 4,
    "start_time": "2022-08-26T09:10:41.184Z"
   },
   {
    "duration": 21,
    "start_time": "2022-08-26T09:10:41.190Z"
   },
   {
    "duration": 5,
    "start_time": "2022-08-26T09:10:41.214Z"
   },
   {
    "duration": 11,
    "start_time": "2022-08-26T09:10:41.222Z"
   },
   {
    "duration": 8,
    "start_time": "2022-08-26T09:10:41.235Z"
   },
   {
    "duration": 20,
    "start_time": "2022-08-26T09:10:41.247Z"
   },
   {
    "duration": 33,
    "start_time": "2022-08-26T09:10:41.269Z"
   },
   {
    "duration": 22,
    "start_time": "2022-08-26T09:10:41.304Z"
   },
   {
    "duration": 23,
    "start_time": "2022-08-26T09:10:41.329Z"
   },
   {
    "duration": 92,
    "start_time": "2022-08-26T09:10:41.354Z"
   },
   {
    "duration": 83,
    "start_time": "2022-08-26T09:10:41.448Z"
   },
   {
    "duration": 70,
    "start_time": "2022-08-26T09:10:41.533Z"
   },
   {
    "duration": 46,
    "start_time": "2022-08-26T09:10:41.605Z"
   },
   {
    "duration": 3,
    "start_time": "2022-08-26T09:10:41.653Z"
   },
   {
    "duration": 17,
    "start_time": "2022-08-26T09:10:41.658Z"
   },
   {
    "duration": 27,
    "start_time": "2022-08-26T09:10:41.676Z"
   },
   {
    "duration": 42,
    "start_time": "2022-08-26T09:10:41.704Z"
   },
   {
    "duration": 7,
    "start_time": "2022-08-26T09:10:41.748Z"
   },
   {
    "duration": 47,
    "start_time": "2022-08-26T09:10:41.757Z"
   },
   {
    "duration": 13,
    "start_time": "2022-08-26T09:10:41.805Z"
   },
   {
    "duration": 3,
    "start_time": "2022-08-26T09:10:41.820Z"
   },
   {
    "duration": 26,
    "start_time": "2022-08-26T09:10:41.824Z"
   },
   {
    "duration": 15,
    "start_time": "2022-08-26T09:10:41.851Z"
   },
   {
    "duration": 38,
    "start_time": "2022-08-26T09:10:41.869Z"
   },
   {
    "duration": 13,
    "start_time": "2022-08-26T09:10:41.909Z"
   },
   {
    "duration": 15,
    "start_time": "2022-08-26T09:10:41.923Z"
   },
   {
    "duration": 16,
    "start_time": "2022-08-26T09:10:41.939Z"
   },
   {
    "duration": 95,
    "start_time": "2022-08-26T09:10:41.957Z"
   },
   {
    "duration": 12,
    "start_time": "2022-08-26T09:10:42.055Z"
   },
   {
    "duration": 11,
    "start_time": "2022-08-26T09:10:42.068Z"
   },
   {
    "duration": 22,
    "start_time": "2022-08-26T09:10:42.081Z"
   },
   {
    "duration": 27,
    "start_time": "2022-08-26T09:10:42.105Z"
   },
   {
    "duration": 12,
    "start_time": "2022-08-26T09:10:42.134Z"
   },
   {
    "duration": 16,
    "start_time": "2022-08-26T09:10:42.147Z"
   },
   {
    "duration": 12,
    "start_time": "2022-08-26T09:10:42.165Z"
   },
   {
    "duration": 32,
    "start_time": "2022-08-26T09:10:42.179Z"
   },
   {
    "duration": 7,
    "start_time": "2022-08-26T09:10:42.213Z"
   },
   {
    "duration": 10,
    "start_time": "2022-08-26T09:10:42.222Z"
   },
   {
    "duration": 5,
    "start_time": "2022-08-26T09:10:42.234Z"
   }
  ],
  "colab": {
   "collapsed_sections": [
    "E0vqbgi9ay0H",
    "VUC88oWjTJw2"
   ],
   "name": "yandex_music_project_2021.2.ipynb",
   "provenance": []
  },
  "kernelspec": {
   "display_name": "Python 3 (ipykernel)",
   "language": "python",
   "name": "python3"
  },
  "language_info": {
   "codemirror_mode": {
    "name": "ipython",
    "version": 3
   },
   "file_extension": ".py",
   "mimetype": "text/x-python",
   "name": "python",
   "nbconvert_exporter": "python",
   "pygments_lexer": "ipython3",
   "version": "3.9.12"
  },
  "toc": {
   "base_numbering": 1,
   "nav_menu": {},
   "number_sections": true,
   "sideBar": true,
   "skip_h1_title": true,
   "title_cell": "Table of Contents",
   "title_sidebar": "Contents",
   "toc_cell": false,
   "toc_position": {},
   "toc_section_display": true,
   "toc_window_display": true
  }
 },
 "nbformat": 4,
 "nbformat_minor": 1
}
