{
 "cells": [
  {
   "cell_type": "markdown",
   "metadata": {
    "cellId": "hbc6sxn7wz2keadw9mlp3"
   },
   "source": [
    "# Customer churn\n",
    "\n",
    "Customers began to leave Beta-Bank. Every month. A little, but noticeable. Banking marketers figured it was cheaper to keep current customers than to attract new ones.\n",
    "\n",
    "It is necessary to predict whether the client will leave the bank in the near future or not. You are provided with historical data on customer behavior and termination of agreements with the bank.\n",
    "\n",
    "Build a model with an extremely large *F1*-measure. To pass the project successfully, you need to bring the metric to 0.59. Check the *F1*-measure on the test set yourself.\n",
    "\n",
    "Additionally measure *AUC-ROC*, compare its value with *F1*-measure.\n",
    "\n",
    "Data Source: [https://www.kaggle.com/barelydedicated/bank-customer-churn-modeling](https://www.kaggle.com/barelydedicated/bank-customer-churn-modeling)\n",
    "\n",
    "## Data preparation"
   ]
  },
  {
   "cell_type": "code",
   "execution_count": 1,
   "metadata": {
    "cellId": "0bpmkxu60faihbe8l4vc6"
   },
   "outputs": [],
   "source": [
    "import pandas as pd\n",
    "import matplotlib.pyplot as plt\n",
    "\n",
    "from sklearn.tree import DecisionTreeClassifier\n",
    "from sklearn.ensemble import RandomForestClassifier\n",
    "from sklearn.linear_model import LogisticRegression\n",
    "from sklearn.model_selection import train_test_split\n",
    "from sklearn.metrics import accuracy_score\n",
    "from sklearn.dummy import DummyClassifier\n",
    "from sklearn.preprocessing import StandardScaler\n",
    "from sklearn.metrics import f1_score\n",
    "from sklearn.metrics import roc_auc_score\n",
    "from sklearn.utils import shuffle\n",
    "from sklearn.metrics import roc_curve\n",
    "\n",
    "import warnings\n",
    "warnings.filterwarnings('ignore')"
   ]
  },
  {
   "cell_type": "code",
   "execution_count": 2,
   "metadata": {
    "cellId": "21zaqu5wftnl3fk22fhjg"
   },
   "outputs": [],
   "source": [
    "path ='/Users/vzuga/Documents/jupyter/'\n",
    "\n",
    "try:\n",
    "    df = pd.read_csv('Churn.csv')\n",
    "except:\n",
    "    df = pd.read_csv(path+'/datasets/Churn.csv')"
   ]
  },
  {
   "cell_type": "code",
   "execution_count": 3,
   "metadata": {
    "cellId": "i7urp4fhow2q0q5l7cq7w"
   },
   "outputs": [
    {
     "name": "stdout",
     "output_type": "stream",
     "text": [
      "<class 'pandas.core.frame.DataFrame'>\n",
      "RangeIndex: 10000 entries, 0 to 9999\n",
      "Data columns (total 14 columns):\n",
      " #   Column           Non-Null Count  Dtype  \n",
      "---  ------           --------------  -----  \n",
      " 0   RowNumber        10000 non-null  int64  \n",
      " 1   CustomerId       10000 non-null  int64  \n",
      " 2   Surname          10000 non-null  object \n",
      " 3   CreditScore      10000 non-null  int64  \n",
      " 4   Geography        10000 non-null  object \n",
      " 5   Gender           10000 non-null  object \n",
      " 6   Age              10000 non-null  int64  \n",
      " 7   Tenure           9091 non-null   float64\n",
      " 8   Balance          10000 non-null  float64\n",
      " 9   NumOfProducts    10000 non-null  int64  \n",
      " 10  HasCrCard        10000 non-null  int64  \n",
      " 11  IsActiveMember   10000 non-null  int64  \n",
      " 12  EstimatedSalary  10000 non-null  float64\n",
      " 13  Exited           10000 non-null  int64  \n",
      "dtypes: float64(3), int64(8), object(3)\n",
      "memory usage: 1.1+ MB\n",
      "\n"
     ]
    },
    {
     "data": {
      "text/html": [
       "<div>\n",
       "<style scoped>\n",
       "    .dataframe tbody tr th:only-of-type {\n",
       "        vertical-align: middle;\n",
       "    }\n",
       "\n",
       "    .dataframe tbody tr th {\n",
       "        vertical-align: top;\n",
       "    }\n",
       "\n",
       "    .dataframe thead th {\n",
       "        text-align: right;\n",
       "    }\n",
       "</style>\n",
       "<table border=\"1\" class=\"dataframe\">\n",
       "  <thead>\n",
       "    <tr style=\"text-align: right;\">\n",
       "      <th></th>\n",
       "      <th>RowNumber</th>\n",
       "      <th>CustomerId</th>\n",
       "      <th>Surname</th>\n",
       "      <th>CreditScore</th>\n",
       "      <th>Geography</th>\n",
       "      <th>Gender</th>\n",
       "      <th>Age</th>\n",
       "      <th>Tenure</th>\n",
       "      <th>Balance</th>\n",
       "      <th>NumOfProducts</th>\n",
       "      <th>HasCrCard</th>\n",
       "      <th>IsActiveMember</th>\n",
       "      <th>EstimatedSalary</th>\n",
       "      <th>Exited</th>\n",
       "    </tr>\n",
       "  </thead>\n",
       "  <tbody>\n",
       "    <tr>\n",
       "      <th>0</th>\n",
       "      <td>1</td>\n",
       "      <td>15634602</td>\n",
       "      <td>Hargrave</td>\n",
       "      <td>619</td>\n",
       "      <td>France</td>\n",
       "      <td>Female</td>\n",
       "      <td>42</td>\n",
       "      <td>2.0</td>\n",
       "      <td>0.00</td>\n",
       "      <td>1</td>\n",
       "      <td>1</td>\n",
       "      <td>1</td>\n",
       "      <td>101348.88</td>\n",
       "      <td>1</td>\n",
       "    </tr>\n",
       "    <tr>\n",
       "      <th>1</th>\n",
       "      <td>2</td>\n",
       "      <td>15647311</td>\n",
       "      <td>Hill</td>\n",
       "      <td>608</td>\n",
       "      <td>Spain</td>\n",
       "      <td>Female</td>\n",
       "      <td>41</td>\n",
       "      <td>1.0</td>\n",
       "      <td>83807.86</td>\n",
       "      <td>1</td>\n",
       "      <td>0</td>\n",
       "      <td>1</td>\n",
       "      <td>112542.58</td>\n",
       "      <td>0</td>\n",
       "    </tr>\n",
       "    <tr>\n",
       "      <th>2</th>\n",
       "      <td>3</td>\n",
       "      <td>15619304</td>\n",
       "      <td>Onio</td>\n",
       "      <td>502</td>\n",
       "      <td>France</td>\n",
       "      <td>Female</td>\n",
       "      <td>42</td>\n",
       "      <td>8.0</td>\n",
       "      <td>159660.80</td>\n",
       "      <td>3</td>\n",
       "      <td>1</td>\n",
       "      <td>0</td>\n",
       "      <td>113931.57</td>\n",
       "      <td>1</td>\n",
       "    </tr>\n",
       "    <tr>\n",
       "      <th>3</th>\n",
       "      <td>4</td>\n",
       "      <td>15701354</td>\n",
       "      <td>Boni</td>\n",
       "      <td>699</td>\n",
       "      <td>France</td>\n",
       "      <td>Female</td>\n",
       "      <td>39</td>\n",
       "      <td>1.0</td>\n",
       "      <td>0.00</td>\n",
       "      <td>2</td>\n",
       "      <td>0</td>\n",
       "      <td>0</td>\n",
       "      <td>93826.63</td>\n",
       "      <td>0</td>\n",
       "    </tr>\n",
       "    <tr>\n",
       "      <th>4</th>\n",
       "      <td>5</td>\n",
       "      <td>15737888</td>\n",
       "      <td>Mitchell</td>\n",
       "      <td>850</td>\n",
       "      <td>Spain</td>\n",
       "      <td>Female</td>\n",
       "      <td>43</td>\n",
       "      <td>2.0</td>\n",
       "      <td>125510.82</td>\n",
       "      <td>1</td>\n",
       "      <td>1</td>\n",
       "      <td>1</td>\n",
       "      <td>79084.10</td>\n",
       "      <td>0</td>\n",
       "    </tr>\n",
       "  </tbody>\n",
       "</table>\n",
       "</div>"
      ],
      "text/plain": [
       "   RowNumber  CustomerId   Surname  CreditScore Geography  Gender  Age  \\\n",
       "0          1    15634602  Hargrave          619    France  Female   42   \n",
       "1          2    15647311      Hill          608     Spain  Female   41   \n",
       "2          3    15619304      Onio          502    France  Female   42   \n",
       "3          4    15701354      Boni          699    France  Female   39   \n",
       "4          5    15737888  Mitchell          850     Spain  Female   43   \n",
       "\n",
       "   Tenure    Balance  NumOfProducts  HasCrCard  IsActiveMember  \\\n",
       "0     2.0       0.00              1          1               1   \n",
       "1     1.0   83807.86              1          0               1   \n",
       "2     8.0  159660.80              3          1               0   \n",
       "3     1.0       0.00              2          0               0   \n",
       "4     2.0  125510.82              1          1               1   \n",
       "\n",
       "   EstimatedSalary  Exited  \n",
       "0        101348.88       1  \n",
       "1        112542.58       0  \n",
       "2        113931.57       1  \n",
       "3         93826.63       0  \n",
       "4         79084.10       0  "
      ]
     },
     "execution_count": 3,
     "metadata": {},
     "output_type": "execute_result"
    }
   ],
   "source": [
    "df.info()\n",
    "print()\n",
    "df.head()"
   ]
  },
  {
   "cell_type": "markdown",
   "metadata": {
    "cellId": "phq93w343zi5dtluz0sunb"
   },
   "source": [
    "The file contains customer data, there are categorical features such as country of residence, gender, activity and availability of a credit card, as well as quantitative features - salary, rating, balance, etc. The target feature is the 'Exited' column - the fact that the client left.\n",
    "\n",
    "* you need to convert the column names to lowercase\n",
    "* fill in or remove gaps in 'Tenure' and convert to integer values\n",
    "* check for duplicates\n",
    "* columns 'RowNumber', 'CustomerId', 'Surname' are not needed for model training, they can be removed\n",
    "* check 'Balance', if it is zero for each departed client, then it actually duplicates the target feature and should also be removed\n",
    "* check unique values ​​in categorical features and outliers in quantitative features\n",
    "\n",
    "### Column names"
   ]
  },
  {
   "cell_type": "code",
   "execution_count": 4,
   "metadata": {
    "cellId": "rsns1ijhaymuqr03bnkm3f"
   },
   "outputs": [
    {
     "data": {
      "text/plain": [
       "Index(['rownumber', 'customerid', 'surname', 'creditscore', 'geography',\n",
       "       'gender', 'age', 'tenure', 'balance', 'numofproducts', 'hascrcard',\n",
       "       'isactivemember', 'estimatedsalary', 'exited'],\n",
       "      dtype='object')"
      ]
     },
     "execution_count": 4,
     "metadata": {},
     "output_type": "execute_result"
    }
   ],
   "source": [
    "df.columns = df.columns.str.lower()\n",
    "df.columns"
   ]
  },
  {
   "cell_type": "markdown",
   "metadata": {
    "cellId": "s6vvc9vnhfoohlb3e3yin"
   },
   "source": [
    "### Passes\n",
    "\n",
    "I'll see if the value of 'tenure' is related to something else, like the client's age."
   ]
  },
  {
   "cell_type": "code",
   "execution_count": 5,
   "metadata": {
    "cellId": "xpw7n9ga9e98mzmuqd99by"
   },
   "outputs": [
    {
     "data": {
      "text/plain": [
       "rownumber         -0.007322\n",
       "customerid        -0.021418\n",
       "creditscore       -0.000062\n",
       "age               -0.013134\n",
       "tenure             1.000000\n",
       "balance           -0.007911\n",
       "numofproducts      0.011979\n",
       "hascrcard          0.027232\n",
       "isactivemember    -0.032178\n",
       "estimatedsalary    0.010520\n",
       "exited            -0.016761\n",
       "Name: tenure, dtype: float64"
      ]
     },
     "execution_count": 5,
     "metadata": {},
     "output_type": "execute_result"
    }
   ],
   "source": [
    "df.dropna().corr()['tenure']"
   ]
  },
  {
   "cell_type": "markdown",
   "metadata": {
    "cellId": "xve908y76d9ab90g5t1oki"
   },
   "source": [
    "No correlation found."
   ]
  },
  {
   "cell_type": "code",
   "execution_count": 6,
   "metadata": {
    "cellId": "vljvhnrzc687kpqljb5cis"
   },
   "outputs": [
    {
     "data": {
      "text/plain": [
       "4.997690023099769"
      ]
     },
     "execution_count": 6,
     "metadata": {},
     "output_type": "execute_result"
    }
   ],
   "source": [
    "df['tenure'].mean()"
   ]
  },
  {
   "cell_type": "code",
   "execution_count": 7,
   "metadata": {
    "cellId": "0hqvyndw146x5kuvto4927"
   },
   "outputs": [
    {
     "data": {
      "text/plain": [
       "5.0"
      ]
     },
     "execution_count": 7,
     "metadata": {},
     "output_type": "execute_result"
    }
   ],
   "source": [
    "df['tenure'].median()"
   ]
  },
  {
   "cell_type": "code",
   "execution_count": 8,
   "metadata": {
    "cellId": "teu21cwymnhh6p04miplsa"
   },
   "outputs": [],
   "source": [
    "#The mean and median 'tenure' are very close. I will replace all gaps with the median value and convert to int.\n",
    "#df['tenure'] = df['tenure'].fillna(df['tenure'].median()).astype(int)\n",
    "#df.isna().sum()\n",
    "\n",
    "df = df.dropna()"
   ]
  },
  {
   "cell_type": "markdown",
   "metadata": {
    "cellId": "n0n7syg9waq8y5j8aixg1f"
   },
   "source": [
    "At first I replaced all the gaps with the median value, but I couldn't get the f1-measure to be 0.59, so I decided to remove the gaps and that worked."
   ]
  },
  {
   "cell_type": "markdown",
   "metadata": {
    "cellId": "ks4vyop882jrshgsitu3bq"
   },
   "source": [
    "### Duplicates"
   ]
  },
  {
   "cell_type": "code",
   "execution_count": 9,
   "metadata": {
    "cellId": "anpwyyjmi1te8i5wfzyd4u"
   },
   "outputs": [
    {
     "data": {
      "text/plain": [
       "0"
      ]
     },
     "execution_count": 9,
     "metadata": {},
     "output_type": "execute_result"
    }
   ],
   "source": [
    "df.duplicated().sum()"
   ]
  },
  {
   "cell_type": "markdown",
   "metadata": {
    "cellId": "f2hqduh0vpavv55x0403s"
   },
   "source": [
    "No obvious duplicates found.\n",
    "\n",
    "### Deleting columns"
   ]
  },
  {
   "cell_type": "code",
   "execution_count": 10,
   "metadata": {
    "cellId": "7s3d3we4hfwt6ei8ws3ro"
   },
   "outputs": [
    {
     "data": {
      "text/plain": [
       "9998    9999\n",
       "Name: rownumber, dtype: int64"
      ]
     },
     "execution_count": 10,
     "metadata": {},
     "output_type": "execute_result"
    }
   ],
   "source": [
    "df.rownumber.tail(1)"
   ]
  },
  {
   "cell_type": "markdown",
   "metadata": {
    "cellId": "w13oybq2u89ek0kl0nc88o"
   },
   "source": [
    "The line number corresponds to the index, I will delete it."
   ]
  },
  {
   "cell_type": "code",
   "execution_count": 11,
   "metadata": {
    "cellId": "w2f5ehcp6aozabtjw6rq"
   },
   "outputs": [
    {
     "data": {
      "text/plain": [
       "9091"
      ]
     },
     "execution_count": 11,
     "metadata": {},
     "output_type": "execute_result"
    }
   ],
   "source": [
    "len(df['customerid'].unique())"
   ]
  },
  {
   "cell_type": "markdown",
   "metadata": {
    "cellId": "8s38qlgjatqh73fkz3dfis"
   },
   "source": [
    "The number of unique ids is equal to the length of the dataset, which means there are no repetitions. I'll delete it too."
   ]
  },
  {
   "cell_type": "code",
   "execution_count": 12,
   "metadata": {
    "cellId": "87gibzikq1rgesves298"
   },
   "outputs": [
    {
     "data": {
      "text/plain": [
       "0.1376789521778861"
      ]
     },
     "execution_count": 12,
     "metadata": {},
     "output_type": "execute_result"
    }
   ],
   "source": [
    "df.query('balance==0').exited.mean()"
   ]
  },
  {
   "cell_type": "code",
   "execution_count": 13,
   "metadata": {
    "cellId": "7y0oub17iefbyo4ymc2na7"
   },
   "outputs": [
    {
     "data": {
      "text/plain": [
       "0.24139118457300276"
      ]
     },
     "execution_count": 13,
     "metadata": {},
     "output_type": "execute_result"
    }
   ],
   "source": [
    "df.query('balance!=0').exited.mean()"
   ]
  },
  {
   "cell_type": "markdown",
   "metadata": {
    "cellId": "kdlsdg5yt1be2xo4rzlif4"
   },
   "source": [
    "The balance is zero not only for departed customers, this data is necessary for training the model."
   ]
  },
  {
   "cell_type": "code",
   "execution_count": 14,
   "metadata": {
    "cellId": "xl9fodjlq5i1cg6bb33ixp"
   },
   "outputs": [],
   "source": [
    "df.drop(['rownumber', 'customerid', 'surname'], axis=1, inplace=True)"
   ]
  },
  {
   "cell_type": "markdown",
   "metadata": {
    "cellId": "j7zb2fgagfkd5uest264eb"
   },
   "source": [
    "### Validate values\n",
    "\n",
    "I'll start with quantitative values."
   ]
  },
  {
   "cell_type": "code",
   "execution_count": 15,
   "metadata": {
    "cellId": "q1i8f6q5n6i4v9zvc0uewv"
   },
   "outputs": [
    {
     "data": {
      "text/html": [
       "<div>\n",
       "<style scoped>\n",
       "    .dataframe tbody tr th:only-of-type {\n",
       "        vertical-align: middle;\n",
       "    }\n",
       "\n",
       "    .dataframe tbody tr th {\n",
       "        vertical-align: top;\n",
       "    }\n",
       "\n",
       "    .dataframe thead th {\n",
       "        text-align: right;\n",
       "    }\n",
       "</style>\n",
       "<table border=\"1\" class=\"dataframe\">\n",
       "  <thead>\n",
       "    <tr style=\"text-align: right;\">\n",
       "      <th></th>\n",
       "      <th>creditscore</th>\n",
       "      <th>age</th>\n",
       "      <th>tenure</th>\n",
       "      <th>balance</th>\n",
       "      <th>numofproducts</th>\n",
       "      <th>hascrcard</th>\n",
       "      <th>isactivemember</th>\n",
       "      <th>estimatedsalary</th>\n",
       "      <th>exited</th>\n",
       "    </tr>\n",
       "  </thead>\n",
       "  <tbody>\n",
       "    <tr>\n",
       "      <th>count</th>\n",
       "      <td>9091.000000</td>\n",
       "      <td>9091.000000</td>\n",
       "      <td>9091.000000</td>\n",
       "      <td>9091.000000</td>\n",
       "      <td>9091.000000</td>\n",
       "      <td>9091.000000</td>\n",
       "      <td>9091.000000</td>\n",
       "      <td>9091.000000</td>\n",
       "      <td>9091.000000</td>\n",
       "    </tr>\n",
       "    <tr>\n",
       "      <th>mean</th>\n",
       "      <td>650.736553</td>\n",
       "      <td>38.949181</td>\n",
       "      <td>4.997690</td>\n",
       "      <td>76522.740015</td>\n",
       "      <td>1.530195</td>\n",
       "      <td>0.704983</td>\n",
       "      <td>0.515565</td>\n",
       "      <td>100181.214924</td>\n",
       "      <td>0.203938</td>\n",
       "    </tr>\n",
       "    <tr>\n",
       "      <th>std</th>\n",
       "      <td>96.410471</td>\n",
       "      <td>10.555581</td>\n",
       "      <td>2.894723</td>\n",
       "      <td>62329.528576</td>\n",
       "      <td>0.581003</td>\n",
       "      <td>0.456076</td>\n",
       "      <td>0.499785</td>\n",
       "      <td>57624.755647</td>\n",
       "      <td>0.402946</td>\n",
       "    </tr>\n",
       "    <tr>\n",
       "      <th>min</th>\n",
       "      <td>350.000000</td>\n",
       "      <td>18.000000</td>\n",
       "      <td>0.000000</td>\n",
       "      <td>0.000000</td>\n",
       "      <td>1.000000</td>\n",
       "      <td>0.000000</td>\n",
       "      <td>0.000000</td>\n",
       "      <td>11.580000</td>\n",
       "      <td>0.000000</td>\n",
       "    </tr>\n",
       "    <tr>\n",
       "      <th>25%</th>\n",
       "      <td>584.000000</td>\n",
       "      <td>32.000000</td>\n",
       "      <td>2.000000</td>\n",
       "      <td>0.000000</td>\n",
       "      <td>1.000000</td>\n",
       "      <td>0.000000</td>\n",
       "      <td>0.000000</td>\n",
       "      <td>51227.745000</td>\n",
       "      <td>0.000000</td>\n",
       "    </tr>\n",
       "    <tr>\n",
       "      <th>50%</th>\n",
       "      <td>652.000000</td>\n",
       "      <td>37.000000</td>\n",
       "      <td>5.000000</td>\n",
       "      <td>97318.250000</td>\n",
       "      <td>1.000000</td>\n",
       "      <td>1.000000</td>\n",
       "      <td>1.000000</td>\n",
       "      <td>100240.200000</td>\n",
       "      <td>0.000000</td>\n",
       "    </tr>\n",
       "    <tr>\n",
       "      <th>75%</th>\n",
       "      <td>717.000000</td>\n",
       "      <td>44.000000</td>\n",
       "      <td>7.000000</td>\n",
       "      <td>127561.890000</td>\n",
       "      <td>2.000000</td>\n",
       "      <td>1.000000</td>\n",
       "      <td>1.000000</td>\n",
       "      <td>149567.210000</td>\n",
       "      <td>0.000000</td>\n",
       "    </tr>\n",
       "    <tr>\n",
       "      <th>max</th>\n",
       "      <td>850.000000</td>\n",
       "      <td>92.000000</td>\n",
       "      <td>10.000000</td>\n",
       "      <td>250898.090000</td>\n",
       "      <td>4.000000</td>\n",
       "      <td>1.000000</td>\n",
       "      <td>1.000000</td>\n",
       "      <td>199992.480000</td>\n",
       "      <td>1.000000</td>\n",
       "    </tr>\n",
       "  </tbody>\n",
       "</table>\n",
       "</div>"
      ],
      "text/plain": [
       "       creditscore          age       tenure        balance  numofproducts  \\\n",
       "count  9091.000000  9091.000000  9091.000000    9091.000000    9091.000000   \n",
       "mean    650.736553    38.949181     4.997690   76522.740015       1.530195   \n",
       "std      96.410471    10.555581     2.894723   62329.528576       0.581003   \n",
       "min     350.000000    18.000000     0.000000       0.000000       1.000000   \n",
       "25%     584.000000    32.000000     2.000000       0.000000       1.000000   \n",
       "50%     652.000000    37.000000     5.000000   97318.250000       1.000000   \n",
       "75%     717.000000    44.000000     7.000000  127561.890000       2.000000   \n",
       "max     850.000000    92.000000    10.000000  250898.090000       4.000000   \n",
       "\n",
       "         hascrcard  isactivemember  estimatedsalary       exited  \n",
       "count  9091.000000     9091.000000      9091.000000  9091.000000  \n",
       "mean      0.704983        0.515565    100181.214924     0.203938  \n",
       "std       0.456076        0.499785     57624.755647     0.402946  \n",
       "min       0.000000        0.000000        11.580000     0.000000  \n",
       "25%       0.000000        0.000000     51227.745000     0.000000  \n",
       "50%       1.000000        1.000000    100240.200000     0.000000  \n",
       "75%       1.000000        1.000000    149567.210000     0.000000  \n",
       "max       1.000000        1.000000    199992.480000     1.000000  "
      ]
     },
     "execution_count": 15,
     "metadata": {},
     "output_type": "execute_result"
    }
   ],
   "source": [
    "df.describe()"
   ]
  },
  {
   "cell_type": "markdown",
   "metadata": {
    "cellId": "3t3ndoydf8eogh44h8i02g"
   },
   "source": [
    "I don't see unusual values. I'll check the categories."
   ]
  },
  {
   "cell_type": "code",
   "execution_count": 16,
   "metadata": {
    "cellId": "y2ymhmurs5kfmk8m3szuru"
   },
   "outputs": [
    {
     "data": {
      "text/plain": [
       "France     4550\n",
       "Germany    2293\n",
       "Spain      2248\n",
       "Name: geography, dtype: int64"
      ]
     },
     "execution_count": 16,
     "metadata": {},
     "output_type": "execute_result"
    }
   ],
   "source": [
    "df['geography'].value_counts()"
   ]
  },
  {
   "cell_type": "code",
   "execution_count": 17,
   "metadata": {
    "cellId": "dkggchw1pvevlwhwxmaqxr"
   },
   "outputs": [
    {
     "data": {
      "text/plain": [
       "Male      4974\n",
       "Female    4117\n",
       "Name: gender, dtype: int64"
      ]
     },
     "execution_count": 17,
     "metadata": {},
     "output_type": "execute_result"
    }
   ],
   "source": [
    "df['gender'].value_counts()"
   ]
  },
  {
   "cell_type": "markdown",
   "metadata": {
    "cellId": "x89jxp2p8z8nnkh825v9cf"
   },
   "source": [
    "No abnormal values were found.\n",
    "\n",
    "### Conclusions\n",
    "\n",
    "* column names are in lowercase\n",
    "* gaps in 'tenure' removed\n",
    "* no obvious duplicates found\n",
    "* extra data removed\n",
    "* values checked"
   ]
  },
  {
   "cell_type": "markdown",
   "metadata": {
    "cellId": "ib2ifbercdbepcfg0pi8oa"
   },
   "source": [
    "## Problem research\n",
    "\n",
    "### Encoding"
   ]
  },
  {
   "cell_type": "code",
   "execution_count": 18,
   "metadata": {
    "cellId": "xinrryzofz6svkwddf99p"
   },
   "outputs": [
    {
     "data": {
      "text/html": [
       "<div>\n",
       "<style scoped>\n",
       "    .dataframe tbody tr th:only-of-type {\n",
       "        vertical-align: middle;\n",
       "    }\n",
       "\n",
       "    .dataframe tbody tr th {\n",
       "        vertical-align: top;\n",
       "    }\n",
       "\n",
       "    .dataframe thead th {\n",
       "        text-align: right;\n",
       "    }\n",
       "</style>\n",
       "<table border=\"1\" class=\"dataframe\">\n",
       "  <thead>\n",
       "    <tr style=\"text-align: right;\">\n",
       "      <th></th>\n",
       "      <th>creditscore</th>\n",
       "      <th>geography</th>\n",
       "      <th>gender</th>\n",
       "      <th>age</th>\n",
       "      <th>tenure</th>\n",
       "      <th>balance</th>\n",
       "      <th>numofproducts</th>\n",
       "      <th>hascrcard</th>\n",
       "      <th>isactivemember</th>\n",
       "      <th>estimatedsalary</th>\n",
       "      <th>exited</th>\n",
       "    </tr>\n",
       "  </thead>\n",
       "  <tbody>\n",
       "    <tr>\n",
       "      <th>0</th>\n",
       "      <td>619</td>\n",
       "      <td>France</td>\n",
       "      <td>Female</td>\n",
       "      <td>42</td>\n",
       "      <td>2.0</td>\n",
       "      <td>0.00</td>\n",
       "      <td>1</td>\n",
       "      <td>1</td>\n",
       "      <td>1</td>\n",
       "      <td>101348.88</td>\n",
       "      <td>1</td>\n",
       "    </tr>\n",
       "    <tr>\n",
       "      <th>1</th>\n",
       "      <td>608</td>\n",
       "      <td>Spain</td>\n",
       "      <td>Female</td>\n",
       "      <td>41</td>\n",
       "      <td>1.0</td>\n",
       "      <td>83807.86</td>\n",
       "      <td>1</td>\n",
       "      <td>0</td>\n",
       "      <td>1</td>\n",
       "      <td>112542.58</td>\n",
       "      <td>0</td>\n",
       "    </tr>\n",
       "    <tr>\n",
       "      <th>2</th>\n",
       "      <td>502</td>\n",
       "      <td>France</td>\n",
       "      <td>Female</td>\n",
       "      <td>42</td>\n",
       "      <td>8.0</td>\n",
       "      <td>159660.80</td>\n",
       "      <td>3</td>\n",
       "      <td>1</td>\n",
       "      <td>0</td>\n",
       "      <td>113931.57</td>\n",
       "      <td>1</td>\n",
       "    </tr>\n",
       "    <tr>\n",
       "      <th>3</th>\n",
       "      <td>699</td>\n",
       "      <td>France</td>\n",
       "      <td>Female</td>\n",
       "      <td>39</td>\n",
       "      <td>1.0</td>\n",
       "      <td>0.00</td>\n",
       "      <td>2</td>\n",
       "      <td>0</td>\n",
       "      <td>0</td>\n",
       "      <td>93826.63</td>\n",
       "      <td>0</td>\n",
       "    </tr>\n",
       "    <tr>\n",
       "      <th>4</th>\n",
       "      <td>850</td>\n",
       "      <td>Spain</td>\n",
       "      <td>Female</td>\n",
       "      <td>43</td>\n",
       "      <td>2.0</td>\n",
       "      <td>125510.82</td>\n",
       "      <td>1</td>\n",
       "      <td>1</td>\n",
       "      <td>1</td>\n",
       "      <td>79084.10</td>\n",
       "      <td>0</td>\n",
       "    </tr>\n",
       "  </tbody>\n",
       "</table>\n",
       "</div>"
      ],
      "text/plain": [
       "   creditscore geography  gender  age  tenure    balance  numofproducts  \\\n",
       "0          619    France  Female   42     2.0       0.00              1   \n",
       "1          608     Spain  Female   41     1.0   83807.86              1   \n",
       "2          502    France  Female   42     8.0  159660.80              3   \n",
       "3          699    France  Female   39     1.0       0.00              2   \n",
       "4          850     Spain  Female   43     2.0  125510.82              1   \n",
       "\n",
       "   hascrcard  isactivemember  estimatedsalary  exited  \n",
       "0          1               1        101348.88       1  \n",
       "1          0               1        112542.58       0  \n",
       "2          1               0        113931.57       1  \n",
       "3          0               0         93826.63       0  \n",
       "4          1               1         79084.10       0  "
      ]
     },
     "execution_count": 18,
     "metadata": {},
     "output_type": "execute_result"
    }
   ],
   "source": [
    "df.head()"
   ]
  },
  {
   "cell_type": "markdown",
   "metadata": {
    "cellId": "00clcs8cq2jw1f4a3f4s266"
   },
   "source": [
    "For gender and geography, I'll use one-hot encoding."
   ]
  },
  {
   "cell_type": "code",
   "execution_count": 19,
   "metadata": {
    "cellId": "1wc4cinigd2h03o9ys75ncww"
   },
   "outputs": [],
   "source": [
    "df = pd.get_dummies(df, drop_first=True)"
   ]
  },
  {
   "cell_type": "code",
   "execution_count": 20,
   "metadata": {
    "cellId": "e69xegliigp9vwqllz5kkr",
    "scrolled": true
   },
   "outputs": [
    {
     "data": {
      "text/html": [
       "<div>\n",
       "<style scoped>\n",
       "    .dataframe tbody tr th:only-of-type {\n",
       "        vertical-align: middle;\n",
       "    }\n",
       "\n",
       "    .dataframe tbody tr th {\n",
       "        vertical-align: top;\n",
       "    }\n",
       "\n",
       "    .dataframe thead th {\n",
       "        text-align: right;\n",
       "    }\n",
       "</style>\n",
       "<table border=\"1\" class=\"dataframe\">\n",
       "  <thead>\n",
       "    <tr style=\"text-align: right;\">\n",
       "      <th></th>\n",
       "      <th>creditscore</th>\n",
       "      <th>age</th>\n",
       "      <th>tenure</th>\n",
       "      <th>balance</th>\n",
       "      <th>numofproducts</th>\n",
       "      <th>hascrcard</th>\n",
       "      <th>isactivemember</th>\n",
       "      <th>estimatedsalary</th>\n",
       "      <th>exited</th>\n",
       "      <th>geography_Germany</th>\n",
       "      <th>geography_Spain</th>\n",
       "      <th>gender_Male</th>\n",
       "    </tr>\n",
       "  </thead>\n",
       "  <tbody>\n",
       "    <tr>\n",
       "      <th>0</th>\n",
       "      <td>619</td>\n",
       "      <td>42</td>\n",
       "      <td>2.0</td>\n",
       "      <td>0.00</td>\n",
       "      <td>1</td>\n",
       "      <td>1</td>\n",
       "      <td>1</td>\n",
       "      <td>101348.88</td>\n",
       "      <td>1</td>\n",
       "      <td>0</td>\n",
       "      <td>0</td>\n",
       "      <td>0</td>\n",
       "    </tr>\n",
       "    <tr>\n",
       "      <th>1</th>\n",
       "      <td>608</td>\n",
       "      <td>41</td>\n",
       "      <td>1.0</td>\n",
       "      <td>83807.86</td>\n",
       "      <td>1</td>\n",
       "      <td>0</td>\n",
       "      <td>1</td>\n",
       "      <td>112542.58</td>\n",
       "      <td>0</td>\n",
       "      <td>0</td>\n",
       "      <td>1</td>\n",
       "      <td>0</td>\n",
       "    </tr>\n",
       "    <tr>\n",
       "      <th>2</th>\n",
       "      <td>502</td>\n",
       "      <td>42</td>\n",
       "      <td>8.0</td>\n",
       "      <td>159660.80</td>\n",
       "      <td>3</td>\n",
       "      <td>1</td>\n",
       "      <td>0</td>\n",
       "      <td>113931.57</td>\n",
       "      <td>1</td>\n",
       "      <td>0</td>\n",
       "      <td>0</td>\n",
       "      <td>0</td>\n",
       "    </tr>\n",
       "    <tr>\n",
       "      <th>3</th>\n",
       "      <td>699</td>\n",
       "      <td>39</td>\n",
       "      <td>1.0</td>\n",
       "      <td>0.00</td>\n",
       "      <td>2</td>\n",
       "      <td>0</td>\n",
       "      <td>0</td>\n",
       "      <td>93826.63</td>\n",
       "      <td>0</td>\n",
       "      <td>0</td>\n",
       "      <td>0</td>\n",
       "      <td>0</td>\n",
       "    </tr>\n",
       "    <tr>\n",
       "      <th>4</th>\n",
       "      <td>850</td>\n",
       "      <td>43</td>\n",
       "      <td>2.0</td>\n",
       "      <td>125510.82</td>\n",
       "      <td>1</td>\n",
       "      <td>1</td>\n",
       "      <td>1</td>\n",
       "      <td>79084.10</td>\n",
       "      <td>0</td>\n",
       "      <td>0</td>\n",
       "      <td>1</td>\n",
       "      <td>0</td>\n",
       "    </tr>\n",
       "  </tbody>\n",
       "</table>\n",
       "</div>"
      ],
      "text/plain": [
       "   creditscore  age  tenure    balance  numofproducts  hascrcard  \\\n",
       "0          619   42     2.0       0.00              1          1   \n",
       "1          608   41     1.0   83807.86              1          0   \n",
       "2          502   42     8.0  159660.80              3          1   \n",
       "3          699   39     1.0       0.00              2          0   \n",
       "4          850   43     2.0  125510.82              1          1   \n",
       "\n",
       "   isactivemember  estimatedsalary  exited  geography_Germany  \\\n",
       "0               1        101348.88       1                  0   \n",
       "1               1        112542.58       0                  0   \n",
       "2               0        113931.57       1                  0   \n",
       "3               0         93826.63       0                  0   \n",
       "4               1         79084.10       0                  0   \n",
       "\n",
       "   geography_Spain  gender_Male  \n",
       "0                0            0  \n",
       "1                1            0  \n",
       "2                0            0  \n",
       "3                0            0  \n",
       "4                1            0  "
      ]
     },
     "execution_count": 20,
     "metadata": {},
     "output_type": "execute_result"
    }
   ],
   "source": [
    "df.head()"
   ]
  },
  {
   "cell_type": "markdown",
   "metadata": {
    "cellId": "az7pr1kuc7j1fa8d9y1jgw"
   },
   "source": [
    "### Splitting data into samples\n",
    "\n",
    "I will divide the data into three parts in a ratio of 3:1:1 into training, test and validation samples, respectively."
   ]
  },
  {
   "cell_type": "code",
   "execution_count": 21,
   "metadata": {
    "cellId": "gn3df8gvc8gvf3boxg9oi"
   },
   "outputs": [],
   "source": [
    "#features and target extraction\n",
    "features = df.drop(['exited'], axis=1)\n",
    "target = df['exited']"
   ]
  },
  {
   "cell_type": "code",
   "execution_count": 22,
   "metadata": {
    "cellId": "ywj6vf4e7i7qdwya1znlg"
   },
   "outputs": [],
   "source": [
    "#samples\n",
    "features_train_valid, features_test, target_train_valid, target_test = train_test_split(\n",
    "    features, target, test_size=.2, random_state=12345)\n",
    "\n",
    "features_train, features_valid, target_train, target_valid = train_test_split(\n",
    "    features_train_valid, target_train_valid, test_size=.25, random_state=12345)"
   ]
  },
  {
   "cell_type": "code",
   "execution_count": 23,
   "metadata": {
    "cellId": "94unhs4turognqvyhsae2a"
   },
   "outputs": [
    {
     "name": "stdout",
     "output_type": "stream",
     "text": [
      "5454 1818 1819\n"
     ]
    }
   ],
   "source": [
    "#sample size check\n",
    "print(len(features_train), len(features_valid), len(features_test))"
   ]
  },
  {
   "cell_type": "markdown",
   "metadata": {
    "cellId": "3m7wme3iavs14frkxh7vhta"
   },
   "source": [
    "### Class balance\n",
    "\n",
    "I'll look at class balance."
   ]
  },
  {
   "cell_type": "code",
   "execution_count": 24,
   "metadata": {
    "cellId": "xymv2vis1dpz59e9zxskl"
   },
   "outputs": [
    {
     "data": {
      "text/plain": [
       "0.20517051705170516"
      ]
     },
     "execution_count": 24,
     "metadata": {},
     "output_type": "execute_result"
    }
   ],
   "source": [
    "target_train.mean()"
   ]
  },
  {
   "cell_type": "code",
   "execution_count": 25,
   "metadata": {
    "cellId": "cn0rfz1zraec9yed61fzr"
   },
   "outputs": [
    {
     "data": {
      "text/plain": [
       "0.20132013201320131"
      ]
     },
     "execution_count": 25,
     "metadata": {},
     "output_type": "execute_result"
    }
   ],
   "source": [
    "target_valid.mean()"
   ]
  },
  {
   "cell_type": "code",
   "execution_count": 26,
   "metadata": {
    "cellId": "80wlb24fcarhqg6npsvlyd"
   },
   "outputs": [
    {
     "data": {
      "text/plain": [
       "0.2028587135788895"
      ]
     },
     "execution_count": 26,
     "metadata": {},
     "output_type": "execute_result"
    }
   ],
   "source": [
    "target_test.mean()"
   ]
  },
  {
   "cell_type": "markdown",
   "metadata": {
    "cellId": "rb7m42fbay87vpapwz7xl"
   },
   "source": [
    "The classes are not balanced. Clients left in 20% of cases.\n",
    "\n",
    "### Feature scaling\n",
    "\n",
    "I standardize numerical features."
   ]
  },
  {
   "cell_type": "code",
   "execution_count": 27,
   "metadata": {
    "cellId": "7507vlarcobifnzye2cgnf"
   },
   "outputs": [
    {
     "data": {
      "text/plain": [
       "StandardScaler()"
      ]
     },
     "execution_count": 27,
     "metadata": {},
     "output_type": "execute_result"
    }
   ],
   "source": [
    "#numerical features\n",
    "numeric = ['creditscore', 'age', 'tenure', 'balance', 'numofproducts', 'estimatedsalary']\n",
    "\n",
    "scaler = StandardScaler()\n",
    "scaler.fit(features_train[numeric])"
   ]
  },
  {
   "cell_type": "code",
   "execution_count": 28,
   "metadata": {
    "cellId": "73waw1u3wwvrkj7vd0s1"
   },
   "outputs": [],
   "source": [
    "features_train[numeric] = scaler.transform(features_train[numeric])\n",
    "features_valid[numeric] = scaler.transform(features_valid[numeric])\n",
    "features_test[numeric] = scaler.transform(features_test[numeric])"
   ]
  },
  {
   "cell_type": "code",
   "execution_count": 29,
   "metadata": {
    "cellId": "orbdhx2x5vjw8dnms4k4w",
    "scrolled": true
   },
   "outputs": [
    {
     "data": {
      "text/html": [
       "<div>\n",
       "<style scoped>\n",
       "    .dataframe tbody tr th:only-of-type {\n",
       "        vertical-align: middle;\n",
       "    }\n",
       "\n",
       "    .dataframe tbody tr th {\n",
       "        vertical-align: top;\n",
       "    }\n",
       "\n",
       "    .dataframe thead th {\n",
       "        text-align: right;\n",
       "    }\n",
       "</style>\n",
       "<table border=\"1\" class=\"dataframe\">\n",
       "  <thead>\n",
       "    <tr style=\"text-align: right;\">\n",
       "      <th></th>\n",
       "      <th>creditscore</th>\n",
       "      <th>age</th>\n",
       "      <th>tenure</th>\n",
       "      <th>balance</th>\n",
       "      <th>numofproducts</th>\n",
       "      <th>hascrcard</th>\n",
       "      <th>isactivemember</th>\n",
       "      <th>estimatedsalary</th>\n",
       "      <th>geography_Germany</th>\n",
       "      <th>geography_Spain</th>\n",
       "      <th>gender_Male</th>\n",
       "    </tr>\n",
       "  </thead>\n",
       "  <tbody>\n",
       "    <tr>\n",
       "      <th>3706</th>\n",
       "      <td>-0.203819</td>\n",
       "      <td>0.471273</td>\n",
       "      <td>0.352316</td>\n",
       "      <td>0.786022</td>\n",
       "      <td>0.782369</td>\n",
       "      <td>0</td>\n",
       "      <td>0</td>\n",
       "      <td>-0.357205</td>\n",
       "      <td>0</td>\n",
       "      <td>1</td>\n",
       "      <td>0</td>\n",
       "    </tr>\n",
       "    <tr>\n",
       "      <th>6805</th>\n",
       "      <td>-0.357513</td>\n",
       "      <td>-0.384930</td>\n",
       "      <td>-1.373506</td>\n",
       "      <td>-1.230577</td>\n",
       "      <td>0.782369</td>\n",
       "      <td>1</td>\n",
       "      <td>1</td>\n",
       "      <td>-1.671048</td>\n",
       "      <td>0</td>\n",
       "      <td>0</td>\n",
       "      <td>0</td>\n",
       "    </tr>\n",
       "    <tr>\n",
       "      <th>4449</th>\n",
       "      <td>0.175290</td>\n",
       "      <td>-0.289797</td>\n",
       "      <td>-0.683177</td>\n",
       "      <td>-1.230577</td>\n",
       "      <td>0.782369</td>\n",
       "      <td>1</td>\n",
       "      <td>0</td>\n",
       "      <td>-1.119181</td>\n",
       "      <td>0</td>\n",
       "      <td>0</td>\n",
       "      <td>1</td>\n",
       "    </tr>\n",
       "    <tr>\n",
       "      <th>598</th>\n",
       "      <td>0.349476</td>\n",
       "      <td>1.708010</td>\n",
       "      <td>0.007151</td>\n",
       "      <td>1.379462</td>\n",
       "      <td>-0.914942</td>\n",
       "      <td>0</td>\n",
       "      <td>0</td>\n",
       "      <td>-1.569064</td>\n",
       "      <td>1</td>\n",
       "      <td>0</td>\n",
       "      <td>0</td>\n",
       "    </tr>\n",
       "    <tr>\n",
       "      <th>1845</th>\n",
       "      <td>0.902771</td>\n",
       "      <td>-0.289797</td>\n",
       "      <td>1.387809</td>\n",
       "      <td>-1.230577</td>\n",
       "      <td>-0.914942</td>\n",
       "      <td>0</td>\n",
       "      <td>1</td>\n",
       "      <td>1.543790</td>\n",
       "      <td>0</td>\n",
       "      <td>0</td>\n",
       "      <td>1</td>\n",
       "    </tr>\n",
       "  </tbody>\n",
       "</table>\n",
       "</div>"
      ],
      "text/plain": [
       "      creditscore       age    tenure   balance  numofproducts  hascrcard  \\\n",
       "3706    -0.203819  0.471273  0.352316  0.786022       0.782369          0   \n",
       "6805    -0.357513 -0.384930 -1.373506 -1.230577       0.782369          1   \n",
       "4449     0.175290 -0.289797 -0.683177 -1.230577       0.782369          1   \n",
       "598      0.349476  1.708010  0.007151  1.379462      -0.914942          0   \n",
       "1845     0.902771 -0.289797  1.387809 -1.230577      -0.914942          0   \n",
       "\n",
       "      isactivemember  estimatedsalary  geography_Germany  geography_Spain  \\\n",
       "3706               0        -0.357205                  0                1   \n",
       "6805               1        -1.671048                  0                0   \n",
       "4449               0        -1.119181                  0                0   \n",
       "598                0        -1.569064                  1                0   \n",
       "1845               1         1.543790                  0                0   \n",
       "\n",
       "      gender_Male  \n",
       "3706            0  \n",
       "6805            0  \n",
       "4449            1  \n",
       "598             0  \n",
       "1845            1  "
      ]
     },
     "execution_count": 29,
     "metadata": {},
     "output_type": "execute_result"
    }
   ],
   "source": [
    "features_train.head()"
   ]
  },
  {
   "cell_type": "markdown",
   "metadata": {
    "cellId": "jdftlmmx2u554yyff816j"
   },
   "source": [
    "### Training the model without imbalance\n",
    "\n",
    "I will train the models without taking into account the imbalance and see which model has the highest f1-measure.\n",
    "\n",
    "#### Logistic regression"
   ]
  },
  {
   "cell_type": "code",
   "execution_count": 30,
   "metadata": {
    "cellId": "i06s5wjy3nptpi1vprfql"
   },
   "outputs": [
    {
     "name": "stdout",
     "output_type": "stream",
     "text": [
      "F1: 0.3004115226337448\n"
     ]
    }
   ],
   "source": [
    "model = LogisticRegression(random_state=12345, solver='liblinear')\n",
    "model.fit(features_train, target_train)\n",
    "predicted_valid = model.predict(features_valid)\n",
    "f1_logic = f1_score(target_valid, predicted_valid)\n",
    "print(\"F1:\", f1_logic)"
   ]
  },
  {
   "cell_type": "markdown",
   "metadata": {
    "cellId": "s0lutlixvcoqvustb2x5"
   },
   "source": [
    "#### Decision tree"
   ]
  },
  {
   "cell_type": "code",
   "execution_count": 31,
   "metadata": {
    "cellId": "nq9gb1qnoccd0oil7usfpv"
   },
   "outputs": [
    {
     "name": "stdout",
     "output_type": "stream",
     "text": [
      "F1: 0.557427258805513\n",
      "depth: 9\n"
     ]
    }
   ],
   "source": [
    "f1_tree = 0\n",
    "depth_tree = 0\n",
    "\n",
    "for depth in range(1, 20):\n",
    "    model = DecisionTreeClassifier(random_state=12345, max_depth=depth)\n",
    "    model.fit(features_train, target_train)\n",
    "    predicted_valid = model.predict(features_valid)\n",
    "    result = f1_score(target_valid, predicted_valid)\n",
    "    \n",
    "    if result > f1_tree:\n",
    "        f1_tree = result\n",
    "        depth_tree = depth\n",
    "        \n",
    "print(\"F1:\", f1_tree)\n",
    "print('depth:', depth_tree)"
   ]
  },
  {
   "cell_type": "markdown",
   "metadata": {
    "cellId": "ggh57w9n7adghv2tv730sc"
   },
   "source": [
    "#### Random forest"
   ]
  },
  {
   "cell_type": "code",
   "execution_count": 32,
   "metadata": {
    "cellId": "beh6576lmxscaj2pji5r"
   },
   "outputs": [
    {
     "name": "stdout",
     "output_type": "stream",
     "text": [
      "F1: 0.5330948121645795\n",
      "Depth: 9\n",
      "Number of estimators: 40\n"
     ]
    }
   ],
   "source": [
    "f1_forest = 0\n",
    "depth_forest = 0\n",
    "est_forest = 0\n",
    "\n",
    "for est in range(10, 50, 10):\n",
    "    for depth in range (1, 10):\n",
    "        model = RandomForestClassifier(random_state=12345, n_estimators=est, max_depth=depth)\n",
    "        model.fit(features_train, target_train)\n",
    "        predicted_valid = model.predict(features_valid)\n",
    "        result = f1_score(target_valid, predicted_valid)\n",
    "        \n",
    "        if result > f1_forest:\n",
    "            f1_forest = result\n",
    "            est_forest = est\n",
    "            depth_forest = depth_forest\n",
    "            \n",
    "print(\"F1:\", f1_forest)\n",
    "print('Depth:', depth_tree)\n",
    "print('Number of estimators:', est_forest)"
   ]
  },
  {
   "cell_type": "code",
   "execution_count": 33,
   "metadata": {
    "cellId": "aelpq7iz92o410toap4bjx"
   },
   "outputs": [
    {
     "data": {
      "text/html": [
       "<style  type=\"text/css\" >\n",
       "</style><table id=\"T_ac058_\" ><thead>    <tr>        <th class=\"col_heading level0 col0\" >model</th>        <th class=\"col_heading level0 col1\" >f1_score</th>    </tr></thead><tbody>\n",
       "                <tr>\n",
       "                                <td id=\"T_ac058_row0_col0\" class=\"data row0 col0\" >LogisticRegression</td>\n",
       "                        <td id=\"T_ac058_row0_col1\" class=\"data row0 col1\" >0.300412</td>\n",
       "            </tr>\n",
       "            <tr>\n",
       "                                <td id=\"T_ac058_row1_col0\" class=\"data row1 col0\" >DecisionTree</td>\n",
       "                        <td id=\"T_ac058_row1_col1\" class=\"data row1 col1\" >0.557427</td>\n",
       "            </tr>\n",
       "            <tr>\n",
       "                                <td id=\"T_ac058_row2_col0\" class=\"data row2 col0\" >RandomForest</td>\n",
       "                        <td id=\"T_ac058_row2_col1\" class=\"data row2 col1\" >0.533095</td>\n",
       "            </tr>\n",
       "    </tbody></table>"
      ],
      "text/plain": [
       "<pandas.io.formats.style.Styler at 0x1633de3a0>"
      ]
     },
     "execution_count": 33,
     "metadata": {},
     "output_type": "execute_result"
    }
   ],
   "source": [
    "f1_value = pd.DataFrame(data={'model':['LogisticRegression', 'DecisionTree', 'RandomForest'], \n",
    "                            'f1_score':[f1_logic, f1_tree, f1_forest]})\n",
    "f1_value.style.hide_index()"
   ]
  },
  {
   "cell_type": "markdown",
   "metadata": {
    "cellId": "9etlbebn78opahxsrrth"
   },
   "source": [
    "Logistic regression yielded the smallest f1-measure.\n",
    "\n",
    "### Conclusions\n",
    "\n",
    "* applied OHE coding\n",
    "* class imbalance detected\n",
    "* numerical signs have been scaled\n",
    "* trained models without imbalance\n",
    "* the largest value of the f1-measure was shown by the random forest and decision tree models\n",
    "\n",
    "## Struggling with imbalance\n",
    "\n",
    "To improve the models taking into account the imbalance, I will use several methods and see which one will give the best result.\n",
    "\n",
    "### Class weighting\n",
    "\n",
    "#### Decision Tree"
   ]
  },
  {
   "cell_type": "code",
   "execution_count": 34,
   "metadata": {
    "cellId": "ykddc3ryzjo71o63qb54l"
   },
   "outputs": [
    {
     "name": "stdout",
     "output_type": "stream",
     "text": [
      "F1: 0.5387205387205386\n",
      "AUC-ROC: 0.774092452091707\n"
     ]
    }
   ],
   "source": [
    "model = DecisionTreeClassifier(random_state=12345, max_depth=9, class_weight='balanced')\n",
    "model.fit(features_train, target_train)\n",
    "predicted_valid = model.predict(features_valid)\n",
    "\n",
    "f1_tree_weight = f1_score(target_valid, predicted_valid)\n",
    "\n",
    "probabilities_valid = model.predict_proba(features_valid)\n",
    "probabilities_one_valid = probabilities_valid[:, 1]\n",
    "\n",
    "auc_roc_tree_weight = roc_auc_score(target_valid, probabilities_one_valid)\n",
    "\n",
    "print('F1:', f1_tree_weight)\n",
    "print('AUC-ROC:', auc_roc_tree_weight)"
   ]
  },
  {
   "cell_type": "markdown",
   "metadata": {
    "cellId": "y15kap4etkmx0eph5598"
   },
   "source": [
    "#### Random forest"
   ]
  },
  {
   "cell_type": "code",
   "execution_count": 35,
   "metadata": {
    "cellId": "grz6c2d0aayjwb9xwxe2"
   },
   "outputs": [
    {
     "name": "stdout",
     "output_type": "stream",
     "text": [
      "F1: 0.5957446808510637\n",
      "AUC-ROC: 0.8501351066552257\n"
     ]
    }
   ],
   "source": [
    "model = RandomForestClassifier(random_state=12345, n_estimators=40, max_depth=9, class_weight='balanced')\n",
    "model.fit(features_train, target_train)\n",
    "predicted_valid = model.predict(features_valid)\n",
    "\n",
    "f1_forest_weight = f1_score(target_valid, predicted_valid)\n",
    "\n",
    "probabilities_valid = model.predict_proba(features_valid)\n",
    "probabilities_one_valid = probabilities_valid[:, 1]\n",
    "\n",
    "auc_roc_forest_weight = roc_auc_score(target_valid, probabilities_one_valid)\n",
    "\n",
    "print('F1:', f1_forest_weight)\n",
    "print('AUC-ROC:', auc_roc_forest_weight)"
   ]
  },
  {
   "cell_type": "markdown",
   "metadata": {
    "cellId": "konny9ox5ffzm52fbi3l5m"
   },
   "source": [
    "###  Sample increase"
   ]
  },
  {
   "cell_type": "code",
   "execution_count": 36,
   "metadata": {
    "cellId": "mkzb7avphmh0enz7p6zj53"
   },
   "outputs": [],
   "source": [
    "# Upsampling function\n",
    "def upsample(features, target, repeat):\n",
    "    features_zeros = features[target == 0]\n",
    "    features_ones = features[target == 1]\n",
    "    target_zeros = target[target == 0]\n",
    "    target_ones = target[target == 1]\n",
    "\n",
    "    features_upsampled = pd.concat([features_zeros] + [features_ones] * repeat)\n",
    "    target_upsampled = pd.concat([target_zeros] + [target_ones] * repeat)\n",
    "    \n",
    "    features_upsampled, target_upsampled = shuffle(\n",
    "        features_upsampled, target_upsampled, random_state=12345)\n",
    "    \n",
    "    return features_upsampled, target_upsampled\n",
    "\n",
    "features_upsampled, target_upsampled = upsample(features_train, target_train, 4)"
   ]
  },
  {
   "cell_type": "markdown",
   "metadata": {
    "cellId": "fn1bbkvv6tfge5ln9iltxu"
   },
   "source": [
    "#### Decision tree"
   ]
  },
  {
   "cell_type": "code",
   "execution_count": 37,
   "metadata": {
    "cellId": "7eyglv072qv1w3dipo3o08"
   },
   "outputs": [
    {
     "name": "stdout",
     "output_type": "stream",
     "text": [
      "F1: 0.5555555555555556\n",
      "Глубина: 7\n",
      "AUC-ROC: 0.6824965376567462\n"
     ]
    }
   ],
   "source": [
    "f1_tree_up = 0\n",
    "depth_tree = 0\n",
    "\n",
    "for depth in range(1, 20):\n",
    "    model = DecisionTreeClassifier(random_state=12345, max_depth=depth)\n",
    "    model.fit(features_upsampled, target_upsampled)\n",
    "    predicted_valid = model.predict(features_valid)\n",
    "    result = f1_score(target_valid, predicted_valid)\n",
    "    \n",
    "    if result > f1_tree_up:\n",
    "        f1_tree_up = result\n",
    "        depth_tree = depth\n",
    "        \n",
    "probabilities_valid = model.predict_proba(features_valid)\n",
    "probabilities_one_valid = probabilities_valid[:, 1]\n",
    "\n",
    "auc_roc_tree_up = roc_auc_score(target_valid, probabilities_one_valid)\n",
    "        \n",
    "print(\"F1:\", f1_tree_up)\n",
    "print('Depth:', depth_tree)\n",
    "print('AUC-ROC:', auc_roc_tree_up)"
   ]
  },
  {
   "cell_type": "markdown",
   "metadata": {
    "cellId": "gc3r2dh6rdpyrhl5ukl1i"
   },
   "source": [
    "#### Random forest"
   ]
  },
  {
   "cell_type": "code",
   "execution_count": 46,
   "metadata": {
    "cellId": "j2uoxryciih6rpk3l91d"
   },
   "outputs": [
    {
     "name": "stdout",
     "output_type": "stream",
     "text": [
      "F1: 0.6055488540410132\n",
      "Depth: 5\n",
      "Number of estomators: 40\n",
      "AUC-ROC: 0.8468289451896008\n"
     ]
    }
   ],
   "source": [
    "f1_forest_up = 0\n",
    "depth_forest = 0\n",
    "est_forest = 0\n",
    "\n",
    "result = 0\n",
    "\n",
    "for est in range(30, 45):\n",
    "    for depth in range (5, 11):\n",
    "        model = RandomForestClassifier(random_state=12345, n_estimators=est, max_depth=depth)\n",
    "        model.fit(features_upsampled, target_upsampled)\n",
    "        predicted_valid = model.predict(features_valid)\n",
    "        result = f1_score(target_valid, predicted_valid)\n",
    "        \n",
    "        if result > f1_forest_up:\n",
    "            f1_forest_up = result\n",
    "            est_forest = est\n",
    "            depth_forest = depth_forest\n",
    "            \n",
    "probabilities_valid = model.predict_proba(features_valid)\n",
    "probabilities_one_valid = probabilities_valid[:, 1]\n",
    "\n",
    "auc_roc_forest_up = roc_auc_score(target_valid, probabilities_one_valid)\n",
    "            \n",
    "print(\"F1:\", f1_forest_up)\n",
    "print('Depth:', depth_tree)\n",
    "print('Number of estomators:', est_forest)\n",
    "print('AUC-ROC:', auc_roc_forest_up)"
   ]
  },
  {
   "cell_type": "markdown",
   "metadata": {
    "cellId": "a4i4ormrkhva26ikleh166"
   },
   "source": [
    "###  Sample reduction"
   ]
  },
  {
   "cell_type": "code",
   "execution_count": 39,
   "metadata": {
    "cellId": "i3nbrwcnxdsbljvu6bwri"
   },
   "outputs": [],
   "source": [
    "def downsample(features, target, fraction):\n",
    "    features_zeros = features[target == 0]\n",
    "    features_ones = features[target == 1]\n",
    "    target_zeros = target[target == 0]\n",
    "    target_ones = target[target == 1]\n",
    "\n",
    "    features_downsampled = pd.concat(\n",
    "        [features_zeros.sample(frac=fraction, random_state=12345)] + [features_ones])\n",
    "    target_downsampled = pd.concat(\n",
    "        [target_zeros.sample(frac=fraction, random_state=12345)] + [target_ones])\n",
    "    \n",
    "    features_downsampled, target_downsampled = shuffle(\n",
    "        features_downsampled, target_downsampled, random_state=12345)\n",
    "    \n",
    "    return features_downsampled, target_downsampled\n",
    "\n",
    "features_downsampled, target_downsampled = downsample(features_train, target_train, 0.25)"
   ]
  },
  {
   "cell_type": "markdown",
   "metadata": {
    "cellId": "v7wpi1xq2mbehwasvnq516"
   },
   "source": [
    "#### Decision tree"
   ]
  },
  {
   "cell_type": "code",
   "execution_count": 40,
   "metadata": {
    "cellId": "dpidhxe2pbtszh6i9sol3o"
   },
   "outputs": [
    {
     "name": "stdout",
     "output_type": "stream",
     "text": [
      "F1: 0.553191489361702\n",
      "Глубина: 5\n",
      "AUC-ROC: 0.6903253849975162\n"
     ]
    }
   ],
   "source": [
    "f1_tree_down = 0\n",
    "depth_tree = 0\n",
    "\n",
    "for depth in range(1, 20):\n",
    "    model = DecisionTreeClassifier(random_state=12345, max_depth=depth)\n",
    "    model.fit(features_downsampled, target_downsampled)\n",
    "    predicted_valid = model.predict(features_valid)\n",
    "    result = f1_score(target_valid, predicted_valid)\n",
    "    \n",
    "    if result > f1_tree_down:\n",
    "        f1_tree_down = result\n",
    "        depth_tree = depth\n",
    "        \n",
    "probabilities_valid = model.predict_proba(features_valid)\n",
    "probabilities_one_valid = probabilities_valid[:, 1]\n",
    "\n",
    "auc_roc_tree_down = roc_auc_score(target_valid, probabilities_one_valid)\n",
    "        \n",
    "print(\"F1:\", f1_tree_down)\n",
    "print('Depth:', depth_tree)\n",
    "print('AUC-ROC:', auc_roc_tree_down)"
   ]
  },
  {
   "cell_type": "markdown",
   "metadata": {
    "cellId": "hxtaed53ik84fxdoia44qf"
   },
   "source": [
    "#### Random forest"
   ]
  },
  {
   "cell_type": "code",
   "execution_count": 41,
   "metadata": {
    "cellId": "2n84eij6awi8si3pbgk2xc"
   },
   "outputs": [
    {
     "name": "stdout",
     "output_type": "stream",
     "text": [
      "F1: 0.5913978494623656\n",
      "Глубина: 5\n",
      "Количество деревьев: 30\n",
      "AUC-ROC: 0.8441550377094341\n"
     ]
    }
   ],
   "source": [
    "f1_forest_down = 0\n",
    "depth_forest = 0\n",
    "est_forest = 0\n",
    "\n",
    "result = 0\n",
    "\n",
    "for est in range(30, 45):\n",
    "    for depth in range (5, 11):\n",
    "        model = RandomForestClassifier(random_state=12345, n_estimators=est, max_depth=depth)\n",
    "        model.fit(features_downsampled, target_downsampled)\n",
    "        predicted_valid = model.predict(features_valid)\n",
    "        result = f1_score(target_valid, predicted_valid)\n",
    "        \n",
    "        if result > f1_forest_down:\n",
    "            f1_forest_down = result\n",
    "            est_forest = est\n",
    "            depth_forest = depth_forest\n",
    "            \n",
    "probabilities_valid = model.predict_proba(features_valid)\n",
    "probabilities_one_valid = probabilities_valid[:, 1]\n",
    "\n",
    "auc_roc_forest_down = roc_auc_score(target_valid, probabilities_one_valid)\n",
    "            \n",
    "print(\"F1:\", f1_forest_down)\n",
    "print('Depth:', depth_tree)\n",
    "print('Number of estimators:', est_forest)\n",
    "print('AUC-ROC:', auc_roc_forest_down)"
   ]
  },
  {
   "cell_type": "code",
   "execution_count": 49,
   "metadata": {
    "cellId": "l2ux40x2qf1yfwhxa34bh"
   },
   "outputs": [
    {
     "data": {
      "text/html": [
       "<style  type=\"text/css\" >\n",
       "</style><table id=\"T_b655b_\" ><thead>    <tr>        <th class=\"col_heading level0 col0\" >model</th>        <th class=\"col_heading level0 col1\" >balance</th>        <th class=\"col_heading level0 col2\" >f1_score</th>        <th class=\"col_heading level0 col3\" >AUC-ROC</th>    </tr></thead><tbody>\n",
       "                <tr>\n",
       "                                <td id=\"T_b655b_row0_col0\" class=\"data row0 col0\" >DecisionTree</td>\n",
       "                        <td id=\"T_b655b_row0_col1\" class=\"data row0 col1\" >balanced_weight</td>\n",
       "                        <td id=\"T_b655b_row0_col2\" class=\"data row0 col2\" >0.538721</td>\n",
       "                        <td id=\"T_b655b_row0_col3\" class=\"data row0 col3\" >0.774092</td>\n",
       "            </tr>\n",
       "            <tr>\n",
       "                                <td id=\"T_b655b_row1_col0\" class=\"data row1 col0\" >DecisionTree</td>\n",
       "                        <td id=\"T_b655b_row1_col1\" class=\"data row1 col1\" >upsampling</td>\n",
       "                        <td id=\"T_b655b_row1_col2\" class=\"data row1 col2\" >0.555556</td>\n",
       "                        <td id=\"T_b655b_row1_col3\" class=\"data row1 col3\" >0.682497</td>\n",
       "            </tr>\n",
       "            <tr>\n",
       "                                <td id=\"T_b655b_row2_col0\" class=\"data row2 col0\" >DecisionTree</td>\n",
       "                        <td id=\"T_b655b_row2_col1\" class=\"data row2 col1\" >downsampling</td>\n",
       "                        <td id=\"T_b655b_row2_col2\" class=\"data row2 col2\" >0.553191</td>\n",
       "                        <td id=\"T_b655b_row2_col3\" class=\"data row2 col3\" >0.690325</td>\n",
       "            </tr>\n",
       "            <tr>\n",
       "                                <td id=\"T_b655b_row3_col0\" class=\"data row3 col0\" >RandomForest</td>\n",
       "                        <td id=\"T_b655b_row3_col1\" class=\"data row3 col1\" >balanced_weight</td>\n",
       "                        <td id=\"T_b655b_row3_col2\" class=\"data row3 col2\" >0.595745</td>\n",
       "                        <td id=\"T_b655b_row3_col3\" class=\"data row3 col3\" >0.850135</td>\n",
       "            </tr>\n",
       "            <tr>\n",
       "                                <td id=\"T_b655b_row4_col0\" class=\"data row4 col0\" >RandomForest</td>\n",
       "                        <td id=\"T_b655b_row4_col1\" class=\"data row4 col1\" >upsampling</td>\n",
       "                        <td id=\"T_b655b_row4_col2\" class=\"data row4 col2\" >0.605549</td>\n",
       "                        <td id=\"T_b655b_row4_col3\" class=\"data row4 col3\" >0.846829</td>\n",
       "            </tr>\n",
       "            <tr>\n",
       "                                <td id=\"T_b655b_row5_col0\" class=\"data row5 col0\" >RandomForest</td>\n",
       "                        <td id=\"T_b655b_row5_col1\" class=\"data row5 col1\" >downsampling</td>\n",
       "                        <td id=\"T_b655b_row5_col2\" class=\"data row5 col2\" >0.591398</td>\n",
       "                        <td id=\"T_b655b_row5_col3\" class=\"data row5 col3\" >0.844155</td>\n",
       "            </tr>\n",
       "    </tbody></table>"
      ],
      "text/plain": [
       "<pandas.io.formats.style.Styler at 0x1633c8640>"
      ]
     },
     "execution_count": 49,
     "metadata": {},
     "output_type": "execute_result"
    }
   ],
   "source": [
    "balance_df = pd.DataFrame(data={\n",
    "    'model':['DecisionTree', 'DecisionTree', 'DecisionTree', 'RandomForest', 'RandomForest', 'RandomForest'],                               \n",
    "\n",
    "    'balance':['balanced_weight', 'upsampling', 'downsampling', 'balanced_weight', 'upsampling', 'downsampling'],\n",
    "\n",
    "    'f1_score':[f1_tree_weight, f1_tree_up, f1_tree_down, f1_forest_weight, f1_forest_up, f1_forest_down],\n",
    "\n",
    "    'AUC-ROC':[auc_roc_tree_weight, auc_roc_tree_up, auc_roc_tree_down, auc_roc_forest_weight, \n",
    "           auc_roc_forest_up, auc_roc_forest_down]})\n",
    "\n",
    "balance_df.style.hide_index()"
   ]
  },
  {
   "cell_type": "markdown",
   "metadata": {
    "cellId": "2jcyqvvtlhwk37odkc15k"
   },
   "source": [
    "### Conclusions\n",
    "\n",
    "* random forest model gives the best result\n",
    "* for the final model I will use the sample increase\n",
    "\n",
    "## Model testing"
   ]
  },
  {
   "cell_type": "code",
   "execution_count": 50,
   "metadata": {
    "cellId": "gkg07ubts7mx3a0jk69x4n"
   },
   "outputs": [
    {
     "name": "stdout",
     "output_type": "stream",
     "text": [
      "F1-measure on the validation set: 0.6055488540410132\n"
     ]
    }
   ],
   "source": [
    "model_final = RandomForestClassifier(random_state=12345, n_estimators=40, max_depth=9)\n",
    "model_final.fit(features_upsampled, target_upsampled)\n",
    "predicted_valid = model_final.predict(features_valid)\n",
    "print('F1-score on the validation set:',f1_score(target_valid, predicted_valid))"
   ]
  },
  {
   "cell_type": "code",
   "execution_count": 51,
   "metadata": {
    "cellId": "80ysrm3lyh6mxl1fn326m"
   },
   "outputs": [
    {
     "name": "stdout",
     "output_type": "stream",
     "text": [
      "F1-score on the test set: 0.5948477751756441\n",
      "AUC-ROC on the test set: 0.8579086066722735\n"
     ]
    }
   ],
   "source": [
    "predicted_test = model_final.predict(features_test)\n",
    "\n",
    "probabilities_test = model_final.predict_proba(features_test)\n",
    "probabilities_one_test = probabilities_test[:, 1]\n",
    "\n",
    "auc_roc_final = roc_auc_score(target_test, probabilities_one_test)\n",
    "\n",
    "\n",
    "print('F1-score on the test set:',f1_score(target_test, predicted_test))\n",
    "print('AUC-ROC on the test set:', auc_roc_final)"
   ]
  },
  {
   "cell_type": "markdown",
   "metadata": {
    "cellId": "ilu2b0575redf6t7u1fode"
   },
   "source": [
    "I will plot ROC curve for the final model on a test sample and ROC curve for a random model."
   ]
  },
  {
   "cell_type": "code",
   "execution_count": 52,
   "metadata": {
    "cellId": "ll8k78d23r3srbtmc0znu"
   },
   "outputs": [
    {
     "data": {
      "image/png": "[encoded data removed]",
      "text/plain": [
       "<Figure size 648x432 with 1 Axes>"
      ]
     },
     "metadata": {
      "needs_background": "light"
     },
     "output_type": "display_data"
    }
   ],
   "source": [
    "fpr, tpr, thresholds = roc_curve(target_test, probabilities_one_test)\n",
    "\n",
    "plt.figure(figsize=(9,6))\n",
    "plt.plot(fpr, tpr)\n",
    "plt.plot([0, 1], [0, 1], linestyle='--')\n",
    "plt.xlim([0.0, 1.0])\n",
    "plt.ylim([0.0, 1.0])\n",
    "plt.xlabel('False Positive Rate')\n",
    "plt.ylabel('True Positive Rate')\n",
    "plt.title('ROC-curve')\n",
    "plt.show()"
   ]
  },
  {
   "cell_type": "markdown",
   "metadata": {
    "cellId": "v0kdxs3ihiih6kyxu6k9l4"
   },
   "source": [
    "## Conclusion\n",
    "\n",
    "* a model of the outflow of bank customers was built\n",
    "* after studying various models and dealing with imbalances, the class chose a random forest model and increased the sample\n",
    "*final f1-score was 0.59 and AUC-ROC was 0.85\n",
    "* model is adequate, AUC-ROC is greater than 0.5 for a random model"
   ]
  }
 ],
 "metadata": {
  "kernelspec": {
   "display_name": "Python 3 (ipykernel)",
   "language": "python",
   "name": "python3"
  },
  "language_info": {
   "codemirror_mode": {
    "name": "ipython",
    "version": 3
   },
   "file_extension": ".py",
   "mimetype": "text/x-python",
   "name": "python",
   "nbconvert_exporter": "python",
   "pygments_lexer": "ipython3",
   "version": "3.9.12"
  },
  "notebookId": "1a6393bf-68ac-47a0-b585-5dece3a962da",
  "notebookPath": "ds-supervised-learning.ipynb",
  "toc": {
   "base_numbering": 1,
   "nav_menu": {},
   "number_sections": true,
   "sideBar": true,
   "skip_h1_title": true,
   "title_cell": "Содержание",
   "title_sidebar": "Contents",
   "toc_cell": true,
   "toc_position": {},
   "toc_section_display": true,
   "toc_window_display": true
  }
 },
 "nbformat": 4,
 "nbformat_minor": 4
}
